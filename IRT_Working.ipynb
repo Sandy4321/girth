{
 "cells": [
  {
   "cell_type": "markdown",
   "metadata": {},
   "source": [
    "## Import relevent packages"
   ]
  },
  {
   "cell_type": "code",
   "execution_count": 1,
   "metadata": {},
   "outputs": [
    {
     "data": {
      "text/html": [
       "\n",
       "    <div class=\"bk-root\">\n",
       "        <a href=\"https://bokeh.pydata.org\" target=\"_blank\" class=\"bk-logo bk-logo-small bk-logo-notebook\"></a>\n",
       "        <span id=\"1001\">Loading BokehJS ...</span>\n",
       "    </div>"
      ]
     },
     "metadata": {},
     "output_type": "display_data"
    },
    {
     "data": {
      "application/javascript": [
       "\n",
       "(function(root) {\n",
       "  function now() {\n",
       "    return new Date();\n",
       "  }\n",
       "\n",
       "  var force = true;\n",
       "\n",
       "  if (typeof (root._bokeh_onload_callbacks) === \"undefined\" || force === true) {\n",
       "    root._bokeh_onload_callbacks = [];\n",
       "    root._bokeh_is_loading = undefined;\n",
       "  }\n",
       "\n",
       "  var JS_MIME_TYPE = 'application/javascript';\n",
       "  var HTML_MIME_TYPE = 'text/html';\n",
       "  var EXEC_MIME_TYPE = 'application/vnd.bokehjs_exec.v0+json';\n",
       "  var CLASS_NAME = 'output_bokeh rendered_html';\n",
       "\n",
       "  /**\n",
       "   * Render data to the DOM node\n",
       "   */\n",
       "  function render(props, node) {\n",
       "    var script = document.createElement(\"script\");\n",
       "    node.appendChild(script);\n",
       "  }\n",
       "\n",
       "  /**\n",
       "   * Handle when an output is cleared or removed\n",
       "   */\n",
       "  function handleClearOutput(event, handle) {\n",
       "    var cell = handle.cell;\n",
       "\n",
       "    var id = cell.output_area._bokeh_element_id;\n",
       "    var server_id = cell.output_area._bokeh_server_id;\n",
       "    // Clean up Bokeh references\n",
       "    if (id != null && id in Bokeh.index) {\n",
       "      Bokeh.index[id].model.document.clear();\n",
       "      delete Bokeh.index[id];\n",
       "    }\n",
       "\n",
       "    if (server_id !== undefined) {\n",
       "      // Clean up Bokeh references\n",
       "      var cmd = \"from bokeh.io.state import curstate; print(curstate().uuid_to_server['\" + server_id + \"'].get_sessions()[0].document.roots[0]._id)\";\n",
       "      cell.notebook.kernel.execute(cmd, {\n",
       "        iopub: {\n",
       "          output: function(msg) {\n",
       "            var id = msg.content.text.trim();\n",
       "            if (id in Bokeh.index) {\n",
       "              Bokeh.index[id].model.document.clear();\n",
       "              delete Bokeh.index[id];\n",
       "            }\n",
       "          }\n",
       "        }\n",
       "      });\n",
       "      // Destroy server and session\n",
       "      var cmd = \"import bokeh.io.notebook as ion; ion.destroy_server('\" + server_id + \"')\";\n",
       "      cell.notebook.kernel.execute(cmd);\n",
       "    }\n",
       "  }\n",
       "\n",
       "  /**\n",
       "   * Handle when a new output is added\n",
       "   */\n",
       "  function handleAddOutput(event, handle) {\n",
       "    var output_area = handle.output_area;\n",
       "    var output = handle.output;\n",
       "\n",
       "    // limit handleAddOutput to display_data with EXEC_MIME_TYPE content only\n",
       "    if ((output.output_type != \"display_data\") || (!output.data.hasOwnProperty(EXEC_MIME_TYPE))) {\n",
       "      return\n",
       "    }\n",
       "\n",
       "    var toinsert = output_area.element.find(\".\" + CLASS_NAME.split(' ')[0]);\n",
       "\n",
       "    if (output.metadata[EXEC_MIME_TYPE][\"id\"] !== undefined) {\n",
       "      toinsert[toinsert.length - 1].firstChild.textContent = output.data[JS_MIME_TYPE];\n",
       "      // store reference to embed id on output_area\n",
       "      output_area._bokeh_element_id = output.metadata[EXEC_MIME_TYPE][\"id\"];\n",
       "    }\n",
       "    if (output.metadata[EXEC_MIME_TYPE][\"server_id\"] !== undefined) {\n",
       "      var bk_div = document.createElement(\"div\");\n",
       "      bk_div.innerHTML = output.data[HTML_MIME_TYPE];\n",
       "      var script_attrs = bk_div.children[0].attributes;\n",
       "      for (var i = 0; i < script_attrs.length; i++) {\n",
       "        toinsert[toinsert.length - 1].firstChild.setAttribute(script_attrs[i].name, script_attrs[i].value);\n",
       "      }\n",
       "      // store reference to server id on output_area\n",
       "      output_area._bokeh_server_id = output.metadata[EXEC_MIME_TYPE][\"server_id\"];\n",
       "    }\n",
       "  }\n",
       "\n",
       "  function register_renderer(events, OutputArea) {\n",
       "\n",
       "    function append_mime(data, metadata, element) {\n",
       "      // create a DOM node to render to\n",
       "      var toinsert = this.create_output_subarea(\n",
       "        metadata,\n",
       "        CLASS_NAME,\n",
       "        EXEC_MIME_TYPE\n",
       "      );\n",
       "      this.keyboard_manager.register_events(toinsert);\n",
       "      // Render to node\n",
       "      var props = {data: data, metadata: metadata[EXEC_MIME_TYPE]};\n",
       "      render(props, toinsert[toinsert.length - 1]);\n",
       "      element.append(toinsert);\n",
       "      return toinsert\n",
       "    }\n",
       "\n",
       "    /* Handle when an output is cleared or removed */\n",
       "    events.on('clear_output.CodeCell', handleClearOutput);\n",
       "    events.on('delete.Cell', handleClearOutput);\n",
       "\n",
       "    /* Handle when a new output is added */\n",
       "    events.on('output_added.OutputArea', handleAddOutput);\n",
       "\n",
       "    /**\n",
       "     * Register the mime type and append_mime function with output_area\n",
       "     */\n",
       "    OutputArea.prototype.register_mime_type(EXEC_MIME_TYPE, append_mime, {\n",
       "      /* Is output safe? */\n",
       "      safe: true,\n",
       "      /* Index of renderer in `output_area.display_order` */\n",
       "      index: 0\n",
       "    });\n",
       "  }\n",
       "\n",
       "  // register the mime type if in Jupyter Notebook environment and previously unregistered\n",
       "  if (root.Jupyter !== undefined) {\n",
       "    var events = require('base/js/events');\n",
       "    var OutputArea = require('notebook/js/outputarea').OutputArea;\n",
       "\n",
       "    if (OutputArea.prototype.mime_types().indexOf(EXEC_MIME_TYPE) == -1) {\n",
       "      register_renderer(events, OutputArea);\n",
       "    }\n",
       "  }\n",
       "\n",
       "  \n",
       "  if (typeof (root._bokeh_timeout) === \"undefined\" || force === true) {\n",
       "    root._bokeh_timeout = Date.now() + 5000;\n",
       "    root._bokeh_failed_load = false;\n",
       "  }\n",
       "\n",
       "  var NB_LOAD_WARNING = {'data': {'text/html':\n",
       "     \"<div style='background-color: #fdd'>\\n\"+\n",
       "     \"<p>\\n\"+\n",
       "     \"BokehJS does not appear to have successfully loaded. If loading BokehJS from CDN, this \\n\"+\n",
       "     \"may be due to a slow or bad network connection. Possible fixes:\\n\"+\n",
       "     \"</p>\\n\"+\n",
       "     \"<ul>\\n\"+\n",
       "     \"<li>re-rerun `output_notebook()` to attempt to load from CDN again, or</li>\\n\"+\n",
       "     \"<li>use INLINE resources instead, as so:</li>\\n\"+\n",
       "     \"</ul>\\n\"+\n",
       "     \"<code>\\n\"+\n",
       "     \"from bokeh.resources import INLINE\\n\"+\n",
       "     \"output_notebook(resources=INLINE)\\n\"+\n",
       "     \"</code>\\n\"+\n",
       "     \"</div>\"}};\n",
       "\n",
       "  function display_loaded() {\n",
       "    var el = document.getElementById(\"1001\");\n",
       "    if (el != null) {\n",
       "      el.textContent = \"BokehJS is loading...\";\n",
       "    }\n",
       "    if (root.Bokeh !== undefined) {\n",
       "      if (el != null) {\n",
       "        el.textContent = \"BokehJS \" + root.Bokeh.version + \" successfully loaded.\";\n",
       "      }\n",
       "    } else if (Date.now() < root._bokeh_timeout) {\n",
       "      setTimeout(display_loaded, 100)\n",
       "    }\n",
       "  }\n",
       "\n",
       "\n",
       "  function run_callbacks() {\n",
       "    try {\n",
       "      root._bokeh_onload_callbacks.forEach(function(callback) { callback() });\n",
       "    }\n",
       "    finally {\n",
       "      delete root._bokeh_onload_callbacks\n",
       "    }\n",
       "    console.info(\"Bokeh: all callbacks have finished\");\n",
       "  }\n",
       "\n",
       "  function load_libs(js_urls, callback) {\n",
       "    root._bokeh_onload_callbacks.push(callback);\n",
       "    if (root._bokeh_is_loading > 0) {\n",
       "      console.log(\"Bokeh: BokehJS is being loaded, scheduling callback at\", now());\n",
       "      return null;\n",
       "    }\n",
       "    if (js_urls == null || js_urls.length === 0) {\n",
       "      run_callbacks();\n",
       "      return null;\n",
       "    }\n",
       "    console.log(\"Bokeh: BokehJS not loaded, scheduling load and callback at\", now());\n",
       "    root._bokeh_is_loading = js_urls.length;\n",
       "    for (var i = 0; i < js_urls.length; i++) {\n",
       "      var url = js_urls[i];\n",
       "      var s = document.createElement('script');\n",
       "      s.src = url;\n",
       "      s.async = false;\n",
       "      s.onreadystatechange = s.onload = function() {\n",
       "        root._bokeh_is_loading--;\n",
       "        if (root._bokeh_is_loading === 0) {\n",
       "          console.log(\"Bokeh: all BokehJS libraries loaded\");\n",
       "          run_callbacks()\n",
       "        }\n",
       "      };\n",
       "      s.onerror = function() {\n",
       "        console.warn(\"failed to load library \" + url);\n",
       "      };\n",
       "      console.log(\"Bokeh: injecting script tag for BokehJS library: \", url);\n",
       "      document.getElementsByTagName(\"head\")[0].appendChild(s);\n",
       "    }\n",
       "  };var element = document.getElementById(\"1001\");\n",
       "  if (element == null) {\n",
       "    console.log(\"Bokeh: ERROR: autoload.js configured with elementid '1001' but no matching script tag was found. \")\n",
       "    return false;\n",
       "  }\n",
       "\n",
       "  var js_urls = [\"https://cdn.pydata.org/bokeh/release/bokeh-1.0.2.min.js\", \"https://cdn.pydata.org/bokeh/release/bokeh-widgets-1.0.2.min.js\", \"https://cdn.pydata.org/bokeh/release/bokeh-tables-1.0.2.min.js\", \"https://cdn.pydata.org/bokeh/release/bokeh-gl-1.0.2.min.js\"];\n",
       "\n",
       "  var inline_js = [\n",
       "    function(Bokeh) {\n",
       "      Bokeh.set_log_level(\"info\");\n",
       "    },\n",
       "    \n",
       "    function(Bokeh) {\n",
       "      \n",
       "    },\n",
       "    function(Bokeh) {\n",
       "      console.log(\"Bokeh: injecting CSS: https://cdn.pydata.org/bokeh/release/bokeh-1.0.2.min.css\");\n",
       "      Bokeh.embed.inject_css(\"https://cdn.pydata.org/bokeh/release/bokeh-1.0.2.min.css\");\n",
       "      console.log(\"Bokeh: injecting CSS: https://cdn.pydata.org/bokeh/release/bokeh-widgets-1.0.2.min.css\");\n",
       "      Bokeh.embed.inject_css(\"https://cdn.pydata.org/bokeh/release/bokeh-widgets-1.0.2.min.css\");\n",
       "      console.log(\"Bokeh: injecting CSS: https://cdn.pydata.org/bokeh/release/bokeh-tables-1.0.2.min.css\");\n",
       "      Bokeh.embed.inject_css(\"https://cdn.pydata.org/bokeh/release/bokeh-tables-1.0.2.min.css\");\n",
       "    }\n",
       "  ];\n",
       "\n",
       "  function run_inline_js() {\n",
       "    \n",
       "    if ((root.Bokeh !== undefined) || (force === true)) {\n",
       "      for (var i = 0; i < inline_js.length; i++) {\n",
       "        inline_js[i].call(root, root.Bokeh);\n",
       "      }if (force === true) {\n",
       "        display_loaded();\n",
       "      }} else if (Date.now() < root._bokeh_timeout) {\n",
       "      setTimeout(run_inline_js, 100);\n",
       "    } else if (!root._bokeh_failed_load) {\n",
       "      console.log(\"Bokeh: BokehJS failed to load within specified timeout.\");\n",
       "      root._bokeh_failed_load = true;\n",
       "    } else if (force !== true) {\n",
       "      var cell = $(document.getElementById(\"1001\")).parents('.cell').data().cell;\n",
       "      cell.output_area.append_execute_result(NB_LOAD_WARNING)\n",
       "    }\n",
       "\n",
       "  }\n",
       "\n",
       "  if (root._bokeh_is_loading === 0) {\n",
       "    console.log(\"Bokeh: BokehJS loaded, going straight to plotting\");\n",
       "    run_inline_js();\n",
       "  } else {\n",
       "    load_libs(js_urls, function() {\n",
       "      console.log(\"Bokeh: BokehJS plotting callback run at\", now());\n",
       "      run_inline_js();\n",
       "    });\n",
       "  }\n",
       "}(window));"
      ],
      "application/vnd.bokehjs_load.v0+json": "\n(function(root) {\n  function now() {\n    return new Date();\n  }\n\n  var force = true;\n\n  if (typeof (root._bokeh_onload_callbacks) === \"undefined\" || force === true) {\n    root._bokeh_onload_callbacks = [];\n    root._bokeh_is_loading = undefined;\n  }\n\n  \n\n  \n  if (typeof (root._bokeh_timeout) === \"undefined\" || force === true) {\n    root._bokeh_timeout = Date.now() + 5000;\n    root._bokeh_failed_load = false;\n  }\n\n  var NB_LOAD_WARNING = {'data': {'text/html':\n     \"<div style='background-color: #fdd'>\\n\"+\n     \"<p>\\n\"+\n     \"BokehJS does not appear to have successfully loaded. If loading BokehJS from CDN, this \\n\"+\n     \"may be due to a slow or bad network connection. Possible fixes:\\n\"+\n     \"</p>\\n\"+\n     \"<ul>\\n\"+\n     \"<li>re-rerun `output_notebook()` to attempt to load from CDN again, or</li>\\n\"+\n     \"<li>use INLINE resources instead, as so:</li>\\n\"+\n     \"</ul>\\n\"+\n     \"<code>\\n\"+\n     \"from bokeh.resources import INLINE\\n\"+\n     \"output_notebook(resources=INLINE)\\n\"+\n     \"</code>\\n\"+\n     \"</div>\"}};\n\n  function display_loaded() {\n    var el = document.getElementById(\"1001\");\n    if (el != null) {\n      el.textContent = \"BokehJS is loading...\";\n    }\n    if (root.Bokeh !== undefined) {\n      if (el != null) {\n        el.textContent = \"BokehJS \" + root.Bokeh.version + \" successfully loaded.\";\n      }\n    } else if (Date.now() < root._bokeh_timeout) {\n      setTimeout(display_loaded, 100)\n    }\n  }\n\n\n  function run_callbacks() {\n    try {\n      root._bokeh_onload_callbacks.forEach(function(callback) { callback() });\n    }\n    finally {\n      delete root._bokeh_onload_callbacks\n    }\n    console.info(\"Bokeh: all callbacks have finished\");\n  }\n\n  function load_libs(js_urls, callback) {\n    root._bokeh_onload_callbacks.push(callback);\n    if (root._bokeh_is_loading > 0) {\n      console.log(\"Bokeh: BokehJS is being loaded, scheduling callback at\", now());\n      return null;\n    }\n    if (js_urls == null || js_urls.length === 0) {\n      run_callbacks();\n      return null;\n    }\n    console.log(\"Bokeh: BokehJS not loaded, scheduling load and callback at\", now());\n    root._bokeh_is_loading = js_urls.length;\n    for (var i = 0; i < js_urls.length; i++) {\n      var url = js_urls[i];\n      var s = document.createElement('script');\n      s.src = url;\n      s.async = false;\n      s.onreadystatechange = s.onload = function() {\n        root._bokeh_is_loading--;\n        if (root._bokeh_is_loading === 0) {\n          console.log(\"Bokeh: all BokehJS libraries loaded\");\n          run_callbacks()\n        }\n      };\n      s.onerror = function() {\n        console.warn(\"failed to load library \" + url);\n      };\n      console.log(\"Bokeh: injecting script tag for BokehJS library: \", url);\n      document.getElementsByTagName(\"head\")[0].appendChild(s);\n    }\n  };var element = document.getElementById(\"1001\");\n  if (element == null) {\n    console.log(\"Bokeh: ERROR: autoload.js configured with elementid '1001' but no matching script tag was found. \")\n    return false;\n  }\n\n  var js_urls = [\"https://cdn.pydata.org/bokeh/release/bokeh-1.0.2.min.js\", \"https://cdn.pydata.org/bokeh/release/bokeh-widgets-1.0.2.min.js\", \"https://cdn.pydata.org/bokeh/release/bokeh-tables-1.0.2.min.js\", \"https://cdn.pydata.org/bokeh/release/bokeh-gl-1.0.2.min.js\"];\n\n  var inline_js = [\n    function(Bokeh) {\n      Bokeh.set_log_level(\"info\");\n    },\n    \n    function(Bokeh) {\n      \n    },\n    function(Bokeh) {\n      console.log(\"Bokeh: injecting CSS: https://cdn.pydata.org/bokeh/release/bokeh-1.0.2.min.css\");\n      Bokeh.embed.inject_css(\"https://cdn.pydata.org/bokeh/release/bokeh-1.0.2.min.css\");\n      console.log(\"Bokeh: injecting CSS: https://cdn.pydata.org/bokeh/release/bokeh-widgets-1.0.2.min.css\");\n      Bokeh.embed.inject_css(\"https://cdn.pydata.org/bokeh/release/bokeh-widgets-1.0.2.min.css\");\n      console.log(\"Bokeh: injecting CSS: https://cdn.pydata.org/bokeh/release/bokeh-tables-1.0.2.min.css\");\n      Bokeh.embed.inject_css(\"https://cdn.pydata.org/bokeh/release/bokeh-tables-1.0.2.min.css\");\n    }\n  ];\n\n  function run_inline_js() {\n    \n    if ((root.Bokeh !== undefined) || (force === true)) {\n      for (var i = 0; i < inline_js.length; i++) {\n        inline_js[i].call(root, root.Bokeh);\n      }if (force === true) {\n        display_loaded();\n      }} else if (Date.now() < root._bokeh_timeout) {\n      setTimeout(run_inline_js, 100);\n    } else if (!root._bokeh_failed_load) {\n      console.log(\"Bokeh: BokehJS failed to load within specified timeout.\");\n      root._bokeh_failed_load = true;\n    } else if (force !== true) {\n      var cell = $(document.getElementById(\"1001\")).parents('.cell').data().cell;\n      cell.output_area.append_execute_result(NB_LOAD_WARNING)\n    }\n\n  }\n\n  if (root._bokeh_is_loading === 0) {\n    console.log(\"Bokeh: BokehJS loaded, going straight to plotting\");\n    run_inline_js();\n  } else {\n    load_libs(js_urls, function() {\n      console.log(\"Bokeh: BokehJS plotting callback run at\", now());\n      run_inline_js();\n    });\n  }\n}(window));"
     },
     "metadata": {},
     "output_type": "display_data"
    }
   ],
   "source": [
    "import numpy as np\n",
    "import scipy as sp\n",
    "\n",
    "from scipy import integrate\n",
    "from scipy.optimize import basinhopping, fminbound, minimize\n",
    "\n",
    "from bokeh.plotting import figure, show, output_notebook\n",
    "output_notebook()"
   ]
  },
  {
   "cell_type": "code",
   "execution_count": 163,
   "metadata": {},
   "outputs": [],
   "source": [
    "# Functions to create synthetic data\n",
    "def irt_evaluation(difficulty, discrimination, thetas):\n",
    "    \"\"\"\n",
    "        Evaluates an IRT model and returns the exact values\n",
    "        \n",
    "        Args:\n",
    "            difficulty: [array] of difficulty parameters\n",
    "            discrimination:  [array | number] of discrimination parameters\n",
    "            thetas: [array] of person abilities\n",
    "            \n",
    "        Returns:\n",
    "            dichotomous matrix of [difficulty.size x thetas.size] representing\n",
    "            synthetic data\n",
    "    \"\"\"\n",
    "    # If discrimination is a scalar, make it an array\n",
    "    if not np.ndim(discrimination):\n",
    "        discrimination = np.ones_like(difficulty) * discrimination\n",
    "\n",
    "    kernel = difficulty[:, None] - thetas\n",
    "    kernel *= discrimination[:, None]\n",
    "    return 1.0 / (1 + np.exp(kernel))\n",
    "\n",
    "\n",
    "\n",
    "def create_synthetic_irt_dichotomous(difficulty, discrimination, thetas):\n",
    "    \"\"\"\n",
    "        Creates synthetic IRT data to test parameters estimation\n",
    "        functions.  Only for use with dichotomous outputs\n",
    "        \n",
    "        Args:\n",
    "            difficulty: [array] of difficulty parameters\n",
    "            discrimination:  [array | number] of discrimination parameters\n",
    "            thetas: [array] of person abilities\n",
    "            \n",
    "        Returns:\n",
    "            dichotomous matrix of [difficulty.size x thetas.size] representing\n",
    "            synthetic data\n",
    "    \"\"\"\n",
    "    continuous_output = irt_evaluation(difficulty, discrimination, thetas)\n",
    "\n",
    "    # convert to binary based on probability\n",
    "    random_compare = np.random.rand(*continuous_output.shape)\n",
    "    \n",
    "    return random_compare <= continuous_output\n",
    "\n",
    "\n",
    "def rauch_estimate(dataset, discrimination=1):\n",
    "    \"\"\"\n",
    "        Estimates the difficulty parameters via the approximation\n",
    "    \n",
    "        Args:\n",
    "            dataset: [items x participants] matrix of True/False Values\n",
    "            discrimination: scalar of discrimination used in model (default to 1)\n",
    "            \n",
    "        Returns:\n",
    "            array of discrimination estimates\n",
    "    \"\"\"\n",
    "    n_no = np.count_nonzero(~dataset, axis=1)\n",
    "    n_yes = np.count_nonzero(dataset, axis=1)\n",
    "    return (np.sqrt(1 + np.pi * discrimination**2 / 8) * \n",
    "            np.log(n_no / n_yes) / discrimination)\n",
    "\n",
    "\n",
    "def onepl_estimate_dep(dataset):\n",
    "    \"\"\"\n",
    "        Estimates the difficulty parameters via the approximation\n",
    "    \n",
    "        Args:\n",
    "            dataset: [items x participants] matrix of True/False Values\n",
    "            \n",
    "        Returns:\n",
    "            array of discrimination, difficulty estimates\n",
    "    \"\"\"\n",
    "    n_no = np.count_nonzero(~dataset, axis=1)\n",
    "    n_yes = np.count_nonzero(dataset, axis=1)\n",
    "    scalar = np.log(n_no / n_yes)\n",
    "\n",
    "    unique_sets, counts = np.unique(dataset, axis=1, return_counts=True)\n",
    "\n",
    "    # Inline definition of quadrature function\n",
    "    def quadrature_function(theta, difficulty, discrimination, response):\n",
    "        the_sign = (-1)**response\n",
    "        gauss = 1 / np.sqrt(2 * np.pi) * np.exp(-np.square(theta) / 2)\n",
    "        kernel = theta - difficulty[:, None]\n",
    "        kernel *= discrimination * the_sign[:, None]\n",
    "        return  gauss * (1.0 / (1.0 + np.exp(kernel))).prod(axis=0)\n",
    "\n",
    "    # Inline definition of cost function to minimize\n",
    "    def min_func(estimate):\n",
    "        difficulty = np.sqrt(1 + np.pi * estimate**2 / 8) * scalar / estimate\n",
    "        otpt = list(map(lambda ndx: integrate.fixed_quad(quadrature_function, -5, 5, \n",
    "                    (difficulty, estimate, unique_sets[:, ndx]), n=181)[0] + 1e-23, \n",
    "                        range(unique_sets.shape[1])))\n",
    "        return -np.log(otpt).dot(counts)\n",
    "       \n",
    "    # Perform the minimization\n",
    "    discrimination = fminbound(min_func, 0.25, 10)\n",
    "    \n",
    "    return discrimination, np.sqrt(1 + np.pi * discrimination**2 / 8) * scalar / discrimination\n",
    "\n",
    "\n",
    "def onepl_estimate(dataset):\n",
    "    \"\"\"\n",
    "        Estimates the difficulty parameters via the approximation\n",
    "    \n",
    "        Args:\n",
    "            dataset: [items x participants] matrix of True/False Values\n",
    "            \n",
    "        Returns:\n",
    "            array of discrimination, difficulty estimates\n",
    "    \"\"\"\n",
    "    n_no = np.count_nonzero(~dataset, axis=1)\n",
    "    n_yes = np.count_nonzero(dataset, axis=1)\n",
    "    scalar = np.log(n_no / n_yes)\n",
    "\n",
    "    unique_sets, counts = np.unique(dataset, axis=1, return_counts=True)\n",
    "\n",
    "    # Inline definition of quadrature function\n",
    "    def quadrature_function(theta, difficulty, discrimination, response):\n",
    "        the_sign = (-1)**response\n",
    "        gauss = 1.0 / np.sqrt(2 * np.pi) * np.exp(-np.square(theta) / 2)\n",
    "        kernel = the_sign[:, :, None] * np.ones((1, 1, theta.size))\n",
    "        kernel *= discrimination   \n",
    "        kernel *= (theta[None, None, :] - difficulty[:, None, None])\n",
    "        \n",
    "        return  gauss[None, :] * (1.0 / (1.0 + np.exp(kernel))).prod(axis=0).squeeze()\n",
    "\n",
    "    # Inline definition of cost function to minimize\n",
    "    def min_func(estimate):\n",
    "        difficulty = np.sqrt(1 + np.pi * estimate**2 / 8) * scalar / estimate\n",
    "        otpt = integrate.fixed_quad(quadrature_function, -5, 5, \n",
    "                                    (difficulty, estimate, unique_sets), n=61)[0]\n",
    "        return -np.log(otpt).dot(counts)\n",
    "       \n",
    "    # Perform the minimization\n",
    "    discrimination = fminbound(min_func, 0.25, 10)\n",
    "    \n",
    "    return discrimination, np.sqrt(1 + np.pi * discrimination**2 / 8) * scalar / discrimination\n",
    "\n",
    "\n",
    "def twopl_estimate_dep(dataset):\n",
    "    \"\"\"\n",
    "        Estimates the difficulty parameters via the approximation\n",
    "    \n",
    "        Args:\n",
    "            dataset: [items x participants] matrix of True/False Values\n",
    "            \n",
    "        Returns:\n",
    "            array of discrimination, difficulty estimates\n",
    "    \"\"\"\n",
    "    n_no = np.count_nonzero(~dataset, axis=1)\n",
    "    n_yes = np.count_nonzero(dataset, axis=1)\n",
    "    scalar = np.log(n_no / n_yes)\n",
    "\n",
    "    minimizer_kwargs = {'method': 'SLSQP'}\n",
    "    unique_sets, counts = np.unique(dataset, axis=1, return_counts=True)\n",
    "\n",
    "    # Inline definition of quadrature function\n",
    "    def quadrature_function(theta, difficulty, discrimination, response):\n",
    "        the_sign = (-1)**response\n",
    "        gauss = 1.0 / np.sqrt(2 * np.pi) * np.exp(-np.square(theta) / 2)\n",
    "        kernel = theta - difficulty[:, None]\n",
    "        kernel *= discrimination[:, None] * the_sign[:, None]\n",
    "        return gauss * (1.0 / (1.0 + np.exp(kernel))).prod(axis=0)\n",
    "\n",
    "    # Inline definition of cost function to minimize\n",
    "    def min_func(estimate):\n",
    "        difficulty = np.sqrt(1 + np.pi * estimate**2 / 8) * scalar / estimate\n",
    "        otpt = list(map(lambda ndx: integrate.fixed_quad(quadrature_function, -5, 5, \n",
    "                    (difficulty, estimate, unique_sets[:, ndx]), n=61)[0] + 1e-23, \n",
    "                        range(unique_sets.shape[1])))\n",
    "        return -np.log(otpt).dot(counts)\n",
    "       \n",
    "    # Perform the minimization\n",
    "    initial_guess = np.ones((dataset.shape[0],))\n",
    "    discrimination = basinhopping(min_func, initial_guess, niter_success=10,\n",
    "                                  minimizer_kwargs=minimizer_kwargs)['x']\n",
    "    \n",
    "    return discrimination, np.sqrt(1 + np.pi * discrimination**2 / 8) * scalar / discrimination\n",
    "\n",
    "\n",
    "def twopl_estimate(dataset, max_iter=25):\n",
    "    \"\"\"\n",
    "        Estimates the difficulty parameters via the approximation\n",
    "    \n",
    "        Args:\n",
    "            dataset: [items x participants] matrix of True/False Values\n",
    "            max_iter:  maximum number of iterations to run\n",
    "            \n",
    "        Returns:\n",
    "            array of discrimination, difficulty estimates\n",
    "    \"\"\"\n",
    "    n_no = np.count_nonzero(~dataset, axis=1)\n",
    "    n_yes = np.count_nonzero(dataset, axis=1)\n",
    "    scalar = np.log(n_no / n_yes)\n",
    "\n",
    "    n_items = dataset.shape[0]\n",
    "    unique_sets, counts = np.unique(dataset, axis=1, return_counts=True)\n",
    "\n",
    "    # Inline definition of quadrature function\n",
    "    def quadrature_function(theta, difficulty, discrimination, response):\n",
    "        the_sign = (-1)**response\n",
    "        gauss = 1.0 / np.sqrt(2 * np.pi) * np.exp(-np.square(theta) / 2)\n",
    "        kernel = the_sign[:, :, None] * np.ones((1, 1, theta.size))\n",
    "        kernel *= discrimination[:, None, None]       \n",
    "        kernel *= (theta[None, None, :] - difficulty[:, None, None])\n",
    "        \n",
    "        return  gauss[None, :] * (1.0 / (1.0 + np.exp(kernel))).prod(axis=0).squeeze()\n",
    "\n",
    "    # Inline definition of cost function to minimize\n",
    "    def min_func(estimate):\n",
    "        difficulty = np.sqrt(1 + np.pi * estimate**2 / 8) * scalar / estimate\n",
    "        otpt = integrate.fixed_quad(quadrature_function, -5, 5, \n",
    "                                    (difficulty, estimate, unique_sets), n=61)[0]\n",
    "        return -np.log(otpt).dot(counts)\n",
    "       \n",
    "    # Perform the minimization\n",
    "    initial_guess = np.ones((dataset.shape[0],))\n",
    "    previous_guess = initial_guess.copy()\n",
    "    \n",
    "    for iteration in range(max_iter):\n",
    "        for ndx in range(n_items):\n",
    "            def min_func_local(estimate):\n",
    "                initial_guess[ndx] = estimate\n",
    "                return min_func(initial_guess)\n",
    "\n",
    "            initial_guess[ndx] = fminbound(min_func_local, 0.25, 6, xtol=1e-3)\n",
    "        \n",
    "        previous_guess = initial_guess.copy()\n",
    "        if np.abs(initial_guess - previous_guess).max() < 1e-3:\n",
    "            break\n",
    "        \n",
    "        \n",
    "    \n",
    "    return initial_guess, np.sqrt(1 + np.pi * initial_guess**2 / 8) * scalar / initial_guess\n",
    "\n",
    "\n",
    "def rauch_estimate_full_dep(dataset, discrimination=1):\n",
    "    \"\"\"\n",
    "        Estimates parameters in an IRT model with full        \n",
    "        gaussian quadrature\n",
    "        \n",
    "        Args:\n",
    "            dataset: [items x participants] matrix of True/False Values\n",
    "            discrimination: scalar of discrimination used in model (default to 1)\n",
    "            \n",
    "        Returns:\n",
    "            array of discrimination estimates\n",
    "    \"\"\"\n",
    "    minimizer_kwargs = {'method': 'SLSQP'}\n",
    "    unique_sets, counts = np.unique(dataset, axis=1, return_counts=True)\n",
    "\n",
    "    # Inline definition of quadrature function\n",
    "    def quadrature_function(theta, difficulty, response):\n",
    "        the_sign = (-1)**response\n",
    "        gauss = 1 / np.sqrt(2 * np.pi) * np.exp(-np.square(theta) / 2)\n",
    "        kernel = theta - difficulty[:, None]\n",
    "        kernel *= discrimination * the_sign[:, None]\n",
    "        return gauss * (1.0 / (1.0 + np.exp(kernel))).prod(axis=0)\n",
    "\n",
    "    # Inline definition of cost function to minimize\n",
    "    def min_func(difficulty):\n",
    "        otpt = list(map(lambda ndx: integrate.fixed_quad(quadrature_function, -5, 5, \n",
    "                    (difficulty, unique_sets[:, ndx]), n=61)[0] + 1e-23, range(unique_sets.shape[1])))\n",
    "        return -np.log(otpt).dot(counts)\n",
    "    \n",
    "    # Perform the minimization\n",
    "    initial_guess = np.zeros((dataset.shape[0],))\n",
    "    return basinhopping(min_func, initial_guess, niter_success=10,\n",
    "                        minimizer_kwargs=minimizer_kwargs)['x']\n",
    "\n",
    "\n",
    "def rauch_estimate_full(dataset, discrimination=1, max_iter=25):\n",
    "    \"\"\"\n",
    "        Estimates parameters in an IRT model with full        \n",
    "        gaussian quadrature\n",
    "        \n",
    "        Args:\n",
    "            dataset: [items x participants] matrix of True/False Values\n",
    "            discrimination: scalar of discrimination used in model (default to 1)\n",
    "            max_iter: maximum number of iterations to run\n",
    "            \n",
    "        Returns:\n",
    "            array of discrimination estimates\n",
    "    \"\"\"\n",
    "    n_items = dataset.shape[0]\n",
    "    unique_sets, counts = np.unique(dataset, axis=1, return_counts=True)\n",
    "\n",
    "    # Inline definition of quadrature function\n",
    "    def quadrature_function(theta, difficulty, response):\n",
    "        the_sign = (-1)**response\n",
    "        gauss = 1.0 / np.sqrt(2 * np.pi) * np.exp(-np.square(theta) / 2)\n",
    "        kernel = the_sign[:, :, None] * np.ones((1, 1, theta.size))\n",
    "        kernel *= discrimination\n",
    "        kernel *= (theta[None, None, :] - difficulty[:, None, None])\n",
    "        \n",
    "        return gauss[None, :] * (1.0 / (1.0 + np.exp(kernel))).prod(axis=0).squeeze()\n",
    "\n",
    "    # Inline definition of cost function to minimize\n",
    "    def min_func(difficulty):\n",
    "        otpt = integrate.fixed_quad(quadrature_function, -5, 5, \n",
    "                (difficulty, unique_sets), n=61)[0] + 1e-23\n",
    "        return -np.log(otpt).dot(counts)\n",
    "\n",
    "    initial_guess = rauch_estimate(dataset, discrimination=discrimination)\n",
    "\n",
    "    for iteration in range(max_iter):\n",
    "        previous_guess = initial_guess.copy()\n",
    "        \n",
    "        for ndx in range(n_items):\n",
    "            # Minimize each one separately\n",
    "            value = initial_guess[ndx] * 1.0\n",
    "            def min_func_local(estimate):\n",
    "                initial_guess[ndx] = estimate\n",
    "                return min_func(initial_guess)\n",
    "            \n",
    "            initial_guess[ndx] = fminbound(min_func_local, \n",
    "                                           value-0.75,\n",
    "                                           value+0.75)\n",
    "\n",
    "        print(iteration, np.abs(initial_guess - previous_guess).max())\n",
    "        if(np.abs(initial_guess - previous_guess).max() < 0.001):\n",
    "            break\n",
    "            \n",
    "    # Perform the minimization\n",
    "    return initial_guess\n",
    "\n",
    "\n",
    "def onepl_estimate_full(dataset):\n",
    "    \"\"\"\n",
    "        Estimates parameters in an IRT model with full        \n",
    "        gaussian quadrature\n",
    "        \n",
    "        Args:\n",
    "            dataset: [items x participants] matrix of True/False Values\n",
    "            \n",
    "        Returns:\n",
    "            array of discrimination, difficulty estimates\n",
    "    \"\"\"\n",
    "    minimizer_kwargs = {'method': 'SLSQP'}\n",
    "    unique_sets, counts = np.unique(dataset, axis=1, return_counts=True)\n",
    "\n",
    "    # Inline definition of quadrature function\n",
    "    def quadrature_function(theta, difficulty, discrimination, response):\n",
    "        the_sign = (-1)**response\n",
    "        gauss = 1 / np.sqrt(2 * np.pi) * np.exp(-np.square(theta) / 2)\n",
    "        kernel = theta - difficulty[:, None]\n",
    "        kernel *= discrimination * the_sign[:, None]\n",
    "        return gauss * (1.0 / (1.0 + np.exp(kernel))).prod(axis=0)\n",
    "\n",
    "    # Inline definition of cost function to minimize\n",
    "    def min_func(estimate):\n",
    "        otpt = list(map(lambda ndx: integrate.fixed_quad(quadrature_function, -5, 5, \n",
    "                    (estimate[1:], estimate[0], unique_sets[:, ndx]), n=61)[0] + 1e-23, \n",
    "                        range(unique_sets.shape[1])))\n",
    "        return -np.log(otpt).dot(counts)\n",
    "    \n",
    "    # Perform the minimization\n",
    "    initial_guess = np.zeros((dataset.shape[0] + 1,))\n",
    "    initial_guess[0] = 1.0\n",
    "    results =  basinhopping(min_func, initial_guess, niter_success=10,\n",
    "                            minimizer_kwargs=minimizer_kwargs)['x']\n",
    "    \n",
    "    return results[0], results[1:]\n",
    "\n",
    "\n",
    "def twopl_estimate_full(dataset):\n",
    "    \"\"\"\n",
    "        Estimates parameters in an IRT model with full        \n",
    "        gaussian quadrature\n",
    "        \n",
    "        Args:\n",
    "            dataset: [items x participants] matrix of True/False Values\n",
    "            \n",
    "        Returns:\n",
    "            array of discrimination, difficulty estimates\n",
    "    \"\"\"\n",
    "    minimizer_kwargs = {'method': 'SLSQP'}\n",
    "    unique_sets, counts = np.unique(dataset, axis=1, return_counts=True)\n",
    "    n_parameters = dataset.shape[0]\n",
    "\n",
    "    # Inline definition of quadrature function\n",
    "    def quadrature_function(theta, difficulty, discrimination, response):\n",
    "        the_sign = (-1)**response\n",
    "        gauss = 1.0 / np.sqrt(2 * np.pi) * np.exp(-np.square(theta) / 2)\n",
    "        kernel = theta - difficulty[:, None]\n",
    "        kernel *= discrimination[:, None] * the_sign[:, None]\n",
    "        return gauss * (1.0 / (1.0 + np.exp(kernel))).prod(axis=0)\n",
    "\n",
    "    # Inline definition of cost function to minimize\n",
    "    def min_func(estimate):\n",
    "        otpt = list(map(lambda ndx: integrate.fixed_quad(quadrature_function, -5, 5, \n",
    "                    (estimate[n_parameters:], estimate[:n_parameters], \n",
    "                     unique_sets[:, ndx]), n=61)[0] + 1e-23, \n",
    "                        range(unique_sets.shape[1])))\n",
    "        return -np.log(otpt).dot(counts)\n",
    "    \n",
    "    # Perform the minimization\n",
    "    initial_guess = np.zeros((2 * dataset.shape[0],))\n",
    "    initial_guess[:n_parameters] = 1.0\n",
    "    results =  basinhopping(min_func, initial_guess, niter_success=10,\n",
    "                            minimizer_kwargs=minimizer_kwargs)['x']\n",
    "    \n",
    "    return results[:n_parameters], results[n_parameters:]\n",
    "\n",
    "\n",
    "def discriminate_quadrature(discriminate, theta, mu, scalar, dataset):\n",
    "    the_sign = (-1)**dataset\n",
    "    gauss = 1.0 / np.sqrt(2*np.pi * .25) * np.exp(-np.square(discriminate - mu) / 2 / .25)\n",
    "    otpt = 1.0 / (1 + np.exp(theta * np.outer(the_sign, discriminate) - \n",
    "                             np.outer(scalar * the_sign, np.sqrt(1 + 1/8 * np.pi * discriminate**2))))\n",
    "    otpt *= gauss[None, :]\n",
    "    return otpt\n",
    "\n",
    "\n",
    "def discriminate_quadrature2(discriminate, theta, mu, scalar, dataset):\n",
    "    the_sign = (-1)**dataset\n",
    "    gauss = 1.0 / np.sqrt(2*np.pi * .25) * np.exp(-np.square(mu[:, None] - discriminate ) / 2 / .25)\n",
    "    otpt = 1.0 / (1 + np.exp(theta * np.outer(the_sign, discriminate) - \n",
    "                             np.outer(scalar * the_sign, np.sqrt(1 + 1/8 * np.pi * discriminate**2))))\n",
    "    otpt *= gauss\n",
    "    return otpt\n",
    "\n",
    "def discriminate_quadrature3(discriminate, theta, mu, scalar, dataset):\n",
    "    the_sign = (-1)**dataset\n",
    "    gauss = 1.0 / np.sqrt(2*np.pi * .25) * np.exp(-np.square(mu[:, None] - discriminate ) / 2 / .25)\n",
    "    \n",
    "    g = scalar / np.sqrt(1 + np.pi * mu**2 / 8) * the_sign\n",
    "    \n",
    "    otpt = 1.0 / (1 + np.exp(np.outer(theta * the_sign - mu * np.pi * g / 8, discriminate) - g[:, None]))\n",
    "#     otpt = 1.0 / (1 + np.exp(theta * np.outer(the_sign, discriminate) - \n",
    "#                              np.outer(scalar * the_sign, np.sqrt(1 + 1/8 * np.pi * discriminate**2))))\n",
    "    otpt *= gauss\n",
    "    return otpt\n",
    "\n",
    "\n",
    "def estimate_theta(dataset, discrimination):\n",
    "    n_no = np.count_nonzero(~dataset, axis=1)\n",
    "    n_yes = np.count_nonzero(dataset, axis=1)\n",
    "    scalar = np.log(n_no / n_yes)\n",
    "    \n",
    "    # Perform the integral\n",
    "    \n",
    "    \n",
    "\n",
    "    \n",
    "    \n",
    "# def onepl_estimate_nob(dataset):\n",
    "#     \"\"\"May add if works\"\"\"\n",
    "    \n",
    "#     def min_func(estimate):\n",
    "        \n",
    "    \n",
    "#     a_estimate = fminbound(min_func, 0.25, 10)\n",
    "    \n",
    "#     return a_estimate, rauch_estimate(dataset, a_estimate)\n",
    "    "
   ]
  },
  {
   "cell_type": "code",
   "execution_count": 173,
   "metadata": {},
   "outputs": [],
   "source": [
    "n_items, n_participants = 20, 20000\n",
    "diffc = np.linspace(-2.3, 2.3, n_items)#np.random.rand(n_items,) * 4 - 2\n",
    "discr = 1.7#0.5 + 2.0 * np.random.rand(n_items,)\n",
    "thetas = np.random.randn(n_participants)"
   ]
  },
  {
   "cell_type": "code",
   "execution_count": 146,
   "metadata": {},
   "outputs": [
    {
     "data": {
      "text/plain": [
       "930.7861328125"
      ]
     },
     "execution_count": 146,
     "metadata": {},
     "output_type": "execute_result"
    }
   ],
   "source": [
    "20000 * 100 * 61 * 8 / 1024 / 1024"
   ]
  },
  {
   "cell_type": "code",
   "execution_count": 83,
   "metadata": {},
   "outputs": [],
   "source": [
    "v = np.array([1, 2, 3, 4]).reshape(2, 2)[:, :, None] * np.ones((1, 1, 3))"
   ]
  },
  {
   "cell_type": "code",
   "execution_count": 86,
   "metadata": {},
   "outputs": [],
   "source": [
    "g = v * np.array([2, 2])[:, None, None]"
   ]
  },
  {
   "cell_type": "code",
   "execution_count": 91,
   "metadata": {},
   "outputs": [
    {
     "data": {
      "text/plain": [
       "array([[2., 4.],\n",
       "       [6., 8.]])"
      ]
     },
     "execution_count": 91,
     "metadata": {},
     "output_type": "execute_result"
    }
   ],
   "source": [
    "g[:, :, 1]"
   ]
  },
  {
   "cell_type": "code",
   "execution_count": 174,
   "metadata": {},
   "outputs": [],
   "source": [
    "syn_data = create_synthetic_irt_dichotomous(diffc, discr, thetas)"
   ]
  },
  {
   "cell_type": "code",
   "execution_count": 32,
   "metadata": {},
   "outputs": [],
   "source": [
    "from time import time"
   ]
  },
  {
   "cell_type": "code",
   "execution_count": 179,
   "metadata": {},
   "outputs": [
    {
     "name": "stdout",
     "output_type": "stream",
     "text": [
      "0.6937539577484131\n"
     ]
    },
    {
     "data": {
      "text/plain": [
       "(1.6788175172859998,\n",
       " array([-2.43249306, -2.14808459, -1.88300469, -1.59413961, -1.33196776,\n",
       "        -1.08398148, -0.833581  , -0.58718675, -0.36300546, -0.11238106,\n",
       "         0.10838774,  0.33509576,  0.58873628,  0.82818074,  1.08623536,\n",
       "         1.34182109,  1.59670812,  1.8698412 ,  2.17647234,  2.44471322]))"
      ]
     },
     "execution_count": 179,
     "metadata": {},
     "output_type": "execute_result"
    }
   ],
   "source": [
    "t1 = time()\n",
    "a, b = onepl_estimate(syn_data)\n",
    "print(time() - t1)\n",
    "a, b"
   ]
  },
  {
   "cell_type": "code",
   "execution_count": 176,
   "metadata": {},
   "outputs": [
    {
     "name": "stdout",
     "output_type": "stream",
     "text": [
      "0 0.11266085652373103\n",
      "1 0.008931068791670826\n",
      "2 0.002263408781289611\n",
      "3 0.0011455182566005445\n",
      "4 0.0008187290205051712\n",
      "52.64837193489075\n"
     ]
    },
    {
     "data": {
      "text/plain": [
       "array([-2.29852276, -2.05839962, -1.82760255, -1.56794423, -1.3247466 ,\n",
       "       -1.08823577, -0.84347176, -0.59756474, -0.3704165 , -0.11398726,\n",
       "        0.11271552,  0.34494102,  0.60244756,  0.8418718 ,  1.09464119,\n",
       "        1.33870795,  1.57538654,  1.82140753,  2.08847884,  2.31466455])"
      ]
     },
     "execution_count": 176,
     "metadata": {},
     "output_type": "execute_result"
    }
   ],
   "source": [
    "t1 = time()\n",
    "a = rauch_estimate_full(syn_data, discrimination=1.7)\n",
    "print(time() - t1)\n",
    "a"
   ]
  },
  {
   "cell_type": "code",
   "execution_count": 177,
   "metadata": {},
   "outputs": [
    {
     "data": {
      "text/plain": [
       "array([-2.3       , -2.05789474, -1.81578947, -1.57368421, -1.33157895,\n",
       "       -1.08947368, -0.84736842, -0.60526316, -0.36315789, -0.12105263,\n",
       "        0.12105263,  0.36315789,  0.60526316,  0.84736842,  1.08947368,\n",
       "        1.33157895,  1.57368421,  1.81578947,  2.05789474,  2.3       ])"
      ]
     },
     "execution_count": 177,
     "metadata": {},
     "output_type": "execute_result"
    }
   ],
   "source": [
    "diffc"
   ]
  },
  {
   "cell_type": "code",
   "execution_count": 106,
   "metadata": {},
   "outputs": [
    {
     "name": "stdout",
     "output_type": "stream",
     "text": [
      "276.0169632434845\n"
     ]
    },
    {
     "data": {
      "text/plain": [
       "(array([1.13312871, 1.21091616, 0.58124213, 1.61126301, 0.87666526,\n",
       "        1.83183851, 1.16075654, 2.26795425, 1.74207986, 0.65951824,\n",
       "        0.57785906, 2.34438872, 2.4051655 , 1.30564873, 1.34984211]),\n",
       " array([-2.13619508, -1.84781525, -1.59963582, -1.20896183, -0.82286719,\n",
       "        -0.67861032, -0.36356409,  0.07515113,  0.32690654,  0.85210223,\n",
       "         1.07495036,  1.43102268,  1.69078015,  2.00492757,  2.34379097]))"
      ]
     },
     "execution_count": 106,
     "metadata": {},
     "output_type": "execute_result"
    }
   ],
   "source": [
    "t1 = time()\n",
    "a, b = twopl_estimate(syn_data)\n",
    "print(time() - t1)\n",
    "a,b"
   ]
  },
  {
   "cell_type": "code",
   "execution_count": 121,
   "metadata": {},
   "outputs": [],
   "source": [
    "fminbound?"
   ]
  },
  {
   "cell_type": "code",
   "execution_count": 27,
   "metadata": {},
   "outputs": [
    {
     "data": {
      "text/plain": [
       "array([-2.63733723, -2.20825111, -1.78479727, -1.37855605, -1.02720543,\n",
       "       -0.67796172, -0.33398669, -0.02287565,  0.31914057,  0.64988846,\n",
       "        1.0024752 ,  1.36869738,  1.76826541,  2.21392393,  2.65112939])"
      ]
     },
     "execution_count": 27,
     "metadata": {},
     "output_type": "execute_result"
    }
   ],
   "source": [
    "rauch_estimate(syn_data, 3.76)"
   ]
  },
  {
   "cell_type": "code",
   "execution_count": 7,
   "metadata": {},
   "outputs": [],
   "source": [
    "n_no = np.count_nonzero(~syn_data, axis=1)\n",
    "n_yes = np.count_nonzero(syn_data, axis=1)\n",
    "scalar = np.log(n_no / n_yes)\n",
    "\n",
    "def min_outside(discriminate):\n",
    "    theta_estimate = list(map(lambda ndx: fminbound(min_func, -6, 6, \n",
    "                                                    args=(discriminate, scalar, syn_data[:, ndx])), \n",
    "                              range(syn_data.shape[1])))\n",
    "    diffclty_est = rauch_estimate(syn_data, discriminate)\n",
    "    otpt = irt_evaluation(diffclty_est, discriminate, np.array(theta_estimate))\n",
    "    otpt = np.where(syn_data, otpt, 1.0 - otpt)\n",
    "    return -1 * np.log(otpt + 1e-23).sum()\n",
    "    \n",
    "\n",
    "def min_func(theta, discrimination, scalar, dataset):\n",
    "    otpt = integrate.fixed_quad(discriminate_quadrature, .1, 6, \n",
    "                                (theta, discrimination, scalar, dataset), n=181)[0]\n",
    "                              \n",
    "    return -1 * np.log(otpt + 1e-23).sum()\n",
    "\n",
    "\n",
    "def min_outside2(discriminate):\n",
    "    theta_estimate = list(map(lambda ndx: fminbound(min_func2, -6, 6, \n",
    "                                                    args=(discriminate, scalar, syn_data[:, ndx])), \n",
    "                              range(syn_data.shape[1])))\n",
    "    diffclty_est = rauch_estimate(syn_data, discriminate)\n",
    "    otpt = irt_evaluation(diffclty_est, discriminate, np.array(theta_estimate))\n",
    "    otpt = np.where(syn_data, otpt, 1.0 - otpt)\n",
    "    return -1 * np.log(otpt + 1e-23).sum()\n",
    "\n",
    "def min_func2(theta, discrimination, scalar, dataset):\n",
    "    otpt = integrate.fixed_quad(discriminate_quadrature2, .1, 6, \n",
    "                                (theta, discrimination, scalar, dataset), n=181)[0]\n",
    "                              \n",
    "    return -1 * np.log(otpt + 1e-23).sum()\n",
    "\n",
    "\n",
    "def min_outside3(discriminate):\n",
    "    theta_estimate = list(map(lambda ndx: fminbound(min_func3, -6, 6, \n",
    "                                                    args=(discriminate, scalar, syn_data[:, ndx])), \n",
    "                              range(syn_data.shape[1])))\n",
    "    diffclty_est = rauch_estimate(syn_data, discriminate)\n",
    "    otpt = irt_evaluation(diffclty_est, discriminate, np.array(theta_estimate))\n",
    "    otpt = np.where(syn_data, otpt, 1.0 - otpt)\n",
    "    return -1 * np.log(otpt + 1e-23).sum()\n",
    "\n",
    "def min_func3(theta, discrimination, scalar, dataset):\n",
    "    otpt = integrate.fixed_quad(discriminate_quadrature3, .1, 6, \n",
    "                                (theta, discrimination, scalar, dataset), n=181)[0]\n",
    "                              \n",
    "    return -1 * np.log(otpt + 1e-23).sum()"
   ]
  },
  {
   "cell_type": "code",
   "execution_count": null,
   "metadata": {},
   "outputs": [],
   "source": []
  },
  {
   "cell_type": "code",
   "execution_count": 1268,
   "metadata": {},
   "outputs": [
    {
     "ename": "ValueError",
     "evalue": "operands could not be broadcast together with shapes (100,181) (75,181) (100,181) ",
     "output_type": "error",
     "traceback": [
      "\u001b[0;31m---------------------------------------------------------------------------\u001b[0m",
      "\u001b[0;31mValueError\u001b[0m                                Traceback (most recent call last)",
      "\u001b[0;32m<ipython-input-1268-fd31b5a17743>\u001b[0m in \u001b[0;36m<module>\u001b[0;34m\u001b[0m\n\u001b[1;32m      1\u001b[0m integrate.fixed_quad(discriminate_quadrature2, .1, 6, \n\u001b[0;32m----> 2\u001b[0;31m                                 (thetas[0], results['x'], scalar, syn_data[:, 0]), n=181)[0]\n\u001b[0m",
      "\u001b[0;32m~/anaconda3/lib/python3.7/site-packages/scipy/integrate/quadrature.py\u001b[0m in \u001b[0;36mfixed_quad\u001b[0;34m(func, a, b, args, n)\u001b[0m\n\u001b[1;32m     85\u001b[0m                          \"finite limits.\")\n\u001b[1;32m     86\u001b[0m     \u001b[0my\u001b[0m \u001b[0;34m=\u001b[0m \u001b[0;34m(\u001b[0m\u001b[0mb\u001b[0m\u001b[0;34m-\u001b[0m\u001b[0ma\u001b[0m\u001b[0;34m)\u001b[0m\u001b[0;34m*\u001b[0m\u001b[0;34m(\u001b[0m\u001b[0mx\u001b[0m\u001b[0;34m+\u001b[0m\u001b[0;36m1\u001b[0m\u001b[0;34m)\u001b[0m\u001b[0;34m/\u001b[0m\u001b[0;36m2.0\u001b[0m \u001b[0;34m+\u001b[0m \u001b[0ma\u001b[0m\u001b[0;34m\u001b[0m\u001b[0;34m\u001b[0m\u001b[0m\n\u001b[0;32m---> 87\u001b[0;31m     \u001b[0;32mreturn\u001b[0m \u001b[0;34m(\u001b[0m\u001b[0mb\u001b[0m\u001b[0;34m-\u001b[0m\u001b[0ma\u001b[0m\u001b[0;34m)\u001b[0m\u001b[0;34m/\u001b[0m\u001b[0;36m2.0\u001b[0m \u001b[0;34m*\u001b[0m \u001b[0mnp\u001b[0m\u001b[0;34m.\u001b[0m\u001b[0msum\u001b[0m\u001b[0;34m(\u001b[0m\u001b[0mw\u001b[0m\u001b[0;34m*\u001b[0m\u001b[0mfunc\u001b[0m\u001b[0;34m(\u001b[0m\u001b[0my\u001b[0m\u001b[0;34m,\u001b[0m \u001b[0;34m*\u001b[0m\u001b[0margs\u001b[0m\u001b[0;34m)\u001b[0m\u001b[0;34m,\u001b[0m \u001b[0maxis\u001b[0m\u001b[0;34m=\u001b[0m\u001b[0;34m-\u001b[0m\u001b[0;36m1\u001b[0m\u001b[0;34m)\u001b[0m\u001b[0;34m,\u001b[0m \u001b[0;32mNone\u001b[0m\u001b[0;34m\u001b[0m\u001b[0;34m\u001b[0m\u001b[0m\n\u001b[0m\u001b[1;32m     88\u001b[0m \u001b[0;34m\u001b[0m\u001b[0m\n\u001b[1;32m     89\u001b[0m \u001b[0;34m\u001b[0m\u001b[0m\n",
      "\u001b[0;32m<ipython-input-1203-18253a11c6c6>\u001b[0m in \u001b[0;36mdiscriminate_quadrature2\u001b[0;34m(discriminate, theta, mu, scalar, dataset)\u001b[0m\n\u001b[1;32m    268\u001b[0m     otpt = 1.0 / (1 + np.exp(theta * np.outer(the_sign, discriminate) - \n\u001b[1;32m    269\u001b[0m                              np.outer(scalar * the_sign, np.sqrt(1 + 1/8 * np.pi * discriminate**2))))\n\u001b[0;32m--> 270\u001b[0;31m     \u001b[0motpt\u001b[0m \u001b[0;34m*=\u001b[0m \u001b[0mgauss\u001b[0m\u001b[0;34m\u001b[0m\u001b[0;34m\u001b[0m\u001b[0m\n\u001b[0m\u001b[1;32m    271\u001b[0m     \u001b[0;32mreturn\u001b[0m \u001b[0motpt\u001b[0m\u001b[0;34m\u001b[0m\u001b[0;34m\u001b[0m\u001b[0m\n\u001b[1;32m    272\u001b[0m \u001b[0;34m\u001b[0m\u001b[0m\n",
      "\u001b[0;31mValueError\u001b[0m: operands could not be broadcast together with shapes (100,181) (75,181) (100,181) "
     ]
    }
   ],
   "source": [
    "integrate.fixed_quad(discriminate_quadrature2, .1, 6, \n",
    "                                (thetas[0], results['x'], scalar, syn_data[:, 0]), n=181)[0]"
   ]
  },
  {
   "cell_type": "code",
   "execution_count": 1257,
   "metadata": {},
   "outputs": [
    {
     "data": {
      "text/plain": [
       "array([0.85511211, 0.47321636, 0.99920989, 0.55370772, 0.99223381,\n",
       "       0.80221421, 0.97640611, 0.41839576, 0.61560956, 0.6781604 ,\n",
       "       0.82426715, 0.88349642, 0.35177828, 0.96550339, 0.23648727,\n",
       "       0.86032907, 0.89304573, 0.99231887, 0.60644315, 0.94562986,\n",
       "       0.61973838, 0.4063197 , 0.93088941, 0.75633204, 0.67466477,\n",
       "       0.46606003, 0.6792932 , 0.98473134, 0.28016737, 0.89534628,\n",
       "       0.3904023 , 0.5684692 , 0.84332523, 0.90358576, 0.2557344 ,\n",
       "       0.81304824, 0.82446366, 0.67013363, 0.84557239, 0.68854207,\n",
       "       0.88721827, 0.76702934, 0.88002096, 0.98441433, 0.66573812,\n",
       "       0.87678077, 0.74136814, 0.95127031, 0.97692143, 0.86921238,\n",
       "       0.80537627, 0.22299954, 0.60809085, 0.93738552, 0.8268099 ,\n",
       "       0.9030025 , 0.68438108, 0.50438262, 0.94453346, 0.92033268,\n",
       "       0.56637183, 0.84912703, 0.86223347, 0.77442497, 0.8439433 ,\n",
       "       0.92131256, 0.52406889, 0.56828119, 0.3785709 , 0.52838508,\n",
       "       0.04912343, 0.77773897, 0.56369984, 0.91583809, 0.38630057])"
      ]
     },
     "execution_count": 1257,
     "metadata": {},
     "output_type": "execute_result"
    }
   ],
   "source": [
    "integrate.fixed_quad(discriminate_quadrature3, .1, 6, \n",
    "                                (thetas[1], results['x'], scalar, syn_data[:, 1]), n=181)[0]"
   ]
  },
  {
   "cell_type": "code",
   "execution_count": 1258,
   "metadata": {},
   "outputs": [
    {
     "data": {
      "text/plain": [
       "array([0.85814936, 0.47327575, 0.99875062, 0.65031295, 0.99045188,\n",
       "       0.8033832 , 0.97453525, 0.44816864, 0.61575087, 0.67820574,\n",
       "       0.83046809, 0.88341017, 0.37165111, 0.964237  , 0.3204893 ,\n",
       "       0.8603453 , 0.89287018, 0.99032523, 0.60992243, 0.94486577,\n",
       "       0.7069605 , 0.60466161, 0.93074577, 0.75746388, 0.67470202,\n",
       "       0.59839719, 0.67974085, 0.98270715, 0.28278064, 0.8959302 ,\n",
       "       0.39088174, 0.56881611, 0.85208704, 0.90398657, 0.25603308,\n",
       "       0.83912438, 0.8604158 , 0.67228594, 0.89989725, 0.87641127,\n",
       "       0.88709412, 0.76974822, 0.88289121, 0.98238233, 0.66582051,\n",
       "       0.87783006, 0.75216953, 0.94989537, 0.9749738 , 0.89980333,\n",
       "       0.82064985, 0.35527382, 0.6081747 , 0.93667179, 0.83620478,\n",
       "       0.90274939, 0.68655319, 0.50443307, 0.94334616, 0.92202585,\n",
       "       0.68869459, 0.84921267, 0.8622428 , 0.83347795, 0.87013508,\n",
       "       0.93331106, 0.52798669, 0.5688353 , 0.39948572, 0.54039763,\n",
       "       0.05039422, 0.77854632, 0.56462665, 0.91544176, 0.46067677])"
      ]
     },
     "execution_count": 1258,
     "metadata": {},
     "output_type": "execute_result"
    }
   ],
   "source": [
    "theta = thetas[1]\n",
    "sigma_ao = 0.25\n",
    "the_sign = (-1)**syn_data[:, 1]\n",
    "g = scalar / np.sqrt(1 + results['x']**2 * np.pi / 8)\n",
    "a_tilde = np.pi * results['x'] / 8 * g - theta\n",
    "b_tilde = 8 * g / (8 * theta - np.pi * results['x'] * g) - results['x']\n",
    "\n",
    "1.0 / (1 + np.exp(the_sign * b_tilde * a_tilde / np.sqrt(1 + np.pi / 8 * sigma_ao * a_tilde**2)))"
   ]
  },
  {
   "cell_type": "code",
   "execution_count": 1259,
   "metadata": {},
   "outputs": [
    {
     "data": {
      "text/plain": [
       "array([1.41492941, 1.93553303, 3.99996771, 0.62386648, 2.57952744,\n",
       "       1.59571121, 2.34264808, 0.87752847, 1.85105384, 2.36111658,\n",
       "       1.28923622, 3.06633157, 0.94693447, 2.40820066, 0.46759531,\n",
       "       3.12153972, 2.36511445, 2.24906095, 1.36196545, 2.81475972,\n",
       "       0.65217807, 0.30001588, 1.70306548, 1.58110817, 3.1054116 ,\n",
       "       0.45983567, 1.70602631, 2.30295467, 1.32584821, 1.60150085,\n",
       "       1.62681333, 1.71704759, 1.22721333, 1.61223204, 1.58921701,\n",
       "       1.00366844, 0.9373985 , 1.45454305, 0.86264523, 0.47855657,\n",
       "       2.15706441, 1.43545344, 1.41643308, 2.28669946, 1.98243029,\n",
       "       1.56512177, 1.16584862, 1.99747487, 2.23242984, 0.99645689,\n",
       "       1.11241299, 0.30212327, 2.02598522, 2.40859883, 1.22419943,\n",
       "       2.06659262, 1.44971293, 1.9683699 , 2.14008874, 1.45721464,\n",
       "       0.56293747, 2.09004653, 3.29845925, 0.80825143, 1.02370456,\n",
       "       1.17437576, 1.30048133, 1.64932416, 0.94620598, 1.11360106,\n",
       "       2.33816454, 1.6736481 , 1.55370824, 2.0356017 , 0.61978397])"
      ]
     },
     "execution_count": 1259,
     "metadata": {},
     "output_type": "execute_result"
    }
   ],
   "source": [
    "results['x']"
   ]
  },
  {
   "cell_type": "code",
   "execution_count": 1269,
   "metadata": {},
   "outputs": [
    {
     "name": "stdout",
     "output_type": "stream",
     "text": [
      "1.4037308483158024\n"
     ]
    }
   ],
   "source": [
    "dsc = fminbound(min_outside, .1, 10)\n",
    "print(dsc)"
   ]
  },
  {
   "cell_type": "code",
   "execution_count": 1270,
   "metadata": {},
   "outputs": [],
   "source": [
    "# minimizer_kwargs = {'method': 'SLSQP'}\n",
    "# results =  basinhopping(min_outside2, np.ones((syn_data.shape[0],)), niter_success=10,\n",
    "#                         minimizer_kwargs=minimizer_kwargs)['x']\n",
    "results = minimize(min_outside2, 1.43 * np.ones((syn_data.shape[0],)), method=\"SLSQP\")"
   ]
  },
  {
   "cell_type": "code",
   "execution_count": 1271,
   "metadata": {},
   "outputs": [
    {
     "data": {
      "text/plain": [
       "array([2.0300451 , 1.85352898, 0.96708373, 1.66136938, 1.94167675,\n",
       "       1.25060844, 1.28230609, 2.59848612, 1.03609674, 2.46543389,\n",
       "       0.79486489, 1.76906577, 0.68583572, 1.24402741, 2.56512222,\n",
       "       1.5865441 , 1.80768186, 2.13974918, 0.84836954, 0.72607153,\n",
       "       1.03941558, 2.2320473 , 1.39568767, 2.63621078, 1.7262962 ,\n",
       "       1.37150454, 1.10671649, 2.09426724, 1.49181596, 2.26111207,\n",
       "       0.80666561, 1.79271931, 2.42863214, 1.35280144, 2.06250453,\n",
       "       1.15258158, 0.91728467, 0.99162475, 2.4662353 , 0.76836283,\n",
       "       1.89628112, 0.90859178, 1.47077553, 2.50010384, 0.6295446 ,\n",
       "       1.77277428, 0.43487684, 0.9714011 , 1.27145363, 1.31562231,\n",
       "       2.33814699, 2.21404856, 1.10131796, 0.69876167, 2.25583521,\n",
       "       0.66690814, 1.99194796, 2.32804012, 1.42252323, 2.00458785,\n",
       "       2.66140625, 0.76905158, 2.08006693, 2.02861151, 0.52095526,\n",
       "       0.85238718, 0.84721971, 0.798873  , 2.25007009, 2.2604056 ,\n",
       "       0.71677002, 1.74114289, 0.87491748, 1.53650895, 1.41958161,\n",
       "       0.87009045, 1.89103235, 1.77430405, 0.53850778, 0.46256452,\n",
       "       2.58071523, 2.49447035, 1.77755533, 0.55019587, 0.84097634,\n",
       "       2.48849106, 0.83722389, 1.78891982, 1.26394543, 1.83855988,\n",
       "       2.4042185 , 0.86390299, 1.86063613, 1.37339927, 1.33303879,\n",
       "       1.19357389, 1.02820519, 2.03479405, 2.48541723, 1.38771083])"
      ]
     },
     "execution_count": 1271,
     "metadata": {},
     "output_type": "execute_result"
    }
   ],
   "source": [
    "results['x']"
   ]
  },
  {
   "cell_type": "code",
   "execution_count": 1272,
   "metadata": {},
   "outputs": [],
   "source": [
    "bounds = [(.3, 4),] * syn_data.shape[0]\n",
    "results = minimize(min_outside3, 1.52 * np.ones((syn_data.shape[0],)), method=\"SLSQP\", bounds=bounds)"
   ]
  },
  {
   "cell_type": "code",
   "execution_count": 1273,
   "metadata": {},
   "outputs": [
    {
     "data": {
      "text/plain": [
       "array([ 0.10349609, -0.17556523, -0.0812461 , -0.1419163 , -0.41840906,\n",
       "       -0.30970809, -0.03411393,  0.12215547,  0.07962876,  0.54841904,\n",
       "        0.02765276,  0.12152264, -0.25212861, -0.27537895,  0.09410494,\n",
       "       -0.05256524,  0.16519631,  0.36883865, -0.00234148, -0.088737  ,\n",
       "        0.02567914,  0.54770262, -0.09844973,  0.18473026, -0.15154735,\n",
       "       -0.28012269, -0.15630157, -0.13633508, -0.16591904, -0.20713712,\n",
       "       -0.22156739, -0.2925401 , -0.05851916,  0.03386905,  0.44380911,\n",
       "       -0.175499  ,  0.01700538,  0.02142917,  0.27378773,  0.04905027,\n",
       "        0.35678001,  0.08886857,  0.26123894,  0.13048201, -0.10873259,\n",
       "       -0.00650124, -0.1090013 , -0.07704953,  0.15150939, -0.16952299,\n",
       "        0.3309674 ,  0.36216659, -0.30332208,  0.00580663,  0.12210379,\n",
       "       -0.0946305 , -0.22505513, -0.04522457,  0.09858839, -0.07737156,\n",
       "        0.30032025, -0.03387459,  0.56404986,  0.08800781, -0.0678549 ,\n",
       "       -0.12190695,  0.04713425, -0.02132307,  0.22916489, -0.02499962,\n",
       "       -0.21774599,  0.02736339,  0.11665343, -0.54554141, -0.17683336,\n",
       "        0.14103725,  0.09571639,  0.12151933, -0.04077249, -0.07001623,\n",
       "        0.10809996,  0.19501886,  0.12142761,  0.02496188, -0.11154796,\n",
       "        0.3527719 ,  0.20675902, -0.13627778, -0.25323581, -0.0419641 ,\n",
       "        0.25678976,  0.02701562,  0.17472325,  0.00620826,  0.15444016,\n",
       "       -0.07000087,  0.10661673, -0.31238521,  0.18645369, -0.07131081])"
      ]
     },
     "execution_count": 1273,
     "metadata": {},
     "output_type": "execute_result"
    }
   ],
   "source": [
    "(results['x'] - discr)"
   ]
  },
  {
   "cell_type": "code",
   "execution_count": 1274,
   "metadata": {},
   "outputs": [
    {
     "data": {
      "text/plain": [
       "array([1.92691508, 2.02949809, 1.05092081, 1.80259153, 2.35535918,\n",
       "       1.56113761, 1.31770492, 2.47650231, 0.95730568, 1.91542605,\n",
       "       0.76878573, 1.64564705, 0.93940572, 1.52035384, 2.46500476,\n",
       "       1.63635693, 1.64395199, 1.76743588, 0.8519046 , 0.81594435,\n",
       "       1.01559248, 1.6853837 , 1.4940899 , 2.44210016, 1.87944959,\n",
       "       1.6479541 , 1.26469403, 2.22531097, 1.65585319, 2.46375817,\n",
       "       1.02995968, 2.08467957, 2.4809909 , 1.32047885, 1.61971788,\n",
       "       1.33015118, 0.90206115, 0.97222251, 2.18419284, 0.72134291,\n",
       "       1.53866583, 0.82132323, 1.21053255, 2.35535905, 0.73994676,\n",
       "       1.77612031, 0.54377067, 1.05002376, 1.12176457, 1.48630331,\n",
       "       2.00575801, 1.85193298, 1.40616633, 0.69434602, 2.1316881 ,\n",
       "       0.76341747, 2.21288101, 2.37395947, 1.32461171, 2.08240231,\n",
       "       2.36023791, 0.80466648, 1.5136733 , 1.93823826, 0.59005409,\n",
       "       0.97550823, 0.80131346, 0.82274824, 2.01842209, 2.28065186,\n",
       "       0.93607144, 1.71508885, 0.75980908, 2.08227082, 1.59804169,\n",
       "       0.73107081, 1.79381624, 1.65079313, 0.58074093, 0.53277455,\n",
       "       2.47289119, 2.30093396, 1.65719196, 0.52673337, 0.95376943,\n",
       "       2.13663405, 0.63258676, 1.92667402, 1.51911219, 1.87896809,\n",
       "       2.14562692, 0.83865877, 1.68620644, 1.36758678, 1.18011614,\n",
       "       1.26490596, 0.92307928, 2.3422706 , 2.29757531, 1.46033497])"
      ]
     },
     "execution_count": 1274,
     "metadata": {},
     "output_type": "execute_result"
    }
   ],
   "source": [
    "discr"
   ]
  },
  {
   "cell_type": "code",
   "execution_count": 1253,
   "metadata": {},
   "outputs": [],
   "source": [
    "minimize?"
   ]
  },
  {
   "cell_type": "code",
   "execution_count": 1027,
   "metadata": {},
   "outputs": [],
   "source": [
    "theta_estimate = list(map(lambda ndx: fminbound(min_func, -6, 6, \n",
    "                                                args=(discr, scalar, syn_data[:, ndx])), \n",
    "                          range(syn_data.shape[1])))\n"
   ]
  },
  {
   "cell_type": "code",
   "execution_count": 1028,
   "metadata": {},
   "outputs": [
    {
     "data": {
      "text/plain": [
       "(0.11107225015581378, 0.6326116860920391)"
      ]
     },
     "execution_count": 1028,
     "metadata": {},
     "output_type": "execute_result"
    }
   ],
   "source": [
    "np.mean(thetas-theta_estimate), np.std(thetas-theta_estimate, ddof=1)"
   ]
  },
  {
   "cell_type": "code",
   "execution_count": 1029,
   "metadata": {},
   "outputs": [
    {
     "data": {
      "text/plain": [
       "(5913.806906521615, 5918.406409628524)"
      ]
     },
     "execution_count": 1029,
     "metadata": {},
     "output_type": "execute_result"
    }
   ],
   "source": [
    "min_outside(dsc), min_outside(discr)"
   ]
  },
  {
   "cell_type": "code",
   "execution_count": 1169,
   "metadata": {},
   "outputs": [
    {
     "data": {
      "text/plain": [
       "(1.514085548957218,\n",
       " array([ 1.20627358, -1.08985202, -0.28639781, -0.50806979, -0.06558048,\n",
       "         1.59362194,  1.08985202,  1.7633512 , -0.74555259, -1.59362194,\n",
       "         1.66793925,  1.73072106, -0.70306101, -0.62834338, -1.48290067,\n",
       "        -1.48290067, -0.08747007,  1.38055312, -0.56360202, -1.48290067,\n",
       "         0.59579084,  1.77999967, -0.61201997, -0.05099833,  0.28639781,\n",
       "         1.90350771, -0.87802589,  0.16065413,  1.45659448, -0.33890408,\n",
       "         0.01456745, -1.2508085 , -0.76276479,  0.16799719,  1.27357028,\n",
       "        -1.56505747,  1.74692737,  0.10207679,  0.80637354, -0.76276479,\n",
       "         0.73699377, -1.33203624, -1.14174453, -1.44362864, -0.28639781,\n",
       "         0.99054191, -0.1753457 , -0.87802589,  0.78882797, -0.31633808,\n",
       "        -0.01456745, -0.62016968, -1.19533584, -0.78010682,  0.12401209,\n",
       "        -0.57161656, -0.58771057,  0.57965261, -1.38055312,  0.4767519 ,\n",
       "         0.85086906, -1.2508085 , -0.84189519, -0.4072538 , -0.99054191,\n",
       "         1.45659448, -1.50972779,  1.41805621,  1.86688719, -0.06558048,\n",
       "         0.53175106,  0.12401209,  0.28639781,  0.71149988, -0.29386787,\n",
       "         1.65272422,  1.69893406,  0.09477191, -1.46968411,  0.77141929,\n",
       "         0.08747007,  1.90350771, -1.62283163,  1.26214671, -0.68626883,\n",
       "        -0.75414275, -1.44362864, -0.68626883, -0.80637354, -1.03949823,\n",
       "        -1.00996509,  0.93346341, -1.36826952, -0.73699377, -1.44362864,\n",
       "        -0.22695876, -0.4767519 ,  1.71472546, -1.55100622,  0.60389383]))"
      ]
     },
     "execution_count": 1169,
     "metadata": {},
     "output_type": "execute_result"
    }
   ],
   "source": [
    "onepl_estimate(syn_data)"
   ]
  },
  {
   "cell_type": "code",
   "execution_count": 1091,
   "metadata": {},
   "outputs": [
    {
     "data": {
      "text/plain": [
       "1.9595483704090835"
      ]
     },
     "execution_count": 1091,
     "metadata": {},
     "output_type": "execute_result"
    }
   ],
   "source": [
    "discr.mean()"
   ]
  },
  {
   "cell_type": "code",
   "execution_count": 1166,
   "metadata": {},
   "outputs": [
    {
     "ename": "KeyboardInterrupt",
     "evalue": "",
     "output_type": "error",
     "traceback": [
      "\u001b[0;31m---------------------------------------------------------------------------\u001b[0m",
      "\u001b[0;31mKeyboardInterrupt\u001b[0m                         Traceback (most recent call last)",
      "\u001b[0;32m<ipython-input-1166-968210768ed2>\u001b[0m in \u001b[0;36m<module>\u001b[0;34m\u001b[0m\n\u001b[0;32m----> 1\u001b[0;31m \u001b[0monepl_estimate_full\u001b[0m\u001b[0;34m(\u001b[0m\u001b[0msyn_data\u001b[0m\u001b[0;34m)\u001b[0m\u001b[0;34m\u001b[0m\u001b[0;34m\u001b[0m\u001b[0m\n\u001b[0m",
      "\u001b[0;32m<ipython-input-1158-dba0a9dbbc72>\u001b[0m in \u001b[0;36monepl_estimate_full\u001b[0;34m(dataset)\u001b[0m\n\u001b[1;32m    209\u001b[0m     \u001b[0minitial_guess\u001b[0m\u001b[0;34m[\u001b[0m\u001b[0;36m0\u001b[0m\u001b[0;34m]\u001b[0m \u001b[0;34m=\u001b[0m \u001b[0;36m1.0\u001b[0m\u001b[0;34m\u001b[0m\u001b[0;34m\u001b[0m\u001b[0m\n\u001b[1;32m    210\u001b[0m     results =  basinhopping(min_func, initial_guess, niter_success=10,\n\u001b[0;32m--> 211\u001b[0;31m                             minimizer_kwargs=minimizer_kwargs)['x']\n\u001b[0m\u001b[1;32m    212\u001b[0m \u001b[0;34m\u001b[0m\u001b[0m\n\u001b[1;32m    213\u001b[0m     \u001b[0;32mreturn\u001b[0m \u001b[0mresults\u001b[0m\u001b[0;34m[\u001b[0m\u001b[0;36m0\u001b[0m\u001b[0;34m]\u001b[0m\u001b[0;34m,\u001b[0m \u001b[0mresults\u001b[0m\u001b[0;34m[\u001b[0m\u001b[0;36m1\u001b[0m\u001b[0;34m:\u001b[0m\u001b[0;34m]\u001b[0m\u001b[0;34m\u001b[0m\u001b[0;34m\u001b[0m\u001b[0m\n",
      "\u001b[0;32m~/anaconda3/lib/python3.7/site-packages/scipy/optimize/_basinhopping.py\u001b[0m in \u001b[0;36mbasinhopping\u001b[0;34m(func, x0, niter, T, stepsize, minimizer_kwargs, take_step, accept_test, callback, interval, disp, niter_success, seed)\u001b[0m\n\u001b[1;32m    668\u001b[0m \u001b[0;34m\u001b[0m\u001b[0m\n\u001b[1;32m    669\u001b[0m     bh = BasinHoppingRunner(x0, wrapped_minimizer, take_step_wrapped,\n\u001b[0;32m--> 670\u001b[0;31m                             accept_tests, disp=disp)\n\u001b[0m\u001b[1;32m    671\u001b[0m \u001b[0;34m\u001b[0m\u001b[0m\n\u001b[1;32m    672\u001b[0m     \u001b[0;31m# start main iteration loop\u001b[0m\u001b[0;34m\u001b[0m\u001b[0;34m\u001b[0m\u001b[0;34m\u001b[0m\u001b[0m\n",
      "\u001b[0;32m~/anaconda3/lib/python3.7/site-packages/scipy/optimize/_basinhopping.py\u001b[0m in \u001b[0;36m__init__\u001b[0;34m(self, x0, minimizer, step_taking, accept_tests, disp)\u001b[0m\n\u001b[1;32m     73\u001b[0m \u001b[0;34m\u001b[0m\u001b[0m\n\u001b[1;32m     74\u001b[0m         \u001b[0;31m# do initial minimization\u001b[0m\u001b[0;34m\u001b[0m\u001b[0;34m\u001b[0m\u001b[0;34m\u001b[0m\u001b[0m\n\u001b[0;32m---> 75\u001b[0;31m         \u001b[0mminres\u001b[0m \u001b[0;34m=\u001b[0m \u001b[0mminimizer\u001b[0m\u001b[0;34m(\u001b[0m\u001b[0mself\u001b[0m\u001b[0;34m.\u001b[0m\u001b[0mx\u001b[0m\u001b[0;34m)\u001b[0m\u001b[0;34m\u001b[0m\u001b[0;34m\u001b[0m\u001b[0m\n\u001b[0m\u001b[1;32m     76\u001b[0m         \u001b[0;32mif\u001b[0m \u001b[0;32mnot\u001b[0m \u001b[0mminres\u001b[0m\u001b[0;34m.\u001b[0m\u001b[0msuccess\u001b[0m\u001b[0;34m:\u001b[0m\u001b[0;34m\u001b[0m\u001b[0;34m\u001b[0m\u001b[0m\n\u001b[1;32m     77\u001b[0m             \u001b[0mself\u001b[0m\u001b[0;34m.\u001b[0m\u001b[0mres\u001b[0m\u001b[0;34m.\u001b[0m\u001b[0mminimization_failures\u001b[0m \u001b[0;34m+=\u001b[0m \u001b[0;36m1\u001b[0m\u001b[0;34m\u001b[0m\u001b[0;34m\u001b[0m\u001b[0m\n",
      "\u001b[0;32m~/anaconda3/lib/python3.7/site-packages/scipy/optimize/_basinhopping.py\u001b[0m in \u001b[0;36m__call__\u001b[0;34m(self, x0)\u001b[0m\n\u001b[1;32m    285\u001b[0m             \u001b[0;32mreturn\u001b[0m \u001b[0mself\u001b[0m\u001b[0;34m.\u001b[0m\u001b[0mminimizer\u001b[0m\u001b[0;34m(\u001b[0m\u001b[0mx0\u001b[0m\u001b[0;34m,\u001b[0m \u001b[0;34m**\u001b[0m\u001b[0mself\u001b[0m\u001b[0;34m.\u001b[0m\u001b[0mkwargs\u001b[0m\u001b[0;34m)\u001b[0m\u001b[0;34m\u001b[0m\u001b[0;34m\u001b[0m\u001b[0m\n\u001b[1;32m    286\u001b[0m         \u001b[0;32melse\u001b[0m\u001b[0;34m:\u001b[0m\u001b[0;34m\u001b[0m\u001b[0;34m\u001b[0m\u001b[0m\n\u001b[0;32m--> 287\u001b[0;31m             \u001b[0;32mreturn\u001b[0m \u001b[0mself\u001b[0m\u001b[0;34m.\u001b[0m\u001b[0mminimizer\u001b[0m\u001b[0;34m(\u001b[0m\u001b[0mself\u001b[0m\u001b[0;34m.\u001b[0m\u001b[0mfunc\u001b[0m\u001b[0;34m,\u001b[0m \u001b[0mx0\u001b[0m\u001b[0;34m,\u001b[0m \u001b[0;34m**\u001b[0m\u001b[0mself\u001b[0m\u001b[0;34m.\u001b[0m\u001b[0mkwargs\u001b[0m\u001b[0;34m)\u001b[0m\u001b[0;34m\u001b[0m\u001b[0;34m\u001b[0m\u001b[0m\n\u001b[0m\u001b[1;32m    288\u001b[0m \u001b[0;34m\u001b[0m\u001b[0m\n\u001b[1;32m    289\u001b[0m \u001b[0;34m\u001b[0m\u001b[0m\n",
      "\u001b[0;32m~/anaconda3/lib/python3.7/site-packages/scipy/optimize/_minimize.py\u001b[0m in \u001b[0;36mminimize\u001b[0;34m(fun, x0, args, method, jac, hess, hessp, bounds, constraints, tol, callback, options)\u001b[0m\n\u001b[1;32m    609\u001b[0m     \u001b[0;32melif\u001b[0m \u001b[0mmeth\u001b[0m \u001b[0;34m==\u001b[0m \u001b[0;34m'slsqp'\u001b[0m\u001b[0;34m:\u001b[0m\u001b[0;34m\u001b[0m\u001b[0;34m\u001b[0m\u001b[0m\n\u001b[1;32m    610\u001b[0m         return _minimize_slsqp(fun, x0, args, jac, bounds,\n\u001b[0;32m--> 611\u001b[0;31m                                constraints, callback=callback, **options)\n\u001b[0m\u001b[1;32m    612\u001b[0m     \u001b[0;32melif\u001b[0m \u001b[0mmeth\u001b[0m \u001b[0;34m==\u001b[0m \u001b[0;34m'trust-constr'\u001b[0m\u001b[0;34m:\u001b[0m\u001b[0;34m\u001b[0m\u001b[0;34m\u001b[0m\u001b[0m\n\u001b[1;32m    613\u001b[0m         return _minimize_trustregion_constr(fun, x0, args, jac, hess, hessp,\n",
      "\u001b[0;32m~/anaconda3/lib/python3.7/site-packages/scipy/optimize/slsqp.py\u001b[0m in \u001b[0;36m_minimize_slsqp\u001b[0;34m(func, x0, args, jac, bounds, constraints, maxiter, ftol, iprint, disp, eps, callback, **unknown_options)\u001b[0m\n\u001b[1;32m    401\u001b[0m             \u001b[0;31m# Compute the derivatives of the objective function\u001b[0m\u001b[0;34m\u001b[0m\u001b[0;34m\u001b[0m\u001b[0;34m\u001b[0m\u001b[0m\n\u001b[1;32m    402\u001b[0m             \u001b[0;31m# For some reason SLSQP wants g dimensioned to n+1\u001b[0m\u001b[0;34m\u001b[0m\u001b[0;34m\u001b[0m\u001b[0;34m\u001b[0m\u001b[0m\n\u001b[0;32m--> 403\u001b[0;31m             \u001b[0mg\u001b[0m \u001b[0;34m=\u001b[0m \u001b[0mappend\u001b[0m\u001b[0;34m(\u001b[0m\u001b[0mfprime\u001b[0m\u001b[0;34m(\u001b[0m\u001b[0mx\u001b[0m\u001b[0;34m)\u001b[0m\u001b[0;34m,\u001b[0m \u001b[0;36m0.0\u001b[0m\u001b[0;34m)\u001b[0m\u001b[0;34m\u001b[0m\u001b[0;34m\u001b[0m\u001b[0m\n\u001b[0m\u001b[1;32m    404\u001b[0m \u001b[0;34m\u001b[0m\u001b[0m\n\u001b[1;32m    405\u001b[0m             \u001b[0;31m# Compute the normals of the constraints\u001b[0m\u001b[0;34m\u001b[0m\u001b[0;34m\u001b[0m\u001b[0;34m\u001b[0m\u001b[0m\n",
      "\u001b[0;32m~/anaconda3/lib/python3.7/site-packages/scipy/optimize/optimize.py\u001b[0m in \u001b[0;36mfunction_wrapper\u001b[0;34m(*wrapper_args)\u001b[0m\n\u001b[1;32m    291\u001b[0m     \u001b[0;32mdef\u001b[0m \u001b[0mfunction_wrapper\u001b[0m\u001b[0;34m(\u001b[0m\u001b[0;34m*\u001b[0m\u001b[0mwrapper_args\u001b[0m\u001b[0;34m)\u001b[0m\u001b[0;34m:\u001b[0m\u001b[0;34m\u001b[0m\u001b[0;34m\u001b[0m\u001b[0m\n\u001b[1;32m    292\u001b[0m         \u001b[0mncalls\u001b[0m\u001b[0;34m[\u001b[0m\u001b[0;36m0\u001b[0m\u001b[0;34m]\u001b[0m \u001b[0;34m+=\u001b[0m \u001b[0;36m1\u001b[0m\u001b[0;34m\u001b[0m\u001b[0;34m\u001b[0m\u001b[0m\n\u001b[0;32m--> 293\u001b[0;31m         \u001b[0;32mreturn\u001b[0m \u001b[0mfunction\u001b[0m\u001b[0;34m(\u001b[0m\u001b[0;34m*\u001b[0m\u001b[0;34m(\u001b[0m\u001b[0mwrapper_args\u001b[0m \u001b[0;34m+\u001b[0m \u001b[0margs\u001b[0m\u001b[0;34m)\u001b[0m\u001b[0;34m)\u001b[0m\u001b[0;34m\u001b[0m\u001b[0;34m\u001b[0m\u001b[0m\n\u001b[0m\u001b[1;32m    294\u001b[0m \u001b[0;34m\u001b[0m\u001b[0m\n\u001b[1;32m    295\u001b[0m     \u001b[0;32mreturn\u001b[0m \u001b[0mncalls\u001b[0m\u001b[0;34m,\u001b[0m \u001b[0mfunction_wrapper\u001b[0m\u001b[0;34m\u001b[0m\u001b[0;34m\u001b[0m\u001b[0m\n",
      "\u001b[0;32m~/anaconda3/lib/python3.7/site-packages/scipy/optimize/slsqp.py\u001b[0m in \u001b[0;36mapprox_jacobian\u001b[0;34m(x, func, epsilon, *args)\u001b[0m\n\u001b[1;32m     61\u001b[0m     \u001b[0;32mfor\u001b[0m \u001b[0mi\u001b[0m \u001b[0;32min\u001b[0m \u001b[0mrange\u001b[0m\u001b[0;34m(\u001b[0m\u001b[0mlen\u001b[0m\u001b[0;34m(\u001b[0m\u001b[0mx0\u001b[0m\u001b[0;34m)\u001b[0m\u001b[0;34m)\u001b[0m\u001b[0;34m:\u001b[0m\u001b[0;34m\u001b[0m\u001b[0;34m\u001b[0m\u001b[0m\n\u001b[1;32m     62\u001b[0m         \u001b[0mdx\u001b[0m\u001b[0;34m[\u001b[0m\u001b[0mi\u001b[0m\u001b[0;34m]\u001b[0m \u001b[0;34m=\u001b[0m \u001b[0mepsilon\u001b[0m\u001b[0;34m\u001b[0m\u001b[0;34m\u001b[0m\u001b[0m\n\u001b[0;32m---> 63\u001b[0;31m         \u001b[0mjac\u001b[0m\u001b[0;34m[\u001b[0m\u001b[0mi\u001b[0m\u001b[0;34m]\u001b[0m \u001b[0;34m=\u001b[0m \u001b[0;34m(\u001b[0m\u001b[0mfunc\u001b[0m\u001b[0;34m(\u001b[0m\u001b[0;34m*\u001b[0m\u001b[0;34m(\u001b[0m\u001b[0;34m(\u001b[0m\u001b[0mx0\u001b[0m\u001b[0;34m+\u001b[0m\u001b[0mdx\u001b[0m\u001b[0;34m,\u001b[0m\u001b[0;34m)\u001b[0m\u001b[0;34m+\u001b[0m\u001b[0margs\u001b[0m\u001b[0;34m)\u001b[0m\u001b[0;34m)\u001b[0m \u001b[0;34m-\u001b[0m \u001b[0mf0\u001b[0m\u001b[0;34m)\u001b[0m\u001b[0;34m/\u001b[0m\u001b[0mepsilon\u001b[0m\u001b[0;34m\u001b[0m\u001b[0;34m\u001b[0m\u001b[0m\n\u001b[0m\u001b[1;32m     64\u001b[0m         \u001b[0mdx\u001b[0m\u001b[0;34m[\u001b[0m\u001b[0mi\u001b[0m\u001b[0;34m]\u001b[0m \u001b[0;34m=\u001b[0m \u001b[0;36m0.0\u001b[0m\u001b[0;34m\u001b[0m\u001b[0;34m\u001b[0m\u001b[0m\n\u001b[1;32m     65\u001b[0m \u001b[0;34m\u001b[0m\u001b[0m\n",
      "\u001b[0;32m~/anaconda3/lib/python3.7/site-packages/scipy/optimize/optimize.py\u001b[0m in \u001b[0;36mfunction_wrapper\u001b[0;34m(*wrapper_args)\u001b[0m\n\u001b[1;32m    291\u001b[0m     \u001b[0;32mdef\u001b[0m \u001b[0mfunction_wrapper\u001b[0m\u001b[0;34m(\u001b[0m\u001b[0;34m*\u001b[0m\u001b[0mwrapper_args\u001b[0m\u001b[0;34m)\u001b[0m\u001b[0;34m:\u001b[0m\u001b[0;34m\u001b[0m\u001b[0;34m\u001b[0m\u001b[0m\n\u001b[1;32m    292\u001b[0m         \u001b[0mncalls\u001b[0m\u001b[0;34m[\u001b[0m\u001b[0;36m0\u001b[0m\u001b[0;34m]\u001b[0m \u001b[0;34m+=\u001b[0m \u001b[0;36m1\u001b[0m\u001b[0;34m\u001b[0m\u001b[0;34m\u001b[0m\u001b[0m\n\u001b[0;32m--> 293\u001b[0;31m         \u001b[0;32mreturn\u001b[0m \u001b[0mfunction\u001b[0m\u001b[0;34m(\u001b[0m\u001b[0;34m*\u001b[0m\u001b[0;34m(\u001b[0m\u001b[0mwrapper_args\u001b[0m \u001b[0;34m+\u001b[0m \u001b[0margs\u001b[0m\u001b[0;34m)\u001b[0m\u001b[0;34m)\u001b[0m\u001b[0;34m\u001b[0m\u001b[0;34m\u001b[0m\u001b[0m\n\u001b[0m\u001b[1;32m    294\u001b[0m \u001b[0;34m\u001b[0m\u001b[0m\n\u001b[1;32m    295\u001b[0m     \u001b[0;32mreturn\u001b[0m \u001b[0mncalls\u001b[0m\u001b[0;34m,\u001b[0m \u001b[0mfunction_wrapper\u001b[0m\u001b[0;34m\u001b[0m\u001b[0;34m\u001b[0m\u001b[0m\n",
      "\u001b[0;32m<ipython-input-1158-dba0a9dbbc72>\u001b[0m in \u001b[0;36mmin_func\u001b[0;34m(estimate)\u001b[0m\n\u001b[1;32m    202\u001b[0m         otpt = list(map(lambda ndx: integrate.fixed_quad(quadrature_function, -5, 5, \n\u001b[1;32m    203\u001b[0m                     (estimate[1:], estimate[0], unique_sets[:, ndx]), n=61)[0] + 1e-23, \n\u001b[0;32m--> 204\u001b[0;31m                         range(unique_sets.shape[1])))\n\u001b[0m\u001b[1;32m    205\u001b[0m         \u001b[0;32mreturn\u001b[0m \u001b[0;34m-\u001b[0m\u001b[0mnp\u001b[0m\u001b[0;34m.\u001b[0m\u001b[0mlog\u001b[0m\u001b[0;34m(\u001b[0m\u001b[0motpt\u001b[0m\u001b[0;34m)\u001b[0m\u001b[0;34m.\u001b[0m\u001b[0mdot\u001b[0m\u001b[0;34m(\u001b[0m\u001b[0mcounts\u001b[0m\u001b[0;34m)\u001b[0m\u001b[0;34m\u001b[0m\u001b[0;34m\u001b[0m\u001b[0m\n\u001b[1;32m    206\u001b[0m \u001b[0;34m\u001b[0m\u001b[0m\n",
      "\u001b[0;32m<ipython-input-1158-dba0a9dbbc72>\u001b[0m in \u001b[0;36m<lambda>\u001b[0;34m(ndx)\u001b[0m\n\u001b[1;32m    201\u001b[0m     \u001b[0;32mdef\u001b[0m \u001b[0mmin_func\u001b[0m\u001b[0;34m(\u001b[0m\u001b[0mestimate\u001b[0m\u001b[0;34m)\u001b[0m\u001b[0;34m:\u001b[0m\u001b[0;34m\u001b[0m\u001b[0;34m\u001b[0m\u001b[0m\n\u001b[1;32m    202\u001b[0m         otpt = list(map(lambda ndx: integrate.fixed_quad(quadrature_function, -5, 5, \n\u001b[0;32m--> 203\u001b[0;31m                     (estimate[1:], estimate[0], unique_sets[:, ndx]), n=61)[0] + 1e-23, \n\u001b[0m\u001b[1;32m    204\u001b[0m                         range(unique_sets.shape[1])))\n\u001b[1;32m    205\u001b[0m         \u001b[0;32mreturn\u001b[0m \u001b[0;34m-\u001b[0m\u001b[0mnp\u001b[0m\u001b[0;34m.\u001b[0m\u001b[0mlog\u001b[0m\u001b[0;34m(\u001b[0m\u001b[0motpt\u001b[0m\u001b[0;34m)\u001b[0m\u001b[0;34m.\u001b[0m\u001b[0mdot\u001b[0m\u001b[0;34m(\u001b[0m\u001b[0mcounts\u001b[0m\u001b[0;34m)\u001b[0m\u001b[0;34m\u001b[0m\u001b[0;34m\u001b[0m\u001b[0m\n",
      "\u001b[0;32m~/anaconda3/lib/python3.7/site-packages/scipy/integrate/quadrature.py\u001b[0m in \u001b[0;36mfixed_quad\u001b[0;34m(func, a, b, args, n)\u001b[0m\n\u001b[1;32m     85\u001b[0m                          \"finite limits.\")\n\u001b[1;32m     86\u001b[0m     \u001b[0my\u001b[0m \u001b[0;34m=\u001b[0m \u001b[0;34m(\u001b[0m\u001b[0mb\u001b[0m\u001b[0;34m-\u001b[0m\u001b[0ma\u001b[0m\u001b[0;34m)\u001b[0m\u001b[0;34m*\u001b[0m\u001b[0;34m(\u001b[0m\u001b[0mx\u001b[0m\u001b[0;34m+\u001b[0m\u001b[0;36m1\u001b[0m\u001b[0;34m)\u001b[0m\u001b[0;34m/\u001b[0m\u001b[0;36m2.0\u001b[0m \u001b[0;34m+\u001b[0m \u001b[0ma\u001b[0m\u001b[0;34m\u001b[0m\u001b[0;34m\u001b[0m\u001b[0m\n\u001b[0;32m---> 87\u001b[0;31m     \u001b[0;32mreturn\u001b[0m \u001b[0;34m(\u001b[0m\u001b[0mb\u001b[0m\u001b[0;34m-\u001b[0m\u001b[0ma\u001b[0m\u001b[0;34m)\u001b[0m\u001b[0;34m/\u001b[0m\u001b[0;36m2.0\u001b[0m \u001b[0;34m*\u001b[0m \u001b[0mnp\u001b[0m\u001b[0;34m.\u001b[0m\u001b[0msum\u001b[0m\u001b[0;34m(\u001b[0m\u001b[0mw\u001b[0m\u001b[0;34m*\u001b[0m\u001b[0mfunc\u001b[0m\u001b[0;34m(\u001b[0m\u001b[0my\u001b[0m\u001b[0;34m,\u001b[0m \u001b[0;34m*\u001b[0m\u001b[0margs\u001b[0m\u001b[0;34m)\u001b[0m\u001b[0;34m,\u001b[0m \u001b[0maxis\u001b[0m\u001b[0;34m=\u001b[0m\u001b[0;34m-\u001b[0m\u001b[0;36m1\u001b[0m\u001b[0;34m)\u001b[0m\u001b[0;34m,\u001b[0m \u001b[0;32mNone\u001b[0m\u001b[0;34m\u001b[0m\u001b[0;34m\u001b[0m\u001b[0m\n\u001b[0m\u001b[1;32m     88\u001b[0m \u001b[0;34m\u001b[0m\u001b[0m\n\u001b[1;32m     89\u001b[0m \u001b[0;34m\u001b[0m\u001b[0m\n",
      "\u001b[0;32m<ipython-input-1158-dba0a9dbbc72>\u001b[0m in \u001b[0;36mquadrature_function\u001b[0;34m(theta, difficulty, discrimination, response)\u001b[0m\n\u001b[1;32m    196\u001b[0m         \u001b[0mkernel\u001b[0m \u001b[0;34m=\u001b[0m \u001b[0mtheta\u001b[0m \u001b[0;34m-\u001b[0m \u001b[0mdifficulty\u001b[0m\u001b[0;34m[\u001b[0m\u001b[0;34m:\u001b[0m\u001b[0;34m,\u001b[0m \u001b[0;32mNone\u001b[0m\u001b[0;34m]\u001b[0m\u001b[0;34m\u001b[0m\u001b[0;34m\u001b[0m\u001b[0m\n\u001b[1;32m    197\u001b[0m         \u001b[0mkernel\u001b[0m \u001b[0;34m*=\u001b[0m \u001b[0mdiscrimination\u001b[0m \u001b[0;34m*\u001b[0m \u001b[0mthe_sign\u001b[0m\u001b[0;34m[\u001b[0m\u001b[0;34m:\u001b[0m\u001b[0;34m,\u001b[0m \u001b[0;32mNone\u001b[0m\u001b[0;34m]\u001b[0m\u001b[0;34m\u001b[0m\u001b[0;34m\u001b[0m\u001b[0m\n\u001b[0;32m--> 198\u001b[0;31m         \u001b[0;32mreturn\u001b[0m \u001b[0mgauss\u001b[0m \u001b[0;34m*\u001b[0m \u001b[0;34m(\u001b[0m\u001b[0;36m1.0\u001b[0m \u001b[0;34m/\u001b[0m \u001b[0;34m(\u001b[0m\u001b[0;36m1.0\u001b[0m \u001b[0;34m+\u001b[0m \u001b[0mnp\u001b[0m\u001b[0;34m.\u001b[0m\u001b[0mexp\u001b[0m\u001b[0;34m(\u001b[0m\u001b[0mkernel\u001b[0m\u001b[0;34m)\u001b[0m\u001b[0;34m)\u001b[0m\u001b[0;34m)\u001b[0m\u001b[0;34m.\u001b[0m\u001b[0mprod\u001b[0m\u001b[0;34m(\u001b[0m\u001b[0maxis\u001b[0m\u001b[0;34m=\u001b[0m\u001b[0;36m0\u001b[0m\u001b[0;34m)\u001b[0m\u001b[0;34m\u001b[0m\u001b[0;34m\u001b[0m\u001b[0m\n\u001b[0m\u001b[1;32m    199\u001b[0m \u001b[0;34m\u001b[0m\u001b[0m\n\u001b[1;32m    200\u001b[0m     \u001b[0;31m# Inline definition of cost function to minimize\u001b[0m\u001b[0;34m\u001b[0m\u001b[0;34m\u001b[0m\u001b[0;34m\u001b[0m\u001b[0m\n",
      "\u001b[0;31mKeyboardInterrupt\u001b[0m: "
     ]
    }
   ],
   "source": [
    "onepl_estimate_full(syn_data)"
   ]
  },
  {
   "cell_type": "code",
   "execution_count": 892,
   "metadata": {},
   "outputs": [
    {
     "data": {
      "text/plain": [
       "1.2515644555694618"
      ]
     },
     "execution_count": 892,
     "metadata": {},
     "output_type": "execute_result"
    }
   ],
   "source": [
    "20 * 200 / 17 / 188"
   ]
  },
  {
   "cell_type": "code",
   "execution_count": 533,
   "metadata": {},
   "outputs": [
    {
     "data": {
      "text/plain": [
       "(3.883078090154843,\n",
       " array([-0.40863746,  1.70804849,  1.66386809, -1.17871092, -0.78549423,\n",
       "         0.89697624, -0.6491721 ,  0.322759  , -0.06428948, -1.04881811]))"
      ]
     },
     "execution_count": 533,
     "metadata": {},
     "output_type": "execute_result"
    }
   ],
   "source": [
    "onepl_estimate_full(syn_data)"
   ]
  },
  {
   "cell_type": "code",
   "execution_count": 534,
   "metadata": {},
   "outputs": [
    {
     "data": {
      "text/plain": [
       "array([-0.53700691,  1.86937898,  1.92288603, -1.28300466, -0.83887183,\n",
       "        0.99258767, -0.72174919,  0.31027538, -0.08999906, -1.09527454])"
      ]
     },
     "execution_count": 534,
     "metadata": {},
     "output_type": "execute_result"
    }
   ],
   "source": [
    "diffc"
   ]
  },
  {
   "cell_type": "code",
   "execution_count": 391,
   "metadata": {},
   "outputs": [],
   "source": [
    "no = np.count_nonzero(syn_data, axis=0)"
   ]
  },
  {
   "cell_type": "code",
   "execution_count": 219,
   "metadata": {},
   "outputs": [
    {
     "data": {
      "text/plain": [
       "array([-1.42837668,  0.48182139,  1.57388101, -0.96813419,  0.51029216])"
      ]
     },
     "execution_count": 219,
     "metadata": {},
     "output_type": "execute_result"
    }
   ],
   "source": [
    "rauch_estimate(syn_data, 1.63)"
   ]
  },
  {
   "cell_type": "code",
   "execution_count": 260,
   "metadata": {},
   "outputs": [
    {
     "data": {
      "text/plain": [
       "(1.4822199280344053,\n",
       " array([-0.11062872, -0.16619346,  0.4312827 ,  0.67300025, -0.45077536,\n",
       "         0.18477731,  0.03683686,  0.03683686,  0.4118845 , -2.02320149,\n",
       "        -0.2220617 ,  0.84694451,  0.39257579, -0.2220617 ,  1.08680977,\n",
       "        -0.49006454,  0.84694451, -0.47036756,  0.24077016,  0.        ,\n",
       "        -0.16619346,  0.4312827 , -0.2220617 ,  1.13880939, -0.18477731,\n",
       "        -0.869659  , -0.4312827 , -0.67300025,  0.61076044, -1.11261136,\n",
       "        -0.45077536,  0.12912299, -1.11261136, -0.39257579,  1.01160074,\n",
       "         0.25952817, -1.33516745, -0.18477731,  0.45077536,  0.73674879,\n",
       "        -1.01160074, -0.93934418,  0.03683686, -0.2220617 , -0.16619346,\n",
       "        -0.91584715,  0.4118845 , -1.46004349, -0.0552645 ,  0.09215672,\n",
       "        -0.18477731, -0.11062872, -0.63135161,  1.11261136, -0.33513884,\n",
       "        -0.49006454,  0.869659  , -0.31614087,  0.67300025, -0.09215672,\n",
       "        -0.16619346, -0.16619346, -0.09215672, -1.39625077, -0.50987168,\n",
       "         0.24077016,  0.12912299, -1.13880939,  0.65209587,  0.        ,\n",
       "         0.80222048, -1.13880939, -1.06138577,  0.2220617 , -1.83462706,\n",
       "        -0.57001049, -0.33513884,  0.25952817,  2.13039199,  0.75836986,\n",
       "        -0.0552645 ,  0.67300025,  0.4312827 , -0.4312827 ,  0.25952817,\n",
       "         0.71531895, -0.0552645 ,  0.29720931, -0.29720931,  0.0552645 ,\n",
       "        -0.78019075, -0.96312646, -0.16619346,  0.80222048, -0.29720931,\n",
       "         0.09215672, -0.67300025, -0.93934418, -0.25952817,  0.47036756]))"
      ]
     },
     "execution_count": 260,
     "metadata": {},
     "output_type": "execute_result"
    }
   ],
   "source": [
    "onepl_estimate(syn_data)"
   ]
  },
  {
   "cell_type": "code",
   "execution_count": 441,
   "metadata": {},
   "outputs": [
    {
     "data": {
      "text/plain": [
       "(5.335418934560034, array([-1.16398914, -1.23998338]))"
      ]
     },
     "execution_count": 441,
     "metadata": {},
     "output_type": "execute_result"
    }
   ],
   "source": [
    "onepl_estimate_full(syn_data)"
   ]
  },
  {
   "cell_type": "code",
   "execution_count": 438,
   "metadata": {},
   "outputs": [
    {
     "data": {
      "text/plain": [
       "array([-1.15275048, -1.09630471])"
      ]
     },
     "execution_count": 438,
     "metadata": {},
     "output_type": "execute_result"
    }
   ],
   "source": [
    "diffc"
   ]
  },
  {
   "cell_type": "code",
   "execution_count": 203,
   "metadata": {},
   "outputs": [
    {
     "data": {
      "text/plain": [
       "array([-0.87030798,  0.15986993,  1.85142745, -1.35159617, -1.35159559])"
      ]
     },
     "execution_count": 203,
     "metadata": {},
     "output_type": "execute_result"
    }
   ],
   "source": [
    "rauch_estimate_full(syn_data, 1.63)"
   ]
  },
  {
   "cell_type": "code",
   "execution_count": 1140,
   "metadata": {},
   "outputs": [
    {
     "data": {
      "text/plain": [
       "(array([1.33291769, 1.3770095 , 0.98064735, 2.20780908, 1.28685189,\n",
       "        1.7695484 , 1.74803377, 1.19393283, 1.30906159, 1.07575171,\n",
       "        1.48081366, 0.38266531, 1.69659085, 2.51899771, 1.48836964,\n",
       "        2.74474013, 1.75478913, 1.40927636, 1.01108824, 1.43850133,\n",
       "        1.15531041, 1.40946524, 1.8571191 , 1.66600621, 1.69465953]),\n",
       " array([-1.85822968,  1.66384511, -1.10089609,  0.51286484, -0.75247732,\n",
       "        -0.59759033, -0.23915277, -1.04042434,  0.05930106, -0.71871478,\n",
       "        -1.71121401, -1.08962085, -0.49498435,  0.37893994, -0.60940699,\n",
       "         1.77038621,  0.79998173,  1.56981622,  2.57261698, -1.66067695,\n",
       "         2.40868801,  1.01488193,  0.35225488, -0.73524004, -0.51398653]))"
      ]
     },
     "execution_count": 1140,
     "metadata": {},
     "output_type": "execute_result"
    }
   ],
   "source": [
    "twopl_estimate(syn_data)"
   ]
  },
  {
   "cell_type": "code",
   "execution_count": 1143,
   "metadata": {},
   "outputs": [
    {
     "data": {
      "text/plain": [
       "array([1.26755902, 1.40712429, 0.92518359, 2.62006752, 1.33401342,\n",
       "       1.8826979 , 1.87175319, 1.26056931, 1.44358028, 1.10899399,\n",
       "       1.43571467, 0.34170979, 1.77872366, 6.68447951, 1.56634072,\n",
       "       3.00883417, 2.11993845, 1.37433813, 0.8273699 , 1.39520183,\n",
       "       1.01118328, 1.63407343, 2.22805181, 1.67096611, 1.76559164])"
      ]
     },
     "execution_count": 1143,
     "metadata": {},
     "output_type": "execute_result"
    }
   ],
   "source": [
    "results['x']"
   ]
  },
  {
   "cell_type": "code",
   "execution_count": 1141,
   "metadata": {},
   "outputs": [
    {
     "data": {
      "text/plain": [
       "array([1.56702704, 1.66692852, 1.04398708, 1.95377561, 1.19232132,\n",
       "       1.93740192, 1.4438194 , 1.21886136, 1.31546162, 1.13670171,\n",
       "       1.54962316, 0.50838183, 1.53567551, 1.90708299, 1.55558351,\n",
       "       3.29702897, 2.13594027, 1.7536264 , 1.47137658, 1.38485356,\n",
       "       1.63078686, 1.41209839, 1.75629118, 1.41293637, 1.82469343])"
      ]
     },
     "execution_count": 1141,
     "metadata": {},
     "output_type": "execute_result"
    }
   ],
   "source": [
    "discr"
   ]
  },
  {
   "cell_type": "code",
   "execution_count": 1144,
   "metadata": {},
   "outputs": [
    {
     "data": {
      "text/plain": [
       "(array([1.3354512 , 1.41123588, 0.98962051, 2.25528199, 1.2948158 ,\n",
       "        1.77893023, 1.76915075, 1.20035129, 1.32570921, 1.08696624,\n",
       "        1.4838015 , 0.38860297, 1.7052068 , 2.55619973, 1.49669549,\n",
       "        3.01849377, 1.78062537, 1.44520362, 1.03332673, 1.44106226,\n",
       "        1.19718967, 1.44140106, 1.88460799, 1.67503116, 1.70207364]),\n",
       " array([-1.84704293,  1.62681919, -1.10684629,  0.52650766, -0.75623705,\n",
       "        -0.5928771 , -0.22660388, -1.04794394,  0.07158255, -0.72131831,\n",
       "        -1.70014523, -1.07954882, -0.48950818,  0.39640319, -0.60886078,\n",
       "         1.60193057,  0.80971277,  1.53810092,  2.49563483, -1.65420683,\n",
       "         2.30440648,  1.01778332,  0.3705126 , -0.73416159, -0.50910946]))"
      ]
     },
     "execution_count": 1144,
     "metadata": {},
     "output_type": "execute_result"
    }
   ],
   "source": [
    "twopl_estimate_full(syn_data)"
   ]
  },
  {
   "cell_type": "code",
   "execution_count": 1171,
   "metadata": {},
   "outputs": [],
   "source": [
    "full = lambda a, theta, ti: 1.0 / (1.0 + np.exp(-a * theta + np.sqrt(1 + np.pi * a**2 / 8) * ti))\n",
    "def approx(a, theta, ti, ao):\n",
    "    z = \n"
   ]
  },
  {
   "cell_type": "code",
   "execution_count": null,
   "metadata": {},
   "outputs": [],
   "source": []
  },
  {
   "cell_type": "code",
   "execution_count": 264,
   "metadata": {},
   "outputs": [
    {
     "data": {
      "text/plain": [
       "array([[False,  True, False, ..., False,  True, False],\n",
       "       [False, False, False, ...,  True, False,  True],\n",
       "       [ True,  True, False, ..., False, False,  True],\n",
       "       ...,\n",
       "       [ True, False,  True, ...,  True, False, False],\n",
       "       [ True,  True,  True, ..., False, False, False],\n",
       "       [False, False,  True, ..., False, False, False]])"
      ]
     },
     "execution_count": 264,
     "metadata": {},
     "output_type": "execute_result"
    }
   ],
   "source": [
    "syn_data"
   ]
  },
  {
   "cell_type": "code",
   "execution_count": 308,
   "metadata": {},
   "outputs": [],
   "source": [
    "def test_this(dataset, estimate):\n",
    "    n_no = np.count_nonzero(~dataset, axis=1)\n",
    "    n_yes = np.count_nonzero(dataset, axis=1)\n",
    "\n",
    "    difficulty = rauch_estimate(dataset, estimate)\n",
    "    squared_one = 1.0 / (1.0 + np.exp(difficulty * estimate / \n",
    "                                      np.sqrt(1 + np.pi * estimate**2 / 8)))\n",
    "    squared_zero = 1.0 - squared_one\n",
    "\n",
    "    return ((n_yes * np.square(squared_zero) + n_no * np.square(squared_one)).sum())"
   ]
  },
  {
   "cell_type": "code",
   "execution_count": 309,
   "metadata": {},
   "outputs": [
    {
     "name": "stdout",
     "output_type": "stream",
     "text": [
      "0.1 3396.605\n",
      "0.2 3396.605\n",
      "0.3 3396.605\n",
      "0.4 3396.605\n",
      "0.5 3396.605\n",
      "0.6 3396.605\n",
      "0.7 3396.605\n",
      "0.8 3396.605\n",
      "0.9 3396.605\n",
      "1.0 3396.605\n",
      "1.1 3396.605\n",
      "1.2 3396.605\n",
      "1.3 3396.605\n",
      "1.4 3396.605\n",
      "1.5 3396.605\n",
      "1.6 3396.605\n",
      "1.7 3396.605\n",
      "1.8 3396.605\n",
      "1.9 3396.605\n",
      "2.0 3396.605\n",
      "2.1 3396.605\n"
     ]
    },
    {
     "name": "stderr",
     "output_type": "stream",
     "text": [
      "/home/ryan/anaconda3/lib/python3.7/site-packages/ipykernel_launcher.py:44: RuntimeWarning: divide by zero encountered in log\n"
     ]
    }
   ],
   "source": [
    "for est in np.linspace(0.1, 2.1, 21):\n",
    "    print(est.round(3), test_this(syn_data, est))"
   ]
  },
  {
   "cell_type": "code",
   "execution_count": 312,
   "metadata": {},
   "outputs": [
    {
     "data": {
      "text/plain": [
       "(3.512490188389685, array([-0.25051613, -1.24945791, -0.19399719]))"
      ]
     },
     "execution_count": 312,
     "metadata": {},
     "output_type": "execute_result"
    }
   ],
   "source": [
    "onepl_estimate(syn_data)"
   ]
  },
  {
   "cell_type": "code",
   "execution_count": 313,
   "metadata": {},
   "outputs": [
    {
     "data": {
      "text/plain": [
       "3.76"
      ]
     },
     "execution_count": 313,
     "metadata": {},
     "output_type": "execute_result"
    }
   ],
   "source": [
    "discr"
   ]
  },
  {
   "cell_type": "code",
   "execution_count": 314,
   "metadata": {},
   "outputs": [
    {
     "data": {
      "text/plain": [
       "array([-0.27548552, -1.28618144, -0.26580374])"
      ]
     },
     "execution_count": 314,
     "metadata": {},
     "output_type": "execute_result"
    }
   ],
   "source": [
    "diffc"
   ]
  },
  {
   "cell_type": "code",
   "execution_count": null,
   "metadata": {},
   "outputs": [],
   "source": []
  },
  {
   "cell_type": "code",
   "execution_count": 752,
   "metadata": {},
   "outputs": [
    {
     "data": {
      "text/html": [
       "\n",
       "    <div class=\"bk-root\">\n",
       "        <a href=\"https://bokeh.pydata.org\" target=\"_blank\" class=\"bk-logo bk-logo-small bk-logo-notebook\"></a>\n",
       "        <span id=\"1001\">Loading BokehJS ...</span>\n",
       "    </div>"
      ]
     },
     "metadata": {},
     "output_type": "display_data"
    },
    {
     "data": {
      "application/javascript": [
       "\n",
       "(function(root) {\n",
       "  function now() {\n",
       "    return new Date();\n",
       "  }\n",
       "\n",
       "  var force = true;\n",
       "\n",
       "  if (typeof (root._bokeh_onload_callbacks) === \"undefined\" || force === true) {\n",
       "    root._bokeh_onload_callbacks = [];\n",
       "    root._bokeh_is_loading = undefined;\n",
       "  }\n",
       "\n",
       "  var JS_MIME_TYPE = 'application/javascript';\n",
       "  var HTML_MIME_TYPE = 'text/html';\n",
       "  var EXEC_MIME_TYPE = 'application/vnd.bokehjs_exec.v0+json';\n",
       "  var CLASS_NAME = 'output_bokeh rendered_html';\n",
       "\n",
       "  /**\n",
       "   * Render data to the DOM node\n",
       "   */\n",
       "  function render(props, node) {\n",
       "    var script = document.createElement(\"script\");\n",
       "    node.appendChild(script);\n",
       "  }\n",
       "\n",
       "  /**\n",
       "   * Handle when an output is cleared or removed\n",
       "   */\n",
       "  function handleClearOutput(event, handle) {\n",
       "    var cell = handle.cell;\n",
       "\n",
       "    var id = cell.output_area._bokeh_element_id;\n",
       "    var server_id = cell.output_area._bokeh_server_id;\n",
       "    // Clean up Bokeh references\n",
       "    if (id != null && id in Bokeh.index) {\n",
       "      Bokeh.index[id].model.document.clear();\n",
       "      delete Bokeh.index[id];\n",
       "    }\n",
       "\n",
       "    if (server_id !== undefined) {\n",
       "      // Clean up Bokeh references\n",
       "      var cmd = \"from bokeh.io.state import curstate; print(curstate().uuid_to_server['\" + server_id + \"'].get_sessions()[0].document.roots[0]._id)\";\n",
       "      cell.notebook.kernel.execute(cmd, {\n",
       "        iopub: {\n",
       "          output: function(msg) {\n",
       "            var id = msg.content.text.trim();\n",
       "            if (id in Bokeh.index) {\n",
       "              Bokeh.index[id].model.document.clear();\n",
       "              delete Bokeh.index[id];\n",
       "            }\n",
       "          }\n",
       "        }\n",
       "      });\n",
       "      // Destroy server and session\n",
       "      var cmd = \"import bokeh.io.notebook as ion; ion.destroy_server('\" + server_id + \"')\";\n",
       "      cell.notebook.kernel.execute(cmd);\n",
       "    }\n",
       "  }\n",
       "\n",
       "  /**\n",
       "   * Handle when a new output is added\n",
       "   */\n",
       "  function handleAddOutput(event, handle) {\n",
       "    var output_area = handle.output_area;\n",
       "    var output = handle.output;\n",
       "\n",
       "    // limit handleAddOutput to display_data with EXEC_MIME_TYPE content only\n",
       "    if ((output.output_type != \"display_data\") || (!output.data.hasOwnProperty(EXEC_MIME_TYPE))) {\n",
       "      return\n",
       "    }\n",
       "\n",
       "    var toinsert = output_area.element.find(\".\" + CLASS_NAME.split(' ')[0]);\n",
       "\n",
       "    if (output.metadata[EXEC_MIME_TYPE][\"id\"] !== undefined) {\n",
       "      toinsert[toinsert.length - 1].firstChild.textContent = output.data[JS_MIME_TYPE];\n",
       "      // store reference to embed id on output_area\n",
       "      output_area._bokeh_element_id = output.metadata[EXEC_MIME_TYPE][\"id\"];\n",
       "    }\n",
       "    if (output.metadata[EXEC_MIME_TYPE][\"server_id\"] !== undefined) {\n",
       "      var bk_div = document.createElement(\"div\");\n",
       "      bk_div.innerHTML = output.data[HTML_MIME_TYPE];\n",
       "      var script_attrs = bk_div.children[0].attributes;\n",
       "      for (var i = 0; i < script_attrs.length; i++) {\n",
       "        toinsert[toinsert.length - 1].firstChild.setAttribute(script_attrs[i].name, script_attrs[i].value);\n",
       "      }\n",
       "      // store reference to server id on output_area\n",
       "      output_area._bokeh_server_id = output.metadata[EXEC_MIME_TYPE][\"server_id\"];\n",
       "    }\n",
       "  }\n",
       "\n",
       "  function register_renderer(events, OutputArea) {\n",
       "\n",
       "    function append_mime(data, metadata, element) {\n",
       "      // create a DOM node to render to\n",
       "      var toinsert = this.create_output_subarea(\n",
       "        metadata,\n",
       "        CLASS_NAME,\n",
       "        EXEC_MIME_TYPE\n",
       "      );\n",
       "      this.keyboard_manager.register_events(toinsert);\n",
       "      // Render to node\n",
       "      var props = {data: data, metadata: metadata[EXEC_MIME_TYPE]};\n",
       "      render(props, toinsert[toinsert.length - 1]);\n",
       "      element.append(toinsert);\n",
       "      return toinsert\n",
       "    }\n",
       "\n",
       "    /* Handle when an output is cleared or removed */\n",
       "    events.on('clear_output.CodeCell', handleClearOutput);\n",
       "    events.on('delete.Cell', handleClearOutput);\n",
       "\n",
       "    /* Handle when a new output is added */\n",
       "    events.on('output_added.OutputArea', handleAddOutput);\n",
       "\n",
       "    /**\n",
       "     * Register the mime type and append_mime function with output_area\n",
       "     */\n",
       "    OutputArea.prototype.register_mime_type(EXEC_MIME_TYPE, append_mime, {\n",
       "      /* Is output safe? */\n",
       "      safe: true,\n",
       "      /* Index of renderer in `output_area.display_order` */\n",
       "      index: 0\n",
       "    });\n",
       "  }\n",
       "\n",
       "  // register the mime type if in Jupyter Notebook environment and previously unregistered\n",
       "  if (root.Jupyter !== undefined) {\n",
       "    var events = require('base/js/events');\n",
       "    var OutputArea = require('notebook/js/outputarea').OutputArea;\n",
       "\n",
       "    if (OutputArea.prototype.mime_types().indexOf(EXEC_MIME_TYPE) == -1) {\n",
       "      register_renderer(events, OutputArea);\n",
       "    }\n",
       "  }\n",
       "\n",
       "  \n",
       "  if (typeof (root._bokeh_timeout) === \"undefined\" || force === true) {\n",
       "    root._bokeh_timeout = Date.now() + 5000;\n",
       "    root._bokeh_failed_load = false;\n",
       "  }\n",
       "\n",
       "  var NB_LOAD_WARNING = {'data': {'text/html':\n",
       "     \"<div style='background-color: #fdd'>\\n\"+\n",
       "     \"<p>\\n\"+\n",
       "     \"BokehJS does not appear to have successfully loaded. If loading BokehJS from CDN, this \\n\"+\n",
       "     \"may be due to a slow or bad network connection. Possible fixes:\\n\"+\n",
       "     \"</p>\\n\"+\n",
       "     \"<ul>\\n\"+\n",
       "     \"<li>re-rerun `output_notebook()` to attempt to load from CDN again, or</li>\\n\"+\n",
       "     \"<li>use INLINE resources instead, as so:</li>\\n\"+\n",
       "     \"</ul>\\n\"+\n",
       "     \"<code>\\n\"+\n",
       "     \"from bokeh.resources import INLINE\\n\"+\n",
       "     \"output_notebook(resources=INLINE)\\n\"+\n",
       "     \"</code>\\n\"+\n",
       "     \"</div>\"}};\n",
       "\n",
       "  function display_loaded() {\n",
       "    var el = document.getElementById(\"1001\");\n",
       "    if (el != null) {\n",
       "      el.textContent = \"BokehJS is loading...\";\n",
       "    }\n",
       "    if (root.Bokeh !== undefined) {\n",
       "      if (el != null) {\n",
       "        el.textContent = \"BokehJS \" + root.Bokeh.version + \" successfully loaded.\";\n",
       "      }\n",
       "    } else if (Date.now() < root._bokeh_timeout) {\n",
       "      setTimeout(display_loaded, 100)\n",
       "    }\n",
       "  }\n",
       "\n",
       "\n",
       "  function run_callbacks() {\n",
       "    try {\n",
       "      root._bokeh_onload_callbacks.forEach(function(callback) { callback() });\n",
       "    }\n",
       "    finally {\n",
       "      delete root._bokeh_onload_callbacks\n",
       "    }\n",
       "    console.info(\"Bokeh: all callbacks have finished\");\n",
       "  }\n",
       "\n",
       "  function load_libs(js_urls, callback) {\n",
       "    root._bokeh_onload_callbacks.push(callback);\n",
       "    if (root._bokeh_is_loading > 0) {\n",
       "      console.log(\"Bokeh: BokehJS is being loaded, scheduling callback at\", now());\n",
       "      return null;\n",
       "    }\n",
       "    if (js_urls == null || js_urls.length === 0) {\n",
       "      run_callbacks();\n",
       "      return null;\n",
       "    }\n",
       "    console.log(\"Bokeh: BokehJS not loaded, scheduling load and callback at\", now());\n",
       "    root._bokeh_is_loading = js_urls.length;\n",
       "    for (var i = 0; i < js_urls.length; i++) {\n",
       "      var url = js_urls[i];\n",
       "      var s = document.createElement('script');\n",
       "      s.src = url;\n",
       "      s.async = false;\n",
       "      s.onreadystatechange = s.onload = function() {\n",
       "        root._bokeh_is_loading--;\n",
       "        if (root._bokeh_is_loading === 0) {\n",
       "          console.log(\"Bokeh: all BokehJS libraries loaded\");\n",
       "          run_callbacks()\n",
       "        }\n",
       "      };\n",
       "      s.onerror = function() {\n",
       "        console.warn(\"failed to load library \" + url);\n",
       "      };\n",
       "      console.log(\"Bokeh: injecting script tag for BokehJS library: \", url);\n",
       "      document.getElementsByTagName(\"head\")[0].appendChild(s);\n",
       "    }\n",
       "  };var element = document.getElementById(\"1001\");\n",
       "  if (element == null) {\n",
       "    console.log(\"Bokeh: ERROR: autoload.js configured with elementid '1001' but no matching script tag was found. \")\n",
       "    return false;\n",
       "  }\n",
       "\n",
       "  var js_urls = [\"https://cdn.pydata.org/bokeh/release/bokeh-1.0.2.min.js\", \"https://cdn.pydata.org/bokeh/release/bokeh-widgets-1.0.2.min.js\", \"https://cdn.pydata.org/bokeh/release/bokeh-tables-1.0.2.min.js\", \"https://cdn.pydata.org/bokeh/release/bokeh-gl-1.0.2.min.js\"];\n",
       "\n",
       "  var inline_js = [\n",
       "    function(Bokeh) {\n",
       "      Bokeh.set_log_level(\"info\");\n",
       "    },\n",
       "    \n",
       "    function(Bokeh) {\n",
       "      \n",
       "    },\n",
       "    function(Bokeh) {\n",
       "      console.log(\"Bokeh: injecting CSS: https://cdn.pydata.org/bokeh/release/bokeh-1.0.2.min.css\");\n",
       "      Bokeh.embed.inject_css(\"https://cdn.pydata.org/bokeh/release/bokeh-1.0.2.min.css\");\n",
       "      console.log(\"Bokeh: injecting CSS: https://cdn.pydata.org/bokeh/release/bokeh-widgets-1.0.2.min.css\");\n",
       "      Bokeh.embed.inject_css(\"https://cdn.pydata.org/bokeh/release/bokeh-widgets-1.0.2.min.css\");\n",
       "      console.log(\"Bokeh: injecting CSS: https://cdn.pydata.org/bokeh/release/bokeh-tables-1.0.2.min.css\");\n",
       "      Bokeh.embed.inject_css(\"https://cdn.pydata.org/bokeh/release/bokeh-tables-1.0.2.min.css\");\n",
       "    }\n",
       "  ];\n",
       "\n",
       "  function run_inline_js() {\n",
       "    \n",
       "    if ((root.Bokeh !== undefined) || (force === true)) {\n",
       "      for (var i = 0; i < inline_js.length; i++) {\n",
       "        inline_js[i].call(root, root.Bokeh);\n",
       "      }if (force === true) {\n",
       "        display_loaded();\n",
       "      }} else if (Date.now() < root._bokeh_timeout) {\n",
       "      setTimeout(run_inline_js, 100);\n",
       "    } else if (!root._bokeh_failed_load) {\n",
       "      console.log(\"Bokeh: BokehJS failed to load within specified timeout.\");\n",
       "      root._bokeh_failed_load = true;\n",
       "    } else if (force !== true) {\n",
       "      var cell = $(document.getElementById(\"1001\")).parents('.cell').data().cell;\n",
       "      cell.output_area.append_execute_result(NB_LOAD_WARNING)\n",
       "    }\n",
       "\n",
       "  }\n",
       "\n",
       "  if (root._bokeh_is_loading === 0) {\n",
       "    console.log(\"Bokeh: BokehJS loaded, going straight to plotting\");\n",
       "    run_inline_js();\n",
       "  } else {\n",
       "    load_libs(js_urls, function() {\n",
       "      console.log(\"Bokeh: BokehJS plotting callback run at\", now());\n",
       "      run_inline_js();\n",
       "    });\n",
       "  }\n",
       "}(window));"
      ],
      "application/vnd.bokehjs_load.v0+json": "\n(function(root) {\n  function now() {\n    return new Date();\n  }\n\n  var force = true;\n\n  if (typeof (root._bokeh_onload_callbacks) === \"undefined\" || force === true) {\n    root._bokeh_onload_callbacks = [];\n    root._bokeh_is_loading = undefined;\n  }\n\n  \n\n  \n  if (typeof (root._bokeh_timeout) === \"undefined\" || force === true) {\n    root._bokeh_timeout = Date.now() + 5000;\n    root._bokeh_failed_load = false;\n  }\n\n  var NB_LOAD_WARNING = {'data': {'text/html':\n     \"<div style='background-color: #fdd'>\\n\"+\n     \"<p>\\n\"+\n     \"BokehJS does not appear to have successfully loaded. If loading BokehJS from CDN, this \\n\"+\n     \"may be due to a slow or bad network connection. Possible fixes:\\n\"+\n     \"</p>\\n\"+\n     \"<ul>\\n\"+\n     \"<li>re-rerun `output_notebook()` to attempt to load from CDN again, or</li>\\n\"+\n     \"<li>use INLINE resources instead, as so:</li>\\n\"+\n     \"</ul>\\n\"+\n     \"<code>\\n\"+\n     \"from bokeh.resources import INLINE\\n\"+\n     \"output_notebook(resources=INLINE)\\n\"+\n     \"</code>\\n\"+\n     \"</div>\"}};\n\n  function display_loaded() {\n    var el = document.getElementById(\"1001\");\n    if (el != null) {\n      el.textContent = \"BokehJS is loading...\";\n    }\n    if (root.Bokeh !== undefined) {\n      if (el != null) {\n        el.textContent = \"BokehJS \" + root.Bokeh.version + \" successfully loaded.\";\n      }\n    } else if (Date.now() < root._bokeh_timeout) {\n      setTimeout(display_loaded, 100)\n    }\n  }\n\n\n  function run_callbacks() {\n    try {\n      root._bokeh_onload_callbacks.forEach(function(callback) { callback() });\n    }\n    finally {\n      delete root._bokeh_onload_callbacks\n    }\n    console.info(\"Bokeh: all callbacks have finished\");\n  }\n\n  function load_libs(js_urls, callback) {\n    root._bokeh_onload_callbacks.push(callback);\n    if (root._bokeh_is_loading > 0) {\n      console.log(\"Bokeh: BokehJS is being loaded, scheduling callback at\", now());\n      return null;\n    }\n    if (js_urls == null || js_urls.length === 0) {\n      run_callbacks();\n      return null;\n    }\n    console.log(\"Bokeh: BokehJS not loaded, scheduling load and callback at\", now());\n    root._bokeh_is_loading = js_urls.length;\n    for (var i = 0; i < js_urls.length; i++) {\n      var url = js_urls[i];\n      var s = document.createElement('script');\n      s.src = url;\n      s.async = false;\n      s.onreadystatechange = s.onload = function() {\n        root._bokeh_is_loading--;\n        if (root._bokeh_is_loading === 0) {\n          console.log(\"Bokeh: all BokehJS libraries loaded\");\n          run_callbacks()\n        }\n      };\n      s.onerror = function() {\n        console.warn(\"failed to load library \" + url);\n      };\n      console.log(\"Bokeh: injecting script tag for BokehJS library: \", url);\n      document.getElementsByTagName(\"head\")[0].appendChild(s);\n    }\n  };var element = document.getElementById(\"1001\");\n  if (element == null) {\n    console.log(\"Bokeh: ERROR: autoload.js configured with elementid '1001' but no matching script tag was found. \")\n    return false;\n  }\n\n  var js_urls = [\"https://cdn.pydata.org/bokeh/release/bokeh-1.0.2.min.js\", \"https://cdn.pydata.org/bokeh/release/bokeh-widgets-1.0.2.min.js\", \"https://cdn.pydata.org/bokeh/release/bokeh-tables-1.0.2.min.js\", \"https://cdn.pydata.org/bokeh/release/bokeh-gl-1.0.2.min.js\"];\n\n  var inline_js = [\n    function(Bokeh) {\n      Bokeh.set_log_level(\"info\");\n    },\n    \n    function(Bokeh) {\n      \n    },\n    function(Bokeh) {\n      console.log(\"Bokeh: injecting CSS: https://cdn.pydata.org/bokeh/release/bokeh-1.0.2.min.css\");\n      Bokeh.embed.inject_css(\"https://cdn.pydata.org/bokeh/release/bokeh-1.0.2.min.css\");\n      console.log(\"Bokeh: injecting CSS: https://cdn.pydata.org/bokeh/release/bokeh-widgets-1.0.2.min.css\");\n      Bokeh.embed.inject_css(\"https://cdn.pydata.org/bokeh/release/bokeh-widgets-1.0.2.min.css\");\n      console.log(\"Bokeh: injecting CSS: https://cdn.pydata.org/bokeh/release/bokeh-tables-1.0.2.min.css\");\n      Bokeh.embed.inject_css(\"https://cdn.pydata.org/bokeh/release/bokeh-tables-1.0.2.min.css\");\n    }\n  ];\n\n  function run_inline_js() {\n    \n    if ((root.Bokeh !== undefined) || (force === true)) {\n      for (var i = 0; i < inline_js.length; i++) {\n        inline_js[i].call(root, root.Bokeh);\n      }if (force === true) {\n        display_loaded();\n      }} else if (Date.now() < root._bokeh_timeout) {\n      setTimeout(run_inline_js, 100);\n    } else if (!root._bokeh_failed_load) {\n      console.log(\"Bokeh: BokehJS failed to load within specified timeout.\");\n      root._bokeh_failed_load = true;\n    } else if (force !== true) {\n      var cell = $(document.getElementById(\"1001\")).parents('.cell').data().cell;\n      cell.output_area.append_execute_result(NB_LOAD_WARNING)\n    }\n\n  }\n\n  if (root._bokeh_is_loading === 0) {\n    console.log(\"Bokeh: BokehJS loaded, going straight to plotting\");\n    run_inline_js();\n  } else {\n    load_libs(js_urls, function() {\n      console.log(\"Bokeh: BokehJS plotting callback run at\", now());\n      run_inline_js();\n    });\n  }\n}(window));"
     },
     "metadata": {},
     "output_type": "display_data"
    }
   ],
   "source": [
    "import numpy as np\n",
    "from scipy import stats\n",
    "from bokeh.plotting import figure, show, output_notebook\n",
    "output_notebook()"
   ]
  },
  {
   "cell_type": "code",
   "execution_count": 16,
   "metadata": {},
   "outputs": [],
   "source": [
    "import json\n",
    "import numpy as np\n",
    "import scipy.stats as sp\n",
    "\n",
    "\n",
    "def one_sample_ttest(group1, mean):\n",
    "    \"\"\"Computes a ttest hypothesis for one sample.\n",
    "\n",
    "    Args:\n",
    "        group1:  Sample group\n",
    "        mean: the hypothetical mean of the population\n",
    "\n",
    "    Returns:\n",
    "        structure of ttest values\n",
    "    \"\"\"\n",
    "    mean1 = group1.mean()\n",
    "    std1 = group1.std(ddof=1)\n",
    "    deg_of_freedom = group1.size - 1\n",
    "\n",
    "    cohen_d = (mean1 - mean) / std1\n",
    "    t_metric = cohen_d * np.sqrt(group1.size)\n",
    "\n",
    "    #Two-tailed\n",
    "    p_value = sp.t.sf(np.abs(t_metric), deg_of_freedom) * 2\n",
    "    ci_scalar = sp.t.isf(0.025, deg_of_freedom) * std1 / np.sqrt(group1.size)\n",
    "\n",
    "    output = {'Mean1': mean1, 'Std1': std1, 'n1': group1.size,\n",
    "              'Mean2': mean, 'Std2': 0, 'n2': 1,\n",
    "              'T_value': t_metric, 'P_value': p_value, 'scalar': ci_scalar,\n",
    "              'Cohen_d': (mean1 - mean) / std1,\n",
    "              'df': deg_of_freedom}\n",
    "\n",
    "    return output\n",
    "\n",
    "\n",
    "def basic_ttest(group1, group2):\n",
    "    \"\"\"Computes the t-test for two groups\n",
    "\n",
    "    assumes equal_variance between the groups\n",
    "\n",
    "    Args:\n",
    "        group1:  First group for comparison\n",
    "        group2:  Second group for comparison\n",
    "\n",
    "    Returns:\n",
    "        structure of ttest values\n",
    "\n",
    "    \"\"\"\n",
    "    mean1 = group1.mean()\n",
    "    mean2 = group2.mean()\n",
    "\n",
    "    deg_of_freedom = group1.size + group2.size - 2\n",
    "    pooled_var = group1.var() * group1.size + group2.var() * group2.size\n",
    "    pooled_var /= deg_of_freedom\n",
    "\n",
    "    standard_error = np.sqrt(pooled_var * (1. / group1.size + 1. / group2.size))\n",
    "    t_metric = (mean1 - mean2) / standard_error\n",
    "\n",
    "    # Two-tailed\n",
    "    p_value = sp.t.sf(np.abs(t_metric), deg_of_freedom) * 2\n",
    "    ci_scalar = sp.t.isf(0.025, deg_of_freedom) * standard_error\n",
    "    output = {'Mean1': mean1, 'Std1': group1.std(ddof=1), 'n1': group1.size,\n",
    "              'Mean2': mean2, 'Std2': group2.std(ddof=1), 'n2': group2.size,\n",
    "              'T_value': t_metric, 'P_value': p_value, 'scalar': ci_scalar,\n",
    "              'Cohen_d': (mean1 - mean2) / np.sqrt(pooled_var),\n",
    "              'df': deg_of_freedom}\n",
    "\n",
    "    return output\n",
    "\n",
    "\n",
    "def repeated_ttest(group1, group2):\n",
    "    \"\"\"Computes the t-test for two groups\n",
    "\n",
    "    assumes equal_variance between the groups and repeated measures\n",
    "\n",
    "    Args:\n",
    "        group1:  First group for comparison\n",
    "        group2:  Second group for comparison\n",
    "\n",
    "    Returns:\n",
    "        structure of ttest values\n",
    "    \"\"\"\n",
    "    if group1.size != group2.size:\n",
    "        raise AssertionError(\"Repteated TTest groups must be the same size.\")\n",
    "\n",
    "    pairs = group1 - group2\n",
    "    mean = pairs.mean()\n",
    "    std = pairs.std(ddof=1)\n",
    "    deg_of_freedom = group1.size - 1\n",
    "\n",
    "    standard_error = std / np.sqrt(group1.size)\n",
    "    t_metric = mean / standard_error\n",
    "\n",
    "    # Two-tailed\n",
    "    p_value = sp.t.sf(np.abs(t_metric), deg_of_freedom) * 2\n",
    "    ci_scalar = sp.t.isf(0.025, deg_of_freedom) * standard_error\n",
    "    output = {'Mean1': group1.mean(), 'Std1': group1.std(ddof=1), 'n1': group1.size,\n",
    "              'Mean2': group2.mean(), 'Std2': group2.std(ddof=1), 'n2': group2.size,\n",
    "              'T_value': t_metric, 'P_value': p_value, 'scalar': ci_scalar,\n",
    "              'Cohen_d': mean / std, 'df': deg_of_freedom}\n",
    "\n",
    "    return output\n",
    "\n",
    "\n",
    "def welch_ttest(group1, group2):\n",
    "    \"\"\"Computes the t-test for two groups\n",
    "\n",
    "    assumes nothing about variance between the groups\n",
    "\n",
    "    Args:\n",
    "        group1:  First group for comparison\n",
    "        group2:  Second group for comparison\n",
    "\n",
    "    Returns:\n",
    "        structure of ttest values\n",
    "\n",
    "    \"\"\"\n",
    "    mean1 = group1.mean()\n",
    "    mean2 = group2.mean()\n",
    "\n",
    "    variance1 = group1.var(ddof=1) / group1.size\n",
    "    variance2 = group2.var(ddof=1) / group2.size\n",
    "    weighted_variance = variance1 + variance2\n",
    "\n",
    "    deg_of_freedom = np.square(weighted_variance)\n",
    "    deg_of_freedom /= (np.square(variance1) / (group1.size - 1) +\n",
    "                       np.square(variance2) / (group2.size - 1))\n",
    "\n",
    "    t_metric = (mean1 - mean2) / np.sqrt(weighted_variance)\n",
    "\n",
    "    # Two-tailed\n",
    "    p_value = sp.t.sf(np.abs(t_metric), deg_of_freedom) * 2\n",
    "    ci_scalar = sp.t.isf(0.025, deg_of_freedom) * np.sqrt(weighted_variance)\n",
    "    output = {'Mean1': mean1, 'Std1': group1.std(ddof=1), 'n1': group1.size,\n",
    "              'Mean2': mean2, 'Std2': group2.std(ddof=1), 'n2': group2.size,\n",
    "              'T_value': t_metric, 'P_value': p_value, 'scalar': ci_scalar,\n",
    "              'Cohen_d': (mean1 - mean2) * np.sqrt(2) /\n",
    "                          np.sqrt(group1.var(ddof=1) + group2.var(ddof=1)),\n",
    "              'df': deg_of_freedom\n",
    "              }\n",
    "    return output\n"
   ]
  },
  {
   "cell_type": "code",
   "execution_count": 9,
   "metadata": {},
   "outputs": [],
   "source": [
    "g = np.random.rand(27) * 50\n",
    "h = np.random.rand(27) * 55\n"
   ]
  },
  {
   "cell_type": "code",
   "execution_count": 25,
   "metadata": {},
   "outputs": [],
   "source": [
    "#z = [0, 2, 3]\n",
    "z.insert(1, 10)"
   ]
  },
  {
   "cell_type": "code",
   "execution_count": 26,
   "metadata": {},
   "outputs": [
    {
     "data": {
      "text/plain": [
       "[0, 10, 1, 2, 3]"
      ]
     },
     "execution_count": 26,
     "metadata": {},
     "output_type": "execute_result"
    }
   ],
   "source": [
    "z"
   ]
  },
  {
   "cell_type": "code",
   "execution_count": 17,
   "metadata": {},
   "outputs": [
    {
     "data": {
      "text/plain": [
       "{'Mean1': 25.387786060377078,\n",
       " 'Std1': 14.927211957718175,\n",
       " 'n1': 27,\n",
       " 'Mean2': 27.371970570943333,\n",
       " 'Std2': 18.46482175339166,\n",
       " 'n2': 27,\n",
       " 'T_value': -0.4795725661250065,\n",
       " 'P_value': 0.6355408939090509,\n",
       " 'scalar': 8.504551680516716,\n",
       " 'Cohen_d': -0.09229378338274402,\n",
       " 'df': 26}"
      ]
     },
     "execution_count": 17,
     "metadata": {},
     "output_type": "execute_result"
    }
   ],
   "source": [
    "repeated_ttest(g, h)"
   ]
  },
  {
   "cell_type": "code",
   "execution_count": 15,
   "metadata": {},
   "outputs": [
    {
     "data": {
      "text/plain": [
       "{'Mean1': 25.387786060377078,\n",
       " 'Std1': 14.927211957718175,\n",
       " 'n1': 27,\n",
       " 'Mean2': 27.371970570943333,\n",
       " 'Std2': 18.46482175339166,\n",
       " 'n2': 27,\n",
       " 'T_value': -0.4795725661250065,\n",
       " 'P_value': 0.6355408939090509,\n",
       " 'scalar': 8.504551680516716,\n",
       " 'Cohen_d': -0.09229378338274402,\n",
       " 'df': 26}"
      ]
     },
     "execution_count": 15,
     "metadata": {},
     "output_type": "execute_result"
    }
   ],
   "source": [
    "repeated_ttest(g, h)"
   ]
  },
  {
   "cell_type": "code",
   "execution_count": 3,
   "metadata": {},
   "outputs": [],
   "source": [
    "basic_list = np.array([26, 22, 13, 13, 16, 9, 10, 4, 9, 17, 19, 11, 17, 23, 25])\n",
    "rehearse_list = np.array([11, 11, 10, 6, 5, 7, 6, 9, 6, 10, 5, 13, 24, 23, 27])\n",
    "delay_list = np.array([24, 13, 13, 15, 9, 6, 6, 4, 3, 10, 8, 9, 10, 5, 8])"
   ]
  },
  {
   "cell_type": "code",
   "execution_count": 8,
   "metadata": {},
   "outputs": [
    {
     "data": {
      "text/html": [
       "\n",
       "\n",
       "\n",
       "\n",
       "\n",
       "\n",
       "  <div class=\"bk-root\" id=\"c7cd65ae-6a82-4490-8ddb-fc0bb6f0300e\"></div>\n"
      ]
     },
     "metadata": {},
     "output_type": "display_data"
    },
    {
     "data": {
      "application/javascript": [
       "(function(root) {\n",
       "  function embed_document(root) {\n",
       "    \n",
       "  var docs_json = {\"4b619471-1978-4a57-acaf-5a5023c0b3a0\":{\"roots\":{\"references\":[{\"attributes\":{\"below\":[{\"id\":\"1262\",\"type\":\"LinearAxis\"}],\"left\":[{\"id\":\"1267\",\"type\":\"LinearAxis\"}],\"plot_height\":400,\"plot_width\":400,\"renderers\":[{\"id\":\"1262\",\"type\":\"LinearAxis\"},{\"id\":\"1266\",\"type\":\"Grid\"},{\"id\":\"1267\",\"type\":\"LinearAxis\"},{\"id\":\"1271\",\"type\":\"Grid\"},{\"id\":\"1280\",\"type\":\"BoxAnnotation\"},{\"id\":\"1290\",\"type\":\"GlyphRenderer\"},{\"id\":\"1295\",\"type\":\"GlyphRenderer\"},{\"id\":\"1300\",\"type\":\"GlyphRenderer\"}],\"title\":{\"id\":\"1324\",\"type\":\"Title\"},\"toolbar\":{\"id\":\"1278\",\"type\":\"Toolbar\"},\"x_range\":{\"id\":\"1254\",\"type\":\"DataRange1d\"},\"x_scale\":{\"id\":\"1258\",\"type\":\"LinearScale\"},\"y_range\":{\"id\":\"1256\",\"type\":\"DataRange1d\"},\"y_scale\":{\"id\":\"1260\",\"type\":\"LinearScale\"}},\"id\":\"1253\",\"subtype\":\"Figure\",\"type\":\"Plot\"},{\"attributes\":{},\"id\":\"1276\",\"type\":\"ResetTool\"},{\"attributes\":{\"callback\":null,\"data\":{\"x\":[0,1,2,3,4,5,6,7,8,9,10,11,12,13,14],\"y\":[11,11,10,6,5,7,6,9,6,10,5,13,24,23,27]},\"selected\":{\"id\":\"1333\",\"type\":\"Selection\"},\"selection_policy\":{\"id\":\"1334\",\"type\":\"UnionRenderers\"}},\"id\":\"1292\",\"type\":\"ColumnDataSource\"},{\"attributes\":{},\"id\":\"1334\",\"type\":\"UnionRenderers\"},{\"attributes\":{},\"id\":\"1335\",\"type\":\"Selection\"},{\"attributes\":{},\"id\":\"1277\",\"type\":\"HelpTool\"},{\"attributes\":{},\"id\":\"1333\",\"type\":\"Selection\"},{\"attributes\":{\"line_alpha\":0.1,\"line_color\":\"#1f77b4\",\"x\":{\"field\":\"x\"},\"y\":{\"field\":\"y\"}},\"id\":\"1299\",\"type\":\"Line\"},{\"attributes\":{\"active_drag\":\"auto\",\"active_inspect\":\"auto\",\"active_multi\":null,\"active_scroll\":\"auto\",\"active_tap\":\"auto\",\"tools\":[{\"id\":\"1272\",\"type\":\"PanTool\"},{\"id\":\"1273\",\"type\":\"WheelZoomTool\"},{\"id\":\"1274\",\"type\":\"BoxZoomTool\"},{\"id\":\"1275\",\"type\":\"SaveTool\"},{\"id\":\"1276\",\"type\":\"ResetTool\"},{\"id\":\"1277\",\"type\":\"HelpTool\"}]},\"id\":\"1278\",\"type\":\"Toolbar\"},{\"attributes\":{\"formatter\":{\"id\":\"1328\",\"type\":\"BasicTickFormatter\"},\"plot\":{\"id\":\"1253\",\"subtype\":\"Figure\",\"type\":\"Plot\"},\"ticker\":{\"id\":\"1268\",\"type\":\"BasicTicker\"}},\"id\":\"1267\",\"type\":\"LinearAxis\"},{\"attributes\":{},\"id\":\"1326\",\"type\":\"BasicTickFormatter\"},{\"attributes\":{\"formatter\":{\"id\":\"1326\",\"type\":\"BasicTickFormatter\"},\"plot\":{\"id\":\"1253\",\"subtype\":\"Figure\",\"type\":\"Plot\"},\"ticker\":{\"id\":\"1263\",\"type\":\"BasicTicker\"}},\"id\":\"1262\",\"type\":\"LinearAxis\"},{\"attributes\":{},\"id\":\"1275\",\"type\":\"SaveTool\"},{\"attributes\":{\"source\":{\"id\":\"1297\",\"type\":\"ColumnDataSource\"}},\"id\":\"1301\",\"type\":\"CDSView\"},{\"attributes\":{\"data_source\":{\"id\":\"1297\",\"type\":\"ColumnDataSource\"},\"glyph\":{\"id\":\"1298\",\"type\":\"Line\"},\"hover_glyph\":null,\"muted_glyph\":null,\"nonselection_glyph\":{\"id\":\"1299\",\"type\":\"Line\"},\"selection_glyph\":null,\"view\":{\"id\":\"1301\",\"type\":\"CDSView\"}},\"id\":\"1300\",\"type\":\"GlyphRenderer\"},{\"attributes\":{\"callback\":null,\"data\":{\"x\":[0,1,2,3,4,5,6,7,8,9,10,11,12,13,14],\"y\":[26,22,13,13,16,9,10,4,9,17,19,11,17,23,25]},\"selected\":{\"id\":\"1331\",\"type\":\"Selection\"},\"selection_policy\":{\"id\":\"1332\",\"type\":\"UnionRenderers\"}},\"id\":\"1287\",\"type\":\"ColumnDataSource\"},{\"attributes\":{},\"id\":\"1331\",\"type\":\"Selection\"},{\"attributes\":{\"overlay\":{\"id\":\"1280\",\"type\":\"BoxAnnotation\"}},\"id\":\"1274\",\"type\":\"BoxZoomTool\"},{\"attributes\":{},\"id\":\"1336\",\"type\":\"UnionRenderers\"},{\"attributes\":{\"plot\":null,\"text\":\"\"},\"id\":\"1324\",\"type\":\"Title\"},{\"attributes\":{},\"id\":\"1260\",\"type\":\"LinearScale\"},{\"attributes\":{},\"id\":\"1273\",\"type\":\"WheelZoomTool\"},{\"attributes\":{},\"id\":\"1328\",\"type\":\"BasicTickFormatter\"},{\"attributes\":{},\"id\":\"1332\",\"type\":\"UnionRenderers\"},{\"attributes\":{},\"id\":\"1268\",\"type\":\"BasicTicker\"},{\"attributes\":{\"plot\":{\"id\":\"1253\",\"subtype\":\"Figure\",\"type\":\"Plot\"},\"ticker\":{\"id\":\"1263\",\"type\":\"BasicTicker\"}},\"id\":\"1266\",\"type\":\"Grid\"},{\"attributes\":{},\"id\":\"1272\",\"type\":\"PanTool\"},{\"attributes\":{\"line_alpha\":0.1,\"line_color\":\"#1f77b4\",\"x\":{\"field\":\"x\"},\"y\":{\"field\":\"y\"}},\"id\":\"1294\",\"type\":\"Line\"},{\"attributes\":{\"dimension\":1,\"plot\":{\"id\":\"1253\",\"subtype\":\"Figure\",\"type\":\"Plot\"},\"ticker\":{\"id\":\"1268\",\"type\":\"BasicTicker\"}},\"id\":\"1271\",\"type\":\"Grid\"},{\"attributes\":{},\"id\":\"1258\",\"type\":\"LinearScale\"},{\"attributes\":{\"source\":{\"id\":\"1292\",\"type\":\"ColumnDataSource\"}},\"id\":\"1296\",\"type\":\"CDSView\"},{\"attributes\":{\"source\":{\"id\":\"1287\",\"type\":\"ColumnDataSource\"}},\"id\":\"1291\",\"type\":\"CDSView\"},{\"attributes\":{\"callback\":null},\"id\":\"1256\",\"type\":\"DataRange1d\"},{\"attributes\":{\"x\":{\"field\":\"x\"},\"y\":{\"field\":\"y\"}},\"id\":\"1298\",\"type\":\"Line\"},{\"attributes\":{\"callback\":null},\"id\":\"1254\",\"type\":\"DataRange1d\"},{\"attributes\":{\"callback\":null,\"data\":{\"x\":[0,1,2,3,4,5,6,7,8,9,10,11,12,13,14],\"y\":[24,13,13,15,9,6,6,4,3,10,8,9,10,5,8]},\"selected\":{\"id\":\"1335\",\"type\":\"Selection\"},\"selection_policy\":{\"id\":\"1336\",\"type\":\"UnionRenderers\"}},\"id\":\"1297\",\"type\":\"ColumnDataSource\"},{\"attributes\":{\"line_color\":\"red\",\"x\":{\"field\":\"x\"},\"y\":{\"field\":\"y\"}},\"id\":\"1293\",\"type\":\"Line\"},{\"attributes\":{\"line_color\":\"#1f77b4\",\"x\":{\"field\":\"x\"},\"y\":{\"field\":\"y\"}},\"id\":\"1288\",\"type\":\"Line\"},{\"attributes\":{\"bottom_units\":\"screen\",\"fill_alpha\":{\"value\":0.5},\"fill_color\":{\"value\":\"lightgrey\"},\"left_units\":\"screen\",\"level\":\"overlay\",\"line_alpha\":{\"value\":1.0},\"line_color\":{\"value\":\"black\"},\"line_dash\":[4,4],\"line_width\":{\"value\":2},\"plot\":null,\"render_mode\":\"css\",\"right_units\":\"screen\",\"top_units\":\"screen\"},\"id\":\"1280\",\"type\":\"BoxAnnotation\"},{\"attributes\":{},\"id\":\"1263\",\"type\":\"BasicTicker\"},{\"attributes\":{\"data_source\":{\"id\":\"1287\",\"type\":\"ColumnDataSource\"},\"glyph\":{\"id\":\"1288\",\"type\":\"Line\"},\"hover_glyph\":null,\"muted_glyph\":null,\"nonselection_glyph\":{\"id\":\"1289\",\"type\":\"Line\"},\"selection_glyph\":null,\"view\":{\"id\":\"1291\",\"type\":\"CDSView\"}},\"id\":\"1290\",\"type\":\"GlyphRenderer\"},{\"attributes\":{\"line_alpha\":0.1,\"line_color\":\"#1f77b4\",\"x\":{\"field\":\"x\"},\"y\":{\"field\":\"y\"}},\"id\":\"1289\",\"type\":\"Line\"},{\"attributes\":{\"data_source\":{\"id\":\"1292\",\"type\":\"ColumnDataSource\"},\"glyph\":{\"id\":\"1293\",\"type\":\"Line\"},\"hover_glyph\":null,\"muted_glyph\":null,\"nonselection_glyph\":{\"id\":\"1294\",\"type\":\"Line\"},\"selection_glyph\":null,\"view\":{\"id\":\"1296\",\"type\":\"CDSView\"}},\"id\":\"1295\",\"type\":\"GlyphRenderer\"}],\"root_ids\":[\"1253\"]},\"title\":\"Bokeh Application\",\"version\":\"1.0.2\"}};\n",
       "  var render_items = [{\"docid\":\"4b619471-1978-4a57-acaf-5a5023c0b3a0\",\"roots\":{\"1253\":\"c7cd65ae-6a82-4490-8ddb-fc0bb6f0300e\"}}];\n",
       "  root.Bokeh.embed.embed_items_notebook(docs_json, render_items);\n",
       "\n",
       "  }\n",
       "  if (root.Bokeh !== undefined) {\n",
       "    embed_document(root);\n",
       "  } else {\n",
       "    var attempts = 0;\n",
       "    var timer = setInterval(function(root) {\n",
       "      if (root.Bokeh !== undefined) {\n",
       "        embed_document(root);\n",
       "        clearInterval(timer);\n",
       "      }\n",
       "      attempts++;\n",
       "      if (attempts > 100) {\n",
       "        console.log(\"Bokeh: ERROR: Unable to run BokehJS code because BokehJS library is missing\");\n",
       "        clearInterval(timer);\n",
       "      }\n",
       "    }, 10, root)\n",
       "  }\n",
       "})(window);"
      ],
      "application/vnd.bokehjs_exec.v0+json": ""
     },
     "metadata": {
      "application/vnd.bokehjs_exec.v0+json": {
       "id": "1253"
      }
     },
     "output_type": "display_data"
    }
   ],
   "source": [
    "p = figure(plot_width=400, plot_height=400)\n",
    "p.line(range(15), basic_list)\n",
    "p.line(range(15), rehearse_list, color='red')\n",
    "p.line(range(15), delay_list, color='black')\n",
    "\n",
    "show(p)"
   ]
  },
  {
   "cell_type": "code",
   "execution_count": 10,
   "metadata": {},
   "outputs": [],
   "source": [
    "from scipy.optimize import fmin\n",
    "fmin?"
   ]
  },
  {
   "cell_type": "code",
   "execution_count": 36,
   "metadata": {},
   "outputs": [
    {
     "name": "stdout",
     "output_type": "stream",
     "text": [
      "Optimization terminated successfully.\n",
      "         Current function value: 824.530276\n",
      "         Iterations: 423\n",
      "         Function evaluations: 697\n"
     ]
    }
   ],
   "source": [
    "def _fit_func(A, ):\n",
    "    t = np.arange(15)\n",
    "    g1 = A[0] * np.exp(-A[1] * t)\n",
    "    g2 = A[2] * np.exp(A[3] * t)\n",
    "    return (np.square(g1+g2 - basic_list).sum() + \n",
    "            np.square(g1 - delay_list).sum() + \n",
    "            np.square(g2 - rehearse_list).sum())\n",
    "\n",
    "A = fmin(_fit_func, np.random.rand(4))\n",
    "    "
   ]
  },
  {
   "cell_type": "code",
   "execution_count": 137,
   "metadata": {},
   "outputs": [
    {
     "data": {
      "text/html": [
       "\n",
       "\n",
       "\n",
       "\n",
       "\n",
       "\n",
       "  <div class=\"bk-root\" id=\"c2507a67-fdbd-4e46-b807-9243bda833bb\"></div>\n"
      ]
     },
     "metadata": {},
     "output_type": "display_data"
    },
    {
     "data": {
      "application/javascript": [
       "(function(root) {\n",
       "  function embed_document(root) {\n",
       "    \n",
       "  var docs_json = {\"eca6e7a5-f3b0-4ad1-b029-345edb20b1b4\":{\"roots\":{\"references\":[{\"attributes\":{\"below\":[{\"id\":\"84197\",\"type\":\"LinearAxis\"}],\"left\":[{\"id\":\"84202\",\"type\":\"LinearAxis\"}],\"plot_height\":500,\"plot_width\":800,\"renderers\":[{\"id\":\"84197\",\"type\":\"LinearAxis\"},{\"id\":\"84201\",\"type\":\"Grid\"},{\"id\":\"84202\",\"type\":\"LinearAxis\"},{\"id\":\"84206\",\"type\":\"Grid\"},{\"id\":\"84215\",\"type\":\"BoxAnnotation\"},{\"id\":\"84234\",\"type\":\"Legend\"},{\"id\":\"84225\",\"type\":\"GlyphRenderer\"},{\"id\":\"84239\",\"type\":\"GlyphRenderer\"},{\"id\":\"84254\",\"type\":\"GlyphRenderer\"},{\"id\":\"84271\",\"type\":\"GlyphRenderer\"},{\"id\":\"84276\",\"type\":\"GlyphRenderer\"},{\"id\":\"84281\",\"type\":\"GlyphRenderer\"}],\"title\":{\"id\":\"84227\",\"type\":\"Title\"},\"toolbar\":{\"id\":\"84213\",\"type\":\"Toolbar\"},\"x_range\":{\"id\":\"84189\",\"type\":\"DataRange1d\"},\"x_scale\":{\"id\":\"84193\",\"type\":\"LinearScale\"},\"y_range\":{\"id\":\"84191\",\"type\":\"DataRange1d\"},\"y_scale\":{\"id\":\"84195\",\"type\":\"LinearScale\"}},\"id\":\"84188\",\"subtype\":\"Figure\",\"type\":\"Plot\"},{\"attributes\":{\"callback\":null,\"data\":{\"x\":[0,1,2,3,4,5,6,7,8,9,10,11,12,13,14],\"y\":{\"__ndarray__\":\"YbmnEZZ76j/UCMs9jbDcP9QIyz2NsNw/3dMIyz2N4D8Jyz2NsNzTP2G5pxGWe8o/YbmnEZZ7yj+WexphuafBP2G5pxGWe7o/fBphuacR1j+WexphuafRPwnLPY2w3NM/fBphuacR1j98GmG5pxHGP5Z7GmG5p9E/\",\"dtype\":\"float64\",\"shape\":[15]}},\"selected\":{\"id\":\"84265\",\"type\":\"Selection\"},\"selection_policy\":{\"id\":\"84266\",\"type\":\"UnionRenderers\"}},\"id\":\"84236\",\"type\":\"ColumnDataSource\"},{\"attributes\":{},\"id\":\"85744\",\"type\":\"Selection\"},{\"attributes\":{\"active_drag\":\"auto\",\"active_inspect\":\"auto\",\"active_multi\":null,\"active_scroll\":\"auto\",\"active_tap\":\"auto\",\"tools\":[{\"id\":\"84207\",\"type\":\"PanTool\"},{\"id\":\"84208\",\"type\":\"WheelZoomTool\"},{\"id\":\"84209\",\"type\":\"BoxZoomTool\"},{\"id\":\"84210\",\"type\":\"SaveTool\"},{\"id\":\"84211\",\"type\":\"ResetTool\"},{\"id\":\"84212\",\"type\":\"HelpTool\"}]},\"id\":\"84213\",\"type\":\"Toolbar\"},{\"attributes\":{\"callback\":null,\"data\":{\"x\":[0,1,2,3,4,5,6,7,8,9,10,11,12,13,14],\"y\":{\"__ndarray__\":\"YbmnEZZ76j/UCMs9jbDcP9QIyz2NsNw/3dMIyz2N4D8Jyz2NsNzTP2G5pxGWe8o/YbmnEZZ7yj+WexphuafBP2G5pxGWe7o/fBphuacR1j+WexphuafRPwnLPY2w3NM/fBphuacR1j98GmG5pxHGP5Z7GmG5p9E/\",\"dtype\":\"float64\",\"shape\":[15]}},\"selected\":{\"id\":\"85744\",\"type\":\"Selection\"},\"selection_policy\":{\"id\":\"85745\",\"type\":\"UnionRenderers\"}},\"id\":\"84278\",\"type\":\"ColumnDataSource\"},{\"attributes\":{\"data_source\":{\"id\":\"84236\",\"type\":\"ColumnDataSource\"},\"glyph\":{\"id\":\"84237\",\"type\":\"Line\"},\"hover_glyph\":null,\"muted_glyph\":null,\"nonselection_glyph\":{\"id\":\"84238\",\"type\":\"Line\"},\"selection_glyph\":null,\"view\":{\"id\":\"84240\",\"type\":\"CDSView\"}},\"id\":\"84239\",\"type\":\"GlyphRenderer\"},{\"attributes\":{\"items\":[{\"id\":\"84235\",\"type\":\"LegendItem\"},{\"id\":\"84250\",\"type\":\"LegendItem\"},{\"id\":\"84267\",\"type\":\"LegendItem\"}],\"label_text_font\":\"Helvetica\",\"label_text_font_size\":{\"value\":\"12pt\"},\"location\":\"top_center\",\"plot\":{\"id\":\"84188\",\"subtype\":\"Figure\",\"type\":\"Plot\"}},\"id\":\"84234\",\"type\":\"Legend\"},{\"attributes\":{},\"id\":\"85745\",\"type\":\"UnionRenderers\"},{\"attributes\":{\"fill_color\":{\"value\":\"black\"},\"size\":{\"units\":\"screen\",\"value\":6},\"x\":{\"field\":\"x\"},\"y\":{\"field\":\"y\"}},\"id\":\"84274\",\"type\":\"Square\"},{\"attributes\":{\"source\":{\"id\":\"84236\",\"type\":\"ColumnDataSource\"}},\"id\":\"84240\",\"type\":\"CDSView\"},{\"attributes\":{},\"id\":\"84198\",\"type\":\"BasicTicker\"},{\"attributes\":{\"fill_alpha\":{\"value\":0.1},\"fill_color\":{\"value\":\"#1f77b4\"},\"line_alpha\":{\"value\":0.1},\"line_color\":{\"value\":\"#1f77b4\"},\"size\":{\"units\":\"screen\",\"value\":6},\"x\":{\"field\":\"x\"},\"y\":{\"field\":\"y\"}},\"id\":\"84275\",\"type\":\"Square\"},{\"attributes\":{},\"id\":\"84248\",\"type\":\"Selection\"},{\"attributes\":{\"axis_label\":\"Word Position\",\"axis_label_text_font_size\":{\"value\":\"12pt\"},\"formatter\":{\"id\":\"84229\",\"type\":\"BasicTickFormatter\"},\"major_label_text_font\":\"Helvetica\",\"major_label_text_font_size\":{\"value\":\"12pt\"},\"plot\":{\"id\":\"84188\",\"subtype\":\"Figure\",\"type\":\"Plot\"},\"ticker\":{\"id\":\"84283\",\"type\":\"FixedTicker\"}},\"id\":\"84197\",\"type\":\"LinearAxis\"},{\"attributes\":{\"data_source\":{\"id\":\"84273\",\"type\":\"ColumnDataSource\"},\"glyph\":{\"id\":\"84274\",\"type\":\"Square\"},\"hover_glyph\":null,\"muted_glyph\":null,\"nonselection_glyph\":{\"id\":\"84275\",\"type\":\"Square\"},\"selection_glyph\":null,\"view\":{\"id\":\"84277\",\"type\":\"CDSView\"}},\"id\":\"84276\",\"type\":\"GlyphRenderer\"},{\"attributes\":{},\"id\":\"84249\",\"type\":\"UnionRenderers\"},{\"attributes\":{},\"id\":\"84195\",\"type\":\"LinearScale\"},{\"attributes\":{\"source\":{\"id\":\"84273\",\"type\":\"ColumnDataSource\"}},\"id\":\"84277\",\"type\":\"CDSView\"},{\"attributes\":{\"label\":{\"value\":\"30s retention interval w/counting (Test 2)\"},\"renderers\":[{\"id\":\"84239\",\"type\":\"GlyphRenderer\"}]},\"id\":\"84250\",\"type\":\"LegendItem\"},{\"attributes\":{},\"id\":\"84193\",\"type\":\"LinearScale\"},{\"attributes\":{},\"id\":\"84211\",\"type\":\"ResetTool\"},{\"attributes\":{\"line_dash\":[6],\"line_width\":2,\"x\":{\"field\":\"x\"},\"y\":{\"field\":\"y\"}},\"id\":\"84237\",\"type\":\"Line\"},{\"attributes\":{\"callback\":null},\"id\":\"84191\",\"type\":\"DataRange1d\"},{\"attributes\":{\"callback\":null,\"data\":{\"x\":[0,1,2,3,4,5,6,7,8,9,10,11,12,13,14],\"y\":{\"__ndarray__\":\"1AjLPY2w7D/uaYTlnkboP9QIyz2NsNw/1AjLPY2w3D+WexphuafhPwnLPY2w3NM/fBphuacR1j+WexphuafBPwnLPY2w3NM/TyMs9zTC4j/Cck8jLPfkP+5phOWeRtg/TyMs9zTC4j+oEZZ7GmHpPxphuacRlus/\",\"dtype\":\"float64\",\"shape\":[15]}},\"selected\":{\"id\":\"85740\",\"type\":\"Selection\"},\"selection_policy\":{\"id\":\"85741\",\"type\":\"UnionRenderers\"}},\"id\":\"84268\",\"type\":\"ColumnDataSource\"},{\"attributes\":{\"source\":{\"id\":\"84268\",\"type\":\"ColumnDataSource\"}},\"id\":\"84272\",\"type\":\"CDSView\"},{\"attributes\":{\"fill_color\":{\"value\":\"black\"},\"size\":{\"units\":\"screen\",\"value\":8},\"x\":{\"field\":\"x\"},\"y\":{\"field\":\"y\"}},\"id\":\"84279\",\"type\":\"Diamond\"},{\"attributes\":{\"line_width\":2,\"x\":{\"field\":\"x\"},\"y\":{\"field\":\"y\"}},\"id\":\"84252\",\"type\":\"Line\"},{\"attributes\":{\"callback\":null},\"id\":\"84189\",\"type\":\"DataRange1d\"},{\"attributes\":{},\"id\":\"84208\",\"type\":\"WheelZoomTool\"},{\"attributes\":{\"fill_alpha\":{\"value\":0.1},\"fill_color\":{\"value\":\"#1f77b4\"},\"line_alpha\":{\"value\":0.1},\"line_color\":{\"value\":\"#1f77b4\"},\"size\":{\"units\":\"screen\",\"value\":8},\"x\":{\"field\":\"x\"},\"y\":{\"field\":\"y\"}},\"id\":\"84280\",\"type\":\"Diamond\"},{\"attributes\":{\"line_alpha\":0.1,\"line_color\":\"#1f77b4\",\"line_width\":2,\"x\":{\"field\":\"x\"},\"y\":{\"field\":\"y\"}},\"id\":\"84253\",\"type\":\"Line\"},{\"attributes\":{\"data_source\":{\"id\":\"84278\",\"type\":\"ColumnDataSource\"},\"glyph\":{\"id\":\"84279\",\"type\":\"Diamond\"},\"hover_glyph\":null,\"muted_glyph\":null,\"nonselection_glyph\":{\"id\":\"84280\",\"type\":\"Diamond\"},\"selection_glyph\":null,\"view\":{\"id\":\"84282\",\"type\":\"CDSView\"}},\"id\":\"84281\",\"type\":\"GlyphRenderer\"},{\"attributes\":{\"data_source\":{\"id\":\"84251\",\"type\":\"ColumnDataSource\"},\"glyph\":{\"id\":\"84252\",\"type\":\"Line\"},\"hover_glyph\":null,\"muted_glyph\":null,\"nonselection_glyph\":{\"id\":\"84253\",\"type\":\"Line\"},\"selection_glyph\":null,\"view\":{\"id\":\"84255\",\"type\":\"CDSView\"}},\"id\":\"84254\",\"type\":\"GlyphRenderer\"},{\"attributes\":{},\"id\":\"84207\",\"type\":\"PanTool\"},{\"attributes\":{\"callback\":null,\"data\":{\"x\":[0,1,2,3,4,5,6,7,8,9,10,11,12,13,14],\"y\":{\"__ndarray__\":\"7mmE5Z5G2D/uaYTlnkbYP3waYbmnEdY/YbmnEZZ7yj98GmG5pxHGP0dY7mmE5c4/YbmnEZZ7yj8Jyz2NsNzTP2G5pxGWe8o/fBphuacR1j98GmG5pxHGP9QIyz2NsNw/YbmnEZZ76j+oEZZ7GmHpP42w3NMIy+0/\",\"dtype\":\"float64\",\"shape\":[15]}},\"selected\":{\"id\":\"84248\",\"type\":\"Selection\"},\"selection_policy\":{\"id\":\"84249\",\"type\":\"UnionRenderers\"}},\"id\":\"84222\",\"type\":\"ColumnDataSource\"},{\"attributes\":{\"source\":{\"id\":\"84278\",\"type\":\"ColumnDataSource\"}},\"id\":\"84282\",\"type\":\"CDSView\"},{\"attributes\":{\"grid_line_color\":{\"value\":null},\"plot\":{\"id\":\"84188\",\"subtype\":\"Figure\",\"type\":\"Plot\"},\"ticker\":{\"id\":\"84198\",\"type\":\"BasicTicker\"}},\"id\":\"84201\",\"type\":\"Grid\"},{\"attributes\":{\"source\":{\"id\":\"84251\",\"type\":\"ColumnDataSource\"}},\"id\":\"84255\",\"type\":\"CDSView\"},{\"attributes\":{\"callback\":null,\"data\":{\"x\":[0,1,2,3,4,5,6,7,8,9,10,11,12,13,14],\"y\":{\"__ndarray__\":\"1AjLPY2w7D/uaYTlnkboP9QIyz2NsNw/1AjLPY2w3D+WexphuafhPwnLPY2w3NM/fBphuacR1j+WexphuafBPwnLPY2w3NM/TyMs9zTC4j/Cck8jLPfkP+5phOWeRtg/TyMs9zTC4j+oEZZ7GmHpPxphuacRlus/\",\"dtype\":\"float64\",\"shape\":[15]}},\"selected\":{\"id\":\"85738\",\"type\":\"Selection\"},\"selection_policy\":{\"id\":\"85739\",\"type\":\"UnionRenderers\"}},\"id\":\"84251\",\"type\":\"ColumnDataSource\"},{\"attributes\":{\"bottom_units\":\"screen\",\"fill_alpha\":{\"value\":0.5},\"fill_color\":{\"value\":\"lightgrey\"},\"left_units\":\"screen\",\"level\":\"overlay\",\"line_alpha\":{\"value\":1.0},\"line_color\":{\"value\":\"black\"},\"line_dash\":[4,4],\"line_width\":{\"value\":2},\"plot\":null,\"render_mode\":\"css\",\"right_units\":\"screen\",\"top_units\":\"screen\"},\"id\":\"84215\",\"type\":\"BoxAnnotation\"},{\"attributes\":{},\"id\":\"84265\",\"type\":\"Selection\"},{\"attributes\":{\"data_source\":{\"id\":\"84222\",\"type\":\"ColumnDataSource\"},\"glyph\":{\"id\":\"84223\",\"type\":\"Line\"},\"hover_glyph\":null,\"muted_glyph\":null,\"nonselection_glyph\":{\"id\":\"84224\",\"type\":\"Line\"},\"selection_glyph\":null,\"view\":{\"id\":\"84226\",\"type\":\"CDSView\"}},\"id\":\"84225\",\"type\":\"GlyphRenderer\"},{\"attributes\":{},\"id\":\"85738\",\"type\":\"Selection\"},{\"attributes\":{},\"id\":\"84231\",\"type\":\"BasicTickFormatter\"},{\"attributes\":{\"axis_label\":\"Probability of Recall\",\"axis_label_text_font_size\":{\"value\":\"12pt\"},\"formatter\":{\"id\":\"84231\",\"type\":\"BasicTickFormatter\"},\"major_label_text_font\":\"Helvetica\",\"major_label_text_font_size\":{\"value\":\"12pt\"},\"minor_tick_out\":null,\"plot\":{\"id\":\"84188\",\"subtype\":\"Figure\",\"type\":\"Plot\"},\"ticker\":{\"id\":\"84203\",\"type\":\"BasicTicker\"}},\"id\":\"84202\",\"type\":\"LinearAxis\"},{\"attributes\":{\"ticks\":[0,3,6,9,12,15]},\"id\":\"84283\",\"type\":\"FixedTicker\"},{\"attributes\":{},\"id\":\"84266\",\"type\":\"UnionRenderers\"},{\"attributes\":{\"label\":{\"value\":\"Forced 3x rehearsal (Test3)\"},\"renderers\":[{\"id\":\"84225\",\"type\":\"GlyphRenderer\"}]},\"id\":\"84235\",\"type\":\"LegendItem\"},{\"attributes\":{},\"id\":\"84212\",\"type\":\"HelpTool\"},{\"attributes\":{\"label\":{\"value\":\"No rehearsal contraints, 0s retention interval (Test 1)\"},\"renderers\":[{\"id\":\"84254\",\"type\":\"GlyphRenderer\"}]},\"id\":\"84267\",\"type\":\"LegendItem\"},{\"attributes\":{},\"id\":\"84210\",\"type\":\"SaveTool\"},{\"attributes\":{},\"id\":\"85739\",\"type\":\"UnionRenderers\"},{\"attributes\":{\"callback\":null,\"data\":{\"x\":[0,1,2,3,4,5,6,7,8,9,10,11,12,13,14],\"y\":{\"__ndarray__\":\"7mmE5Z5G2D/uaYTlnkbYP3waYbmnEdY/YbmnEZZ7yj98GmG5pxHGP0dY7mmE5c4/YbmnEZZ7yj8Jyz2NsNzTP2G5pxGWe8o/fBphuacR1j98GmG5pxHGP9QIyz2NsNw/YbmnEZZ76j+oEZZ7GmHpP42w3NMIy+0/\",\"dtype\":\"float64\",\"shape\":[15]}},\"selected\":{\"id\":\"85742\",\"type\":\"Selection\"},\"selection_policy\":{\"id\":\"85743\",\"type\":\"UnionRenderers\"}},\"id\":\"84273\",\"type\":\"ColumnDataSource\"},{\"attributes\":{\"overlay\":{\"id\":\"84215\",\"type\":\"BoxAnnotation\"}},\"id\":\"84209\",\"type\":\"BoxZoomTool\"},{\"attributes\":{},\"id\":\"85740\",\"type\":\"Selection\"},{\"attributes\":{},\"id\":\"84229\",\"type\":\"BasicTickFormatter\"},{\"attributes\":{},\"id\":\"84203\",\"type\":\"BasicTicker\"},{\"attributes\":{\"line_alpha\":0.1,\"line_color\":\"#1f77b4\",\"line_dash\":[6],\"line_width\":2,\"x\":{\"field\":\"x\"},\"y\":{\"field\":\"y\"}},\"id\":\"84238\",\"type\":\"Line\"},{\"attributes\":{\"fill_color\":{\"value\":\"black\"},\"size\":{\"units\":\"screen\",\"value\":6},\"x\":{\"field\":\"x\"},\"y\":{\"field\":\"y\"}},\"id\":\"84269\",\"type\":\"Circle\"},{\"attributes\":{\"dimension\":1,\"plot\":{\"id\":\"84188\",\"subtype\":\"Figure\",\"type\":\"Plot\"},\"ticker\":{\"id\":\"84203\",\"type\":\"BasicTicker\"}},\"id\":\"84206\",\"type\":\"Grid\"},{\"attributes\":{},\"id\":\"85741\",\"type\":\"UnionRenderers\"},{\"attributes\":{\"plot\":null,\"text\":\"\"},\"id\":\"84227\",\"type\":\"Title\"},{\"attributes\":{\"fill_alpha\":{\"value\":0.1},\"fill_color\":{\"value\":\"#1f77b4\"},\"line_alpha\":{\"value\":0.1},\"line_color\":{\"value\":\"#1f77b4\"},\"size\":{\"units\":\"screen\",\"value\":6},\"x\":{\"field\":\"x\"},\"y\":{\"field\":\"y\"}},\"id\":\"84270\",\"type\":\"Circle\"},{\"attributes\":{},\"id\":\"85742\",\"type\":\"Selection\"},{\"attributes\":{\"line_alpha\":0.1,\"line_color\":\"#1f77b4\",\"line_dash\":[2,4,6,4],\"line_width\":2,\"x\":{\"field\":\"x\"},\"y\":{\"field\":\"y\"}},\"id\":\"84224\",\"type\":\"Line\"},{\"attributes\":{\"source\":{\"id\":\"84222\",\"type\":\"ColumnDataSource\"}},\"id\":\"84226\",\"type\":\"CDSView\"},{\"attributes\":{\"data_source\":{\"id\":\"84268\",\"type\":\"ColumnDataSource\"},\"glyph\":{\"id\":\"84269\",\"type\":\"Circle\"},\"hover_glyph\":null,\"muted_glyph\":null,\"nonselection_glyph\":{\"id\":\"84270\",\"type\":\"Circle\"},\"selection_glyph\":null,\"view\":{\"id\":\"84272\",\"type\":\"CDSView\"}},\"id\":\"84271\",\"type\":\"GlyphRenderer\"},{\"attributes\":{},\"id\":\"85743\",\"type\":\"UnionRenderers\"},{\"attributes\":{\"line_dash\":[2,4,6,4],\"line_width\":2,\"x\":{\"field\":\"x\"},\"y\":{\"field\":\"y\"}},\"id\":\"84223\",\"type\":\"Line\"}],\"root_ids\":[\"84188\"]},\"title\":\"Bokeh Application\",\"version\":\"1.0.2\"}};\n",
       "  var render_items = [{\"docid\":\"eca6e7a5-f3b0-4ad1-b029-345edb20b1b4\",\"roots\":{\"84188\":\"c2507a67-fdbd-4e46-b807-9243bda833bb\"}}];\n",
       "  root.Bokeh.embed.embed_items_notebook(docs_json, render_items);\n",
       "\n",
       "  }\n",
       "  if (root.Bokeh !== undefined) {\n",
       "    embed_document(root);\n",
       "  } else {\n",
       "    var attempts = 0;\n",
       "    var timer = setInterval(function(root) {\n",
       "      if (root.Bokeh !== undefined) {\n",
       "        embed_document(root);\n",
       "        clearInterval(timer);\n",
       "      }\n",
       "      attempts++;\n",
       "      if (attempts > 100) {\n",
       "        console.log(\"Bokeh: ERROR: Unable to run BokehJS code because BokehJS library is missing\");\n",
       "        clearInterval(timer);\n",
       "      }\n",
       "    }, 10, root)\n",
       "  }\n",
       "})(window);"
      ],
      "application/vnd.bokehjs_exec.v0+json": ""
     },
     "metadata": {
      "application/vnd.bokehjs_exec.v0+json": {
       "id": "84188"
      }
     },
     "output_type": "display_data"
    }
   ],
   "source": [
    "p = figure(plot_width=800, plot_height=500)\n",
    "p.line(range(15), rehearse_list/29, color='black', line_width=2, line_dash='dotdash', legend='Forced 3x rehearsal (Test3)')\n",
    "p.line(range(15), delay_list/29, color='black', line_width=2, line_dash='dashed', legend='30s retention interval w/counting (Test 2)')\n",
    "p.line(range(15), basic_list/29, color='black', line_width=2, legend='No rehearsal contraints, 0s retention interval (Test 1)')\n",
    "p.circle(range(15), basic_list/29, color='black', size=6)\n",
    "p.square(range(15), rehearse_list/29, color='black', size=6)\n",
    "p.diamond(range(15), delay_list/29, color='black', size=8)\n",
    "# g1 = A[0] * np.exp(-A[1] * np.arange(15))\n",
    "# g2 = A[2] * np.exp(A[3] * np.arange(15))\n",
    "# p.line(range(15), g1 )\n",
    "# p.line(range(15), g2)\n",
    "# p.line(range(15), g1 + g2)\n",
    "\n",
    "p.xaxis.ticker = list(range(0, 16, 3))\n",
    "p.legend.location = 'top_center'\n",
    "p.legend.label_text_font_size= '12pt'\n",
    "p.legend.label_text_font = 'Helvetica'\n",
    "\n",
    "p.xaxis.axis_label = 'Word Position'\n",
    "p.xaxis.axis_label_text_font_size = '12pt'\n",
    "p.xgrid.grid_line_color = None\n",
    "p.yaxis.axis_label = 'Probability of Recall'\n",
    "p.yaxis.axis_label_text_font_size = '12pt'\n",
    "p.yaxis.minor_tick_out = None\n",
    "p.xaxis.major_label_text_font = 'Helvetica'\n",
    "p.xaxis.major_label_text_font_style = 'normal'\n",
    "p.yaxis.major_label_text_font = 'Helvetica'\n",
    "p.xaxis.major_label_text_font_size = '12pt'\n",
    "p.yaxis.major_label_text_font_size = '12pt'\n",
    "\n",
    "show(p)"
   ]
  },
  {
   "cell_type": "code",
   "execution_count": 1,
   "metadata": {},
   "outputs": [],
   "source": [
    "import numpy as np\n",
    "from scipy import stats"
   ]
  },
  {
   "cell_type": "code",
   "execution_count": 9,
   "metadata": {},
   "outputs": [],
   "source": [
    "x = [.5, .75, 1., 1.25, 1.5, 1.75, 1.75, 2., 2.25, 2.50, 2.75, 3.0, 3.25, 3.5, 4.0, 4.25, 4.5, 4.75, 5., 5.50]\n",
    "y = [0, 0, 0, 0, 0, 0, 1, 0, 1, 0, 1, 0, 1, 0, 1, 1, 1, 1, 1, 1]\n",
    "y1 = [0, 0, 0, 0, 0, 0, 0, 1, 0, 0, 1, 0, 1, 1, 1, 1, 1, 1, 1, 1]\n",
    "\n",
    "x = np.array(x)\n",
    "y = np.array(y)\n",
    "y1 = np.array(y1)"
   ]
  },
  {
   "cell_type": "code",
   "execution_count": 10,
   "metadata": {},
   "outputs": [],
   "source": [
    "from sklearn import linear_model"
   ]
  },
  {
   "cell_type": "code",
   "execution_count": 11,
   "metadata": {},
   "outputs": [
    {
     "name": "stderr",
     "output_type": "stream",
     "text": [
      "/apps/anaconda3/lib/python3.6/site-packages/sklearn/linear_model/logistic.py:433: FutureWarning: Default solver will be changed to 'lbfgs' in 0.22. Specify a solver to silence this warning.\n",
      "  FutureWarning)\n"
     ]
    },
    {
     "data": {
      "text/plain": [
       "LogisticRegression(C=1.0, class_weight=None, dual=False, fit_intercept=True,\n",
       "          intercept_scaling=1, max_iter=100, multi_class='warn',\n",
       "          n_jobs=None, penalty='l2', random_state=None, solver='warn',\n",
       "          tol=0.0001, verbose=0, warm_start=False)"
      ]
     },
     "execution_count": 11,
     "metadata": {},
     "output_type": "execute_result"
    }
   ],
   "source": [
    "log_model = linear_model.LogisticRegression()\n",
    "log_model.fit(X=np.expand_dims(x, 1),y=y)"
   ]
  },
  {
   "cell_type": "code",
   "execution_count": 12,
   "metadata": {},
   "outputs": [],
   "source": [
    "a, b = log_model.coef_, log_model.intercept_\n",
    "a = [1.5046]\n",
    "b = [-4.0777]"
   ]
  },
  {
   "cell_type": "code",
   "execution_count": 13,
   "metadata": {},
   "outputs": [
    {
     "data": {
      "text/html": [
       "\n",
       "\n",
       "\n",
       "\n",
       "\n",
       "\n",
       "  <div class=\"bk-root\" id=\"04c17992-e186-4c23-ad5c-656786255591\"></div>\n"
      ]
     },
     "metadata": {},
     "output_type": "display_data"
    },
    {
     "data": {
      "application/javascript": [
       "(function(root) {\n",
       "  function embed_document(root) {\n",
       "    \n",
       "  var docs_json = {\"3f9c17cf-7ebc-4df2-ae88-f9c6c40bff2b\":{\"roots\":{\"references\":[{\"attributes\":{\"below\":[{\"id\":\"1089\",\"type\":\"LinearAxis\"}],\"left\":[{\"id\":\"1094\",\"type\":\"LinearAxis\"}],\"plot_height\":400,\"renderers\":[{\"id\":\"1089\",\"type\":\"LinearAxis\"},{\"id\":\"1093\",\"type\":\"Grid\"},{\"id\":\"1094\",\"type\":\"LinearAxis\"},{\"id\":\"1098\",\"type\":\"Grid\"},{\"id\":\"1107\",\"type\":\"BoxAnnotation\"},{\"id\":\"1117\",\"type\":\"GlyphRenderer\"},{\"id\":\"1122\",\"type\":\"GlyphRenderer\"}],\"title\":{\"id\":\"1124\",\"type\":\"Title\"},\"toolbar\":{\"id\":\"1105\",\"type\":\"Toolbar\"},\"x_range\":{\"id\":\"1081\",\"type\":\"DataRange1d\"},\"x_scale\":{\"id\":\"1085\",\"type\":\"LinearScale\"},\"y_range\":{\"id\":\"1083\",\"type\":\"DataRange1d\"},\"y_scale\":{\"id\":\"1087\",\"type\":\"LinearScale\"}},\"id\":\"1080\",\"subtype\":\"Figure\",\"type\":\"Plot\"},{\"attributes\":{\"data_source\":{\"id\":\"1119\",\"type\":\"ColumnDataSource\"},\"glyph\":{\"id\":\"1120\",\"type\":\"Line\"},\"hover_glyph\":null,\"muted_glyph\":null,\"nonselection_glyph\":{\"id\":\"1121\",\"type\":\"Line\"},\"selection_glyph\":null,\"view\":{\"id\":\"1123\",\"type\":\"CDSView\"}},\"id\":\"1122\",\"type\":\"GlyphRenderer\"},{\"attributes\":{\"fill_alpha\":{\"value\":0.1},\"fill_color\":{\"value\":\"#1f77b4\"},\"line_alpha\":{\"value\":0.1},\"line_color\":{\"value\":\"#1f77b4\"},\"x\":{\"field\":\"x\"},\"y\":{\"field\":\"y\"}},\"id\":\"1116\",\"type\":\"Circle\"},{\"attributes\":{},\"id\":\"1133\",\"type\":\"Selection\"},{\"attributes\":{\"source\":{\"id\":\"1119\",\"type\":\"ColumnDataSource\"}},\"id\":\"1123\",\"type\":\"CDSView\"},{\"attributes\":{\"formatter\":{\"id\":\"1129\",\"type\":\"BasicTickFormatter\"},\"plot\":{\"id\":\"1080\",\"subtype\":\"Figure\",\"type\":\"Plot\"},\"ticker\":{\"id\":\"1095\",\"type\":\"BasicTicker\"}},\"id\":\"1094\",\"type\":\"LinearAxis\"},{\"attributes\":{},\"id\":\"1095\",\"type\":\"BasicTicker\"},{\"attributes\":{\"plot\":null,\"text\":\"\"},\"id\":\"1124\",\"type\":\"Title\"},{\"attributes\":{\"dimension\":1,\"plot\":{\"id\":\"1080\",\"subtype\":\"Figure\",\"type\":\"Plot\"},\"ticker\":{\"id\":\"1095\",\"type\":\"BasicTicker\"}},\"id\":\"1098\",\"type\":\"Grid\"},{\"attributes\":{},\"id\":\"1127\",\"type\":\"BasicTickFormatter\"},{\"attributes\":{},\"id\":\"1129\",\"type\":\"BasicTickFormatter\"},{\"attributes\":{\"source\":{\"id\":\"1114\",\"type\":\"ColumnDataSource\"}},\"id\":\"1118\",\"type\":\"CDSView\"},{\"attributes\":{},\"id\":\"1131\",\"type\":\"Selection\"},{\"attributes\":{\"line_color\":\"#1f77b4\",\"x\":{\"field\":\"x\"},\"y\":{\"field\":\"y\"}},\"id\":\"1120\",\"type\":\"Line\"},{\"attributes\":{\"active_drag\":\"auto\",\"active_inspect\":\"auto\",\"active_multi\":null,\"active_scroll\":\"auto\",\"active_tap\":\"auto\",\"tools\":[{\"id\":\"1099\",\"type\":\"PanTool\"},{\"id\":\"1100\",\"type\":\"WheelZoomTool\"},{\"id\":\"1101\",\"type\":\"BoxZoomTool\"},{\"id\":\"1102\",\"type\":\"SaveTool\"},{\"id\":\"1103\",\"type\":\"ResetTool\"},{\"id\":\"1104\",\"type\":\"HelpTool\"}]},\"id\":\"1105\",\"type\":\"Toolbar\"},{\"attributes\":{},\"id\":\"1132\",\"type\":\"UnionRenderers\"},{\"attributes\":{},\"id\":\"1099\",\"type\":\"PanTool\"},{\"attributes\":{},\"id\":\"1134\",\"type\":\"UnionRenderers\"},{\"attributes\":{},\"id\":\"1100\",\"type\":\"WheelZoomTool\"},{\"attributes\":{\"overlay\":{\"id\":\"1107\",\"type\":\"BoxAnnotation\"}},\"id\":\"1101\",\"type\":\"BoxZoomTool\"},{\"attributes\":{},\"id\":\"1102\",\"type\":\"SaveTool\"},{\"attributes\":{\"callback\":null,\"data\":{\"x\":{\"__ndarray__\":\"AAAAAAAA4D8AAAAAAADoPwAAAAAAAPA/AAAAAAAA9D8AAAAAAAD4PwAAAAAAAPw/AAAAAAAA/D8AAAAAAAAAQAAAAAAAAAJAAAAAAAAABEAAAAAAAAAGQAAAAAAAAAhAAAAAAAAACkAAAAAAAAAMQAAAAAAAABBAAAAAAAAAEUAAAAAAAAASQAAAAAAAABNAAAAAAAAAFEAAAAAAAAAWQA==\",\"dtype\":\"float64\",\"shape\":[20]},\"y\":[0,0,0,0,0,0,1,0,1,0,1,0,1,0,1,1,1,1,1,1]},\"selected\":{\"id\":\"1131\",\"type\":\"Selection\"},\"selection_policy\":{\"id\":\"1132\",\"type\":\"UnionRenderers\"}},\"id\":\"1114\",\"type\":\"ColumnDataSource\"},{\"attributes\":{},\"id\":\"1103\",\"type\":\"ResetTool\"},{\"attributes\":{\"callback\":null},\"id\":\"1081\",\"type\":\"DataRange1d\"},{\"attributes\":{},\"id\":\"1104\",\"type\":\"HelpTool\"},{\"attributes\":{\"callback\":null},\"id\":\"1083\",\"type\":\"DataRange1d\"},{\"attributes\":{},\"id\":\"1085\",\"type\":\"LinearScale\"},{\"attributes\":{\"bottom_units\":\"screen\",\"fill_alpha\":{\"value\":0.5},\"fill_color\":{\"value\":\"lightgrey\"},\"left_units\":\"screen\",\"level\":\"overlay\",\"line_alpha\":{\"value\":1.0},\"line_color\":{\"value\":\"black\"},\"line_dash\":[4,4],\"line_width\":{\"value\":2},\"plot\":null,\"render_mode\":\"css\",\"right_units\":\"screen\",\"top_units\":\"screen\"},\"id\":\"1107\",\"type\":\"BoxAnnotation\"},{\"attributes\":{\"fill_color\":{\"value\":\"#1f77b4\"},\"line_color\":{\"value\":\"#1f77b4\"},\"x\":{\"field\":\"x\"},\"y\":{\"field\":\"y\"}},\"id\":\"1115\",\"type\":\"Circle\"},{\"attributes\":{},\"id\":\"1087\",\"type\":\"LinearScale\"},{\"attributes\":{\"data_source\":{\"id\":\"1114\",\"type\":\"ColumnDataSource\"},\"glyph\":{\"id\":\"1115\",\"type\":\"Circle\"},\"hover_glyph\":null,\"muted_glyph\":null,\"nonselection_glyph\":{\"id\":\"1116\",\"type\":\"Circle\"},\"selection_glyph\":null,\"view\":{\"id\":\"1118\",\"type\":\"CDSView\"}},\"id\":\"1117\",\"type\":\"GlyphRenderer\"},{\"attributes\":{\"formatter\":{\"id\":\"1127\",\"type\":\"BasicTickFormatter\"},\"plot\":{\"id\":\"1080\",\"subtype\":\"Figure\",\"type\":\"Plot\"},\"ticker\":{\"id\":\"1090\",\"type\":\"BasicTicker\"}},\"id\":\"1089\",\"type\":\"LinearAxis\"},{\"attributes\":{},\"id\":\"1090\",\"type\":\"BasicTicker\"},{\"attributes\":{\"callback\":null,\"data\":{\"x\":{\"__ndarray__\":\"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\",\"dtype\":\"float64\",\"shape\":[1000]},\"y\":{\"__ndarray__\":\"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\",\"dtype\":\"float64\",\"shape\":[1000]}},\"selected\":{\"id\":\"1133\",\"type\":\"Selection\"},\"selection_policy\":{\"id\":\"1134\",\"type\":\"UnionRenderers\"}},\"id\":\"1119\",\"type\":\"ColumnDataSource\"},{\"attributes\":{\"plot\":{\"id\":\"1080\",\"subtype\":\"Figure\",\"type\":\"Plot\"},\"ticker\":{\"id\":\"1090\",\"type\":\"BasicTicker\"}},\"id\":\"1093\",\"type\":\"Grid\"},{\"attributes\":{\"line_alpha\":0.1,\"line_color\":\"#1f77b4\",\"x\":{\"field\":\"x\"},\"y\":{\"field\":\"y\"}},\"id\":\"1121\",\"type\":\"Line\"}],\"root_ids\":[\"1080\"]},\"title\":\"Bokeh Application\",\"version\":\"1.0.2\"}};\n",
       "  var render_items = [{\"docid\":\"3f9c17cf-7ebc-4df2-ae88-f9c6c40bff2b\",\"roots\":{\"1080\":\"04c17992-e186-4c23-ad5c-656786255591\"}}];\n",
       "  root.Bokeh.embed.embed_items_notebook(docs_json, render_items);\n",
       "\n",
       "  }\n",
       "  if (root.Bokeh !== undefined) {\n",
       "    embed_document(root);\n",
       "  } else {\n",
       "    var attempts = 0;\n",
       "    var timer = setInterval(function(root) {\n",
       "      if (root.Bokeh !== undefined) {\n",
       "        embed_document(root);\n",
       "        clearInterval(timer);\n",
       "      }\n",
       "      attempts++;\n",
       "      if (attempts > 100) {\n",
       "        console.log(\"Bokeh: ERROR: Unable to run BokehJS code because BokehJS library is missing\");\n",
       "        clearInterval(timer);\n",
       "      }\n",
       "    }, 10, root)\n",
       "  }\n",
       "})(window);"
      ],
      "application/vnd.bokehjs_exec.v0+json": ""
     },
     "metadata": {
      "application/vnd.bokehjs_exec.v0+json": {
       "id": "1080"
      }
     },
     "output_type": "display_data"
    }
   ],
   "source": [
    "p = figure(plot_width=600, plot_height=400)\n",
    "p.circle(x, y)\n",
    "p.line(np.linspace(0, 6, 1000), 1 /(1 + np.exp(-a[0]*np.linspace(0, 6, 1000) - b[0])))\n",
    "show(p)"
   ]
  },
  {
   "cell_type": "code",
   "execution_count": 9,
   "metadata": {},
   "outputs": [
    {
     "data": {
      "text/plain": [
       "0.6073293474722868"
      ]
     },
     "execution_count": 9,
     "metadata": {},
     "output_type": "execute_result"
    }
   ],
   "source": [
    "1 /(1 + np.exp(-a[0]*3 - b[0]))"
   ]
  },
  {
   "cell_type": "code",
   "execution_count": 10,
   "metadata": {},
   "outputs": [],
   "source": [
    "def sigmoid(a, b, x):\n",
    "    return 1. / (1.0 + np.exp(-(a * x + b)))\n",
    "\n",
    "def _min_fun(g, x, y):\n",
    "    a, b = g\n",
    "    ht = sigmoid(a, b, x)\n",
    "    hht = 1.0-ht\n",
    "    mask = y==1\n",
    "    return -(np.sum(np.log(ht[mask])) + np.sum(np.log(hht[~mask])))"
   ]
  },
  {
   "cell_type": "code",
   "execution_count": 11,
   "metadata": {},
   "outputs": [],
   "source": [
    "from scipy.optimize import minimize, basinhopping"
   ]
  },
  {
   "cell_type": "code",
   "execution_count": 14,
   "metadata": {},
   "outputs": [
    {
     "data": {
      "text/plain": [
       "8.029878481078779"
      ]
     },
     "execution_count": 14,
     "metadata": {},
     "output_type": "execute_result"
    }
   ],
   "source": [
    "_min_fun([a, b], x, y)"
   ]
  },
  {
   "cell_type": "code",
   "execution_count": 15,
   "metadata": {},
   "outputs": [],
   "source": [
    "x0 = [0.5, 0.5]\n",
    "v = minimize(_min_fun, x0, args=(x, y), method='SLSQP')"
   ]
  },
  {
   "cell_type": "code",
   "execution_count": 140,
   "metadata": {},
   "outputs": [],
   "source": [
    "import numpy as np\n",
    "from scipy.optimize import minimize, minimize_scalar\n",
    "tiny = np.finfo(float).tiny\n",
    "\n",
    "\n",
    "# Parameter models are variants of sigmoid functions\n",
    "def one_parameter_model(difficulty, thetas):\n",
    "    \"\"\"Items only vary on difficulty.\"\"\"\n",
    "    return 1.0 / (1.0 + np.exp(-1 * (thetas - difficulty)))\n",
    "\n",
    "\n",
    "def two_parameter_model(difficulty, discrimination, thetas):\n",
    "    \"\"\"Items vary with difficulty and discrimination.\"\"\"\n",
    "    return 1.0 / (1.0 + np.exp(-discrimination * (thetas - difficulty)))\n",
    "\n",
    "\n",
    "def three_parameter_model(difficulty, discrimination, guessing, thetas):\n",
    "    \"\"\"Items vary with difficulty, discrimination and guessing.\"\"\"\n",
    "    return (guessing + (1.0 - guessing) /\n",
    "                       (1.0 + np.exp(-discrimination * (thetas - difficulty))))\n",
    "\n",
    "\n",
    "def get_quadrature_points(nPoints, start, stop):\n",
    "    \"\"\"Returns the quadrature points to aid in integration.\n",
    "    \n",
    "    Args:\n",
    "        nPoints:  Number of points to use\n",
    "        start: beginning of the interval\n",
    "        stop: end of the interval\n",
    "        \n",
    "    Returns:\n",
    "        (positions, weights, scalar)\n",
    "    \n",
    "    \"\"\"\n",
    "    # Get the knots and weights\n",
    "    x_position, weights = np.polynomial.legendre.leggauss(nPoints)\n",
    "    \n",
    "    # convert to appropriate interval\n",
    "    scalar = 0.5 * (stop - start)\n",
    "    x_position = (x_position + 1) * scalar + start\n",
    "\n",
    "    return (x_position, weights, scalar)\n",
    "    \n",
    "    \n",
    "irt_model = {1: one_parameter_model,\n",
    "             2: two_parameter_model,\n",
    "             3: three_parameter_model}\n",
    "\n",
    "\n",
    "def _item_min_func(params, thetas, dependent_var, sigmoid_model):\n",
    "    \"\"\"Minimum function for irt (e-step).\"\"\"\n",
    "    probability_one = sigmoid_model(*params, thetas)\n",
    "    probability_zero = 1. - probability_one\n",
    "    mask = dependent_var == 1\n",
    "\n",
    "    # Return negative since this is going into a minimization function\n",
    "    return (np.sum(np.log(probability_one[mask] + tiny)) +\n",
    "            np.sum(np.log(probability_zero[~mask] + tiny))) * -1\n",
    "\n",
    "\n",
    "def item_parameter_solver(thetas, dependent_y, model=2, initial_guess=None):\n",
    "    \"\"\"Univariate Item Response Theory solver.\n",
    "\n",
    "    Solves for sigmoid parameters, given by model, for an item.\n",
    "\n",
    "    Inputs must be numpy arrays\n",
    "\n",
    "    Args:\n",
    "        thetas: Input Abilities of respondents\n",
    "        dependent_y:  Item level measured responses (must be 0 or 1)\n",
    "        model: [1, (2), 3] Number of parameters to use in model estimation\n",
    "        initial_guess:  Seeding value of parameters, if None then random\n",
    "                        values are used.  Must be length of model if supplied\n",
    "\n",
    "    Returns:\n",
    "        computed parameters based on maximum likelihood\n",
    "    \"\"\"\n",
    "    sigmoid_model = irt_model[model]\n",
    "    if initial_guess is None:\n",
    "        initial_guess = np.random.randn(model)\n",
    "\n",
    "    # Perform the minimization\n",
    "    results = minimize(_item_min_func, initial_guess, method='SLSQP',\n",
    "                       args=(thetas, dependent_y, sigmoid_model))\n",
    "\n",
    "    if not results.success:\n",
    "        warnings.warn(\"Convergence didn't occur, returning last solution\")\n",
    "\n",
    "    return results.x\n",
    "\n",
    "\n",
    "def _theta_min_func(theta, dependent_var, params, sigmoid_model):\n",
    "    \"\"\"minimization function for ability, marginal maximum likelihood.\"\"\"\n",
    "    probability_one = np.zeros((params.shape[0], ))\n",
    "\n",
    "    for ndx in range(params.shape[0]):\n",
    "        probability_one[ndx] = sigmoid_model(*params[ndx], theta)\n",
    "\n",
    "    probability_zero = 1 - probability_one\n",
    "    mask = dependent_var == 1\n",
    "    \n",
    "    # Return negative since this is going into a minimization function\n",
    "    return (np.sum(np.log(probability_one[mask] + tiny)) +\n",
    "            np.sum(np.log(probability_zero[~mask] + tiny))) * -1\n",
    "\n",
    "\n",
    "def theta_parameter_solver(item_params, dependent_y):\n",
    "    \"\"\"Solves for ability given a list of item parameters.\n",
    "\n",
    "    Given a set of sigmoid parameters, solve for the optimal theta using\n",
    "    marginal maximum likelihood\n",
    "\n",
    "    Args:\n",
    "        item_params: (n_items x model) matrix of item parameters\n",
    "        dependent_y:  Person level measured responses (must be 0 or 1)\n",
    "\n",
    "    Returns:\n",
    "        ability for the person\n",
    "    \"\"\"\n",
    "    model = item_params.shape[1]\n",
    "    sigmoid_model = irt_model[model]\n",
    "\n",
    "    results = minimize_scalar(_theta_min_func, bracket=[-4, 4], bounds=(-4, 4),\n",
    "                              args=(dependent_y, item_params, sigmoid_model), method='bounded')\n",
    "\n",
    "    return results\n",
    "\n"
   ]
  },
  {
   "cell_type": "code",
   "execution_count": 141,
   "metadata": {},
   "outputs": [],
   "source": [
    "xp = (x - x.mean()) / x.std(ddof=1)\n",
    "#xp = np.random.rand\n",
    "g = item_parameter_solver(xp, y)\n",
    "g1 = item_parameter_solver(xp, y1)\n"
   ]
  },
  {
   "cell_type": "code",
   "execution_count": 142,
   "metadata": {},
   "outputs": [
    {
     "data": {
      "text/plain": [
       "(array([-0.05134159,  2.26783281]), array([-0.08419978,  3.88146587]))"
      ]
     },
     "execution_count": 142,
     "metadata": {},
     "output_type": "execute_result"
    }
   ],
   "source": [
    "g, g1"
   ]
  },
  {
   "cell_type": "code",
   "execution_count": 143,
   "metadata": {},
   "outputs": [
    {
     "data": {
      "text/html": [
       "\n",
       "\n",
       "\n",
       "\n",
       "\n",
       "\n",
       "  <div class=\"bk-root\" id=\"bfae130d-85c0-422c-b330-787ff9008507\"></div>\n"
      ]
     },
     "metadata": {},
     "output_type": "display_data"
    },
    {
     "data": {
      "application/javascript": [
       "(function(root) {\n",
       "  function embed_document(root) {\n",
       "    \n",
       "  var docs_json = {\"4a04dc33-273b-4df6-8cd7-ad2fb63135b5\":{\"roots\":{\"references\":[{\"attributes\":{\"below\":[{\"id\":\"5271\",\"type\":\"LinearAxis\"}],\"left\":[{\"id\":\"5276\",\"type\":\"LinearAxis\"}],\"plot_height\":400,\"renderers\":[{\"id\":\"5271\",\"type\":\"LinearAxis\"},{\"id\":\"5275\",\"type\":\"Grid\"},{\"id\":\"5276\",\"type\":\"LinearAxis\"},{\"id\":\"5280\",\"type\":\"Grid\"},{\"id\":\"5289\",\"type\":\"BoxAnnotation\"},{\"id\":\"5299\",\"type\":\"GlyphRenderer\"},{\"id\":\"5304\",\"type\":\"GlyphRenderer\"},{\"id\":\"5309\",\"type\":\"GlyphRenderer\"},{\"id\":\"5314\",\"type\":\"GlyphRenderer\"}],\"title\":{\"id\":\"5534\",\"type\":\"Title\"},\"toolbar\":{\"id\":\"5287\",\"type\":\"Toolbar\"},\"x_range\":{\"id\":\"5263\",\"type\":\"DataRange1d\"},\"x_scale\":{\"id\":\"5267\",\"type\":\"LinearScale\"},\"y_range\":{\"id\":\"5265\",\"type\":\"DataRange1d\"},\"y_scale\":{\"id\":\"5269\",\"type\":\"LinearScale\"}},\"id\":\"5262\",\"subtype\":\"Figure\",\"type\":\"Plot\"},{\"attributes\":{\"data_source\":{\"id\":\"5306\",\"type\":\"ColumnDataSource\"},\"glyph\":{\"id\":\"5307\",\"type\":\"Circle\"},\"hover_glyph\":null,\"muted_glyph\":null,\"nonselection_glyph\":{\"id\":\"5308\",\"type\":\"Circle\"},\"selection_glyph\":null,\"view\":{\"id\":\"5310\",\"type\":\"CDSView\"}},\"id\":\"5309\",\"type\":\"GlyphRenderer\"},{\"attributes\":{\"callback\":null,\"data\":{\"x\":{\"__ndarray__\":\"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\",\"dtype\":\"float64\",\"shape\":[1000]},\"y\":{\"__ndarray__\":\"3FUYHNV+6T7LciurxRjqPjJ9V7FXtuo+8PBwGqFX6z4YDqVWuPzrPg/KmF20pew+iZeasaxS7T5KdediuQPuPnG5AxPzuO4+tQ8o+HJy7z7vkWFwKRjwPl87iJtWefA+s21igs7c8D5tkGj7nkLxPrS2nTDWqvE+6OmHoYIV8j7+VzQls4LyPlusR+x28vI+b90ag91k8z7KueTT9tnzPjiB8CjTUfQ+hNnhLoPM9D5Fbgb3F0r1Ph+PtfmiyvU+ciC+GDZO9j55NOOh49T2Pi+mZ1G+Xvc+SQ+pVNnr9z7edspMSHz4PiMXb1EfEPk+yJqF83Kn+T5ZNiRAWEL6PvIBdsPk4Po+cfy5iy6D+z7ZIVQsTCn8PmUC8cBU0/w+Skm88F+B/T6JparxhTP+PgqK14vf6f4+2jv3HIak/z7S1O7NyTEAP4JEDU6RkwA/G53VKKf3AD/JemFKGV4BP1bk1PL1xgE/q3ZZuEsyAj+4giWJKaACP/xmj62eEAM/aW0tyrqDAz9ZeQLijfkDPzDTt1gocgQ/gV/k9JrtBD8JlGHi9msFPzt8rrRN7QU/SyJhabFxBj+3s6ZqNPkGP3q50pHpgwc/A7/9KeQRCD8JxbPyN6MIP9/esiL5Nwk/KFy6ajzQCT/w4Wr4FmwKP3PZN3meCws/D51qHemuCz/BzTebDVYMP+8+5zEjAQ0/x+cOrUGwDT/7TOFngWMOPzTYj1D7Gg8/spTB68jWDz8TZg8sgksQP4YA+SjkrRA/fGNvG5gSET9vftcErHkRP9l3Gzsu4xE/HXeoai1PEj9vbniYuL0SP84rKCTfLhM/vvsZyrCiEz/qKKWlPRkUP7GlUjOWkhQ/ji8nU8sOFT9JPPtK7o0VP58E4cgQEBY/5gCZ5USVFj/2LRUnnR0XPx10C4MsqRc/04mXYQY4GD8csOyfPsoYP1ynF5PpXxk/hj3RChz5GT9g2mFU65UaP3Nulj1tNhs/JC7HF7jaGz9Gg/C64oIcP7uh3ogELx0/cjBscDXfHT9Nd9TwjZMeP3uIGR0nTB8/NG6/T40EID8ibYxeQWUgP/nluCw9yCA/6l0ifY4tIT+zYKdlQ5UhPxahG1Fq/yE/7NdHARJsIj/0qPWQSdsiP0fUB3YgTSM/6v6eg6bBIz97XUvs6zgkP5KNS0QBsyQ/vO3Yg/cvJT9kw4EJ4K8lP4uCkZzMMiY/b4qHb8+4Jj+Prpwi+0EnP/bjV8Zizic/0Wwy3hleKD/b30tjNPEoP/JoLsfGhyk/sqSj9uUhKj+9eZpcp78qP25UHuUgYSs/2i1gAGkGLD+mxtGllq8sP1eDU1fBXC0/rlh1JAEOLj98OMutbsMuP7N1VSgjfS8/Scl+MJwdMD/++hNg5H4wPy+BraZ34jA/QQZ+2WNIMT+cWxEht7AxPz6aQft/GzI/Avw3Pc2IMj/usXkVrvgyP/T+AA4yazM/TeBiDmngMz+WjAFeY1g0P1IXTKYx0zQ/YIUL9eRQNT+Vor2+jtE1P2Lp/eBAVTY/78/8pA3cNj/AzwXCB2Y3P95+FGBC8zc/+RJ5GtGDOD9VqowCyBc5P2+2daI7rzk/Iuj8/0BKOj9f/nKf7eg6P0/ap4ZXizs/WD/zP5UxPD/HpU/dvds8PxuLh/voiT0/R6x1xS48Pj9WmFj3p/I+P94NOuJtrT8/y0q1N002QD8Z6QgSJJhAP87+aRJJ/EA/jofGHMpiQT8RBZFotctBP216tIIZN0I/c/6TTwWlQj/aJxYNiBVDP0mYvFSxiEM/Ge3HHZH+Qz8rXWi/N3dEP+JN+/K18kQ/UipW1hxxRT8fyR7uffJFP8GvMSjrdkY/M4MW3nb+Rj/f94LXM4lHP0KU7Ew1F0g/8Jsp6o6oSD/LeSHRVD1JP6gCjZyb1Uk/VuvGYnhxSj+azqy4ABFLP2MikbRKtEs/gHw+8WxbTD/AiQyRfgZNP/IcB0GXtU0/dbsnPM9oTj/3EaJOPyBPP3e7Q9kA3E8/LuRz6hZOUD/2Ov9qcLBQP2TDFIgaFVE/Pdn2LCN8UT9w0DyYmOVRPwd2wV2JUVI/vNGcaATAUj/WZin9GDFTP2I1FbvWpFM/J7x+n00bVD8dPx4HjpRUPwiWe7CoEFU/O8gwvq6PVT9VvTm5sRFWP7dJUZPDllY/WuFbqfYeVz9tO+DFXapXP5UyjiMMOVg/gjDUbxXLWD8lc4PNjWBZP498g9eJ+Vk/lP+Uox6WWj+JnCTFYTZbP7nDLVBp2ls/iBMu3EuCXD/8iimHIC5dPyDqv/j+3V0/a5tTZf+RXj93g0KROkpfP2qKGOpkA2A/NgQ0juNjYD/7jSJ5psZgP7mc3z27K2E/ijb/vy+TYT+lB4Q1Ev1hP8TFvyhxaWI/mhY+elvYYj8VL7pi4EljP7JhH3UPvmM/gdOUoPg0ZD+Cj5QyrK5kP1cxDtk6K2U/X2GVpLWqZT+8W5wKLi1mP6G+uue1smY/+9oAgl87Zz+lxFeLPcdnP91f7iNjVmg/damz3OPoaD+8ed65035pPwsBgzVHGGo/dz42QlO1aj83sr9NDVZrP12M2UOL+ms/lZv/kOOibD86PU0lLU9tP4uTand//20/hEWJh/Kzbj8PDHHinmxvP4IpTtLOFHA/+piyPoR1cD95gSHZfNhwP/9uDBHGPXE//Z5KpG2lcT+li9GggQ9yP+BSdmYQfHI/ZBy4qCjrcj+6opNw2VxzP9IBYB4y0XM/be+0a0JIdD/Pf1ptGsJ0P0maQpXKPnU/WUCMtGO+dT8FypD99kB2PxU6+wWWxnY/4svpyFJPdz+e3BmpP9t3PzpRHnNvang/gJmgX/X8eD+7cKwV5ZJ5P/56Bq1SLHo/+t2NsFLJej8T86gg+ml7PwUwvXVeDnw/jWGyopW2fD9gU4EXtmJ9Pwz/zcPWEn4/8FmNGQ/Hfj//2bYPd39/P9bigJITHoA/HjJXMZx+gD/Gj60vYuGAP/PT8qByRoE/WxQs4tqtgT9bTHGbqBeCP48YcMHpg4I/zoj0lqzygj8mC3iu/2ODP/twtuvx14M/9QxJhZJOhD9b6EcG8ceEP5cL8U8dRIU/y9NVmyfDhT/fTg57IEWGPyyT8twYyoY/LAjaCyJShz9ckWCxTd2HPyuLsdeta4g/cYdY61T9iD/9she9VZKJP+TMw4PDKoo/hpMl3rHGij8KieDUNGaLPy7uXtxgCYw/UM3C1kqwjD8j7tsVCFuNP9qEIl2uCY4/eWy241O8jj9nuGJWD3OPP4mx0uz7FpA/2m7dhZJ2kD/onlaDV9iQP/BgMzFXPJE/OrBjG56ikT8ziN4OOQuSPxM5rxo1dpI/fr4DkZ/jkj9a5jsIhlOTP9cS+Vv2xZM/ZV8urv46lD+I7DBorbKUP5YTyDsRLZU/qj49JDmqlT8THmtnNCqWPxPwy5YSrZY/P4uGkOMylz9Z2HmAt7uXP+5iRuGeR5g/I6RVfarWmD/0pd5v62iZP+GX5yVz/pk/v+lDX1OXmj+2eo4vnjObP39mH/9l05s/GPT8i712nD+eI8fqtx2dP5BTnYdoyJ0/wW79JuN2nj+eDpzmOymfP/31ND6H358/vaEpAO1MoD/7WIitJKygP/ebZWx1DaE/gydoMOpwoT9/kv4bjtahP9F4qYBsPqI/6FE/35Cooj+QiCnoBhWjPxJmmnvag6M/rF27qRf1oz8sQ9OyymikP4nxYwcA36Q/geM+SMRXpT/iO5BGJNOlP0K23wMtUaY/PPYGsuvRpj+wpRyzbVWnPxPPU5nA26c/BN3OJvJkqD8Zo2VNEPGoP4PRXS4pgKk/sS8VGksSqj/H9pyPhKeqP1uhRTzkP6s/2oAa+3jbqz9oZ0zUUXqsP6ivivx9HK0/2+lJ1AzCrT/9cffmDWuuP3QwGeqQF68/yMJYvKXHrz/YpDwyrj2wP8OKG4himbA/5TSICfj2sD9bR3vydlaxP+Yyc5Dnt7E/+duzQVIbsj98OHl0v4CyPxh/HKY36LI/Z4MrYsNRsz8Q2nFBa72zP1Ni8+g3K7Q/fdLXCDKbtD/y5kZbYg21P8DVNKPRgbU/16keq4j4tT90LbZDkHG2P+UMfULx7LY/J99OgLRqtz/2xdnX4uq3P5VaBSSFbbg/7aJHPqTyuD+5zuf8SHq5P2WDLjF8BLo/u4ODpUaRuj/hhngbsSC7P1MbwUnEsrs/V3kX2ohHvD9LMg5nB9+8P7azznlIeb0/Np7Eh1QWvj8z/TXwM7a+P4h1yPnuWL8/RI/zz43+vz88JTBAjFPAP00eG3xLqcA/hEGrgIgAwT9ccsIfR1nBP8fGvxaLs8E/su4CDVgPwj/+ameSsWzCP5fhtx2by8I/MOYZCxgswz9il3KaK47DP+x5xO3Y8cM/bAWHByNXxD9BX/jIDL7EP0LLafCYJsU/O2OHF8qQxT/asJuxovzFP1/QzwklasY/1MtoQVPZxj+U6gJOL0rHP+G5y/e6vMc/V5671/cwyD97yM9V56bIP8RvRaeKHsk/nELXzOKXyT9gAv6Q8BLKP/1LNYa0j8o/35ZFBS8Oyz+Ne5QrYI7LP0pcfNlHEMw/UZCssOWTzD9rOZMSORnNP9zx0R5BoM0/x4S+sfwozj8t6fBiarPOP4e534OIP88/iGWMHlXNzz97LiD6Zi7QPxA5Lj74dtA/xdmd8VzA0D9bfJWEkwrRP/wtu0CaVdE/jOvGSG+h0T+9GCGYEO7RP+G0jQJ8O9I/XN3kM6+J0j8RKdmvp9jSP/NizNFiKNM/uyKzzN140z8SvQerFcrTP6D7zE4HHNQ/7QWhca9u1D+P2uCkCsLUP9Ku3FEVFtU/EIAdustq1T8GGLz3KcDVP/a4yf0rFtY/5prKmM1s1j/hVkJvCsTWP01PUgLeG9c/TBhqrkN01z8a1AmsNs3XPxBqlhCyJtg/W3A/z7CA2D/Skfa5LdvYP0IreIIjNtk/Rcxku4yR2T92OWvZY+3ZP1t/gjSjSdo/fpYzCUWm2j8ADPJ5QwPbPz8Tg5CYYNs/OFhyPz6+2z+N3ZNjLhzcP+YjksVietw/6c2HG9XY3D9+56MKfzfdP+Lt1yhalt0/sauO/l/13T+O82oIilTeP6g8DbnRs94/tRzfejAT3z/CleOxn3LfPyspi70Y0t8/Yk5FfcoY4D/NrlnihkjgP2c0Zjw+eOA/slE1O+2n4D8jxeOQkNfgP2qSyvIkB+E/FRRnGqc24T8cnkDGE2bhP4csy7pnleE/TJxGw5/E4T8f8JmyuPPhP2ImKmSvIuI/iiqsvIBR4j9NcPGqKYDiP7jMriinruI/liY9O/bc4j9knVP0EwvjP6rMunL9OOM/iNf44q9m4z9T7/V/KJTjP/UOmZNkweM/jqtcd2Hu4z+DItuUHBvkP+2zUmaTR+Q/698gd8Nz5D+1BDVkqp/kP0sietxFy+Q/ZrA3oZP25D/beWmGkSHlPxt4DnM9TOU/L7BuYZV25T8hGVhfl6DlP6OaUo5ByuU/kjjLI5Lz5T9EhjZphxzmP0uCKrwfReY/fABwjllt5j+kzQtmM5XmP8S8P92rvOY/W9KDosHj5j9nxnd4cwrnP4IZzTXAMOc/Fv0pxaZW5z+yUQUlJnznPzIBfGc9oec/Ef0fsuvF5z/6KsE9MOrnP86LMFYKDug/V+r9WXkx6D8uYDC6fFToPwQA+vkTd+g/AfVmrj6Z6D/tZgh+/LroP+lymyBN3Og/B4isXjD96D9OdjcRph3pPwl+RCGuPek/6auCh0hd6T+Pzd9LdXzpPxpIHoU0m+k/EhlpWIa56T8QSOb4atfpP1ANSKfi9Ok/we9cse0R6j9qGp9xjC7qP/cmw06/Suo/5ZhGu4Zm6j/xQf4044HqP4rGpETVnOo/xHVpfV236j8zpn98fNHqP1vGrugy6+o/f0zjcYEE6z99r8DQaB3rP1uPNMbpNes/wTELGwVO6z8mdIWfu2XrP7lS8CoOfes/6SA+m/2T6z+1jaHUiqrrP82LKsG2wOs/JTNlUILW6z9dr/p27uvrP15MVC78AOw/T7BAdKwV7D8UUJtKACrsP5kp9rb4Pew/Us1FwpZR7D+svo9422TsP0Uxm+jHd+w/aCekI12K7D+K9BA9nJzsP1UlKkqGruw/Lc3UYRzA7D8KOE+cX9HsP0v+7xJR4uw/3nbn3/Hy7D9QgwMeQwPtPyKwdehFE+0/AaObWvsi7T/Ez8mPZDLtP/prGKOCQe0/kZgyr1ZQ7T8vuCfO4V7tP2voPhklbe0/jpPMqCF77T8VEAqU2IjtP7RC7/BKlu0/ZTcO1Hmj7T+mpXBQZrDtP+5Td3cRve0/7E27WHzJ7T9X4fABqNXtP6dUzH6V4e0/Dkvo2EXt7T86ya0XuvjtP+fNPUDzA+4/2nFcVfIO7j9ogl1XuBnuPySKEkRGJO4/ITu6Fp0u7j9vLvHHvTjuP4/so02pQu4/2TICm2BM7j/WaXOg5FXuP8pAjEs2X+4//WIFh1Zo7j9GO7M6RnHuP8y6fksGeu4/CRhfm5eC7j9xe1QJ+4ruPzaPY3Exk+4/AeiRrDub7j+8POOQGqPuP51jV/HOqu4/IQvpnVmy7j+vJY1ju7nuPxP/Mgz1wO4/APPEXgfI7j9hvCkf887uPyRVRg651e4/y14A6lnc7j/3C0Ft1uLuP6aD+E8v6e4/+rYhR2Xv7j+oosYEefXuP2n1BDhr++4/EBUTjTwB7z8NfEWt7QbvP3tpFD9/DO8/BN4h5vER7z8O4D9DRhfvPxkCd/R8HO8//SUNlZYh7z+AeIy9kybvP1ugygN1K+8/bhzw+jow7z/AzH8z5jTvP1qiXjt3Oe8/CHLbne497z9L5rbjTELvPwiNK5OSRu8/ef31L8BK7z9NE1071k7vP807OjTVUu8/M9IBl71W7z9viMvdj1rvP7TZWoBMXu8/ZIQn9PNh7z/4CGashmXvP6crEBoFae8/znbtq29s7z/3u5vOxm/vP8iRl+wKc+8/AM1Ebjx27z/d8va5W3nvP3qj+TNpfO8/efqYPmV/7z/X5Ck6UILvP35qEoUqhe8/dOrRe/SH7z+GSAl5rorvP1oLg9VYje8/IWo76POP7z/BSGgGgJLvP9whgYP9lO8/791GsWyX7z+nlsvfzZnvPwpGel0hnO8/uGAed2ee7z/JWut3oKDvP9IWhKnMou8/nz4CVOyk7z85hf29/6bvPwbSkiwHqe8/g1Rr4wKr7z96gMMk86zvP4PycTHYru8/eTzuSLKw7z/smVepgbLvP02Me49GtO8/217cNgG27z8fkrfZsbfvPxwvDLFYue8/AgKh9PW67z+KvArbibzvP/H/sZkUvu8/q07ZZJa/7z/g5aJvD8HvP8J+Fux/wu8/5PcmC+jD7z+15rf8R8XvPzQRo++fxu8/EdC9EfDH7z9gWd6POMnvPxj04JV5yu8/fRStTrPL7z+3YTrk5czvP8CklX8Rzu8/9qDlSDbP7z9p1m9nVNDvP0YunQFs0e8/e5H+PH3S7z/waVE+iNPvP4QOhCmN1O8/ERq6IYzV7z+2rVBJhdbvP8Oe4sF41+8/YpBMrGbY7z9l+bAoT9nvP3QWfFYy2u8/z8hnVBDb7z8PYn9A6dvvP/1cIzi93O8/AQQNWIzd7z8pBVK8Vt7vP1L0Z4Ac3+8/jLsnv93f7z8b+tCSmuDvP0JSDRVT4e8/OqbzXgfi7z+HRAuJt+LvP/oDT6tj4+8/n08w3Qvk7z/jIpo1sOTvPzn288pQ5e8/Y5wks+3l7z/kEJUDh+bvP483M9Ec5+8/t410MK/n7z8NzVg1PujvP5+AbPPJ6O8/F4zLfVLp7z9xpSPn1+nvP5nBtkFa6u8/6nNdn9nq7z8ZQYkRVuvvP27lRqnP6+8/645Ad0bs7z9EC8CLuuzvPxzqsPYr7e8/qJOix5rt7z/xU8oNB+7vP/ZaBdhw7u8/5rHaNNju7z+aJX0yPe/vP4wmzd6f7+8/kp5aRwDw7z9xvGZ5XvDvP5C15YG68O8/+H2AbRTx7z/WdpZIbPHvP6kTPx/C8e8/SnZL/RXy7z8ZAkjuZ/LvP0nmff238u8/p5/0NQbz7z8CcnOiUvPvPz7Zgk2d8+8/bvJtQebz7z/53EOILfTvPwIU2Stz9O8/ScDINbf07z+WAnav+fTvP9w2DaI69e8/TDCFFnr17z9sbqAVuPXvP09L7qf09e8/PyPM1S/27z+1dWanafbvPxcAuiSi9u8/DtKUVdn27z/VW5dBD/fvP3t2NfBD9+8/R2a3aHf37z9s1zqyqffvPwTVs9Pa9+8/pLrt0wr47z+BIIy5OfjvP0rCC4tn+O8/9GDDTpT47z9cn+QKwPjvPw/afMXq+O8/OPp1hBT57z/SQ5dNPfnvP0UfhiZl+e8/cN7GFIz57z9Vfb0dsvnvP2VerkbX+e8/pAK/lPv57z+SvfYMH/rvPxplP7RB+u8/hP1lj2P67z+QYRujhPrvP7nm9POk+u8/zv1shsT67z/3z+Ne4/rvPw7Yn4EB++8/rHjO8h777z+tjoS2O/vvP4IAv9BX++8/MUpjRXP77z8xBkAYjvvvPzhzDU2o++8/7PZt58H77z+3ne7q2vvvP6CXB1vz++8/XLIcOwv87z+c0H2OIvzvP6BeZ1g5/O8/HsQCnE/87z+t02ZcZfzvP4w3mJx6/O8//tuJX4/87z8+Vx2oo/zvPwtPI3m3/O8/9ttb1cr87z9Z6na/3fzvPyuZFDrw/O8/oZbFRwL97z+5egvrE/3vP7cfWSYl/e8/kfgS/DX97z91ZY9uRv3vP1AGF4BW/e8/jQvlMmb97z/ZhCeJdf3vPzqu/4SE/e8/WTuCKJP97z8Oobd1of3vP0hdnG6v/e8/TD0hFb397z9aoitryv3vP7/ElXLX/e8/afUuLeT97z/p3buc8P3vPxC/9sL8/e8/EK6PoQj+7z9K0Cw6FP7vP6KVao4f/u8/mvHbnyr+7z8OkwpwNf7vP6sadwBA/u8/LlCZUkr+7z9jVuBnVP7vP/7dskFe/u8/OVdv4Wf+7z9iImxIcf7vPz6/93d6/u8/YvtYcYP+7z9zH881jP7vP1wbksaU/u8/jrHSJJ3+7z8wobpRpf7vP2XPbE6t/u8/m28FHLX+7z/tKpq7vP7vP6FGOi7E/u8/usnudMv+7z+/obqQ0v7vP57GmoLZ/u8/t12GS+D+7z8s3G7s5v7vP1QoQGbt/u8/c7rgufP+7z+3vDHo+f7vP2oqD/L//u8/fe5P2AX/7z9TAcabC//vP9+FPj0R/+8/KOaBvRb/7z8H71MdHP/vP1vrc10h/+8/kb6cfib/7z+X/oSBK//vPy8N32Yw/+8/sDBZLzX/7z9ArJ3bOf/vP2XXUmw+/+8/KjUb4kL/7z+vipU9R//vPyn1XH9L/+8/b/8IqE//7z8Kty24U//vP7/AW7BX/+8/pGwgkVv/7z/AyQVbX//vPzS5kg5j/+8/AAFLrGb/7z9FXq80av/vPy6XPaht/+8/XoxwB3H/7z8NSsBSdP/vP6wYoop3/+8/N42Ir3r/7z8XmePBff/vP7mZIMKA/+8/smeqsIP/7z+lZemNhv/vP7uOQ1qJ/+8/1IQcFoz/7z9WntXBjv/vP7/zzV2R/+8/zWxi6pP/7z92ze1nlv/vP3/CyNaY/+8/xe1JN5v/7z9X8sWJnf/vPzGAj86f/+8/tF/3BaL/7z/vfEwwpP/vP4Xy202m/+8/dRTxXqj/7z+FetVjqv/vP4cK0Vys/+8/TwIqSq7/7z9/ASUssP/vPwETBQOy/+8/b7YLz7P/7z8c6XiQtf/vPwIvi0e3/+8/bpt/9Lj/7z+C2ZGXuv/vP3w0/DC8/+8/05/3wL3/7z8hv7tHv//vP+LtfsXA/+8//0Z2OsL/7z8yrNWmw//vPzrNzwrF/+8/6y6WZsb/7z8PMlm6x//vPyAaSAbJ/+8/1RORSsr/7z+aO2GHy//vP8ej5LzM/+8/zFpG683/7z8rcbASz//vP03/SzPQ/+8/PStBTdH/7z84Lrdg0v/vPy5a1G3T/+8/Bh++dNT/7z/eD5l11f/vPxroiHDW/+8/ZJCwZdf/7z9+IzJV2P/vPwXzLj/Z/+8/FYzHI9r/7z/KuxsD2//vP7CTSt3b/+8/FW5ystz/7z9D8rCC3f/vP5wYI07e/+8/pC7lFN//7z/t2hLX3//vP/ogx5Tg/+8/8GQcTuH/7z9TbywD4v/vP49wELTi/+8/fgThYOP/7z/ZNbYJ5P/vP4aBp67k/+8/4NnLT+X/7z/xqTnt5f/vP4HYBofm/+8/LMtIHef/7z9baRSw5//vPyoffj/o/+8/P+CZy+j/7z+PKntU6f/vPxwJNdrp/+8/kxbaXOr/7z/jf3zc6v/vP8cGLlnr/+8/PwQA0+v/7z/4agNK7P/vP6XJSL7s/+8/Uk3gL+3/7z+gw9me7f/vP/qcRAvu/+8/uO4vde7/7z89darc7v/vP/2VwkHv/+8/g2GGpO//7z9nlQMF8P/vPy6eR2Pw/+8/Nplfv/D/7z98VlgZ8f/vP2taPnHx/+8/nN8dx/H/7z+B2AIb8v/vPxjx+Gzy/+8/gZALvfL/7z8=\",\"dtype\":\"float64\",\"shape\":[1000]}},\"selected\":{\"id\":\"5546\",\"type\":\"Selection\"},\"selection_policy\":{\"id\":\"5547\",\"type\":\"UnionRenderers\"}},\"id\":\"5311\",\"type\":\"ColumnDataSource\"},{\"attributes\":{\"plot\":null,\"text\":\"\"},\"id\":\"5534\",\"type\":\"Title\"},{\"attributes\":{},\"id\":\"5277\",\"type\":\"BasicTicker\"},{\"attributes\":{\"callback\":null},\"id\":\"5263\",\"type\":\"DataRange1d\"},{\"attributes\":{\"overlay\":{\"id\":\"5289\",\"type\":\"BoxAnnotation\"}},\"id\":\"5283\",\"type\":\"BoxZoomTool\"},{\"attributes\":{},\"id\":\"5286\",\"type\":\"HelpTool\"},{\"attributes\":{\"fill_color\":{\"value\":\"red\"},\"line_color\":{\"value\":\"#1f77b4\"},\"x\":{\"field\":\"x\"},\"y\":{\"field\":\"y\"}},\"id\":\"5307\",\"type\":\"Circle\"},{\"attributes\":{},\"id\":\"5536\",\"type\":\"BasicTickFormatter\"},{\"attributes\":{\"callback\":null,\"data\":{\"x\":{\"__ndarray__\":\"AyIVjLRI+L8UNiKvSKH1vyRKL9Lc+fK/NV489XBS8L+K5JIwClbrv6sMrXYyB+a/qwytdjIH5r/MNMe8Wrjgv9q5wgUG09a/OBTuI61qyL/ZpbXicXqZv8GqQKsQDMI/HwVsybej0z/dtDc9Z0HePy2KZxJjvuk/DGJNzDoN7z/1nBlDCS7yP+WIDCB11fQ/1XT//OB89z+0TOW2uMv8Pw==\",\"dtype\":\"float64\",\"shape\":[20]},\"y\":[0,0,0,0,0,0,1,0,1,0,1,0,1,0,1,1,1,1,1,1]},\"selected\":{\"id\":\"5540\",\"type\":\"Selection\"},\"selection_policy\":{\"id\":\"5541\",\"type\":\"UnionRenderers\"}},\"id\":\"5296\",\"type\":\"ColumnDataSource\"},{\"attributes\":{},\"id\":\"5282\",\"type\":\"WheelZoomTool\"},{\"attributes\":{\"data_source\":{\"id\":\"5311\",\"type\":\"ColumnDataSource\"},\"glyph\":{\"id\":\"5312\",\"type\":\"Line\"},\"hover_glyph\":null,\"muted_glyph\":null,\"nonselection_glyph\":{\"id\":\"5313\",\"type\":\"Line\"},\"selection_glyph\":null,\"view\":{\"id\":\"5315\",\"type\":\"CDSView\"}},\"id\":\"5314\",\"type\":\"GlyphRenderer\"},{\"attributes\":{\"fill_alpha\":{\"value\":0.1},\"fill_color\":{\"value\":\"#1f77b4\"},\"line_alpha\":{\"value\":0.1},\"line_color\":{\"value\":\"#1f77b4\"},\"x\":{\"field\":\"x\"},\"y\":{\"field\":\"y\"}},\"id\":\"5298\",\"type\":\"Circle\"},{\"attributes\":{},\"id\":\"5546\",\"type\":\"Selection\"},{\"attributes\":{\"callback\":null},\"id\":\"5265\",\"type\":\"DataRange1d\"},{\"attributes\":{},\"id\":\"5538\",\"type\":\"BasicTickFormatter\"},{\"attributes\":{\"active_drag\":\"auto\",\"active_inspect\":\"auto\",\"active_multi\":null,\"active_scroll\":\"auto\",\"active_tap\":\"auto\",\"tools\":[{\"id\":\"5281\",\"type\":\"PanTool\"},{\"id\":\"5282\",\"type\":\"WheelZoomTool\"},{\"id\":\"5283\",\"type\":\"BoxZoomTool\"},{\"id\":\"5284\",\"type\":\"SaveTool\"},{\"id\":\"5285\",\"type\":\"ResetTool\"},{\"id\":\"5286\",\"type\":\"HelpTool\"}]},\"id\":\"5287\",\"type\":\"Toolbar\"},{\"attributes\":{},\"id\":\"5545\",\"type\":\"UnionRenderers\"},{\"attributes\":{\"data_source\":{\"id\":\"5301\",\"type\":\"ColumnDataSource\"},\"glyph\":{\"id\":\"5302\",\"type\":\"Line\"},\"hover_glyph\":null,\"muted_glyph\":null,\"nonselection_glyph\":{\"id\":\"5303\",\"type\":\"Line\"},\"selection_glyph\":null,\"view\":{\"id\":\"5305\",\"type\":\"CDSView\"}},\"id\":\"5304\",\"type\":\"GlyphRenderer\"},{\"attributes\":{\"source\":{\"id\":\"5311\",\"type\":\"ColumnDataSource\"}},\"id\":\"5315\",\"type\":\"CDSView\"},{\"attributes\":{\"formatter\":{\"id\":\"5538\",\"type\":\"BasicTickFormatter\"},\"plot\":{\"id\":\"5262\",\"subtype\":\"Figure\",\"type\":\"Plot\"},\"ticker\":{\"id\":\"5272\",\"type\":\"BasicTicker\"}},\"id\":\"5271\",\"type\":\"LinearAxis\"},{\"attributes\":{},\"id\":\"5541\",\"type\":\"UnionRenderers\"},{\"attributes\":{},\"id\":\"5547\",\"type\":\"UnionRenderers\"},{\"attributes\":{\"fill_alpha\":{\"value\":0.1},\"fill_color\":{\"value\":\"#1f77b4\"},\"line_alpha\":{\"value\":0.1},\"line_color\":{\"value\":\"#1f77b4\"},\"x\":{\"field\":\"x\"},\"y\":{\"field\":\"y\"}},\"id\":\"5308\",\"type\":\"Circle\"},{\"attributes\":{\"source\":{\"id\":\"5296\",\"type\":\"ColumnDataSource\"}},\"id\":\"5300\",\"type\":\"CDSView\"},{\"attributes\":{},\"id\":\"5543\",\"type\":\"UnionRenderers\"},{\"attributes\":{\"line_alpha\":0.1,\"line_color\":\"#1f77b4\",\"x\":{\"field\":\"x\"},\"y\":{\"field\":\"y\"}},\"id\":\"5313\",\"type\":\"Line\"},{\"attributes\":{\"formatter\":{\"id\":\"5536\",\"type\":\"BasicTickFormatter\"},\"plot\":{\"id\":\"5262\",\"subtype\":\"Figure\",\"type\":\"Plot\"},\"ticker\":{\"id\":\"5277\",\"type\":\"BasicTicker\"}},\"id\":\"5276\",\"type\":\"LinearAxis\"},{\"attributes\":{\"line_alpha\":0.1,\"line_color\":\"#1f77b4\",\"x\":{\"field\":\"x\"},\"y\":{\"field\":\"y\"}},\"id\":\"5303\",\"type\":\"Line\"},{\"attributes\":{\"line_color\":\"#1f77b4\",\"x\":{\"field\":\"x\"},\"y\":{\"field\":\"y\"}},\"id\":\"5302\",\"type\":\"Line\"},{\"attributes\":{},\"id\":\"5540\",\"type\":\"Selection\"},{\"attributes\":{},\"id\":\"5267\",\"type\":\"LinearScale\"},{\"attributes\":{},\"id\":\"5542\",\"type\":\"Selection\"},{\"attributes\":{\"callback\":null,\"data\":{\"x\":{\"__ndarray__\":\"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\",\"dtype\":\"float64\",\"shape\":[1000]},\"y\":{\"__ndarray__\":\"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\",\"dtype\":\"float64\",\"shape\":[1000]}},\"selected\":{\"id\":\"5542\",\"type\":\"Selection\"},\"selection_policy\":{\"id\":\"5543\",\"type\":\"UnionRenderers\"}},\"id\":\"5301\",\"type\":\"ColumnDataSource\"},{\"attributes\":{},\"id\":\"5284\",\"type\":\"SaveTool\"},{\"attributes\":{},\"id\":\"5272\",\"type\":\"BasicTicker\"},{\"attributes\":{\"fill_color\":{\"value\":\"#1f77b4\"},\"line_color\":{\"value\":\"#1f77b4\"},\"x\":{\"field\":\"x\"},\"y\":{\"field\":\"y\"}},\"id\":\"5297\",\"type\":\"Circle\"},{\"attributes\":{\"line_color\":\"red\",\"x\":{\"field\":\"x\"},\"y\":{\"field\":\"y\"}},\"id\":\"5312\",\"type\":\"Line\"},{\"attributes\":{},\"id\":\"5285\",\"type\":\"ResetTool\"},{\"attributes\":{},\"id\":\"5281\",\"type\":\"PanTool\"},{\"attributes\":{\"data_source\":{\"id\":\"5296\",\"type\":\"ColumnDataSource\"},\"glyph\":{\"id\":\"5297\",\"type\":\"Circle\"},\"hover_glyph\":null,\"muted_glyph\":null,\"nonselection_glyph\":{\"id\":\"5298\",\"type\":\"Circle\"},\"selection_glyph\":null,\"view\":{\"id\":\"5300\",\"type\":\"CDSView\"}},\"id\":\"5299\",\"type\":\"GlyphRenderer\"},{\"attributes\":{},\"id\":\"5269\",\"type\":\"LinearScale\"},{\"attributes\":{\"bottom_units\":\"screen\",\"fill_alpha\":{\"value\":0.5},\"fill_color\":{\"value\":\"lightgrey\"},\"left_units\":\"screen\",\"level\":\"overlay\",\"line_alpha\":{\"value\":1.0},\"line_color\":{\"value\":\"black\"},\"line_dash\":[4,4],\"line_width\":{\"value\":2},\"plot\":null,\"render_mode\":\"css\",\"right_units\":\"screen\",\"top_units\":\"screen\"},\"id\":\"5289\",\"type\":\"BoxAnnotation\"},{\"attributes\":{\"source\":{\"id\":\"5306\",\"type\":\"ColumnDataSource\"}},\"id\":\"5310\",\"type\":\"CDSView\"},{\"attributes\":{},\"id\":\"5544\",\"type\":\"Selection\"},{\"attributes\":{\"dimension\":1,\"plot\":{\"id\":\"5262\",\"subtype\":\"Figure\",\"type\":\"Plot\"},\"ticker\":{\"id\":\"5277\",\"type\":\"BasicTicker\"}},\"id\":\"5280\",\"type\":\"Grid\"},{\"attributes\":{\"plot\":{\"id\":\"5262\",\"subtype\":\"Figure\",\"type\":\"Plot\"},\"ticker\":{\"id\":\"5272\",\"type\":\"BasicTicker\"}},\"id\":\"5275\",\"type\":\"Grid\"},{\"attributes\":{\"callback\":null,\"data\":{\"x\":{\"__ndarray__\":\"AyIVjLRI+L8UNiKvSKH1vyRKL9Lc+fK/NV489XBS8L+K5JIwClbrv6sMrXYyB+a/qwytdjIH5r/MNMe8Wrjgv9q5wgUG09a/OBTuI61qyL/ZpbXicXqZv8GqQKsQDMI/HwVsybej0z/dtDc9Z0HePy2KZxJjvuk/DGJNzDoN7z/1nBlDCS7yP+WIDCB11fQ/1XT//OB89z+0TOW2uMv8Pw==\",\"dtype\":\"float64\",\"shape\":[20]},\"y\":[0,0,0,0,0,0,0,1,0,0,1,0,1,1,1,1,1,1,1,1]},\"selected\":{\"id\":\"5544\",\"type\":\"Selection\"},\"selection_policy\":{\"id\":\"5545\",\"type\":\"UnionRenderers\"}},\"id\":\"5306\",\"type\":\"ColumnDataSource\"},{\"attributes\":{\"source\":{\"id\":\"5301\",\"type\":\"ColumnDataSource\"}},\"id\":\"5305\",\"type\":\"CDSView\"}],\"root_ids\":[\"5262\"]},\"title\":\"Bokeh Application\",\"version\":\"1.0.2\"}};\n",
       "  var render_items = [{\"docid\":\"4a04dc33-273b-4df6-8cd7-ad2fb63135b5\",\"roots\":{\"5262\":\"bfae130d-85c0-422c-b330-787ff9008507\"}}];\n",
       "  root.Bokeh.embed.embed_items_notebook(docs_json, render_items);\n",
       "\n",
       "  }\n",
       "  if (root.Bokeh !== undefined) {\n",
       "    embed_document(root);\n",
       "  } else {\n",
       "    var attempts = 0;\n",
       "    var timer = setInterval(function(root) {\n",
       "      if (root.Bokeh !== undefined) {\n",
       "        embed_document(root);\n",
       "        clearInterval(timer);\n",
       "      }\n",
       "      attempts++;\n",
       "      if (attempts > 100) {\n",
       "        console.log(\"Bokeh: ERROR: Unable to run BokehJS code because BokehJS library is missing\");\n",
       "        clearInterval(timer);\n",
       "      }\n",
       "    }, 10, root)\n",
       "  }\n",
       "})(window);"
      ],
      "application/vnd.bokehjs_exec.v0+json": ""
     },
     "metadata": {
      "application/vnd.bokehjs_exec.v0+json": {
       "id": "5262"
      }
     },
     "output_type": "display_data"
    }
   ],
   "source": [
    "p = figure(plot_width=600, plot_height=400)\n",
    "p.circle(xp, y)\n",
    "p.line(np.linspace(-3, 3, 1000), 1 /(1 + np.exp(-g[1]*(np.linspace(-3, 3, 1000) - g[0]))))\n",
    "p.circle(xp, y1, fill_color='red')\n",
    "p.line(np.linspace(-3, 3, 1000), 1 /(1 + np.exp(-g1[1]*(np.linspace(-3, 3, 1000) - g1[0]))), line_color='red')\n",
    "\n",
    "show(p)"
   ]
  },
  {
   "cell_type": "code",
   "execution_count": 109,
   "metadata": {},
   "outputs": [
    {
     "data": {
      "text/plain": [
       "     fun: 1.3653670066632775\n",
       " message: 'Solution found.'\n",
       "    nfev: 12\n",
       "  status: 0\n",
       " success: True\n",
       "       x: -0.2395712522299039"
      ]
     },
     "execution_count": 109,
     "metadata": {},
     "output_type": "execute_result"
    }
   ],
   "source": [
    "theta_parameter_solver(np.vstack((g, g1)), np.array([y[8], y1[8]]))"
   ]
  },
  {
   "cell_type": "code",
   "execution_count": 110,
   "metadata": {},
   "outputs": [
    {
     "data": {
      "text/plain": [
       "-0.3566298538452465"
      ]
     },
     "execution_count": 110,
     "metadata": {},
     "output_type": "execute_result"
    }
   ],
   "source": [
    "xp[8]"
   ]
  },
  {
   "cell_type": "code",
   "execution_count": 96,
   "metadata": {},
   "outputs": [],
   "source": [
    "_func = irt_model[2]"
   ]
  },
  {
   "cell_type": "code",
   "execution_count": 106,
   "metadata": {},
   "outputs": [
    {
     "name": "stdout",
     "output_type": "stream",
     "text": [
      "-3.0 1.2159246759597039e-05\n",
      "-2.8461538461538463 2.2079137030177176e-05\n",
      "-2.6923076923076925 4.008298056150797e-05\n",
      "-2.5384615384615383 7.274421828418784e-05\n",
      "-2.3846153846153846 0.00013195842547867717\n",
      "-2.230769230769231 0.0002392151309387286\n",
      "-2.0769230769230766 0.0004332377741848468\n",
      "-1.923076923076923 0.0007835472919864616\n",
      "-1.7692307692307692 0.001414275225137703\n",
      "-1.6153846153846154 0.0025452562522863815\n",
      "-1.4615384615384615 0.004561013615918048\n",
      "-1.3076923076923075 0.008121371262168414\n",
      "-1.1538461538461537 0.014324730003786685\n",
      "-1.0 0.0249108342790376\n",
      "-0.8461538461538458 0.04240731687968987\n",
      "-0.6923076923076921 0.0699234866888538\n",
      "-0.5384615384615383 0.10997230020399523\n",
      "-0.3846153846153846 0.1616514207944187\n",
      "-0.23076923076923084 0.21699011909861116\n",
      "-0.07692307692307665 0.26081378355882323\n",
      "0.0769230769230771 0.27857163759575676\n",
      "0.23076923076923084 0.2666088868710947\n",
      "0.384615384615385 0.23320494113057427\n",
      "0.5384615384615388 0.19073739791131952\n",
      "0.6923076923076925 0.14879709916174083\n",
      "0.8461538461538463 0.11238567583176723\n",
      "1.0 0.0830495320272759\n",
      "1.1538461538461542 0.060472879051804034\n",
      "1.3076923076923084 0.043596573449995304\n",
      "1.4615384615384617 0.031217649555881702\n",
      "1.6153846153846159 0.02225038308779209\n",
      "1.7692307692307692 0.01580866108541122\n",
      "1.9230769230769234 0.011207319762179254\n",
      "2.0769230769230775 0.00793323825520954\n",
      "2.230769230769231 0.005609736636359068\n",
      "2.384615384615385 0.003963842971332041\n",
      "2.5384615384615383 0.002799422630608895\n",
      "2.6923076923076925 0.001976356502828423\n",
      "2.8461538461538467 0.0013949331026674732\n",
      "3.0 0.000984385499681433\n"
     ]
    }
   ],
   "source": [
    "for t in np.linspace(-3,3, 40):\n",
    "    print(t, (1-_func(*g, t))*_func(*g1, t))"
   ]
  },
  {
   "cell_type": "code",
   "execution_count": 112,
   "metadata": {},
   "outputs": [],
   "source": [
    "x, w = np.polynomial.legendre.leggauss(6)"
   ]
  },
  {
   "cell_type": "code",
   "execution_count": 2,
   "metadata": {},
   "outputs": [],
   "source": [
    "from bokeh.models import ColumnDataSource\n",
    "from bokeh.models.glyphs import Ellipse\n",
    "from bokeh.layouts import Row"
   ]
  },
  {
   "cell_type": "code",
   "execution_count": 127,
   "metadata": {},
   "outputs": [
    {
     "name": "stdout",
     "output_type": "stream",
     "text": [
      "The QUADPACK solution: 2.61590137351e-16 with error: 4.47173709324e-14\n",
      "Gauss-Legendre solution: -3.75133023187e-06\n",
      "Difference between QUADPACK and Gauss-Legendre:  3.751330232135064e-06\n"
     ]
    }
   ],
   "source": [
    "from scipy import integrate\n",
    "\n",
    "# Define function and interval\n",
    "a = -np.pi\n",
    "b = np.pi\n",
    "f = lambda x: np.cos(x)\n",
    "\n",
    "# Gauss-Legendre (default interval is [-1, 1])\n",
    "points, weights, scalar = get_quadrature_points(6, a, b)\n",
    "gauss = sum(weights * f(points)) * scalar\n",
    "\n",
    "# For comparison\n",
    "quad, quad_err = integrate.quad(f, a, b)\n",
    "\n",
    "print ('The QUADPACK solution: {0:.12} with error: {1:.12}'.format(quad, quad_err))\n",
    "print ('Gauss-Legendre solution: {0:.12}'.format(gauss))\n",
    "print ('Difference between QUADPACK and Gauss-Legendre: ', abs(gauss - quad))"
   ]
  },
  {
   "cell_type": "code",
   "execution_count": 25,
   "metadata": {},
   "outputs": [],
   "source": [
    "pt1 = figure(plot_width=400, plot_height=400, x_range=[-1, 1], y_range=[-2, 2], tools=[], title='No Delay, p=0.673')\n",
    "x = np.random.randn(90)*0.2\n",
    "y = np.random.randn(90)*.5\n",
    "pt1.circle(x, y, fill_color='blue')\n",
    "pt1.oval(0, 0, 2.5*.2, 2.5*.5, fill_alpha=.3)\n",
    "pt1.toolbar.logo = None\n"
   ]
  },
  {
   "cell_type": "code",
   "execution_count": 26,
   "metadata": {},
   "outputs": [],
   "source": [
    "pt2 = figure(plot_width=400, plot_height=400, x_range=[-1, 1], y_range=[-2, 2], tools=[], title='Delay, Red-Red, p=0.461')\n",
    "x = np.random.randn(30)*0.21\n",
    "y = np.random.randn(30)*.55\n",
    "pt2.circle(x, y, fill_color='red')\n",
    "pt2.oval(0, 0, 2.5*.21, 2.5*.55, angle=0, fill_alpha=.3, fill_color='red', line_color='red')\n",
    "pt2.toolbar.logo = None\n",
    "\n",
    "# Correlation for Red/Blue\n",
    "pt3 = figure(plot_width=400, plot_height=400, x_range=[-1, 1], y_range=[-2, 2], tools=[], title='Delay, Red-Blue, p=.454')\n",
    "angle = np.pi/10 \n",
    "corRB = np.array([[np.cos(angle), np.sin(angle)], [-np.sin(angle), np.cos(angle)]])\n",
    "nb = corRB @ np.array([x*.22/.21, y*.92/.55])\n",
    "x1 = nb[0]\n",
    "y1 = nb[1]\n",
    "pt3.circle(x1, y1, fill_color='purple')\n",
    "pt3.oval(0, 0, 2*.25, 2*.95, angle=-np.pi/10, fill_alpha=.3, fill_color='purple', line_color='purple')\n",
    "pt3.toolbar.logo = None\n",
    "\n",
    "pt4 = figure(plot_width=400, plot_height=400, x_range=[-1, 1], y_range=[-2, 2], tools=[], title='Delay, Green-Purple, p=.244')\n",
    "angle = np.pi/20 \n",
    "corRB = np.array([[np.cos(angle), np.sin(angle)], [-np.sin(angle), np.cos(angle)]])\n",
    "nb = corRB @ np.array([x*.22/.2, y*.92/.5])\n",
    "x1 = nb[0]\n",
    "y1 = nb[1]\n",
    "pt4.circle(x1, y1, fill_color='grey')\n",
    "pt4.oval(0, 0, 2*.25, 2*.95, angle=-np.pi/20, fill_alpha=.3, fill_color='grey', line_color='grey')\n",
    "pt4.toolbar.logo = None\n",
    "\n",
    "\n",
    "show(Row(pt1, pt2, pt3, pt4))"
   ]
  },
  {
   "cell_type": "code",
   "execution_count": 71,
   "metadata": {},
   "outputs": [
    {
     "data": {
      "text/plain": [
       "(2, 90)"
      ]
     },
     "execution_count": 71,
     "metadata": {},
     "output_type": "execute_result"
    }
   ],
   "source": [
    "np.array([x*.25/.2, y*.95/.5]).shape"
   ]
  },
  {
   "cell_type": "code",
   "execution_count": 32,
   "metadata": {},
   "outputs": [],
   "source": [
    "import pandas"
   ]
  },
  {
   "cell_type": "code",
   "execution_count": 33,
   "metadata": {},
   "outputs": [],
   "source": [
    "ff = \"/home/ryan/Downloads/Collaborative Inhibition Data winter 2019.csv\"\n",
    "data = pandas.read_csv(ff)"
   ]
  },
  {
   "cell_type": "code",
   "execution_count": 34,
   "metadata": {},
   "outputs": [
    {
     "data": {
      "text/html": [
       "<div>\n",
       "<style scoped>\n",
       "    .dataframe tbody tr th:only-of-type {\n",
       "        vertical-align: middle;\n",
       "    }\n",
       "\n",
       "    .dataframe tbody tr th {\n",
       "        vertical-align: top;\n",
       "    }\n",
       "\n",
       "    .dataframe thead th {\n",
       "        text-align: right;\n",
       "    }\n",
       "</style>\n",
       "<table border=\"1\" class=\"dataframe\">\n",
       "  <thead>\n",
       "    <tr style=\"text-align: right;\">\n",
       "      <th></th>\n",
       "      <th>Type</th>\n",
       "      <th>Dyad</th>\n",
       "      <th>Words</th>\n",
       "      <th>Categories</th>\n",
       "      <th>Errors</th>\n",
       "    </tr>\n",
       "  </thead>\n",
       "  <tbody>\n",
       "    <tr>\n",
       "      <th>0</th>\n",
       "      <td>1</td>\n",
       "      <td>1</td>\n",
       "      <td>43</td>\n",
       "      <td>13</td>\n",
       "      <td>2</td>\n",
       "    </tr>\n",
       "    <tr>\n",
       "      <th>1</th>\n",
       "      <td>1</td>\n",
       "      <td>2</td>\n",
       "      <td>48</td>\n",
       "      <td>12</td>\n",
       "      <td>4</td>\n",
       "    </tr>\n",
       "    <tr>\n",
       "      <th>2</th>\n",
       "      <td>1</td>\n",
       "      <td>3</td>\n",
       "      <td>47</td>\n",
       "      <td>14</td>\n",
       "      <td>1</td>\n",
       "    </tr>\n",
       "    <tr>\n",
       "      <th>3</th>\n",
       "      <td>1</td>\n",
       "      <td>4</td>\n",
       "      <td>26</td>\n",
       "      <td>9</td>\n",
       "      <td>3</td>\n",
       "    </tr>\n",
       "    <tr>\n",
       "      <th>4</th>\n",
       "      <td>1</td>\n",
       "      <td>5</td>\n",
       "      <td>31</td>\n",
       "      <td>9</td>\n",
       "      <td>0</td>\n",
       "    </tr>\n",
       "    <tr>\n",
       "      <th>5</th>\n",
       "      <td>2</td>\n",
       "      <td>6</td>\n",
       "      <td>68</td>\n",
       "      <td>14</td>\n",
       "      <td>11</td>\n",
       "    </tr>\n",
       "    <tr>\n",
       "      <th>6</th>\n",
       "      <td>2</td>\n",
       "      <td>7</td>\n",
       "      <td>53</td>\n",
       "      <td>13</td>\n",
       "      <td>5</td>\n",
       "    </tr>\n",
       "    <tr>\n",
       "      <th>7</th>\n",
       "      <td>2</td>\n",
       "      <td>8</td>\n",
       "      <td>39</td>\n",
       "      <td>12</td>\n",
       "      <td>2</td>\n",
       "    </tr>\n",
       "    <tr>\n",
       "      <th>8</th>\n",
       "      <td>2</td>\n",
       "      <td>9</td>\n",
       "      <td>40</td>\n",
       "      <td>12</td>\n",
       "      <td>2</td>\n",
       "    </tr>\n",
       "    <tr>\n",
       "      <th>9</th>\n",
       "      <td>2</td>\n",
       "      <td>10</td>\n",
       "      <td>65</td>\n",
       "      <td>14</td>\n",
       "      <td>2</td>\n",
       "    </tr>\n",
       "  </tbody>\n",
       "</table>\n",
       "</div>"
      ],
      "text/plain": [
       "   Type  Dyad  Words  Categories  Errors\n",
       "0     1     1     43          13       2\n",
       "1     1     2     48          12       4\n",
       "2     1     3     47          14       1\n",
       "3     1     4     26           9       3\n",
       "4     1     5     31           9       0\n",
       "5     2     6     68          14      11\n",
       "6     2     7     53          13       5\n",
       "7     2     8     39          12       2\n",
       "8     2     9     40          12       2\n",
       "9     2    10     65          14       2"
      ]
     },
     "execution_count": 34,
     "metadata": {},
     "output_type": "execute_result"
    }
   ],
   "source": [
    "data"
   ]
  },
  {
   "cell_type": "code",
   "execution_count": 52,
   "metadata": {},
   "outputs": [],
   "source": [
    "condition = data['Type'].values\n",
    "words = data['Words'].values\n",
    "cats = data['Categories'].values\n",
    "errs = data['Errors'].values"
   ]
  },
  {
   "cell_type": "code",
   "execution_count": 53,
   "metadata": {},
   "outputs": [
    {
     "data": {
      "text/plain": [
       "Ttest_indResult(statistic=1.864182744519576, pvalue=0.10264827562037836)"
      ]
     },
     "execution_count": 53,
     "metadata": {},
     "output_type": "execute_result"
    }
   ],
   "source": [
    "stats.ttest_ind(words[condition==2], words[condition==1], equal_var=False)"
   ]
  },
  {
   "cell_type": "code",
   "execution_count": 54,
   "metadata": {},
   "outputs": [
    {
     "data": {
      "text/plain": [
       "Ttest_indResult(statistic=1.4253932901995963, pvalue=0.2086400253197752)"
      ]
     },
     "execution_count": 54,
     "metadata": {},
     "output_type": "execute_result"
    }
   ],
   "source": [
    "stats.ttest_ind(cats[condition==2], cats[condition==1], equal_var=False)"
   ]
  },
  {
   "cell_type": "code",
   "execution_count": 55,
   "metadata": {},
   "outputs": [
    {
     "data": {
      "text/plain": [
       "Ttest_indResult(statistic=1.2719974560076321, pvalue=0.2565830639475785)"
      ]
     },
     "execution_count": 55,
     "metadata": {},
     "output_type": "execute_result"
    }
   ],
   "source": [
    "stats.ttest_ind(errs[condition==2], errs[condition==1], equal_var=False)"
   ]
  },
  {
   "cell_type": "code",
   "execution_count": 56,
   "metadata": {},
   "outputs": [
    {
     "data": {
      "text/plain": [
       "(53.0, 39.0)"
      ]
     },
     "execution_count": 56,
     "metadata": {},
     "output_type": "execute_result"
    }
   ],
   "source": [
    "words[condition==2].mean(), words[condition==1].mean()"
   ]
  },
  {
   "cell_type": "code",
   "execution_count": 58,
   "metadata": {},
   "outputs": [
    {
     "data": {
      "text/plain": [
       "(13.546217184144066, 9.924716620639604)"
      ]
     },
     "execution_count": 58,
     "metadata": {},
     "output_type": "execute_result"
    }
   ],
   "source": [
    "words[condition==2].std(ddof=1), words[condition==1].std(ddof=1)"
   ]
  },
  {
   "cell_type": "code",
   "execution_count": 63,
   "metadata": {},
   "outputs": [
    {
     "data": {
      "text/plain": [
       "(13.0, 11.4)"
      ]
     },
     "execution_count": 63,
     "metadata": {},
     "output_type": "execute_result"
    }
   ],
   "source": [
    "cats[condition==2].mean(), cats[condition==1].mean()"
   ]
  },
  {
   "cell_type": "code",
   "execution_count": 59,
   "metadata": {},
   "outputs": [
    {
     "data": {
      "text/plain": [
       "(1.0, 2.3021728866442674)"
      ]
     },
     "execution_count": 59,
     "metadata": {},
     "output_type": "execute_result"
    }
   ],
   "source": [
    "cats[condition==2].std(ddof=1), cats[condition==1].std(ddof=1)"
   ]
  },
  {
   "cell_type": "code",
   "execution_count": 64,
   "metadata": {},
   "outputs": [
    {
     "data": {
      "text/plain": [
       "(4.4, 2.0)"
      ]
     },
     "execution_count": 64,
     "metadata": {},
     "output_type": "execute_result"
    }
   ],
   "source": [
    "errs[condition==2].mean(), errs[condition==1].mean()"
   ]
  },
  {
   "cell_type": "code",
   "execution_count": 60,
   "metadata": {},
   "outputs": [
    {
     "data": {
      "text/plain": [
       "(3.9115214431215892, 1.5811388300841898)"
      ]
     },
     "execution_count": 60,
     "metadata": {},
     "output_type": "execute_result"
    }
   ],
   "source": [
    "errs[condition==2].std(ddof=1), errs[condition==1].std(ddof=1)"
   ]
  },
  {
   "cell_type": "code",
   "execution_count": 61,
   "metadata": {},
   "outputs": [],
   "source": [
    "from factoranalysis.response_utils import "
   ]
  },
  {
   "cell_type": "code",
   "execution_count": 65,
   "metadata": {},
   "outputs": [],
   "source": [
    "def cohen_d(sample1, sample2):\n",
    "    \"\"\"Computes the standardized distance between two samples.\n",
    "\n",
    "    Args:\n",
    "        sample1:  First sample to compare\n",
    "        sample2:  Second sample to compare\n",
    "\n",
    "    Returns:\n",
    "        distance in pooled standard deviation units\n",
    "    \"\"\"\n",
    "    denominator = np.sqrt(sample1.var() + sample2.var())\n",
    "    return (sample1.mean() - sample2.mean()) / denominator"
   ]
  },
  {
   "cell_type": "code",
   "execution_count": 67,
   "metadata": {},
   "outputs": [
    {
     "data": {
      "text/plain": [
       "0.932091372259788"
      ]
     },
     "execution_count": 67,
     "metadata": {},
     "output_type": "execute_result"
    }
   ],
   "source": [
    "cohen_d(words[condition==2], words[condition==1])"
   ]
  },
  {
   "cell_type": "code",
   "execution_count": 68,
   "metadata": {},
   "outputs": [
    {
     "data": {
      "text/plain": [
       "0.7126966450997981"
      ]
     },
     "execution_count": 68,
     "metadata": {},
     "output_type": "execute_result"
    }
   ],
   "source": [
    "cohen_d(cats[condition==2], cats[condition==1])"
   ]
  },
  {
   "cell_type": "code",
   "execution_count": 69,
   "metadata": {},
   "outputs": [
    {
     "data": {
      "text/plain": [
       "0.6359987280038161"
      ]
     },
     "execution_count": 69,
     "metadata": {},
     "output_type": "execute_result"
    }
   ],
   "source": [
    "cohen_d(errs[condition==2], errs[condition==1])"
   ]
  },
  {
   "cell_type": "code",
   "execution_count": 1,
   "metadata": {},
   "outputs": [],
   "source": [
    "import numpy as np"
   ]
  },
  {
   "cell_type": "code",
   "execution_count": 21,
   "metadata": {},
   "outputs": [],
   "source": [
    "g = np.random.randn(3, 5)\n",
    "h = np.random.randn(1, 5)\n",
    "g[2, 4] = np.nan\n",
    "g[1, 3] = np.nan\n",
    "h[0, 2] = np.nan"
   ]
  },
  {
   "cell_type": "code",
   "execution_count": 22,
   "metadata": {},
   "outputs": [
    {
     "data": {
      "text/plain": [
       "array([[-1.9663834 ,  0.10896951, -0.76973536,  0.86452387,  2.17771652],\n",
       "       [ 0.15856995, -0.73567037, -2.99423456,         nan, -1.08963546],\n",
       "       [ 1.06812496, -0.69134385,  0.41690671, -0.26614177,         nan]])"
      ]
     },
     "execution_count": 22,
     "metadata": {},
     "output_type": "execute_result"
    }
   ],
   "source": [
    "g"
   ]
  },
  {
   "cell_type": "code",
   "execution_count": 34,
   "metadata": {},
   "outputs": [
    {
     "data": {
      "text/plain": [
       "2"
      ]
     },
     "execution_count": 34,
     "metadata": {},
     "output_type": "execute_result"
    }
   ],
   "source": [
    "np.count_nonzero((np.count_nonzero(np.isnan(g), axis=0) == 0) & ~np.isnan(h))"
   ]
  },
  {
   "cell_type": "code",
   "execution_count": 45,
   "metadata": {},
   "outputs": [
    {
     "ename": "ValueError",
     "evalue": "Cannot take a larger sample than population when 'replace=False'",
     "output_type": "error",
     "traceback": [
      "\u001b[0;31m---------------------------------------------------------------------------\u001b[0m",
      "\u001b[0;31mValueError\u001b[0m                                Traceback (most recent call last)",
      "\u001b[0;32m<ipython-input-45-6c5cb3adb458>\u001b[0m in \u001b[0;36m<module>\u001b[0;34m\u001b[0m\n\u001b[0;32m----> 1\u001b[0;31m \u001b[0mnp\u001b[0m\u001b[0;34m.\u001b[0m\u001b[0munique\u001b[0m\u001b[0;34m(\u001b[0m\u001b[0mnp\u001b[0m\u001b[0;34m.\u001b[0m\u001b[0mrandom\u001b[0m\u001b[0;34m.\u001b[0m\u001b[0mchoice\u001b[0m\u001b[0;34m(\u001b[0m\u001b[0;36m1000\u001b[0m\u001b[0;34m,\u001b[0m \u001b[0msize\u001b[0m\u001b[0;34m=\u001b[0m\u001b[0;36m1500\u001b[0m\u001b[0;34m,\u001b[0m \u001b[0mreplace\u001b[0m\u001b[0;34m=\u001b[0m\u001b[0;32mFalse\u001b[0m\u001b[0;34m)\u001b[0m\u001b[0;34m)\u001b[0m\u001b[0;34m.\u001b[0m\u001b[0mshape\u001b[0m\u001b[0;34m\u001b[0m\u001b[0;34m\u001b[0m\u001b[0m\n\u001b[0m",
      "\u001b[0;32mmtrand.pyx\u001b[0m in \u001b[0;36mmtrand.RandomState.choice\u001b[0;34m()\u001b[0m\n",
      "\u001b[0;31mValueError\u001b[0m: Cannot take a larger sample than population when 'replace=False'"
     ]
    }
   ],
   "source": [
    "np.unique(np.random.choice(1000, size=1500, replace=False)).shape\n"
   ]
  },
  {
   "cell_type": "code",
   "execution_count": 50,
   "metadata": {},
   "outputs": [
    {
     "data": {
      "text/plain": [
       "[[-1.966383397690178,\n",
       "  0.10896951028633803,\n",
       "  -0.7697353581155413,\n",
       "  0.8645238691272116,\n",
       "  2.1777165217618264],\n",
       " [0.1585699484447738,\n",
       "  -0.7356703679140354,\n",
       "  -2.994234562989829,\n",
       "  nan,\n",
       "  -1.0896354643343662],\n",
       " [1.0681249553008874,\n",
       "  -0.6913438513454357,\n",
       "  0.41690670765652094,\n",
       "  -0.266141765310602,\n",
       "  nan]]"
      ]
     },
     "execution_count": 50,
     "metadata": {},
     "output_type": "execute_result"
    }
   ],
   "source": [
    "g[slice(None, None)].tolist()"
   ]
  },
  {
   "cell_type": "code",
   "execution_count": 58,
   "metadata": {},
   "outputs": [],
   "source": [
    "np.hypot?"
   ]
  },
  {
   "cell_type": "code",
   "execution_count": 1102,
   "metadata": {},
   "outputs": [],
   "source": [
    "def thurstone26_box(n_size=1000):\n",
    "    \"\"\"Creates the thursone 26 box problem for factor analysis.\n",
    "    \n",
    "    Args:\n",
    "        n_size:  Number of realizations\n",
    "    \n",
    "    Returns:\n",
    "        An ndarray of size [26 x n_size]\n",
    "    \"\"\"\n",
    "    x1 = np.random.randn(n_size) * .2 + 10\n",
    "    x2 = np.random.randn(n_size) * .2 + 10\n",
    "    x3 = np.random.randn(n_size) * .2 + 10\n",
    "    \n",
    "    output = np.zeros((26, n_size))\n",
    "    \n",
    "    # fill the data\n",
    "    output[0] = x1.copy()\n",
    "    output[1] = x2.copy()\n",
    "    output[2] = x3.copy()\n",
    "    output[3] = x1 * x2\n",
    "    output[4] = x1 * x3\n",
    "    output[5] = x2 * x3\n",
    "    output[6] = x1 * x1 * x2\n",
    "    output[7] = x1 * x2 * x2\n",
    "    output[8] = x1 * x1 * x3\n",
    "    output[9] = x1 * x3 * x3\n",
    "    output[10] = x2 * x2 * x3\n",
    "    output[11] = x2 * x3 * x3\n",
    "    output[12] = x1 / (x2 + 1e-23)\n",
    "    output[13] = x2 / (x1 + 1e-23)\n",
    "    output[14] = x1 / (x3 + 1e-23)\n",
    "    output[15] = x3 / (x1 + 1e-23)\n",
    "    output[16] = x2 / (x3 + 1e-23)\n",
    "    output[17] = x3 / (x2 + 1e-23)\n",
    "    output[18] = 2 * (x1 + x2)   \n",
    "    output[19] = 2 * (x1 + x3)\n",
    "    output[20] = 2 * (x2 + x3)\n",
    "    output[21] = np.hypot(x1, x2)\n",
    "    output[22] = np.hypot(x1, x3)\n",
    "    output[23] = np.hypot(x2, x3)\n",
    "    output[24] = x1 * x2 * x3\n",
    "    output[25] = np.sqrt(x1*x1 + x2*x2 + x3*x3)\n",
    "\n",
    "    return output"
   ]
  },
  {
   "cell_type": "code",
   "execution_count": 714,
   "metadata": {},
   "outputs": [],
   "source": [
    "from irt_source import IRTArray\n",
    "from irt_source import rasch_model, one_parameter_model, two_parameter_model"
   ]
  },
  {
   "cell_type": "code",
   "execution_count": 2,
   "metadata": {},
   "outputs": [],
   "source": [
    "import numpy as np\n",
    "import scipy as sp\n",
    "from scipy import integrate"
   ]
  },
  {
   "cell_type": "code",
   "execution_count": 211,
   "metadata": {},
   "outputs": [],
   "source": [
    "g = IRTArray([('Abilities', 15), ('Difficulty', np.random.randn(5)), ('Discrimination', np.random.randn(1))])\n",
    "k = np.array([1, 0, 0, 1])[:, None]"
   ]
  },
  {
   "cell_type": "code",
   "execution_count": 239,
   "metadata": {},
   "outputs": [
    {
     "data": {
      "text/plain": [
       "(IRTArray([0.42958082, 0.48360689, 0.5296868 , 0.47141115, 0.49877639]), None)"
      ]
     },
     "execution_count": 239,
     "metadata": {},
     "output_type": "execute_result"
    }
   ],
   "source": [
    "gaus = lambda x : 1 / np.sqrt(2 * np.pi) * np.exp(-np.square(x) / 2)\n",
    "\n",
    "def local_func(ability):\n",
    "    g['Abilities'] = ability\n",
    "    temp = one_parameter_model(g)\n",
    "    temp *= gaus(ability)[None, :]\n",
    "    return temp\n",
    "\n",
    "integrate.fixed_quad(local_func, -6, 6, n=15)"
   ]
  },
  {
   "cell_type": "code",
   "execution_count": 229,
   "metadata": {},
   "outputs": [],
   "source": [
    "alpha  = 1 / 1.7 / discrimination\n",
    "gamma = np.sqrt(1 + np.pi / np.square(alpha) / 8)"
   ]
  },
  {
   "cell_type": "code",
   "execution_count": 230,
   "metadata": {},
   "outputs": [],
   "source": [
    "the_int = lambda dif : 0.5 + 0.5 * np.erf(-1 * np.sqrt(np.pi) / 4 / gamma * dif)\n",
    "the_int2 = lambda dif : 1 / (1 + np.exp(dif / gamma / alpha))"
   ]
  },
  {
   "cell_type": "code",
   "execution_count": 182,
   "metadata": {},
   "outputs": [
    {
     "data": {
      "text/plain": [
       "IRTArray([ 1.39654805, -0.59773102,  0.01331596,  0.4377436 , -0.39657728])"
      ]
     },
     "execution_count": 182,
     "metadata": {},
     "output_type": "execute_result"
    }
   ],
   "source": [
    "g['Difficulty']"
   ]
  },
  {
   "cell_type": "code",
   "execution_count": 195,
   "metadata": {},
   "outputs": [
    {
     "data": {
      "text/plain": [
       "IRTArray([0.80845884, 0.54346301, 0.54332677, 0.19151238, 0.24766022])"
      ]
     },
     "execution_count": 195,
     "metadata": {},
     "output_type": "execute_result"
    }
   ],
   "source": [
    "the_int(g['Difficulty'])"
   ]
  },
  {
   "cell_type": "code",
   "execution_count": 231,
   "metadata": {},
   "outputs": [
    {
     "data": {
      "text/plain": [
       "IRTArray([0.4295191 , 0.48358471, 0.5297002 , 0.47137964, 0.49876596])"
      ]
     },
     "execution_count": 231,
     "metadata": {},
     "output_type": "execute_result"
    }
   ],
   "source": [
    "the_int2(g['Difficulty'])"
   ]
  },
  {
   "cell_type": "code",
   "execution_count": 235,
   "metadata": {},
   "outputs": [],
   "source": [
    "theta = np.linspace(-8, 8, 100001)\n",
    "difficulty = g['Difficulty'][1]\n",
    "discrimination = g['Discrimination'][0]\n",
    "test = IRTArray([('Abilities', theta), ('Difficulty', np.array([difficulty])), \n",
    "                 ('Discrimination', np.array([discrimination]))])\n",
    "probs = one_parameter_model(test)\n",
    "dist = 1 / np.sqrt(2 * np.pi) * np.exp(-np.square(theta) / 2) * 16 / 100000"
   ]
  },
  {
   "cell_type": "code",
   "execution_count": 236,
   "metadata": {},
   "outputs": [
    {
     "data": {
      "text/plain": [
       "IRTArray(0.48359775)"
      ]
     },
     "execution_count": 236,
     "metadata": {},
     "output_type": "execute_result"
    }
   ],
   "source": [
    "(probs * dist).sum()"
   ]
  },
  {
   "cell_type": "code",
   "execution_count": 237,
   "metadata": {},
   "outputs": [
    {
     "data": {
      "text/plain": [
       "0.48358471038762807"
      ]
     },
     "execution_count": 237,
     "metadata": {},
     "output_type": "execute_result"
    }
   ],
   "source": [
    "the_int2(difficulty)"
   ]
  },
  {
   "cell_type": "code",
   "execution_count": null,
   "metadata": {},
   "outputs": [],
   "source": [
    "def marginal_integral():\n",
    "    pass"
   ]
  },
  {
   "cell_type": "code",
   "execution_count": 3,
   "metadata": {},
   "outputs": [
    {
     "ename": "NameError",
     "evalue": "name 'gaus' is not defined",
     "output_type": "error",
     "traceback": [
      "\u001b[0;31m---------------------------------------------------------------------------\u001b[0m",
      "\u001b[0;31mNameError\u001b[0m                                 Traceback (most recent call last)",
      "\u001b[0;32m<ipython-input-3-f80bc46f4540>\u001b[0m in \u001b[0;36m<module>\u001b[0;34m\u001b[0m\n\u001b[1;32m      8\u001b[0m \u001b[0md\u001b[0m \u001b[0;34m=\u001b[0m\u001b[0;36m0\u001b[0m\u001b[0;34m\u001b[0m\u001b[0;34m\u001b[0m\u001b[0m\n\u001b[1;32m      9\u001b[0m \u001b[0mpfunc\u001b[0m \u001b[0;34m=\u001b[0m \u001b[0;36m1\u001b[0m \u001b[0;34m/\u001b[0m \u001b[0;34m(\u001b[0m\u001b[0;36m1\u001b[0m \u001b[0;34m+\u001b[0m \u001b[0mnp\u001b[0m\u001b[0;34m.\u001b[0m\u001b[0mexp\u001b[0m\u001b[0;34m(\u001b[0m\u001b[0;34m-\u001b[0m\u001b[0ma\u001b[0m\u001b[0;34m*\u001b[0m\u001b[0mt1\u001b[0m \u001b[0;34m-\u001b[0m \u001b[0mb\u001b[0m\u001b[0;34m*\u001b[0m\u001b[0mt2\u001b[0m \u001b[0;34m-\u001b[0m \u001b[0mc\u001b[0m\u001b[0;34m*\u001b[0m\u001b[0mt3\u001b[0m \u001b[0;34m+\u001b[0m \u001b[0md\u001b[0m\u001b[0;34m)\u001b[0m\u001b[0;34m)\u001b[0m\u001b[0;34m\u001b[0m\u001b[0;34m\u001b[0m\u001b[0m\n\u001b[0;32m---> 10\u001b[0;31m \u001b[0mgaust\u001b[0m \u001b[0;34m=\u001b[0m \u001b[0mnp\u001b[0m\u001b[0;34m.\u001b[0m\u001b[0mmultiply\u001b[0m\u001b[0;34m.\u001b[0m\u001b[0mouter\u001b[0m\u001b[0;34m(\u001b[0m\u001b[0mnp\u001b[0m\u001b[0;34m.\u001b[0m\u001b[0mouter\u001b[0m\u001b[0;34m(\u001b[0m\u001b[0mgaus\u001b[0m\u001b[0;34m(\u001b[0m\u001b[0mtheta1\u001b[0m\u001b[0;34m)\u001b[0m\u001b[0;34m,\u001b[0m \u001b[0mgaus\u001b[0m\u001b[0;34m(\u001b[0m\u001b[0mtheta2\u001b[0m\u001b[0;34m)\u001b[0m\u001b[0;34m)\u001b[0m \u001b[0;34m/\u001b[0m \u001b[0;36m100\u001b[0m\u001b[0;34m,\u001b[0m \u001b[0mgaus\u001b[0m\u001b[0;34m(\u001b[0m\u001b[0mtheta3\u001b[0m\u001b[0;34m)\u001b[0m\u001b[0;34m/\u001b[0m\u001b[0;36m10\u001b[0m\u001b[0;34m)\u001b[0m\u001b[0;34m\u001b[0m\u001b[0;34m\u001b[0m\u001b[0m\n\u001b[0m\u001b[1;32m     11\u001b[0m \u001b[0mprint\u001b[0m\u001b[0;34m(\u001b[0m\u001b[0;34m(\u001b[0m\u001b[0mpfunc\u001b[0m \u001b[0;34m*\u001b[0m \u001b[0mgaust\u001b[0m\u001b[0;34m)\u001b[0m\u001b[0;34m.\u001b[0m\u001b[0msum\u001b[0m\u001b[0;34m(\u001b[0m\u001b[0;34m)\u001b[0m\u001b[0;34m)\u001b[0m\u001b[0;34m\u001b[0m\u001b[0;34m\u001b[0m\u001b[0m\n\u001b[1;32m     12\u001b[0m \u001b[0;34m\u001b[0m\u001b[0m\n",
      "\u001b[0;31mNameError\u001b[0m: name 'gaus' is not defined"
     ]
    }
   ],
   "source": [
    "theta1 = np.linspace(-5, 5, 101)\n",
    "theta2 = np.linspace(-5, 5, 101)\n",
    "theta3 = np.linspace(-5, 5, 101)\n",
    "t1, t2, t3 = np.meshgrid(theta1, theta2, theta3)\n",
    "a = 2.3\n",
    "b = 1.7*2.3\n",
    "c = 0\n",
    "d =0\n",
    "pfunc = 1 / (1 + np.exp(-a*t1 - b*t2 - c*t3 + d))\n",
    "gaust = np.multiply.outer(np.outer(gaus(theta1), gaus(theta2)) / 100, gaus(theta3)/10)\n",
    "print((pfunc * gaust).sum())\n",
    "\n",
    "\n"
   ]
  },
  {
   "cell_type": "code",
   "execution_count": 273,
   "metadata": {},
   "outputs": [
    {
     "name": "stdout",
     "output_type": "stream",
     "text": [
      "0.5\n"
     ]
    }
   ],
   "source": [
    "denom = np.sqrt(1 + np.pi / 8 * (a*a + b*b + c*c))\n",
    "print(1 / (1 + np.exp(d / denom)))"
   ]
  },
  {
   "cell_type": "code",
   "execution_count": 1867,
   "metadata": {},
   "outputs": [],
   "source": [
    "from scipy.optimize import basinhopping\n",
    "n_items = 50\n",
    "n_takers = 1000\n",
    "abilities = np.random.randn(n_takers)\n",
    "difficulty =  np.linspace(-2., 2., n_items)\n",
    "discrimination = np.array([1.24]) #0.3*np.random.randn(n_items) + 1.5\n",
    "\n",
    "irt_true = IRTArray([('Abilities', abilities), ('Difficulty', difficulty), ('Discrimination', discrimination)])\n",
    "parms = one_parameter_model(irt_true)\n",
    "dataset = np.random.rand(n_items, n_takers) <= parms\n",
    "#dataset = parms.round(0)\n",
    "gaus = lambda x : 1 / np.sqrt(2 * np.pi) * np.exp(-np.square(x) / 2)\n"
   ]
  },
  {
   "cell_type": "code",
   "execution_count": 1879,
   "metadata": {},
   "outputs": [
    {
     "name": "stdout",
     "output_type": "stream",
     "text": [
      "0.3008158466927284\n",
      "0.32274030488495437\n",
      "0.3890151327375251\n",
      "0.3360037287206411\n",
      "0.44346402477269536\n",
      "0.41418176537477036\n",
      "0.4595243613259974\n",
      "0.5262871487039099\n",
      "0.6168910820787186\n",
      "0.5524140516647502\n",
      "0.6964270023941935\n",
      "0.7088821117384345\n",
      "0.918899141430207\n",
      "0.7955686376206274\n",
      "1.1085618735641756\n",
      "1.1219970133747899\n",
      "1.2737808177361034\n",
      "1.5180396770219804\n",
      "1.5660249929914407\n",
      "2.2811705796687916\n",
      "2.592566566769227\n",
      "3.2913825719581626\n",
      "3.6469164434023082\n",
      "8.821077721241043\n",
      "11.465352934194998\n",
      "-32.57006394489697\n",
      "-22.155588798754934\n",
      "-10.693512457845895\n",
      "-4.839075268263346\n",
      "-2.1040182782718935\n",
      "-2.1870487073238825\n",
      "-1.9946520702452493\n",
      "-1.2231832232621076\n",
      "-1.4253058103659242\n",
      "-1.3760829498215934\n",
      "-1.0588408310776176\n",
      "-0.8978086101976698\n",
      "-0.8933752160214025\n",
      "-0.6558612169363974\n",
      "-0.7080382377611483\n",
      "-0.5384489745198612\n",
      "-0.5997951515326974\n",
      "-0.5042983023740798\n",
      "-0.44403509402386493\n",
      "-0.4515107574204448\n",
      "-0.49349002759006966\n",
      "-0.36528892277928154\n",
      "-0.34345892310439996\n",
      "-0.3028089713377923\n",
      "-0.28034004924092143\n"
     ]
    }
   ],
   "source": [
    "for nd in range(dataset.shape[0]):\n",
    "    g = (abilities[dataset[nd]].mean() * np.count_nonzero(dataset[nd])) - (abilities[dataset[nd]==0].mean() * np.count_nonzero(dataset[nd]==0))\n",
    "    print(g / (np.count_nonzero(dataset[nd]) - np.count_nonzero(dataset[nd]==0)))"
   ]
  },
  {
   "cell_type": "code",
   "execution_count": 1873,
   "metadata": {},
   "outputs": [
    {
     "data": {
      "text/plain": [
       "-2.0"
      ]
     },
     "execution_count": 1873,
     "metadata": {},
     "output_type": "execute_result"
    }
   ],
   "source": [
    "difficulty[0]"
   ]
  },
  {
   "cell_type": "code",
   "execution_count": 1814,
   "metadata": {},
   "outputs": [],
   "source": [
    "dataset = np.fromfile('/home/ryan/Downloads/IRT tutorial/ouirt.dat',\n",
    "                      dtype='int', sep=\" \").reshape(500, 10).transpose()"
   ]
  },
  {
   "cell_type": "code",
   "execution_count": 1868,
   "metadata": {},
   "outputs": [],
   "source": [
    "yess = np.count_nonzero(dataset, axis=1)\n",
    "nooo = dataset.shape[1] - yess"
   ]
  },
  {
   "cell_type": "code",
   "execution_count": 691,
   "metadata": {},
   "outputs": [],
   "source": [
    "approx_int = lambda x, y: 1 / (1 + np.exp(x*discrimination  / np.sqrt(1 + np.pi*discrimination*discrimination /8)))"
   ]
  },
  {
   "cell_type": "code",
   "execution_count": 1921,
   "metadata": {},
   "outputs": [],
   "source": [
    "def min_func(guess):\n",
    "    probss = approx_int(guess[:-1], guess[-1]).clip(1e-23, 1 - 1e-23)\n",
    "    return -(yess * np.log(probss) + nooo * np.log(1 - probss)).sum()\n",
    "\n",
    "def local_func(ability, g):\n",
    "    g['Abilities'] = ability\n",
    "    temp = one_parameter_model(g)\n",
    "    temp *= gaus(ability)[None, :]\n",
    "    return temp\n",
    "    \n",
    "def min_func2(guess):\n",
    "    k = IRTArray([('Abilities', 21), ('Difficulty', nooo.size), ('Discrimination', np.array([guess]))])\n",
    "    k['Difficulty'] = np.sqrt(1 + np.pi * guess * guess / 8) * np.log(nooo / yess) / guess\n",
    "    probbs = integrate.fixed_quad(local_func, -3, 3, (k,), n=21)[0].clip(1e-23, .99999999)\n",
    "    print(probbs)\n",
    "    return -(yess * np.log(probbs) + nooo * np.log(1 - probbs)).sum()\n",
    "\n"
   ]
  },
  {
   "cell_type": "code",
   "execution_count": 1914,
   "metadata": {},
   "outputs": [
    {
     "data": {
      "text/plain": [
       "(IRTArray(28276.34609555), IRTArray(28397.39319713))"
      ]
     },
     "execution_count": 1914,
     "metadata": {},
     "output_type": "execute_result"
    }
   ],
   "source": [
    "x = np.pi * discrimination**2 / 8\n",
    "alpha = 1/discrimination\n",
    "beta = np.sqrt((1 + alpha * alpha * x) / (alpha*alpha * (1 + x)))\n",
    "guess = IRTArray([('Difficulty', difficulty), ('Discrimination', discrimination)])\n",
    "guess2 = IRTArray([('Difficulty', difficulty*beta), ('Discrimination', np.ones((1,)))])\n",
    "min_func(guess), min_func(guess2)"
   ]
  },
  {
   "cell_type": "code",
   "execution_count": 1926,
   "metadata": {},
   "outputs": [
    {
     "data": {
      "text/plain": [
       "array([-2.        , -1.91836735, -1.83673469, -1.75510204, -1.67346939,\n",
       "       -1.59183673, -1.51020408, -1.42857143, -1.34693878, -1.26530612,\n",
       "       -1.18367347, -1.10204082, -1.02040816, -0.93877551, -0.85714286,\n",
       "       -0.7755102 , -0.69387755, -0.6122449 , -0.53061224, -0.44897959,\n",
       "       -0.36734694, -0.28571429, -0.20408163, -0.12244898, -0.04081633,\n",
       "        0.04081633,  0.12244898,  0.20408163,  0.28571429,  0.36734694,\n",
       "        0.44897959,  0.53061224,  0.6122449 ,  0.69387755,  0.7755102 ,\n",
       "        0.85714286,  0.93877551,  1.02040816,  1.10204082,  1.18367347,\n",
       "        1.26530612,  1.34693878,  1.42857143,  1.51020408,  1.59183673,\n",
       "        1.67346939,  1.75510204,  1.83673469,  1.91836735,  2.        ])"
      ]
     },
     "execution_count": 1926,
     "metadata": {},
     "output_type": "execute_result"
    }
   ],
   "source": []
  },
  {
   "cell_type": "code",
   "execution_count": 1931,
   "metadata": {},
   "outputs": [
    {
     "data": {
      "text/plain": [
       "1.5100229599307664"
      ]
     },
     "execution_count": 1931,
     "metadata": {},
     "output_type": "execute_result"
    }
   ],
   "source": [
    "np.log(1 + np.exp(1 + np.exp(3 + np.sqrt(1 + np.pi / 8)*dr[0]))) - np.log(1 + np.exp(1 + np.exp(-3 + np.sqrt(1 + np.pi / 8)*dr[0])))"
   ]
  },
  {
   "cell_type": "code",
   "execution_count": null,
   "metadata": {},
   "outputs": [],
   "source": []
  },
  {
   "cell_type": "code",
   "execution_count": 1922,
   "metadata": {},
   "outputs": [
    {
     "name": "stdout",
     "output_type": "stream",
     "text": [
      "[0.88691702 0.8774964  0.85555585 0.86703938 0.84097811 0.83786055\n",
      " 0.83370746 0.79345282 0.7760479  0.78525139 0.74351953 0.76890648\n",
      " 0.71630001 0.74554382 0.68229094 0.68827242 0.65448062 0.63964618\n",
      " 0.63964618 0.59340216 0.57772577 0.56500767 0.56305236 0.52400111\n",
      " 0.51814975 0.49182573 0.48890089 0.47915046 0.4498795  0.39604874\n",
      " 0.39997438 0.38524239 0.34182912 0.34875836 0.35666634 0.31500926\n",
      " 0.29503814 0.29703955 0.22941273 0.25276867 0.22635482 0.23348578\n",
      " 0.19562662 0.1863553  0.18532366 0.18841767 0.16463035 0.14903899\n",
      " 0.12712521 0.1344393 ]\n",
      "[0.88773503 0.87821375 0.85605195 0.86764863 0.84134029 0.83819559\n",
      " 0.83400721 0.79346265 0.77596161 0.78521376 0.74329851 0.7687857\n",
      " 0.71600783 0.74532956 0.68195684 0.68794223 0.65414579 0.63932159\n",
      " 0.63932159 0.59314812 0.57750629 0.56481923 0.5628689  0.52392582\n",
      " 0.51809166 0.49184614 0.48893003 0.47920855 0.45002142 0.39631831\n",
      " 0.40023634 0.38553115 0.34216439 0.34908992 0.35699182 0.31534336\n",
      " 0.29535356 0.29735759 0.2295382  0.25298634 0.22646604 0.23362943\n",
      " 0.1955653  0.18623117 0.18519224 0.18830796 0.16433926 0.14861133\n",
      " 0.12648402 0.13387194]\n"
     ]
    },
    {
     "data": {
      "text/plain": [
       "(IRTArray(28245.17557774), IRTArray(28245.27811795))"
      ]
     },
     "execution_count": 1922,
     "metadata": {},
     "output_type": "execute_result"
    }
   ],
   "source": [
    "min_func2(1.), min_func2(1.2)"
   ]
  },
  {
   "cell_type": "code",
   "execution_count": 1902,
   "metadata": {},
   "outputs": [],
   "source": [
    "v = np.concatenate((np.sqrt(1 + np.pi/8) *np.log(nooo / yess),))"
   ]
  },
  {
   "cell_type": "code",
   "execution_count": 1903,
   "metadata": {},
   "outputs": [
    {
     "ename": "ValueError",
     "evalue": "all the input arrays must have same number of dimensions",
     "output_type": "error",
     "traceback": [
      "\u001b[0;31m---------------------------------------------------------------------------\u001b[0m",
      "\u001b[0;31mValueError\u001b[0m                                Traceback (most recent call last)",
      "\u001b[0;32m<ipython-input-1903-df725314be79>\u001b[0m in \u001b[0;36m<module>\u001b[0;34m\u001b[0m\n\u001b[1;32m      1\u001b[0m \u001b[0mminimizer_kwargs\u001b[0m \u001b[0;34m=\u001b[0m \u001b[0;34m{\u001b[0m\u001b[0;34m'method'\u001b[0m\u001b[0;34m:\u001b[0m \u001b[0;34m'SLSQP'\u001b[0m\u001b[0;34m}\u001b[0m\u001b[0;34m\u001b[0m\u001b[0;34m\u001b[0m\u001b[0m\n\u001b[1;32m      2\u001b[0m result = basinhopping(min_func2, [1.0], niter_success=10,\n\u001b[0;32m----> 3\u001b[0;31m                       minimizer_kwargs=minimizer_kwargs)\n\u001b[0m",
      "\u001b[0;32m~/anaconda3/lib/python3.7/site-packages/scipy/optimize/_basinhopping.py\u001b[0m in \u001b[0;36mbasinhopping\u001b[0;34m(func, x0, niter, T, stepsize, minimizer_kwargs, take_step, accept_test, callback, interval, disp, niter_success, seed)\u001b[0m\n\u001b[1;32m    668\u001b[0m \u001b[0;34m\u001b[0m\u001b[0m\n\u001b[1;32m    669\u001b[0m     bh = BasinHoppingRunner(x0, wrapped_minimizer, take_step_wrapped,\n\u001b[0;32m--> 670\u001b[0;31m                             accept_tests, disp=disp)\n\u001b[0m\u001b[1;32m    671\u001b[0m \u001b[0;34m\u001b[0m\u001b[0m\n\u001b[1;32m    672\u001b[0m     \u001b[0;31m# start main iteration loop\u001b[0m\u001b[0;34m\u001b[0m\u001b[0;34m\u001b[0m\u001b[0;34m\u001b[0m\u001b[0m\n",
      "\u001b[0;32m~/anaconda3/lib/python3.7/site-packages/scipy/optimize/_basinhopping.py\u001b[0m in \u001b[0;36m__init__\u001b[0;34m(self, x0, minimizer, step_taking, accept_tests, disp)\u001b[0m\n\u001b[1;32m     73\u001b[0m \u001b[0;34m\u001b[0m\u001b[0m\n\u001b[1;32m     74\u001b[0m         \u001b[0;31m# do initial minimization\u001b[0m\u001b[0;34m\u001b[0m\u001b[0;34m\u001b[0m\u001b[0;34m\u001b[0m\u001b[0m\n\u001b[0;32m---> 75\u001b[0;31m         \u001b[0mminres\u001b[0m \u001b[0;34m=\u001b[0m \u001b[0mminimizer\u001b[0m\u001b[0;34m(\u001b[0m\u001b[0mself\u001b[0m\u001b[0;34m.\u001b[0m\u001b[0mx\u001b[0m\u001b[0;34m)\u001b[0m\u001b[0;34m\u001b[0m\u001b[0;34m\u001b[0m\u001b[0m\n\u001b[0m\u001b[1;32m     76\u001b[0m         \u001b[0;32mif\u001b[0m \u001b[0;32mnot\u001b[0m \u001b[0mminres\u001b[0m\u001b[0;34m.\u001b[0m\u001b[0msuccess\u001b[0m\u001b[0;34m:\u001b[0m\u001b[0;34m\u001b[0m\u001b[0;34m\u001b[0m\u001b[0m\n\u001b[1;32m     77\u001b[0m             \u001b[0mself\u001b[0m\u001b[0;34m.\u001b[0m\u001b[0mres\u001b[0m\u001b[0;34m.\u001b[0m\u001b[0mminimization_failures\u001b[0m \u001b[0;34m+=\u001b[0m \u001b[0;36m1\u001b[0m\u001b[0;34m\u001b[0m\u001b[0;34m\u001b[0m\u001b[0m\n",
      "\u001b[0;32m~/anaconda3/lib/python3.7/site-packages/scipy/optimize/_basinhopping.py\u001b[0m in \u001b[0;36m__call__\u001b[0;34m(self, x0)\u001b[0m\n\u001b[1;32m    285\u001b[0m             \u001b[0;32mreturn\u001b[0m \u001b[0mself\u001b[0m\u001b[0;34m.\u001b[0m\u001b[0mminimizer\u001b[0m\u001b[0;34m(\u001b[0m\u001b[0mx0\u001b[0m\u001b[0;34m,\u001b[0m \u001b[0;34m**\u001b[0m\u001b[0mself\u001b[0m\u001b[0;34m.\u001b[0m\u001b[0mkwargs\u001b[0m\u001b[0;34m)\u001b[0m\u001b[0;34m\u001b[0m\u001b[0;34m\u001b[0m\u001b[0m\n\u001b[1;32m    286\u001b[0m         \u001b[0;32melse\u001b[0m\u001b[0;34m:\u001b[0m\u001b[0;34m\u001b[0m\u001b[0;34m\u001b[0m\u001b[0m\n\u001b[0;32m--> 287\u001b[0;31m             \u001b[0;32mreturn\u001b[0m \u001b[0mself\u001b[0m\u001b[0;34m.\u001b[0m\u001b[0mminimizer\u001b[0m\u001b[0;34m(\u001b[0m\u001b[0mself\u001b[0m\u001b[0;34m.\u001b[0m\u001b[0mfunc\u001b[0m\u001b[0;34m,\u001b[0m \u001b[0mx0\u001b[0m\u001b[0;34m,\u001b[0m \u001b[0;34m**\u001b[0m\u001b[0mself\u001b[0m\u001b[0;34m.\u001b[0m\u001b[0mkwargs\u001b[0m\u001b[0;34m)\u001b[0m\u001b[0;34m\u001b[0m\u001b[0;34m\u001b[0m\u001b[0m\n\u001b[0m\u001b[1;32m    288\u001b[0m \u001b[0;34m\u001b[0m\u001b[0m\n\u001b[1;32m    289\u001b[0m \u001b[0;34m\u001b[0m\u001b[0m\n",
      "\u001b[0;32m~/anaconda3/lib/python3.7/site-packages/scipy/optimize/_minimize.py\u001b[0m in \u001b[0;36mminimize\u001b[0;34m(fun, x0, args, method, jac, hess, hessp, bounds, constraints, tol, callback, options)\u001b[0m\n\u001b[1;32m    609\u001b[0m     \u001b[0;32melif\u001b[0m \u001b[0mmeth\u001b[0m \u001b[0;34m==\u001b[0m \u001b[0;34m'slsqp'\u001b[0m\u001b[0;34m:\u001b[0m\u001b[0;34m\u001b[0m\u001b[0;34m\u001b[0m\u001b[0m\n\u001b[1;32m    610\u001b[0m         return _minimize_slsqp(fun, x0, args, jac, bounds,\n\u001b[0;32m--> 611\u001b[0;31m                                constraints, callback=callback, **options)\n\u001b[0m\u001b[1;32m    612\u001b[0m     \u001b[0;32melif\u001b[0m \u001b[0mmeth\u001b[0m \u001b[0;34m==\u001b[0m \u001b[0;34m'trust-constr'\u001b[0m\u001b[0;34m:\u001b[0m\u001b[0;34m\u001b[0m\u001b[0;34m\u001b[0m\u001b[0m\n\u001b[1;32m    613\u001b[0m         return _minimize_trustregion_constr(fun, x0, args, jac, hess, hessp,\n",
      "\u001b[0;32m~/anaconda3/lib/python3.7/site-packages/scipy/optimize/slsqp.py\u001b[0m in \u001b[0;36m_minimize_slsqp\u001b[0;34m(func, x0, args, jac, bounds, constraints, maxiter, ftol, iprint, disp, eps, callback, **unknown_options)\u001b[0m\n\u001b[1;32m    377\u001b[0m \u001b[0;34m\u001b[0m\u001b[0m\n\u001b[1;32m    378\u001b[0m             \u001b[0;31m# Compute objective function\u001b[0m\u001b[0;34m\u001b[0m\u001b[0;34m\u001b[0m\u001b[0;34m\u001b[0m\u001b[0m\n\u001b[0;32m--> 379\u001b[0;31m             \u001b[0mfx\u001b[0m \u001b[0;34m=\u001b[0m \u001b[0mfunc\u001b[0m\u001b[0;34m(\u001b[0m\u001b[0mx\u001b[0m\u001b[0;34m)\u001b[0m\u001b[0;34m\u001b[0m\u001b[0;34m\u001b[0m\u001b[0m\n\u001b[0m\u001b[1;32m    380\u001b[0m             \u001b[0;32mtry\u001b[0m\u001b[0;34m:\u001b[0m\u001b[0;34m\u001b[0m\u001b[0;34m\u001b[0m\u001b[0m\n\u001b[1;32m    381\u001b[0m                 \u001b[0mfx\u001b[0m \u001b[0;34m=\u001b[0m \u001b[0mfloat\u001b[0m\u001b[0;34m(\u001b[0m\u001b[0mnp\u001b[0m\u001b[0;34m.\u001b[0m\u001b[0masarray\u001b[0m\u001b[0;34m(\u001b[0m\u001b[0mfx\u001b[0m\u001b[0;34m)\u001b[0m\u001b[0;34m)\u001b[0m\u001b[0;34m\u001b[0m\u001b[0;34m\u001b[0m\u001b[0m\n",
      "\u001b[0;32m~/anaconda3/lib/python3.7/site-packages/scipy/optimize/optimize.py\u001b[0m in \u001b[0;36mfunction_wrapper\u001b[0;34m(*wrapper_args)\u001b[0m\n\u001b[1;32m    291\u001b[0m     \u001b[0;32mdef\u001b[0m \u001b[0mfunction_wrapper\u001b[0m\u001b[0;34m(\u001b[0m\u001b[0;34m*\u001b[0m\u001b[0mwrapper_args\u001b[0m\u001b[0;34m)\u001b[0m\u001b[0;34m:\u001b[0m\u001b[0;34m\u001b[0m\u001b[0;34m\u001b[0m\u001b[0m\n\u001b[1;32m    292\u001b[0m         \u001b[0mncalls\u001b[0m\u001b[0;34m[\u001b[0m\u001b[0;36m0\u001b[0m\u001b[0;34m]\u001b[0m \u001b[0;34m+=\u001b[0m \u001b[0;36m1\u001b[0m\u001b[0;34m\u001b[0m\u001b[0;34m\u001b[0m\u001b[0m\n\u001b[0;32m--> 293\u001b[0;31m         \u001b[0;32mreturn\u001b[0m \u001b[0mfunction\u001b[0m\u001b[0;34m(\u001b[0m\u001b[0;34m*\u001b[0m\u001b[0;34m(\u001b[0m\u001b[0mwrapper_args\u001b[0m \u001b[0;34m+\u001b[0m \u001b[0margs\u001b[0m\u001b[0;34m)\u001b[0m\u001b[0;34m)\u001b[0m\u001b[0;34m\u001b[0m\u001b[0;34m\u001b[0m\u001b[0m\n\u001b[0m\u001b[1;32m    294\u001b[0m \u001b[0;34m\u001b[0m\u001b[0m\n\u001b[1;32m    295\u001b[0m     \u001b[0;32mreturn\u001b[0m \u001b[0mncalls\u001b[0m\u001b[0;34m,\u001b[0m \u001b[0mfunction_wrapper\u001b[0m\u001b[0;34m\u001b[0m\u001b[0;34m\u001b[0m\u001b[0m\n",
      "\u001b[0;32m<ipython-input-1899-952fbddfdf38>\u001b[0m in \u001b[0;36mmin_func2\u001b[0;34m(guess)\u001b[0m\n\u001b[1;32m     10\u001b[0m \u001b[0;34m\u001b[0m\u001b[0m\n\u001b[1;32m     11\u001b[0m \u001b[0;32mdef\u001b[0m \u001b[0mmin_func2\u001b[0m\u001b[0;34m(\u001b[0m\u001b[0mguess\u001b[0m\u001b[0;34m)\u001b[0m\u001b[0;34m:\u001b[0m\u001b[0;34m\u001b[0m\u001b[0;34m\u001b[0m\u001b[0m\n\u001b[0;32m---> 12\u001b[0;31m     \u001b[0mk\u001b[0m \u001b[0;34m=\u001b[0m \u001b[0mIRTArray\u001b[0m\u001b[0;34m(\u001b[0m\u001b[0;34m[\u001b[0m\u001b[0;34m(\u001b[0m\u001b[0;34m'Abilities'\u001b[0m\u001b[0;34m,\u001b[0m \u001b[0;36m21\u001b[0m\u001b[0;34m)\u001b[0m\u001b[0;34m,\u001b[0m \u001b[0;34m(\u001b[0m\u001b[0;34m'Difficulty'\u001b[0m\u001b[0;34m,\u001b[0m \u001b[0mnooo\u001b[0m\u001b[0;34m.\u001b[0m\u001b[0msize\u001b[0m\u001b[0;34m)\u001b[0m\u001b[0;34m,\u001b[0m \u001b[0;34m(\u001b[0m\u001b[0;34m'Discrimination'\u001b[0m\u001b[0;34m,\u001b[0m \u001b[0mnp\u001b[0m\u001b[0;34m.\u001b[0m\u001b[0marray\u001b[0m\u001b[0;34m(\u001b[0m\u001b[0;34m[\u001b[0m\u001b[0mguess\u001b[0m\u001b[0;34m]\u001b[0m\u001b[0;34m)\u001b[0m\u001b[0;34m)\u001b[0m\u001b[0;34m]\u001b[0m\u001b[0;34m)\u001b[0m\u001b[0;34m\u001b[0m\u001b[0;34m\u001b[0m\u001b[0m\n\u001b[0m\u001b[1;32m     13\u001b[0m     \u001b[0mk\u001b[0m\u001b[0;34m[\u001b[0m\u001b[0;34m'Difficulty'\u001b[0m\u001b[0;34m]\u001b[0m \u001b[0;34m=\u001b[0m \u001b[0mnp\u001b[0m\u001b[0;34m.\u001b[0m\u001b[0msqrt\u001b[0m\u001b[0;34m(\u001b[0m\u001b[0;36m1\u001b[0m \u001b[0;34m+\u001b[0m \u001b[0mnp\u001b[0m\u001b[0;34m.\u001b[0m\u001b[0mpi\u001b[0m \u001b[0;34m*\u001b[0m \u001b[0mguess\u001b[0m \u001b[0;34m*\u001b[0m \u001b[0mguess\u001b[0m \u001b[0;34m/\u001b[0m \u001b[0;36m8\u001b[0m\u001b[0;34m)\u001b[0m \u001b[0;34m*\u001b[0m \u001b[0mnp\u001b[0m\u001b[0;34m.\u001b[0m\u001b[0mlog\u001b[0m\u001b[0;34m(\u001b[0m\u001b[0mnooo\u001b[0m \u001b[0;34m/\u001b[0m \u001b[0myess\u001b[0m\u001b[0;34m)\u001b[0m\u001b[0;34m\u001b[0m\u001b[0;34m\u001b[0m\u001b[0m\n\u001b[1;32m     14\u001b[0m     \u001b[0mprobbs\u001b[0m \u001b[0;34m=\u001b[0m \u001b[0mintegrate\u001b[0m\u001b[0;34m.\u001b[0m\u001b[0mfixed_quad\u001b[0m\u001b[0;34m(\u001b[0m\u001b[0mlocal_func\u001b[0m\u001b[0;34m,\u001b[0m \u001b[0;34m-\u001b[0m\u001b[0;36m6\u001b[0m\u001b[0;34m,\u001b[0m \u001b[0;36m6\u001b[0m\u001b[0;34m,\u001b[0m \u001b[0;34m(\u001b[0m\u001b[0mk\u001b[0m\u001b[0;34m,\u001b[0m\u001b[0;34m)\u001b[0m\u001b[0;34m,\u001b[0m \u001b[0mn\u001b[0m\u001b[0;34m=\u001b[0m\u001b[0;36m21\u001b[0m\u001b[0;34m)\u001b[0m\u001b[0;34m[\u001b[0m\u001b[0;36m0\u001b[0m\u001b[0;34m]\u001b[0m\u001b[0;34m.\u001b[0m\u001b[0mclip\u001b[0m\u001b[0;34m(\u001b[0m\u001b[0;36m1e-23\u001b[0m\u001b[0;34m,\u001b[0m \u001b[0;36m.99999999\u001b[0m\u001b[0;34m)\u001b[0m\u001b[0;34m\u001b[0m\u001b[0;34m\u001b[0m\u001b[0m\n",
      "\u001b[0;32m~/python_libs/lib/python3.7/site-packages/irt_dev-0.1-py3.7.egg/irt_source/irt_array.py\u001b[0m in \u001b[0;36m__new__\u001b[0;34m(cls, input_array, metadata)\u001b[0m\n\u001b[1;32m     44\u001b[0m                     \u001b[0mstart_index\u001b[0m \u001b[0;34m+=\u001b[0m \u001b[0mother\u001b[0m\u001b[0;34m\u001b[0m\u001b[0;34m\u001b[0m\u001b[0m\n\u001b[1;32m     45\u001b[0m \u001b[0;34m\u001b[0m\u001b[0m\n\u001b[0;32m---> 46\u001b[0;31m             \u001b[0mobj\u001b[0m \u001b[0;34m=\u001b[0m \u001b[0mnp\u001b[0m\u001b[0;34m.\u001b[0m\u001b[0mconcatenate\u001b[0m\u001b[0;34m(\u001b[0m\u001b[0mdata_arrays\u001b[0m\u001b[0;34m)\u001b[0m\u001b[0;34m.\u001b[0m\u001b[0mview\u001b[0m\u001b[0;34m(\u001b[0m\u001b[0mcls\u001b[0m\u001b[0;34m)\u001b[0m\u001b[0;34m\u001b[0m\u001b[0;34m\u001b[0m\u001b[0m\n\u001b[0m\u001b[1;32m     47\u001b[0m \u001b[0;34m\u001b[0m\u001b[0m\n\u001b[1;32m     48\u001b[0m         \u001b[0;32melse\u001b[0m\u001b[0;34m:\u001b[0m \u001b[0;31m# IRT Array from basic array\u001b[0m\u001b[0;34m\u001b[0m\u001b[0;34m\u001b[0m\u001b[0m\n",
      "\u001b[0;31mValueError\u001b[0m: all the input arrays must have same number of dimensions"
     ]
    }
   ],
   "source": [
    "minimizer_kwargs = {'method': 'SLSQP'}\n",
    "result = basinhopping(min_func2, [1.0], niter_success=10,\n",
    "                      minimizer_kwargs=minimizer_kwargs)"
   ]
  },
  {
   "cell_type": "code",
   "execution_count": 1607,
   "metadata": {},
   "outputs": [],
   "source": [
    "dr = result.x / np.sqrt(1 + np.pi / 8)"
   ]
  },
  {
   "cell_type": "code",
   "execution_count": 750,
   "metadata": {},
   "outputs": [
    {
     "data": {
      "text/plain": [
       "array([2.04704906, 1.1857837 , 0.90041105, 1.0224841 , 0.29418546,\n",
       "       0.92225091, 0.41977532, 0.8144629 , 0.90041105, 3.05262122])"
      ]
     },
     "execution_count": 750,
     "metadata": {},
     "output_type": "execute_result"
    }
   ],
   "source": [
    "gamma2 = np.sqrt(1 + np.pi / 8)\n",
    "(gamma2 * np.log(nooo/yess))"
   ]
  },
  {
   "cell_type": "code",
   "execution_count": 738,
   "metadata": {},
   "outputs": [
    {
     "data": {
      "text/plain": [
       "1.0519562044173174"
      ]
     },
     "execution_count": 738,
     "metadata": {},
     "output_type": "execute_result"
    }
   ],
   "source": [
    "2.03374693 / 1.9333"
   ]
  },
  {
   "cell_type": "code",
   "execution_count": 749,
   "metadata": {},
   "outputs": [
    {
     "data": {
      "text/plain": [
       "IRTArray(2869.00323776)"
      ]
     },
     "execution_count": 749,
     "metadata": {},
     "output_type": "execute_result"
    }
   ],
   "source": [
    " min_func2(result.x)"
   ]
  },
  {
   "cell_type": "code",
   "execution_count": 744,
   "metadata": {},
   "outputs": [
    {
     "data": {
      "text/plain": [
       "IRTArray(2869.00323776)"
      ]
     },
     "execution_count": 744,
     "metadata": {},
     "output_type": "execute_result"
    }
   ],
   "source": [
    " min_func2(result.x)"
   ]
  },
  {
   "cell_type": "code",
   "execution_count": 454,
   "metadata": {},
   "outputs": [
    {
     "data": {
      "text/plain": [
       "(IRTArray(335879.80475343), IRTArray(155330.17192098))"
      ]
     },
     "execution_count": 454,
     "metadata": {},
     "output_type": "execute_result"
    }
   ],
   "source": [
    "min_func(result.x), min_func2(result.x)"
   ]
  },
  {
   "cell_type": "code",
   "execution_count": 552,
   "metadata": {},
   "outputs": [
    {
     "data": {
      "text/plain": [
       "[(-2.346176735179492, -2.5),\n",
       " (-2.3505982932659495, -2.4494949494949494),\n",
       " (-2.1942053915259914, -2.398989898989899),\n",
       " (-2.1675672846197545, -2.3484848484848486),\n",
       " (-2.1941997508137683, -2.297979797979798),\n",
       " (-2.1600740923733426, -2.2474747474747474),\n",
       " (-2.049557497693188, -2.196969696969697),\n",
       " (-2.0293085873361214, -2.1464646464646466),\n",
       " (-2.022632208631022, -2.095959595959596),\n",
       " (-1.9204889910638572, -2.0454545454545454),\n",
       " (-1.8753696862538798, -1.9949494949494948),\n",
       " (-1.8035791400382655, -1.9444444444444444),\n",
       " (-1.828953954063634, -1.893939393939394),\n",
       " (-1.756948040108078, -1.8434343434343434),\n",
       " (-1.6558381165009284, -1.7929292929292928),\n",
       " (-1.6043740836414275, -1.7424242424242424),\n",
       " (-1.585263868288697, -1.691919191919192),\n",
       " (-1.5248880148579174, -1.6414141414141414),\n",
       " (-1.462601006757598, -1.5909090909090908),\n",
       " (-1.466961430661392, -1.5404040404040404),\n",
       " (-1.4867508430752758, -1.4898989898989898),\n",
       " (-1.373827595259801, -1.4393939393939394),\n",
       " (-1.313417076194229, -1.3888888888888888),\n",
       " (-1.2212763113140057, -1.3383838383838385),\n",
       " (-1.2194074500729426, -1.2878787878787878),\n",
       " (-1.1250692675173608, -1.2373737373737375),\n",
       " (-1.1039870842749673, -1.1868686868686869),\n",
       " (-1.0455667263250925, -1.1363636363636365),\n",
       " (-0.9546586146773602, -1.0858585858585859),\n",
       " (-0.9369648770345514, -1.0353535353535355),\n",
       " (-0.8988582219027906, -0.9848484848484849),\n",
       " (-0.8367967650540735, -0.9343434343434345),\n",
       " (-0.8878638645110731, -0.8838383838383839),\n",
       " (-0.7718869628847842, -0.8333333333333333),\n",
       " (-0.66969286101297, -0.7828282828282829),\n",
       " (-0.5933350827958468, -0.7323232323232323),\n",
       " (-0.6157602693753764, -0.6818181818181819),\n",
       " (-0.5283627776359919, -0.6313131313131313),\n",
       " (-0.5420798519639073, -0.5808080808080809),\n",
       " (-0.43773224288659784, -0.5303030303030303),\n",
       " (-0.49565146359846035, -0.47979797979797967),\n",
       " (-0.39912412059242236, -0.4292929292929295),\n",
       " (-0.3463964622162644, -0.3787878787878789),\n",
       " (-0.2721243781782292, -0.3282828282828283),\n",
       " (-0.23466947546333727, -0.2777777777777777),\n",
       " (-0.15004738902259565, -0.22727272727272751),\n",
       " (-0.17049585701006414, -0.1767676767676769),\n",
       " (-0.1615466604498449, -0.1262626262626263),\n",
       " (-0.05330694981070608, -0.07575757575757569),\n",
       " (-0.020304640106870137, -0.025252525252525082),\n",
       " (-0.011421217233056146, 0.025252525252525082),\n",
       " (0.06855365693860506, 0.07575757575757569),\n",
       " (0.08888710805857207, 0.1262626262626263),\n",
       " (0.13600578658645388, 0.1767676767676769),\n",
       " (0.16282248294914617, 0.22727272727272707),\n",
       " (0.2346663161028956, 0.2777777777777777),\n",
       " (0.30328394996280206, 0.3282828282828283),\n",
       " (0.3660992031141664, 0.3787878787878789),\n",
       " (0.37400517890037466, 0.42929292929292906),\n",
       " (0.3555789261814155, 0.47979797979797967),\n",
       " (0.4444213867238725, 0.5303030303030303),\n",
       " (0.5891495386907988, 0.5808080808080809),\n",
       " (0.5780117843355843, 0.631313131313131),\n",
       " (0.679737888739802, 0.6818181818181817),\n",
       " (0.7217531424663931, 0.7323232323232323),\n",
       " (0.7100973957133674, 0.7828282828282829),\n",
       " (0.7042869795054232, 0.8333333333333335),\n",
       " (0.8276299091512244, 0.8838383838383836),\n",
       " (0.9178228279162101, 0.9343434343434343),\n",
       " (0.9051565265216877, 0.9848484848484849),\n",
       " (0.900433395759779, 1.0353535353535355),\n",
       " (0.9417749662481133, 1.0858585858585856),\n",
       " (1.0388097240366778, 1.1363636363636362),\n",
       " (1.0642686761839317, 1.1868686868686869),\n",
       " (1.0866171545184937, 1.2373737373737375),\n",
       " (1.167972969176969, 1.2878787878787876),\n",
       " (1.208252712533777, 1.3383838383838382),\n",
       " (1.2514240352253811, 1.3888888888888888),\n",
       " (1.319356185669143, 1.4393939393939394),\n",
       " (1.3615425803779915, 1.4898989898989896),\n",
       " (1.5158271954366511, 1.5404040404040407),\n",
       " (1.5045691872223115, 1.5909090909090908),\n",
       " (1.4626012557073886, 1.641414141414141),\n",
       " (1.518086520319845, 1.691919191919192),\n",
       " (1.559404430279494, 1.7424242424242422),\n",
       " (1.7596398580654673, 1.7929292929292933),\n",
       " (1.7841684826045763, 1.8434343434343434),\n",
       " (1.7596397175930545, 1.8939393939393936),\n",
       " (1.8007830419231314, 1.9444444444444446),\n",
       " (1.8783391700712497, 1.9949494949494948),\n",
       " (2.0061000201654644, 2.045454545454545),\n",
       " (1.996291141673788, 2.095959595959596),\n",
       " (1.9578081303291617, 2.146464646464646),\n",
       " (2.0946679568680007, 2.1969696969696972),\n",
       " (2.2615234059297227, 2.2474747474747474),\n",
       " (2.368358209514457, 2.2979797979797976),\n",
       " (2.2136128472993426, 2.3484848484848486),\n",
       " (2.2333250963999762, 2.398989898989899),\n",
       " (2.2738337834339033, 2.44949494949495),\n",
       " (2.368359458773557, 2.5)]"
      ]
     },
     "execution_count": 552,
     "metadata": {},
     "output_type": "execute_result"
    }
   ],
   "source": [
    "list(zip(result.x[:-1]/discrimination, difficulty))"
   ]
  },
  {
   "cell_type": "code",
   "execution_count": 588,
   "metadata": {},
   "outputs": [
    {
     "data": {
      "text/plain": [
       "array([-2.90925915, -2.91474188, -2.72081469, -2.68778343, -2.72080769,\n",
       "       -2.67849187, -2.5414513 , -2.51634265, -2.50806394, -2.38140635,\n",
       "       -2.32545841, -2.23643813, -2.2679029 , -2.17861557, -2.05323926,\n",
       "       -1.98942386, -1.9657272 , -1.89086114, -1.81362525, -1.81903217,\n",
       "       -1.84357105, -1.70354622, -1.62863717, -1.51438263, -1.51206524,\n",
       "       -1.39508589, -1.36894398, -1.29650274, -1.18377668, -1.16183645,\n",
       "       -1.1145842 , -1.03762799, -1.10095119, -0.95713983, -0.83041915,\n",
       "       -0.7357355 , -0.76354273, -0.65516984, -0.67217902, -0.54278798,\n",
       "       -0.61460781, -0.49491391, -0.42953161, -0.33743423, -0.29099015,\n",
       "       -0.18605876, -0.21141486, -0.20031786, -0.06610062, -0.02517775,\n",
       "       -0.01416231,  0.08500653,  0.11022001,  0.16864718,  0.20189988,\n",
       "        0.29098623,  0.3760721 ,  0.45396301,  0.46376642,  0.44091787,\n",
       "        0.55108252,  0.73054543,  0.71673461,  0.84287498,  0.8949739 ,\n",
       "        0.88052077,  0.87331585,  1.02626109,  1.13810031,  1.12239409,\n",
       "        1.11653741,  1.16780096,  1.28812406,  1.31969316,  1.34740527,\n",
       "        1.44828648,  1.49823336,  1.5517658 ,  1.63600167,  1.6883128 ,\n",
       "        1.87962572,  1.86566579,  1.81362556,  1.88242729,  1.93366149,\n",
       "        2.18195342,  2.21236892,  2.18195325,  2.23297097,  2.32914057,\n",
       "        2.48756403,  2.47540102,  2.42768208,  2.59738827,  2.80428902,\n",
       "        2.93676418,  2.74487993,  2.76932312,  2.81955389,  2.93676573,\n",
       "        1.0245531 ])"
      ]
     },
     "execution_count": 588,
     "metadata": {},
     "output_type": "execute_result"
    }
   ],
   "source": [
    "result.x"
   ]
  },
  {
   "cell_type": "code",
   "execution_count": 705,
   "metadata": {},
   "outputs": [],
   "source": [
    "gamma = np.sqrt(1 + np.pi * 1.3782**2 / 8) / 1.3782"
   ]
  },
  {
   "cell_type": "code",
   "execution_count": 706,
   "metadata": {},
   "outputs": [
    {
     "data": {
      "text/plain": [
       "array([1.66302144, 0.96332997, 0.7314934 , 0.83066548, 0.23899609,\n",
       "       0.74923609, 0.34102522, 0.66166917, 0.7314934 , 2.47994767])"
      ]
     },
     "execution_count": 706,
     "metadata": {},
     "output_type": "execute_result"
    }
   ],
   "source": [
    "gamma*np.log(nooo / yess)"
   ]
  },
  {
   "cell_type": "code",
   "execution_count": 702,
   "metadata": {},
   "outputs": [
    {
     "data": {
      "text/plain": [
       "1.234545564199988"
      ]
     },
     "execution_count": 702,
     "metadata": {},
     "output_type": "execute_result"
    }
   ],
   "source": [
    "2.0470 / 1.6581"
   ]
  },
  {
   "cell_type": "code",
   "execution_count": 664,
   "metadata": {},
   "outputs": [],
   "source": [
    "x = np.pi * discrimination**2 / 8\n",
    "alpha = 1/discrimination\n",
    "beta = np.sqrt((1 + alpha * alpha * x) / (alpha*alpha * (1 + x)))"
   ]
  },
  {
   "cell_type": "code",
   "execution_count": 668,
   "metadata": {},
   "outputs": [
    {
     "data": {
      "text/plain": [
       "IRTArray([-1.92054676, -2.01567304, -1.90580064, -1.94447144, -1.79578759,\n",
       "          -1.83709944, -1.72426513, -1.79307514, -1.67592875, -1.65603153,\n",
       "          -1.59072238, -1.52802803, -1.44155586, -1.43078869, -1.40099953,\n",
       "          -1.36757596, -1.39048509, -1.33681198, -1.23982956, -1.22446683,\n",
       "          -1.13476729, -1.12565243, -1.14943711, -1.03838159, -0.94943441,\n",
       "          -0.92772339, -0.97134761, -0.8395411 , -0.84114662, -0.84436062,\n",
       "          -0.82194454, -0.67894295, -0.72019484, -0.60094482, -0.62176873,\n",
       "          -0.5304331 , -0.49564519, -0.55232817, -0.44826395, -0.41268514,\n",
       "          -0.35485621, -0.31429551, -0.26012773, -0.26151179, -0.21733303,\n",
       "          -0.15827782, -0.12953865, -0.12270395, -0.05175718,  0.01634122,\n",
       "           0.04630708,  0.04630708,  0.13364084,  0.15964783,  0.19807074,\n",
       "           0.19807074,  0.2836902 ,  0.32964998,  0.35064794,  0.40135288,\n",
       "           0.39993808,  0.48267311,  0.50865661,  0.52606851,  0.58319204,\n",
       "           0.65324289,  0.68958548,  0.69263282,  0.6941576 ,  0.76670341,\n",
       "           0.87509463,  0.87184203,  0.90126843,  0.92274105,  1.01408616,\n",
       "           1.03838159,  1.07356748,  1.14392339,  1.1941073 ,  1.23021326,\n",
       "           1.30457344,  1.30857179,  1.29859242,  1.36757596,  1.41157881,\n",
       "           1.47427936,  1.51668306,  1.5789235 ,  1.56488053,  1.53716187,\n",
       "           1.63639068,  1.61940857,  1.70372249,  1.73986073,  1.83709944,\n",
       "           1.89120874,  1.94145811,  2.02844607,  1.97806137,  2.19214412])"
      ]
     },
     "execution_count": 668,
     "metadata": {},
     "output_type": "execute_result"
    }
   ],
   "source": [
    "gamma * np.log(nooo / yess) / discrimination"
   ]
  },
  {
   "cell_type": "code",
   "execution_count": 669,
   "metadata": {
    "scrolled": true
   },
   "outputs": [
    {
     "data": {
      "text/plain": [
       "array([-1.92055279, -2.01566781, -1.90580094, -1.94447172, -1.79579208,\n",
       "       -1.83709892, -1.72426474, -1.79308221, -1.67592444, -1.65603224,\n",
       "       -1.59072325, -1.52803008, -1.44155654, -1.43079568, -1.40100569,\n",
       "       -1.3675734 , -1.39048445, -1.33681144, -1.23983379, -1.22446375,\n",
       "       -1.13476703, -1.12565044, -1.14943631, -1.03838069, -0.94943384,\n",
       "       -0.92772415, -0.97134854, -0.83954091, -0.84114509, -0.84436417,\n",
       "       -0.82194012, -0.6789382 , -0.72019273, -0.60094378, -0.62176897,\n",
       "       -0.53043206, -0.49564253, -0.5523299 , -0.44826193, -0.41268511,\n",
       "       -0.3548571 , -0.31429478, -0.26012673, -0.26151092, -0.21733225,\n",
       "       -0.15827702, -0.12953848, -0.12270456, -0.0517582 ,  0.01633965,\n",
       "        0.04630611,  0.04631482,  0.13363967,  0.15964265,  0.19807235,\n",
       "        0.19807045,  0.28369057,  0.32964812,  0.35064796,  0.40135309,\n",
       "        0.39993722,  0.48267225,  0.50865596,  0.52607286,  0.58318834,\n",
       "        0.65324246,  0.68958382,  0.69264186,  0.69415842,  0.76670362,\n",
       "        0.8750942 ,  0.87184293,  0.90126811,  0.92274008,  1.01408784,\n",
       "        1.03838258,  1.07356581,  1.14392273,  1.19410857,  1.23021336,\n",
       "        1.30457236,  1.30856982,  1.29859373,  1.36757627,  1.4115709 ,\n",
       "        1.47427813,  1.51668713,  1.57893192,  1.56487401,  1.53715861,\n",
       "        1.63639042,  1.61940709,  1.70372143,  1.73985932,  1.83710019,\n",
       "        1.89120797,  1.94145834,  2.02844823,  1.9780686 ,  2.19216068])"
      ]
     },
     "execution_count": 669,
     "metadata": {},
     "output_type": "execute_result"
    }
   ],
   "source": [
    "result.x[:-1]"
   ]
  },
  {
   "cell_type": "code",
   "execution_count": 707,
   "metadata": {},
   "outputs": [],
   "source": [
    "discrimination = np.array([1.4183, 1.1445, 1.191, 1.6444, 1.3398, 1.4973, 0.8478, 1.5133, 1.8716, 2.1060])"
   ]
  },
  {
   "cell_type": "code",
   "execution_count": 709,
   "metadata": {},
   "outputs": [],
   "source": [
    "gamma = np.sqrt(1 + np.pi * discrimination**2 / 8) / discrimination"
   ]
  },
  {
   "cell_type": "code",
   "execution_count": 712,
   "metadata": {},
   "outputs": [
    {
     "data": {
      "text/plain": [
       "array([1.63625572, 1.08038793, 0.79937353, 0.756575  , 0.24294311,\n",
       "       0.71570847, 0.47509735, 0.62851505, 0.6283245 , 2.03374693])"
      ]
     },
     "execution_count": 712,
     "metadata": {},
     "output_type": "execute_result"
    }
   ],
   "source": [
    "gamma * np.log(nooo / yess)"
   ]
  },
  {
   "cell_type": "code",
   "execution_count": 756,
   "metadata": {},
   "outputs": [
    {
     "data": {
      "text/plain": [
       "0"
      ]
     },
     "execution_count": 756,
     "metadata": {},
     "output_type": "execute_result"
    }
   ],
   "source": [
    "dataset[0,0]"
   ]
  },
  {
   "cell_type": "code",
   "execution_count": 801,
   "metadata": {},
   "outputs": [
    {
     "data": {
      "text/plain": [
       "array([ 1.0028401 ,  0.77424018,  0.58839102, ..., -0.07468689,\n",
       "        0.04069331, -1.31097752])"
      ]
     },
     "execution_count": 801,
     "metadata": {},
     "output_type": "execute_result"
    }
   ],
   "source": [
    "abilities"
   ]
  },
  {
   "cell_type": "code",
   "execution_count": 1363,
   "metadata": {},
   "outputs": [],
   "source": [
    "a = np.linspace(0, 4, 1000)\n",
    "tes = lambda x, y, ndx : 1 / (1 + np.exp((-1)**(dataset[ndx, 2]) * x * (y - np.sqrt(1 + np.pi * x * x / 8)/x*np.log(nooo[ndx]/yess[ndx]))))"
   ]
  },
  {
   "cell_type": "code",
   "execution_count": 1368,
   "metadata": {},
   "outputs": [],
   "source": [
    "ax = np.linspace(-4, 4, 100)\n",
    "axo = np.zeros_like(ax)\n",
    "for ndd, abil in enumerate(ax):\n",
    "    v = np.ones(999)\n",
    "    for ndx in range(dataset.shape[0]):\n",
    "        v *= tes(a[1:], abil, ndx)\n",
    "    axo[ndd] = v.sum()"
   ]
  },
  {
   "cell_type": "code",
   "execution_count": 1276,
   "metadata": {},
   "outputs": [],
   "source": [
    "l = quadrature_func(a[1:], ax[50], dataset[:, 0], dr)"
   ]
  },
  {
   "cell_type": "code",
   "execution_count": 1250,
   "metadata": {},
   "outputs": [
    {
     "data": {
      "text/plain": [
       "1.6996770759446413e-60"
      ]
     },
     "execution_count": 1250,
     "metadata": {},
     "output_type": "execute_result"
    }
   ],
   "source": [
    "axo[50]"
   ]
  },
  {
   "cell_type": "code",
   "execution_count": 1353,
   "metadata": {},
   "outputs": [],
   "source": [
    "v = np.ones(999)\n",
    "for ndx in range(dataset.shape[0]):\n",
    "    v *= tes(a[1:], ax[50], ndx)"
   ]
  },
  {
   "cell_type": "code",
   "execution_count": 1354,
   "metadata": {},
   "outputs": [
    {
     "data": {
      "text/html": [
       "\n",
       "\n",
       "\n",
       "\n",
       "\n",
       "\n",
       "  <div class=\"bk-root\" id=\"6531a899-dbd6-417d-801f-daad8066446e\"></div>\n"
      ]
     },
     "metadata": {},
     "output_type": "display_data"
    },
    {
     "data": {
      "application/javascript": [
       "(function(root) {\n",
       "  function embed_document(root) {\n",
       "    \n",
       "  var docs_json = {\"deffc856-a500-4622-a0c9-e09c0b3c4d51\":{\"roots\":{\"references\":[{\"attributes\":{\"below\":[{\"id\":\"102930\",\"type\":\"LinearAxis\"}],\"left\":[{\"id\":\"102935\",\"type\":\"LinearAxis\"}],\"plot_height\":400,\"renderers\":[{\"id\":\"102930\",\"type\":\"LinearAxis\"},{\"id\":\"102934\",\"type\":\"Grid\"},{\"id\":\"102935\",\"type\":\"LinearAxis\"},{\"id\":\"102939\",\"type\":\"Grid\"},{\"id\":\"102948\",\"type\":\"BoxAnnotation\"},{\"id\":\"102958\",\"type\":\"GlyphRenderer\"},{\"id\":\"102963\",\"type\":\"GlyphRenderer\"}],\"title\":{\"id\":\"104351\",\"type\":\"Title\"},\"toolbar\":{\"id\":\"102946\",\"type\":\"Toolbar\"},\"x_range\":{\"id\":\"102922\",\"type\":\"DataRange1d\"},\"x_scale\":{\"id\":\"102926\",\"type\":\"LinearScale\"},\"y_range\":{\"id\":\"102924\",\"type\":\"DataRange1d\"},\"y_scale\":{\"id\":\"102928\",\"type\":\"LinearScale\"}},\"id\":\"102921\",\"subtype\":\"Figure\",\"type\":\"Plot\"},{\"attributes\":{\"overlay\":{\"id\":\"102948\",\"type\":\"BoxAnnotation\"}},\"id\":\"102942\",\"type\":\"BoxZoomTool\"},{\"attributes\":{},\"id\":\"102945\",\"type\":\"HelpTool\"},{\"attributes\":{},\"id\":\"102926\",\"type\":\"LinearScale\"},{\"attributes\":{\"data_source\":{\"id\":\"102960\",\"type\":\"ColumnDataSource\"},\"glyph\":{\"id\":\"102961\",\"type\":\"Line\"},\"hover_glyph\":null,\"muted_glyph\":null,\"nonselection_glyph\":{\"id\":\"102962\",\"type\":\"Line\"},\"selection_glyph\":null,\"view\":{\"id\":\"102964\",\"type\":\"CDSView\"}},\"id\":\"102963\",\"type\":\"GlyphRenderer\"},{\"attributes\":{\"plot\":null,\"text\":\"\"},\"id\":\"104351\",\"type\":\"Title\"},{\"attributes\":{\"data_source\":{\"id\":\"102955\",\"type\":\"ColumnDataSource\"},\"glyph\":{\"id\":\"102956\",\"type\":\"Line\"},\"hover_glyph\":null,\"muted_glyph\":null,\"nonselection_glyph\":{\"id\":\"102957\",\"type\":\"Line\"},\"selection_glyph\":null,\"view\":{\"id\":\"102959\",\"type\":\"CDSView\"}},\"id\":\"102958\",\"type\":\"GlyphRenderer\"},{\"attributes\":{\"callback\":null,\"data\":{\"x\":{\"__ndarray__\":\"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\",\"dtype\":\"float64\",\"shape\":[999]},\"y\":{\"__ndarray__\":\"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\",\"dtype\":\"float64\",\"shape\":[999]}},\"selected\":{\"id\":\"104359\",\"type\":\"Selection\"},\"selection_policy\":{\"id\":\"104358\",\"type\":\"UnionRenderers\"}},\"id\":\"102955\",\"type\":\"ColumnDataSource\"},{\"attributes\":{},\"id\":\"104358\",\"type\":\"UnionRenderers\"},{\"attributes\":{\"active_drag\":\"auto\",\"active_inspect\":\"auto\",\"active_multi\":null,\"active_scroll\":\"auto\",\"active_tap\":\"auto\",\"tools\":[{\"id\":\"102940\",\"type\":\"PanTool\"},{\"id\":\"102941\",\"type\":\"WheelZoomTool\"},{\"id\":\"102942\",\"type\":\"BoxZoomTool\"},{\"id\":\"102943\",\"type\":\"SaveTool\"},{\"id\":\"102944\",\"type\":\"ResetTool\"},{\"id\":\"102945\",\"type\":\"HelpTool\"}]},\"id\":\"102946\",\"type\":\"Toolbar\"},{\"attributes\":{\"callback\":null,\"data\":{\"x\":{\"__ndarray__\":\"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\",\"dtype\":\"float64\",\"shape\":[999]},\"y\":{\"__ndarray__\":\"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\",\"dtype\":\"float64\",\"shape\":[999]}},\"selected\":{\"id\":\"104361\",\"type\":\"Selection\"},\"selection_policy\":{\"id\":\"104360\",\"type\":\"UnionRenderers\"}},\"id\":\"102960\",\"type\":\"ColumnDataSource\"},{\"attributes\":{\"source\":{\"id\":\"102955\",\"type\":\"ColumnDataSource\"}},\"id\":\"102959\",\"type\":\"CDSView\"},{\"attributes\":{},\"id\":\"104360\",\"type\":\"UnionRenderers\"},{\"attributes\":{},\"id\":\"102931\",\"type\":\"BasicTicker\"},{\"attributes\":{},\"id\":\"104354\",\"type\":\"BasicTickFormatter\"},{\"attributes\":{\"source\":{\"id\":\"102960\",\"type\":\"ColumnDataSource\"}},\"id\":\"102964\",\"type\":\"CDSView\"},{\"attributes\":{\"bottom_units\":\"screen\",\"fill_alpha\":{\"value\":0.5},\"fill_color\":{\"value\":\"lightgrey\"},\"left_units\":\"screen\",\"level\":\"overlay\",\"line_alpha\":{\"value\":1.0},\"line_color\":{\"value\":\"black\"},\"line_dash\":[4,4],\"line_width\":{\"value\":2},\"plot\":null,\"render_mode\":\"css\",\"right_units\":\"screen\",\"top_units\":\"screen\"},\"id\":\"102948\",\"type\":\"BoxAnnotation\"},{\"attributes\":{\"line_color\":\"#1f77b4\",\"x\":{\"field\":\"x\"},\"y\":{\"field\":\"y\"}},\"id\":\"102956\",\"type\":\"Line\"},{\"attributes\":{\"line_color\":\"red\",\"x\":{\"field\":\"x\"},\"y\":{\"field\":\"y\"}},\"id\":\"102961\",\"type\":\"Line\"},{\"attributes\":{},\"id\":\"102940\",\"type\":\"PanTool\"},{\"attributes\":{\"dimension\":1,\"plot\":{\"id\":\"102921\",\"subtype\":\"Figure\",\"type\":\"Plot\"},\"ticker\":{\"id\":\"102936\",\"type\":\"BasicTicker\"}},\"id\":\"102939\",\"type\":\"Grid\"},{\"attributes\":{},\"id\":\"102944\",\"type\":\"ResetTool\"},{\"attributes\":{\"line_alpha\":0.1,\"line_color\":\"#1f77b4\",\"x\":{\"field\":\"x\"},\"y\":{\"field\":\"y\"}},\"id\":\"102962\",\"type\":\"Line\"},{\"attributes\":{\"formatter\":{\"id\":\"104354\",\"type\":\"BasicTickFormatter\"},\"plot\":{\"id\":\"102921\",\"subtype\":\"Figure\",\"type\":\"Plot\"},\"ticker\":{\"id\":\"102931\",\"type\":\"BasicTicker\"}},\"id\":\"102930\",\"type\":\"LinearAxis\"},{\"attributes\":{},\"id\":\"102928\",\"type\":\"LinearScale\"},{\"attributes\":{\"line_alpha\":0.1,\"line_color\":\"#1f77b4\",\"x\":{\"field\":\"x\"},\"y\":{\"field\":\"y\"}},\"id\":\"102957\",\"type\":\"Line\"},{\"attributes\":{\"plot\":{\"id\":\"102921\",\"subtype\":\"Figure\",\"type\":\"Plot\"},\"ticker\":{\"id\":\"102931\",\"type\":\"BasicTicker\"}},\"id\":\"102934\",\"type\":\"Grid\"},{\"attributes\":{\"formatter\":{\"id\":\"104356\",\"type\":\"BasicTickFormatter\"},\"plot\":{\"id\":\"102921\",\"subtype\":\"Figure\",\"type\":\"Plot\"},\"ticker\":{\"id\":\"102936\",\"type\":\"BasicTicker\"}},\"id\":\"102935\",\"type\":\"LinearAxis\"},{\"attributes\":{\"callback\":null},\"id\":\"102924\",\"type\":\"DataRange1d\"},{\"attributes\":{},\"id\":\"102941\",\"type\":\"WheelZoomTool\"},{\"attributes\":{},\"id\":\"102936\",\"type\":\"BasicTicker\"},{\"attributes\":{},\"id\":\"104356\",\"type\":\"BasicTickFormatter\"},{\"attributes\":{},\"id\":\"104359\",\"type\":\"Selection\"},{\"attributes\":{},\"id\":\"104361\",\"type\":\"Selection\"},{\"attributes\":{},\"id\":\"102943\",\"type\":\"SaveTool\"},{\"attributes\":{\"callback\":null},\"id\":\"102922\",\"type\":\"DataRange1d\"}],\"root_ids\":[\"102921\"]},\"title\":\"Bokeh Application\",\"version\":\"1.0.2\"}};\n",
       "  var render_items = [{\"docid\":\"deffc856-a500-4622-a0c9-e09c0b3c4d51\",\"roots\":{\"102921\":\"6531a899-dbd6-417d-801f-daad8066446e\"}}];\n",
       "  root.Bokeh.embed.embed_items_notebook(docs_json, render_items);\n",
       "\n",
       "  }\n",
       "  if (root.Bokeh !== undefined) {\n",
       "    embed_document(root);\n",
       "  } else {\n",
       "    var attempts = 0;\n",
       "    var timer = setInterval(function(root) {\n",
       "      if (root.Bokeh !== undefined) {\n",
       "        embed_document(root);\n",
       "        clearInterval(timer);\n",
       "      }\n",
       "      attempts++;\n",
       "      if (attempts > 100) {\n",
       "        console.log(\"Bokeh: ERROR: Unable to run BokehJS code because BokehJS library is missing\");\n",
       "        clearInterval(timer);\n",
       "      }\n",
       "    }, 10, root)\n",
       "  }\n",
       "})(window);"
      ],
      "application/vnd.bokehjs_exec.v0+json": ""
     },
     "metadata": {
      "application/vnd.bokehjs_exec.v0+json": {
       "id": "102921"
      }
     },
     "output_type": "display_data"
    }
   ],
   "source": [
    "p = figure(plot_width=600, plot_height=400)\n",
    "p.line(a[1:], l)\n",
    "p.line(a[1:], v, line_color='red')\n",
    "show(p)\n"
   ]
  },
  {
   "cell_type": "code",
   "execution_count": 1369,
   "metadata": {},
   "outputs": [
    {
     "data": {
      "text/html": [
       "\n",
       "\n",
       "\n",
       "\n",
       "\n",
       "\n",
       "  <div class=\"bk-root\" id=\"a37bac91-b09b-4843-810a-0f2515cce99d\"></div>\n"
      ]
     },
     "metadata": {},
     "output_type": "display_data"
    },
    {
     "data": {
      "application/javascript": [
       "(function(root) {\n",
       "  function embed_document(root) {\n",
       "    \n",
       "  var docs_json = {\"9f53f6cb-dfd9-4e56-93e8-318cd02fca62\":{\"roots\":{\"references\":[{\"attributes\":{\"below\":[{\"id\":\"110487\",\"type\":\"LinearAxis\"}],\"left\":[{\"id\":\"110492\",\"type\":\"LinearAxis\"}],\"plot_height\":400,\"renderers\":[{\"id\":\"110487\",\"type\":\"LinearAxis\"},{\"id\":\"110491\",\"type\":\"Grid\"},{\"id\":\"110492\",\"type\":\"LinearAxis\"},{\"id\":\"110496\",\"type\":\"Grid\"},{\"id\":\"110505\",\"type\":\"BoxAnnotation\"},{\"id\":\"110515\",\"type\":\"GlyphRenderer\"}],\"title\":{\"id\":\"111950\",\"type\":\"Title\"},\"toolbar\":{\"id\":\"110503\",\"type\":\"Toolbar\"},\"x_range\":{\"id\":\"110479\",\"type\":\"DataRange1d\"},\"x_scale\":{\"id\":\"110483\",\"type\":\"LinearScale\"},\"y_range\":{\"id\":\"110481\",\"type\":\"DataRange1d\"},\"y_scale\":{\"id\":\"110485\",\"type\":\"LinearScale\"}},\"id\":\"110478\",\"subtype\":\"Figure\",\"type\":\"Plot\"},{\"attributes\":{},\"id\":\"111955\",\"type\":\"BasicTickFormatter\"},{\"attributes\":{\"bottom_units\":\"screen\",\"fill_alpha\":{\"value\":0.5},\"fill_color\":{\"value\":\"lightgrey\"},\"left_units\":\"screen\",\"level\":\"overlay\",\"line_alpha\":{\"value\":1.0},\"line_color\":{\"value\":\"black\"},\"line_dash\":[4,4],\"line_width\":{\"value\":2},\"plot\":null,\"render_mode\":\"css\",\"right_units\":\"screen\",\"top_units\":\"screen\"},\"id\":\"110505\",\"type\":\"BoxAnnotation\"},{\"attributes\":{},\"id\":\"110498\",\"type\":\"WheelZoomTool\"},{\"attributes\":{},\"id\":\"111958\",\"type\":\"Selection\"},{\"attributes\":{},\"id\":\"110488\",\"type\":\"BasicTicker\"},{\"attributes\":{},\"id\":\"110497\",\"type\":\"PanTool\"},{\"attributes\":{},\"id\":\"110483\",\"type\":\"LinearScale\"},{\"attributes\":{},\"id\":\"110485\",\"type\":\"LinearScale\"},{\"attributes\":{\"line_alpha\":0.1,\"line_color\":\"#1f77b4\",\"x\":{\"field\":\"x\"},\"y\":{\"field\":\"y\"}},\"id\":\"110514\",\"type\":\"Line\"},{\"attributes\":{},\"id\":\"110500\",\"type\":\"SaveTool\"},{\"attributes\":{\"plot\":{\"id\":\"110478\",\"subtype\":\"Figure\",\"type\":\"Plot\"},\"ticker\":{\"id\":\"110488\",\"type\":\"BasicTicker\"}},\"id\":\"110491\",\"type\":\"Grid\"},{\"attributes\":{\"plot\":null,\"text\":\"\"},\"id\":\"111950\",\"type\":\"Title\"},{\"attributes\":{},\"id\":\"110502\",\"type\":\"HelpTool\"},{\"attributes\":{\"overlay\":{\"id\":\"110505\",\"type\":\"BoxAnnotation\"}},\"id\":\"110499\",\"type\":\"BoxZoomTool\"},{\"attributes\":{\"source\":{\"id\":\"110512\",\"type\":\"ColumnDataSource\"}},\"id\":\"110516\",\"type\":\"CDSView\"},{\"attributes\":{\"formatter\":{\"id\":\"111955\",\"type\":\"BasicTickFormatter\"},\"plot\":{\"id\":\"110478\",\"subtype\":\"Figure\",\"type\":\"Plot\"},\"ticker\":{\"id\":\"110493\",\"type\":\"BasicTicker\"}},\"id\":\"110492\",\"type\":\"LinearAxis\"},{\"attributes\":{\"callback\":null},\"id\":\"110481\",\"type\":\"DataRange1d\"},{\"attributes\":{\"data_source\":{\"id\":\"110512\",\"type\":\"ColumnDataSource\"},\"glyph\":{\"id\":\"110513\",\"type\":\"Line\"},\"hover_glyph\":null,\"muted_glyph\":null,\"nonselection_glyph\":{\"id\":\"110514\",\"type\":\"Line\"},\"selection_glyph\":null,\"view\":{\"id\":\"110516\",\"type\":\"CDSView\"}},\"id\":\"110515\",\"type\":\"GlyphRenderer\"},{\"attributes\":{},\"id\":\"111957\",\"type\":\"UnionRenderers\"},{\"attributes\":{},\"id\":\"110501\",\"type\":\"ResetTool\"},{\"attributes\":{\"dimension\":1,\"plot\":{\"id\":\"110478\",\"subtype\":\"Figure\",\"type\":\"Plot\"},\"ticker\":{\"id\":\"110493\",\"type\":\"BasicTicker\"}},\"id\":\"110496\",\"type\":\"Grid\"},{\"attributes\":{\"callback\":null},\"id\":\"110479\",\"type\":\"DataRange1d\"},{\"attributes\":{\"line_color\":\"#1f77b4\",\"x\":{\"field\":\"x\"},\"y\":{\"field\":\"y\"}},\"id\":\"110513\",\"type\":\"Line\"},{\"attributes\":{\"callback\":null,\"data\":{\"x\":{\"__ndarray__\":\"AAAAAAAAEMAFav1KgVoPwArU+pUCtQ7AED744IMPDsAVqPUrBWoNwBoS83aGxAzAH3zwwQcfDMAk5u0MiXkLwClQ61cK1ArALrrooosuCsA0JObtDIkJwDmO4ziO4wjAPvjggw8+CMBDYt7OkJgHwEjM2xkS8wbATjbZZJNNBsBSoNavFKgFwFgK1PqVAgXAXXTRRRddBMBi3s6QmLcDwGdIzNsZEgPAbLLJJptsAsByHMdxHMcBwHaGxLydIQHAfPDBBx98AMACtX6lQK3/vwyJeTtDYv6/Fl100UUX/b8gMW9nSMz7vywFav1Kgfq/Ntlkk002+b9ArV8pUOv3v0qBWr9SoPa/VFVVVVVV9b9eKVDrVwr0v2j9SoFav/K/dNFFF1108b9+pUCtXynwvxDzdobEvO2/JJtssskm6784Q2LezpDov0zrVwrU+uW/ZJNNNtlk4794O0Ni3s7gvxjHcRzHcdy/QBdddNFF179oZ0jM2xnSvyBvZ0jM28m/AB988MEHv79Av1Kg1q+kv4C/UqDWr6Q/QB988MEHvz9Ab2dIzNvJP3BnSMzbGdI/UBdddNFF1z8gx3Ecx3HcP4A7Q2LezuA/aJNNNtlk4z9Q61cK1PrlP0BDYt7OkOg/KJtssskm6z8Y83aGxLztP4ClQK1fKfA/eNFFF1108T9s/UqBWr/yP2ApUOtXCvQ/WFVVVVVV9T9MgVq/UqD2P0StXylQ6/c/ONlkk002+T8wBWr9SoH6PyQxb2dIzPs/GF100UUX/T8QiXk7Q2L+PwS1fqVArf8/fvDBBx98AEB4hsS8nSEBQHIcx3EcxwFAbrLJJptsAkBoSMzbGRIDQGTezpCYtwNAXnTRRRddBEBaCtT6lQIFQFSg1q8UqAVATjbZZJNNBkBKzNsZEvMGQERi3s6QmAdAQPjggw8+CEA6juM4juMIQDYk5u0MiQlAMLrooosuCkAqUOtXCtQKQCbm7QyJeQtAIHzwwQcfDEAcEvN2hsQMQBao9SsFag1AED744IMPDkAM1PqVArUOQAZq/UqBWg9AAAAAAAAAEEA=\",\"dtype\":\"float64\",\"shape\":[100]},\"y\":{\"__ndarray__\":\"FEKzsfOIJjTMoiOewQsnNLGyAo3WlCc06JrSi6skKDROZ9Q+xrsoNJTCG4+6Wik0BqPiniwCKjT0iLMR07IqNLpWCrl5bSs0p/rZuQQzLDSLlS9EdAQtNJ0LO/zo4i00C1S4O6nPLjRBGYpcJ8wvNM3K+aQEbTA0NM0Q05j9MDToLF9z5ZgxNIwWU3MqQDI0/btAx9r0MjTHBVmyprgzNIQWEYmIjTQ057DFnNR1NTS8350zTXQ2NLc+S7M7jDc0PUpue5DBODROX/pWCxk6NBnlZuhumDs0ARJ09MFGPTTCMCXIoSw/NNXFQl5UqkA01xChB/XlQTSqTfFRP1FDNCLsE9QH9kQ0NP9xjhTgRjTUKGHa5hxJNOalKU+Iuks0pTFVYPfDTjQMuX1kGhxRNGEnzrn2+lI00A940MHIVDSrrWbV4AVWNDJR19ZowFU0zbPi5kq3UjTBT/RbtQBJNCjfd8DNtDU0ABm1hDd0EzQefdP0xf7cM5s8ewW2ypAzVNXSPv2NMzNoRX0+IQXaMvyTXHKXJaMyf+L5Yuj/izLF5V3Ws5iAMsmeeJx/d3cyusxalIMXcjLmp+/pMV1tMq5IQ5vcpmgykq+KO2AzZTLQjnBAbpBiMulaT5cAfGAylAxgZZKaXTJwJ6wVZ9NaMhCTVFRhflgyNTcELxuCVjLNvPHaMsxUMkPnUG8GT1MyQGgL9kIAUjLa0jgn8tdQMmjpaKCtn08yP5nXPvfFTTKUKlQ1xhpMMopeQeGbl0oyynDQXiE3STK7IheS6PRHMipKXZ48zUYy8I51jv28RTJSmc84hMFEMnwfakaM2EMyLtiW2iIAQzJiVETCmDZCMvcXVVt3ekEyW4RDmXfKQDLQ1m6yeiVAMtkhlzoIFT8y0muTMmnxPTJQR0QdjN48Mvn+oDcQ2zsyUFCXYLrlOjJyr5g1cP05Mon5S+0zITkyHQGEzyBQODIeJPIvaIk3MvoiC9ZOzDYyDr2KwCoYNjJEsys2YWw1MqXXshdlyDQydy13abUrNDL4TTkM3JUzMuKzdZ5sBjMygzR4gAN9MjI=\",\"dtype\":\"float64\",\"shape\":[100]}},\"selected\":{\"id\":\"111958\",\"type\":\"Selection\"},\"selection_policy\":{\"id\":\"111957\",\"type\":\"UnionRenderers\"}},\"id\":\"110512\",\"type\":\"ColumnDataSource\"},{\"attributes\":{},\"id\":\"110493\",\"type\":\"BasicTicker\"},{\"attributes\":{\"active_drag\":\"auto\",\"active_inspect\":\"auto\",\"active_multi\":null,\"active_scroll\":\"auto\",\"active_tap\":\"auto\",\"tools\":[{\"id\":\"110497\",\"type\":\"PanTool\"},{\"id\":\"110498\",\"type\":\"WheelZoomTool\"},{\"id\":\"110499\",\"type\":\"BoxZoomTool\"},{\"id\":\"110500\",\"type\":\"SaveTool\"},{\"id\":\"110501\",\"type\":\"ResetTool\"},{\"id\":\"110502\",\"type\":\"HelpTool\"}]},\"id\":\"110503\",\"type\":\"Toolbar\"},{\"attributes\":{},\"id\":\"111953\",\"type\":\"BasicTickFormatter\"},{\"attributes\":{\"formatter\":{\"id\":\"111953\",\"type\":\"BasicTickFormatter\"},\"plot\":{\"id\":\"110478\",\"subtype\":\"Figure\",\"type\":\"Plot\"},\"ticker\":{\"id\":\"110488\",\"type\":\"BasicTicker\"}},\"id\":\"110487\",\"type\":\"LinearAxis\"}],\"root_ids\":[\"110478\"]},\"title\":\"Bokeh Application\",\"version\":\"1.0.2\"}};\n",
       "  var render_items = [{\"docid\":\"9f53f6cb-dfd9-4e56-93e8-318cd02fca62\",\"roots\":{\"110478\":\"a37bac91-b09b-4843-810a-0f2515cce99d\"}}];\n",
       "  root.Bokeh.embed.embed_items_notebook(docs_json, render_items);\n",
       "\n",
       "  }\n",
       "  if (root.Bokeh !== undefined) {\n",
       "    embed_document(root);\n",
       "  } else {\n",
       "    var attempts = 0;\n",
       "    var timer = setInterval(function(root) {\n",
       "      if (root.Bokeh !== undefined) {\n",
       "        embed_document(root);\n",
       "        clearInterval(timer);\n",
       "      }\n",
       "      attempts++;\n",
       "      if (attempts > 100) {\n",
       "        console.log(\"Bokeh: ERROR: Unable to run BokehJS code because BokehJS library is missing\");\n",
       "        clearInterval(timer);\n",
       "      }\n",
       "    }, 10, root)\n",
       "  }\n",
       "})(window);"
      ],
      "application/vnd.bokehjs_exec.v0+json": ""
     },
     "metadata": {
      "application/vnd.bokehjs_exec.v0+json": {
       "id": "110478"
      }
     },
     "output_type": "display_data"
    }
   ],
   "source": [
    "p = figure(plot_width=600, plot_height=400)\n",
    "p.line(ax, axo)\n",
    "show(p)"
   ]
  },
  {
   "cell_type": "code",
   "execution_count": 1367,
   "metadata": {},
   "outputs": [
    {
     "data": {
      "text/plain": [
       "-0.7357502480292115"
      ]
     },
     "execution_count": 1367,
     "metadata": {},
     "output_type": "execute_result"
    }
   ],
   "source": [
    "otpt[2]"
   ]
  },
  {
   "cell_type": "code",
   "execution_count": 1065,
   "metadata": {},
   "outputs": [],
   "source": [
    "def sigmy(theta, mu, a=1):\n",
    "    return 1 / (1 + np.exp(-a* (theta - mu)))\n",
    "def gaus(theta):\n",
    "    return 1 / np.sqrt(2*np.pi) * np.exp(-theta**2 / 2)\n",
    "    "
   ]
  },
  {
   "cell_type": "code",
   "execution_count": 1932,
   "metadata": {},
   "outputs": [
    {
     "data": {
      "text/plain": [
       "7.759343644687297"
      ]
     },
     "execution_count": 1932,
     "metadata": {},
     "output_type": "execute_result"
    }
   ],
   "source": [
    "sigmy(xx, -.2, 1.2).sum()"
   ]
  },
  {
   "cell_type": "code",
   "execution_count": 1934,
   "metadata": {},
   "outputs": [
    {
     "data": {
      "text/plain": [
       "35.146371219480905"
      ]
     },
     "execution_count": 1934,
     "metadata": {},
     "output_type": "execute_result"
    }
   ],
   "source": [
    "np.log(1 + np.exp(1 + np.exp(6 + np.sqrt(1 + np.pi / 8)*dr[0]))) - np.log(1 + np.exp(1 + np.exp(-6 + np.sqrt(1 + np.pi / 8)*dr[0])))"
   ]
  },
  {
   "cell_type": "code",
   "execution_count": 1192,
   "metadata": {},
   "outputs": [],
   "source": [
    "xx = np.linspace(-5, 5, 1000)\n",
    "yy1 = sigmy(xx, 1.32, 1.3)\n",
    "yy2 = sigmy(xx, 0.74, -.86)\n",
    "yy3 = sigmy(xx, -0.34, 1.1)\n",
    "yy4 = sigmy(xx, 1.55, 1.35)\n",
    "gg = gaus(xx) / 100\n"
   ]
  },
  {
   "cell_type": "code",
   "execution_count": 1195,
   "metadata": {},
   "outputs": [
    {
     "data": {
      "text/html": [
       "\n",
       "\n",
       "\n",
       "\n",
       "\n",
       "\n",
       "  <div class=\"bk-root\" id=\"13ce3010-826b-4a41-9d4d-61fdbcc5eb24\"></div>\n"
      ]
     },
     "metadata": {},
     "output_type": "display_data"
    },
    {
     "data": {
      "application/javascript": [
       "(function(root) {\n",
       "  function embed_document(root) {\n",
       "    \n",
       "  var docs_json = {\"b830803c-22c7-410c-ba74-0de48e43f967\":{\"roots\":{\"references\":[{\"attributes\":{\"below\":[{\"id\":\"67459\",\"type\":\"LinearAxis\"}],\"left\":[{\"id\":\"67464\",\"type\":\"LinearAxis\"}],\"plot_height\":400,\"renderers\":[{\"id\":\"67459\",\"type\":\"LinearAxis\"},{\"id\":\"67463\",\"type\":\"Grid\"},{\"id\":\"67464\",\"type\":\"LinearAxis\"},{\"id\":\"67468\",\"type\":\"Grid\"},{\"id\":\"67477\",\"type\":\"BoxAnnotation\"},{\"id\":\"67487\",\"type\":\"GlyphRenderer\"},{\"id\":\"67492\",\"type\":\"GlyphRenderer\"},{\"id\":\"67497\",\"type\":\"GlyphRenderer\"},{\"id\":\"67502\",\"type\":\"GlyphRenderer\"},{\"id\":\"67507\",\"type\":\"GlyphRenderer\"}],\"title\":{\"id\":\"68633\",\"type\":\"Title\"},\"toolbar\":{\"id\":\"67475\",\"type\":\"Toolbar\"},\"x_range\":{\"id\":\"67451\",\"type\":\"DataRange1d\"},\"x_scale\":{\"id\":\"67455\",\"type\":\"LinearScale\"},\"y_range\":{\"id\":\"67453\",\"type\":\"DataRange1d\"},\"y_scale\":{\"id\":\"67457\",\"type\":\"LinearScale\"}},\"id\":\"67450\",\"subtype\":\"Figure\",\"type\":\"Plot\"},{\"attributes\":{\"line_alpha\":0.1,\"line_color\":\"#1f77b4\",\"x\":{\"field\":\"x\"},\"y\":{\"field\":\"y\"}},\"id\":\"67491\",\"type\":\"Line\"},{\"attributes\":{},\"id\":\"68648\",\"type\":\"UnionRenderers\"},{\"attributes\":{},\"id\":\"67469\",\"type\":\"PanTool\"},{\"attributes\":{},\"id\":\"68638\",\"type\":\"BasicTickFormatter\"},{\"attributes\":{\"formatter\":{\"id\":\"68638\",\"type\":\"BasicTickFormatter\"},\"plot\":{\"id\":\"67450\",\"subtype\":\"Figure\",\"type\":\"Plot\"},\"ticker\":{\"id\":\"67465\",\"type\":\"BasicTicker\"}},\"id\":\"67464\",\"type\":\"LinearAxis\"},{\"attributes\":{\"callback\":null},\"id\":\"67453\",\"type\":\"DataRange1d\"},{\"attributes\":{},\"id\":\"67470\",\"type\":\"WheelZoomTool\"},{\"attributes\":{\"line_alpha\":0.1,\"line_color\":\"#1f77b4\",\"x\":{\"field\":\"x\"},\"y\":{\"field\":\"y\"}},\"id\":\"67501\",\"type\":\"Line\"},{\"attributes\":{\"source\":{\"id\":\"67504\",\"type\":\"ColumnDataSource\"}},\"id\":\"67508\",\"type\":\"CDSView\"},{\"attributes\":{},\"id\":\"68640\",\"type\":\"UnionRenderers\"},{\"attributes\":{\"callback\":null},\"id\":\"67451\",\"type\":\"DataRange1d\"},{\"attributes\":{\"source\":{\"id\":\"67489\",\"type\":\"ColumnDataSource\"}},\"id\":\"67493\",\"type\":\"CDSView\"},{\"attributes\":{},\"id\":\"68636\",\"type\":\"BasicTickFormatter\"},{\"attributes\":{\"dimension\":1,\"plot\":{\"id\":\"67450\",\"subtype\":\"Figure\",\"type\":\"Plot\"},\"ticker\":{\"id\":\"67465\",\"type\":\"BasicTicker\"}},\"id\":\"67468\",\"type\":\"Grid\"},{\"attributes\":{},\"id\":\"67465\",\"type\":\"BasicTicker\"},{\"attributes\":{\"line_alpha\":0.1,\"line_color\":\"#1f77b4\",\"x\":{\"field\":\"x\"},\"y\":{\"field\":\"y\"}},\"id\":\"67486\",\"type\":\"Line\"},{\"attributes\":{},\"id\":\"67472\",\"type\":\"SaveTool\"},{\"attributes\":{\"source\":{\"id\":\"67494\",\"type\":\"ColumnDataSource\"}},\"id\":\"67498\",\"type\":\"CDSView\"},{\"attributes\":{\"callback\":null,\"data\":{\"x\":{\"__ndarray__\":\"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\",\"dtype\":\"float64\",\"shape\":[1000]},\"y\":{\"__ndarray__\":\"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\",\"dtype\":\"float64\",\"shape\":[1000]}},\"selected\":{\"id\":\"68645\",\"type\":\"Selection\"},\"selection_policy\":{\"id\":\"68644\",\"type\":\"UnionRenderers\"}},\"id\":\"67494\",\"type\":\"ColumnDataSource\"},{\"attributes\":{\"line_color\":\"#1f77b4\",\"x\":{\"field\":\"x\"},\"y\":{\"field\":\"y\"}},\"id\":\"67485\",\"type\":\"Line\"},{\"attributes\":{\"x\":{\"field\":\"x\"},\"y\":{\"field\":\"y\"}},\"id\":\"67505\",\"type\":\"Line\"},{\"attributes\":{},\"id\":\"68642\",\"type\":\"UnionRenderers\"},{\"attributes\":{\"line_alpha\":0.1,\"line_color\":\"#1f77b4\",\"x\":{\"field\":\"x\"},\"y\":{\"field\":\"y\"}},\"id\":\"67506\",\"type\":\"Line\"},{\"attributes\":{\"active_drag\":\"auto\",\"active_inspect\":\"auto\",\"active_multi\":null,\"active_scroll\":\"auto\",\"active_tap\":\"auto\",\"tools\":[{\"id\":\"67469\",\"type\":\"PanTool\"},{\"id\":\"67470\",\"type\":\"WheelZoomTool\"},{\"id\":\"67471\",\"type\":\"BoxZoomTool\"},{\"id\":\"67472\",\"type\":\"SaveTool\"},{\"id\":\"67473\",\"type\":\"ResetTool\"},{\"id\":\"67474\",\"type\":\"HelpTool\"}]},\"id\":\"67475\",\"type\":\"Toolbar\"},{\"attributes\":{\"line_color\":\"red\",\"x\":{\"field\":\"x\"},\"y\":{\"field\":\"y\"}},\"id\":\"67495\",\"type\":\"Line\"},{\"attributes\":{},\"id\":\"68641\",\"type\":\"Selection\"},{\"attributes\":{},\"id\":\"68646\",\"type\":\"UnionRenderers\"},{\"attributes\":{},\"id\":\"68643\",\"type\":\"Selection\"},{\"attributes\":{},\"id\":\"68649\",\"type\":\"Selection\"},{\"attributes\":{\"overlay\":{\"id\":\"67477\",\"type\":\"BoxAnnotation\"}},\"id\":\"67471\",\"type\":\"BoxZoomTool\"},{\"attributes\":{},\"id\":\"67455\",\"type\":\"LinearScale\"},{\"attributes\":{\"data_source\":{\"id\":\"67484\",\"type\":\"ColumnDataSource\"},\"glyph\":{\"id\":\"67485\",\"type\":\"Line\"},\"hover_glyph\":null,\"muted_glyph\":null,\"nonselection_glyph\":{\"id\":\"67486\",\"type\":\"Line\"},\"selection_glyph\":null,\"view\":{\"id\":\"67488\",\"type\":\"CDSView\"}},\"id\":\"67487\",\"type\":\"GlyphRenderer\"},{\"attributes\":{\"data_source\":{\"id\":\"67499\",\"type\":\"ColumnDataSource\"},\"glyph\":{\"id\":\"67500\",\"type\":\"Line\"},\"hover_glyph\":null,\"muted_glyph\":null,\"nonselection_glyph\":{\"id\":\"67501\",\"type\":\"Line\"},\"selection_glyph\":null,\"view\":{\"id\":\"67503\",\"type\":\"CDSView\"}},\"id\":\"67502\",\"type\":\"GlyphRenderer\"},{\"attributes\":{\"formatter\":{\"id\":\"68636\",\"type\":\"BasicTickFormatter\"},\"plot\":{\"id\":\"67450\",\"subtype\":\"Figure\",\"type\":\"Plot\"},\"ticker\":{\"id\":\"67460\",\"type\":\"BasicTicker\"}},\"id\":\"67459\",\"type\":\"LinearAxis\"},{\"attributes\":{\"source\":{\"id\":\"67499\",\"type\":\"ColumnDataSource\"}},\"id\":\"67503\",\"type\":\"CDSView\"},{\"attributes\":{\"line_color\":\"red\",\"x\":{\"field\":\"x\"},\"y\":{\"field\":\"y\"}},\"id\":\"67490\",\"type\":\"Line\"},{\"attributes\":{\"callback\":null,\"data\":{\"x\":{\"__ndarray__\":\"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\",\"dtype\":\"float64\",\"shape\":[1000]},\"y\":{\"__ndarray__\":\"WAP4hZzuIj/mzAWCijAjP7ddwA1ecyM/WHk6SBq3Iz8yr2JbwvsjPzUVKXxZQSQ/84Sl6uKHJD+NXT7yYc8kP/zLz+nZFyU/GJvTM05hJT/wjYk+wqslP/tFIIQ59yU/kLbeirdDJj9sKE7lP5EmP4DOZDLW3yY/ee6wHX4vJz9cnoRfO4AnP/8ZIr0R0ic/DLLoCAUlKD8yVoIiGXkoP3K9EfdRzig/Li5hgbMkKT/X5xHKQXwpPxkxzOcA1Sk/Kwxw//QuKj/uk0ZEIooqP2UDNPiM5io/wGrqazlEKz/mEx3/K6MrP0SYtCBpAyw/UqsDT/VkLD+4m/wX1ccsP/qMZxkNLC0/Rm0ZAaKRLT/8qCuNmPgtPxyfNIz1YC4/bNiA3b3KLj/OBE1x9jUvPzPBAEmkoi8/BRS1O2YIMD8UGH0QOkAwPyTuAD7QeDA/uh54aCuyMD8dpkg9TuwwP1TNJnM7JzE/WXE1yvViMT9zuSYMgJ8xP84+XQzd3DE/nKYNqA8bMj/dr2DGGloyPxa3lVgBmjI/F7ElWsbaMj88nubQbBwzP1h4L833XjM/X5z8aWqiMz/usRTNx+YzP78RLicTLDQ/cq0UtE9yND8VetC6gLk0P8FezI2pATU/2an9is1KNT9ADgwc8JQ1Pw8qerYU4DU/W5nO2z4sNj9ilr0Zcnk2P/AoUwqyxzY/bucdVAIXNz/qSlqqZmc3P1uYHs3iuDc/W2GHiXoLOD+mneS5MV84P0hg50UMtDg/zinQIg4KOT/W2Z1TO2E5P3FCPemXuTk/sl65AigTOj+IL2zN7206P0tAMIXzyTo/iNWSdDcnOz+ZyAb1v4U7P48RGG+R5Ts/sAKgWrBGPD8QN/o+Iak8P/82OrPoDD0/9tRhXgtyPT++RJj3jdg9PynwYUZ1QD4/EgvZIsapPj+J6eZ1hRQ/Pwcbfjm4gD8/a0zVeGPuPz81elEoxi5APyDmrPcbZ0A/zwuzyjWgQD+H37VKFtpAPzufQirAFEE/6rVBJTZQQT/7CxcBe4xBPz/GwoyRyUE/PXUCoXwHQj/CtXIgP0ZCP8tEsffbhUI/z4d/HVbGQj8fi+WSsAdDPxp4VWPuSUM/T4TPpBKNQz+0WwZ4INFDPwkHhAgbFkQ/TlDPjAVcRD8Qp5FG46JEP7yFvYK36kQ/T1q1mYUzRT+L83LvUH1FP510r/McyEU/ONELIu0TRj9W0zkCxWBGPxutJSiorkY/EBggNJr9Rj/bAwnTnk1HP3TWer65nkc/PT/2vO7wRz9/nw6iQURIP8cJl062mEg/I9rPsFDuSD+z6ZTEFEVJP7tejJMGnUk/JhxWNSr2ST/C0bvPg1BKP7mv4ZYXrEo/Zb93zekISz894+vE/mZLP5CAnN1axks/wNQLhwInTD9X+BNA+ohMP5OSG5dG7Ew/1j5LKuxQTT9Cp8On77ZNPw5W1M1VHk4/FkAzayOHTj+NCzVfXfFOPz8UBpoIXU8/0zDkHCrKTz9enSx9YxxQP9ctOytyVFA/oBGIs0ONUD9cs/252sZQPyp3pes5AVE/A/nG/mM8UT82tAezW3hRP5YVi9EjtVE/PfkSLb/yUT/FlSCiMDFSP+bVFRd7cFI/ECJXfKGwUj+am23MpvFSP3TKKQyOM1M/Y7/GSlp2Uz/Lqw2iDrpTP5rweTau/lM/IaZdNzxEVD/LnQbfu4pUP+Hf43Iw0lQ/J6arQ50aVT/M1YGtBWRVPz35HhhtrlU/Wrz39tb5VT8F7GTJRkZWP//6yxrAk1Y/vw3IgkbiVj+ejlOl3TFXP4BM8jKJglc/MyXc6EzUVz97PSiRLCdYP7rI+AIse1g/XmGnIk/QWD+f9PHhmSZZP6lCKEAQflk/Z/VZSrbWWT/JT4UbkDBaP/t2xtyhi1o/B1iHxe/nWj84K7AbfkVbP1KX2DNRpFs/8XZ5cW0EXD8zQR9H12VcP5UYnTaTyFw/OoFA0aUsXT/vwAW4E5JdP0PrzJvh+F0/8JqPPRRhXj+fW5dusMpeP2LFtBC7NV8/Jkx3FjmiXz/h4rLBFwhgP/XTG7bRP2A/g4CH+0x4YD/KltktjLFgPzEm5vGR62A/J7qP9WAmYT921uXv+2FhP67WQ6FlnmE/bDFw06DbYT+6ILxZsBliP/OwIxGXWGI/5jZu4FeYYj/iLk+49dhiP4WFh5NzGmM/j0sHd9RcYz9G1g9yG6BjPxJNVp5L5GM/KaYmIGgpZD8bE4cmdG9kP5jeW+tytmQ/Cb2Ls2f+ZD+pkCTPVUdlPwujgJlAkWU/5FRseSvcZT+IRUzhGShmP7PzQ08PdWY/XdhcTQ/DZj+o/a1xHRJnP5wShF49Ymc/Vv2JwnKzZz9J7fFYwQVoP0funuksWWg/f/5OSbmtaD8uqMVZagNpP7Mg9wlEWmk/ou4zVkqyaT+4F1VIgQtqP8PY6PfsZWo/YOhfipHBaj9BRjszcx5rP6mYOjSWfGs/8BiL3f7baz9bEfeNsTxsPwjtFbOynmw/vdt8yQYCbT9OC/BcsmZtP4N3lAi6zG0/sVIidyI0bj/0Bxhj8JxuP8XY7ZYoB28/xhdK7c9ybz9+ATZR699vP8WaKd8/J3A/feiIIElfcD/YlXP7E5hwP1SdQgej0XA/90sJ5PgLcT9RmbE6GEdxPwDUGL0Dg3E/jKMsJr6/cT+hYAg6Sv1xP/HDEsaqO3I/Ie0boeJ6cj/lwXur9LpyP6+mMM/j+3I/O5H+/7I9cz/6dY47ZYBzPz8Rjon9w3M/jwzQ+34IdD9igWyu7E10P6bZ4cdJlHQ/7w42eZnbdD9dSRj+3iN1P2reAp0dbXU/BrFdp1i3dT9F86B5kwJ2P4lKeHvRTnY/JVfmHxacdj+wn2jlZOp2P2XhG1bBOXc/wcXgBy+Kdz9U/oCcsdt3P7nH1MFMLng/ydPoMQSCeD+NnCSz29Z4P+UfcRjXLHk/8QRgQfqDeT8VLFMaSdx5P6ippJzHNXo/wCzPznmQej8C0pbEY+x6P4ljMp+JSXs/jgZ1je+nez/sVvjLmQd8P9HxRqWMaHw/j28HcszKfD9VzSeZXS59P6VHCZBEk30/cKWs2oX5fT8N9d4LJmF+P/66ZsUpyn4/GZMxuJU0fz/8RIKkbqB/P62lD63cBoA/yedAXD0+gD+HjILXW3aAP5M4i546r4A/GL4yOdzogD+gg4o3QyOBP94l9jFyXoE/MlREyWuagT8c6MemMteBP943cXzJFII/DaTnBDNTgj+DYKMDcpKCP2t4B0WJ0oI/kA18nnsTgz8X04juS1WDP0DD7xz9l4M/nxDIGpLbgz9bUpniDSCEP4LrdnhzZYQ/ma0b6sWrhD+5tQVPCPOEP8eEksg9O4U/BVIbgmmEhT8NmBGxjs6FPy3cG5WwGYY/ZK8yeNJlhj9S6b2u97KGP1ocspcjAYc/vkKunFlQhz+opBkynaCHPxz2Qdfx8Yc/Iq15FltEiD8MjzaF3JeIP6x0MMR57Ig/HEWAfzZCiT/0Jb9uFpmJPxPhJVUd8Yk/p36sAU9Kij8kEypPr6SKP4HAdCRCAIs/iemBdAtdiz8Il4Y+D7uLP2kNGI5RGow/HZJMe9Z6jD8WYNwqotyMP67JQs64P40/tYffox6kjT/pMxj31wmOP+nteSDpcI4/rynbhVbZjj+6pX2aJEOPPzOIMN9Xro8/l1A5cXoNkD9ZaEoggESQP7hH7lE/fJA/3UtTYrq0kD8G18S08+2QP2DDvLPtJ5E/oeP00KpikT+8kHiFLZ6RPzZDtlF42pE/sTeRvY0Xkj8sHXNYcFWSPwnMXbkilJI/AAX9fqfTkj9SNrhPARSTP4NGxNkyVZM/FWM10z6Xkz8Y0hD6J9qTPzfFXhTxHZQ/yCw88JxilD+diexjLqiUPwK8602o7pQ/V87/lA02lT/YuUooYX6VP8wjXP+lx5U/hhFDGt8Rlj9zkZ+BD12WP3NXtEY6qZY/pUp4g2L2lj+hAqhai0SXP2Uy1/e3k5c/xP6Bj+vjlz9HPh5fKTWYP3mgLK10h5g/PrpJydDamD8Z9T4MQS+ZP/peE9jIhJk/J1gcmGvbmT/fHA7BLDOaPwQoDNEPjJo/bWy5Txjmmj/3YUjOSUGbP7vjiuennZs/jNwBQDb7mz/CvuyF+FmcP3fEWHHyuZw/G/UvxCcbnT8u7UdKnH2dPwtlcNlT4Z0/Q3OBUVJGnj9mh2mcm6yeP5EZO64zFJ8/SQs6hR59nz8ZtugpYOefP+VRild+KaA/onbxGPxfoD+VHe5sK5egP3oyfGwOz6A/BtXUNacHoT9/wHPs90ChPx18HLkCe6E/JFLfycm1oT9jCx5ST/GhP9VskIqVLaI/HHVIsZ5qoj9rV7YJbaiiP2wxrNwC56I/u3lheGImoz9NJHYwjmajP1Z69V2Ip6M/66JYX1Ppoz/D2YiY8SukP1tR4XJlb6Q/nb0wXbGzpD9OhLrL1/ikP1iQNzjbPqU/68TWIb6FpT+XDT0Ng82lPxsIhYQsFqY/GkU+F71fpj9CHGxaN6qmP+cQhOid9aY/r8NrYfNBpz8DbnZqOo+nP/PjYa513ac/GRlT3acsqD/4JNKs03yoP3TDxdf7zag/kU1uHiMgqT8iJ2BGTHOpP4mdfRp6x6k/4DPwaq8cqj/MWCEN73KqPw+Csts7yqo/IKp0tpgiqz+9K1+CCHyrP6D3hSmO1qs/RyAPmywyrD+xtyfL5o6sPy7797K/7Kw/9ciWULpLrT9tW/ym2autP/ZF9L0gDa4/4a4OopJvrj93wpBkMtOuP7ZaZBsDOK8/V9cG4Qeerz8AkTvqoQKwP/NskQzdNrA/flFp67ZrsD/aycocMaGwP6ve1ThN17A/IuW32QwOsT/g1p+bcUWxP2wwshx9fbE/31P8/DC2sT+0bWfeju+xP2jZqmSYKbI/rwM+NU9ksj8VyEn3tJ+yP7ZHmVPL27I//zaK9JMYsz8noPyFEFazPzYYQrVClLM/i2QMMSzTsz99jlupzhK0P0dja88rU7Q/5V2gVUWUtD/h+HPvHNa0PxdmYFG0GLU/RarLMA1ctT+OGvJDKaC1P+c50EEK5bU/mfQL4rEqtj/rN93cIXG2Pxzk9epbuLY/BxdpxWEAtz+nzZElNUm3P8ra+MTXkrc/djE6XUvdtz9YgemnkSi4P+Qjdl6sdLg/tVgOOp3BuD/Zz4HzZQ+5P+CAI0MIXrk/Xs2q4IWtuT8R7hOD4P25P3Wpf+AZT7o/D1MSrjOhuj+XEtKfL/S6P2hyhGgPSLs/hjSLudScuz/8bcBCgfK7PxvoUbIWSbw/YsebtJagvD89eAL0Avm8P0bhyxhdUr0/pNv3yKasvT+P8Reo4Qe+P79jJlcPZL4/QXZcdDHBvj9mBQibSR+/PyJkYGNZfr8/poRaYmLevz9YNr4Usx/AP3X7VyOzUMA/qHEKIjKCwD8NHOnTMLTAP7p68/mv5sA/GQ/9UrAZwT/7C5WbMk3BP7qy7Y03gcE/yV7D4b+1wT9YQUNMzOrBP5zO8X9dIMI/gN6QLHRWwj+xggX/EI3CP+iTPaE0xMI/ovgUut/7wj+BpzrtEjTDP5BnFdvObMM/H1GoIBSmwz+HEXdX49/DP870aRU9GsQ/3rex7CFVxD9WJqtrkpDEPxmHwhyPzMQ/wdpWhhgJxT9t75wqL0bFP2NNgofTg8U/HQCQFgbCxT+UP81MxwDGP6r9oZoXQMY/vVu5a/d/xj+QDOQmZ8DGP8qm+i1nAcc/luy/3fdCxz/UDMONGYXHP6PiQZDMx8c/GDgLMhELyD8DEWG6507IP/EC22pQk8g/jJ9If0vYyD+w9pMt2R3JP8Q1pKX5Y8k/sGlAEa2qyT9oafKT8/HJP5Hu6UrNOco/Z+LfTDqCyj+45PmpOsvKPyoTrmvOFMs/DhenlPVeyz/kf6ggsKnLPytxcwT+9Ms/2amrLd9AzD8N7LyCU43MP6jLwOJa2sw/gepkJfUnzT/tqNEaInbNP4xRkYvhxM0/BMd3ODMUzj/UuoraFmTOPxl06iKMtM4/IS27upIFzz8TDw9DKlfPP2TS0FRSqc8/ZwuvgAr8zz/mFIQnqSfQPwyZ65+UUdA/HZxQZcd70D/+0DEvQabQPzWcwbAB0dA/fgfemAj80D+sIwmSVSfRPzrcYULoUtE/4j+dS8B+0T+EQQBL3arRP6T0Wdk+19E/qEj+iuQD0j8JRsHvzTDSP3nQ8pL6XdI/D/Fa+2mL0j9iqzarG7nSP3NgNSAP59I/IsJ200MV0z/0WYk5uUPTP6KlacJuctM/CsyB2WOh0z/e7Knll9DTP04NKUkKANQ/46O2Ybov1D+YxXyIp1/UPwz2GhLRj9Q/tZypTjbA1D+cIL6J1vDUPz+sbwqxIdU/9ppcE8VS1T8NkbDiEYTVP68/K7KWtdU/mNUnt1Ln1T84HaUiRRnWPw1JTiFtS9Y/dW6E28l91j9pr2h1WrDWPxgT5w4e49Y/cg3CwxMW1z9HtZ6rOknXP5KoEdqRfNc/bZ6sXhiw1z/ApQxFzePXP8sP6ZSvF9g/WQUjUr5L2D9GxdV8+H/YP8uKZxFdtNg/6hmbCOvo2D/p76FXoR3ZPwgWL/B+Utk/2pOKwIKH2T8Sf6Wzq7zZP/OlLrH48dk/ndGnnWgn2j85nXta+lzaP8reE8askto/Rp7wu37I2j+Hl78Ub/7aPy1DdKZ8NNs/zWJgRKZq2z8vDE2/6qDbP5QvlOVI19s/i5Q6g78N3D/tSApiTUTcP0Z9rUnxetw/BMrJ/6mx3D9S2BtIdujcP89pk+RUH90/o7lvlURW3T8qMlwZRI3dP0FxjS1SxN0/G5bejW373T/W0u70lDLeP1E8PxzHad4/N9JQvAKh3j++ucKMRtjeP+akcESRD98/jmCRmeFG3z8Ag9VBNn7fP1w1hvKNtd8/SRGkYOfs3z+XBoOgIBLgP184PCTNLeA/wOXtlXhJ4D+z8yFQImXgP55Yi63JgOA/VogVCW6c4D//1PO9DrjgP6HBsCer0+A/d0M9okLv4D8B7/+J1ArhP9MN5DtgJuE/OppoFeVB4T/JHa90Yl3hP/FvirjXeOE/1lGNQESU4T+Q5Bhtp6/hPyX3ap8Ay+E/iCmsOU/m4T8I4v2ekgHiP4oSiDPKHOI/J8uGXPU34j+ul1eAE1PiP6qlhgYkbuI/rrDbVyaJ4j+csmbeGaTiP9BVjAX+vuI/DCcSOtLZ4j8/hSrqlfTiPxtNgIVID+M/zj5Cfekp4z8BHC5EeETjP4N8m070XuM/EViGEl154z+9Q5kHspPjP4ZhN6fyreM/+ACGbB7I4z9v73XUNOLjPwp3zF01/OM/OwssiR8W5D8AohzZ8i/kP/u4E9KuSeQ/pwV8+lJj5D8P0Lza3nzkP2X3QP1RluQ/H6B97quv5D8ii/g87MjkP8gVTnkS4uQ/jeI2Nh775D87Ko0IDxTlP661UYfkLOU/LoCwS55F5T+PAgXxO17lP1sn3hS9duU/VugBVyGP5T/GlXBZaKflP/rHZ8CRv+U/oPtkMp3X5T+b2SdYiu/lP/MqtNxYB+Y/yXlTbQgf5j8LYJa5mDbmP+uEVXMJTuY//0myTlpl5j8nKRcCi3zmP0XEN0abk+Y/+acQ1oqq5j+LwuZuWcHmP1WQRtAG2OY/8f4CvJLu5j+QCDT2/ATnP9AINUVFG+c/nsyicWsx5z91XllGb0fnP7iQcZBQXec/dEc+Hw9z5z9Qg0nEqojnPy0vUVMjnuc/IrJDoniz5z9xRzyJqsjnPz4ef+K43ec/h0J1iqPy5z9VUahfagfoP6L5vUINHOg/2ktzFoww6D+g2Ze/5kToP56nCCUdWeg/JfOqLy9t6D9QzWbKHIHoP4GNIeLllOg/6By4ZYqo6D/YHPlFCrzoP63pnnVlz+g//ntJ6Zvi6D/MKXiXrfXoP3pJg3iaCOk/J7iVhmIb6T80Raa9BS7pP4IEcRuEQOk/PIlwn91S6T+oCtdKEmXpP6R0hyAid+k/hWUOJQ2J6T+yGpte05rpP8dN+NR0rOk/lQOFkfG96T+JTi2fSc/pPw4GYwp94Ok/LXQW4Yvx6T/++q4ydgLqPyqzAxA8E+o//gRUi90j6j84PUC4WjTqP/kewquzROo/FHQlfOhU6j/xnABB+WTqPzMhLRPmdOo/X0LADK+E6j+TkQNJVJTqP1mJbeTVo+o/3yya/DOz6j9QrUOwbsLqP4MWOx+G0eo/8ANhanrg6j/BXp6zS+/qP/4l3R36/eo/q0EBzYUM6z+dYeHl7hrrP/LoP441Kes/0ubD7Fk36z9IHfIoXEXrP94WJms8U+s/o0uL3Ppg6z9eVhanl27rP086fvUSfOs/U7o182yJ6z/CwWTMpZbrP7jf4a29o+s/HtUrxbSw6z8DNmNAi73rP68eRE5Byus/y/wfHtfW6z8SbdffTOPrP88t1MOi7+s/lSYD+9j76z9Zhc627wfsP2PxFynnE+w/IdQyhL8f7D9IuN76eCvsP1a/QcATN+w/ny3jB5BC7D86DaYF7k3sP7Hnw+0tWew/wZbH9E9k7D81LIhPVG/sP+fwIzM7euw/AXv71ASF7D9526xqsY/sP+niDipBmuw/m30sSbSk7D/tJkD+Cq/sP/Nzr39Fuew/P7UGBGTD7D/kr/TBZs3sP3xtRvBN1+w/KSPjxRnh7D+HL8h5yursP1cvBUNg9Ow/0ii4WNv97D9+zQnyOwftP2jSKUaCEO0/j15LjK4Z7T9Nj6H7wCLtP7ISXMu5K+0/hNejMpk07T+z0pdoXz3tPx3aSaQMRu0/apS7HKFO7T+7fdsIHVftP/wAgp+AX+0/oqVuF8xn7T+YUUWn/2/tPwyfi4UbeO0/A0am6B+A7T9DmdYGDYjtP4EWOBbjj+0/bwm+TKKX7T+AQTHgSp/tPwXaLQbdpu0/dxQh9Fiu7T+YREffvrXtPznOqfwOve0/NzQdgUnE7T+lOD+hbsvtP6INdZF+0u0/tpbphXnZ7T9nuouyX+DtP7jDDEsx5+0/VtPegu7t7T8gYDONl/TtP8/G+Zws++0/Yujd5K0B7j8m10aXGwjuP+2RVeZ1Du4/YM3jA70U7j/ayoIh8RruP+Y8enASIe4/vDjHISEn7j+7NBtmHS3uP3oT220HM+4/OTsead847j9dua2HpT7uP9FxA/lZRO4/71lJ7PxJ7j+mvliQjk/uP9OVuRMPVe4/PNqhpH5a7j888vRw3V/uP5EgQ6YrZe4/Wf/IcWlq7j/QBG8Al2/uP5URyX60dO4/TwgWGcJ57j9pbj/7v37uP5oV2VCug+4/IM4gRY2I7j9YIf4CXY3uP4wUArUdku4/svNmhc+W7j/jIxCecpvuP279iSgHoO4/Kq0JTo2k7j/zHG03BanuPwnjOg1vre4/Lzii98qx7j9C9HoeGbbuPzCRRalZuu4/DDQrv4y+7j8OvP2GssLuP23XNyfLxu4/sB39xdbK7j+ELxqJ1c7uP8DbBJbH0u4/eUncEa3W7j8EJ2khhtruP6/dHelS3u4/EcoWjRPi7j/DeBoxyOXuP1jnmfhw6e4/esmwBg7t7j/+0SV+n/DuP8T/aoEl9O4/Su6dMqD37j/CKYizD/vuP6KGnyV0/u4/XnwGqs0B7z9ng4xhHAXvPwt2rmxgCO8/XfSW65kL7z/Gyh7+yA7vP01bzcPtEe8/YwnZWwgV7z8fqCflGBjvP8PqTn4fG+8/hteURRwe7z9hPPBYDyHvP/MlCdb4I+8/Qlg52tgm7z8+yYyCrynvPxIdwut8LO8//CNLMkEv7z+/WU1y/DHvP29moseuNO8/rqDYTVg37z8kkTMg+TnvPyN3rFmRPO8/bM7yFCE/7z8H1mxsqEHvP/oXOHonRO8///EpWJ5G7z/sHtAfDUnvP/5AcepzS+8/sGwN0dJN7z9StF7sKVDvPxG02VR5Uu8/jh6uIsFU7z/lScdtAVfvPxC9zE06We8/oL0i2mtb7z+73eopll3vP0+KBFS5X+8/dpkNb9Vh7z/32GKR6mPvP9icINH4Ze8/800jRABo7z+V+AcAAWrvP/3aLBr7a+8/y/Oxp+5t7z9MkHm922/vP5DaKHDCce8/VWco1KJz7z+lw6T9fHXvPzICjwBRd+8/ZEid8B557z//Wkvh5nrvP34q2+WofO8/5F5VEWV+7z9C44l2G4DvP6dwECjMge8/ohhJOHeD7z84z1y5HIXvP0z0Pb28hu8/ityoVVeI7z+ZWSSU7InvP85BAop8i+8/M/dfSAeN7z/f7SbgjI7vP7UxDWINkO8/X+uV3oiR7z+l5BFm/5LvP/8LoAhxlO8/dPct1t2V7z+1ZnjeRZfvP3PECzGpmO8/66ZE3Qea7z+yT1DyYZvvP6cqLX+3nO8/IEyrkgie7z887mw7VZ/vP2Ht5oedoO8/5UNhhuGh7z/ZhPdEIaPvPwJWmdFcpO8/3egKOpSl7z/lcuWLx6bvP9Ckl9T2p+8/DCFmISKp7z9F8Wt/SarvPwb7mvtsq+8/enO8ooys7z84UnGBqK3vP0DDMqTAru8/6ZdSF9Wv7z8Dt/vm5bDvPwqMMh/zse8/U3XVy/yy7z8=\",\"dtype\":\"float64\",\"shape\":[1000]}},\"selected\":{\"id\":\"68649\",\"type\":\"Selection\"},\"selection_policy\":{\"id\":\"68648\",\"type\":\"UnionRenderers\"}},\"id\":\"67504\",\"type\":\"ColumnDataSource\"},{\"attributes\":{\"plot\":{\"id\":\"67450\",\"subtype\":\"Figure\",\"type\":\"Plot\"},\"ticker\":{\"id\":\"67460\",\"type\":\"BasicTicker\"}},\"id\":\"67463\",\"type\":\"Grid\"},{\"attributes\":{\"line_color\":\"red\",\"x\":{\"field\":\"x\"},\"y\":{\"field\":\"y\"}},\"id\":\"67500\",\"type\":\"Line\"},{\"attributes\":{},\"id\":\"67457\",\"type\":\"LinearScale\"},{\"attributes\":{},\"id\":\"67473\",\"type\":\"ResetTool\"},{\"attributes\":{\"data_source\":{\"id\":\"67489\",\"type\":\"ColumnDataSource\"},\"glyph\":{\"id\":\"67490\",\"type\":\"Line\"},\"hover_glyph\":null,\"muted_glyph\":null,\"nonselection_glyph\":{\"id\":\"67491\",\"type\":\"Line\"},\"selection_glyph\":null,\"view\":{\"id\":\"67493\",\"type\":\"CDSView\"}},\"id\":\"67492\",\"type\":\"GlyphRenderer\"},{\"attributes\":{\"bottom_units\":\"screen\",\"fill_alpha\":{\"value\":0.5},\"fill_color\":{\"value\":\"lightgrey\"},\"left_units\":\"screen\",\"level\":\"overlay\",\"line_alpha\":{\"value\":1.0},\"line_color\":{\"value\":\"black\"},\"line_dash\":[4,4],\"line_width\":{\"value\":2},\"plot\":null,\"render_mode\":\"css\",\"right_units\":\"screen\",\"top_units\":\"screen\"},\"id\":\"67477\",\"type\":\"BoxAnnotation\"},{\"attributes\":{},\"id\":\"67474\",\"type\":\"HelpTool\"},{\"attributes\":{\"line_alpha\":0.1,\"line_color\":\"#1f77b4\",\"x\":{\"field\":\"x\"},\"y\":{\"field\":\"y\"}},\"id\":\"67496\",\"type\":\"Line\"},{\"attributes\":{},\"id\":\"68647\",\"type\":\"Selection\"},{\"attributes\":{\"source\":{\"id\":\"67484\",\"type\":\"ColumnDataSource\"}},\"id\":\"67488\",\"type\":\"CDSView\"},{\"attributes\":{\"plot\":null,\"text\":\"\"},\"id\":\"68633\",\"type\":\"Title\"},{\"attributes\":{\"data_source\":{\"id\":\"67504\",\"type\":\"ColumnDataSource\"},\"glyph\":{\"id\":\"67505\",\"type\":\"Line\"},\"hover_glyph\":null,\"muted_glyph\":null,\"nonselection_glyph\":{\"id\":\"67506\",\"type\":\"Line\"},\"selection_glyph\":null,\"view\":{\"id\":\"67508\",\"type\":\"CDSView\"}},\"id\":\"67507\",\"type\":\"GlyphRenderer\"},{\"attributes\":{\"callback\":null,\"data\":{\"x\":{\"__ndarray__\":\"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\",\"dtype\":\"float64\",\"shape\":[1000]},\"y\":{\"__ndarray__\":\"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\",\"dtype\":\"float64\",\"shape\":[1000]}},\"selected\":{\"id\":\"68643\",\"type\":\"Selection\"},\"selection_policy\":{\"id\":\"68642\",\"type\":\"UnionRenderers\"}},\"id\":\"67489\",\"type\":\"ColumnDataSource\"},{\"attributes\":{\"callback\":null,\"data\":{\"x\":{\"__ndarray__\":\"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\",\"dtype\":\"float64\",\"shape\":[1000]},\"y\":{\"__ndarray__\":\"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\",\"dtype\":\"float64\",\"shape\":[1000]}},\"selected\":{\"id\":\"68647\",\"type\":\"Selection\"},\"selection_policy\":{\"id\":\"68646\",\"type\":\"UnionRenderers\"}},\"id\":\"67499\",\"type\":\"ColumnDataSource\"},{\"attributes\":{},\"id\":\"68645\",\"type\":\"Selection\"},{\"attributes\":{\"data_source\":{\"id\":\"67494\",\"type\":\"ColumnDataSource\"},\"glyph\":{\"id\":\"67495\",\"type\":\"Line\"},\"hover_glyph\":null,\"muted_glyph\":null,\"nonselection_glyph\":{\"id\":\"67496\",\"type\":\"Line\"},\"selection_glyph\":null,\"view\":{\"id\":\"67498\",\"type\":\"CDSView\"}},\"id\":\"67497\",\"type\":\"GlyphRenderer\"},{\"attributes\":{},\"id\":\"68644\",\"type\":\"UnionRenderers\"},{\"attributes\":{\"callback\":null,\"data\":{\"x\":{\"__ndarray__\":\"AAAAAAAAFMBcf5nvv/UTwLj+Mt9/6xPAFH7Mzj/hE8Bw/WW+/9YTwMx8/62/zBPAKPyYnX/CE8CEezKNP7gTwOD6y3z/rRPAPHplbL+jE8CY+f5bf5kTwPR4mEs/jxPAUPgxO/+EE8Csd8sqv3oTwAj3ZBp/cBPAZHb+CT9mE8DA9Zf5/lsTwBx1Mem+URPAePTK2H5HE8DUc2TIPj0TwDDz/bf+MhPAjHKXp74oE8Do8TCXfh4TwERxyoY+FBPAoPBjdv4JE8D8b/1lvv8SwFjvllV+9RLAtG4wRT7rEsAQ7sk0/uASwGxtYyS+1hLAyOz8E37MEsAkbJYDPsISwIDrL/P9txLA3GrJ4r2tEsA46mLSfaMSwJRp/ME9mRLA8OiVsf2OEsBMaC+hvYQSwKjnyJB9ehLABGdigD1wEsBg5vtv/WUSwLxllV+9WxLAGOUuT31REsB0ZMg+PUcSwNDjYS79PBLALGP7Hb0yEsCI4pQNfSgSwORhLv08HhLAQOHH7PwTEsCcYGHcvAkSwPjf+st8/xHAVF+Uuzz1EcCw3i2r/OoRwAxex5q84BHAaN1ginzWEcDEXPp5PMwRwCDck2n8wRHAfFstWby3EcDY2sZIfK0RwDRaYDg8oxHAkNn5J/yYEcDsWJMXvI4RwEjYLAd8hBHApFfG9jt6EcAA11/m+28RwFxW+dW7ZRHAuNWSxXtbEcAUVSy1O1ERwHDUxaT7RhHAzFNflLs8EcAo0/iDezIRwIRSknM7KBHA4NErY/sdEcA8UcVSuxMRwJjQXkJ7CRHA9E/4MTv/EMBQz5Eh+/QQwKxOKxG76hDACM7EAHvgEMBkTV7wOtYQwMDM99/6yxDAHEyRz7rBEMB4yyq/ercQwNRKxK46rRDAMMpdnvqiEMCMSfeNupgQwOjIkH16jhDAREgqbTqEEMCgx8Nc+nkQwPxGXUy6bxDAWMb2O3plEMC0RZArOlsQwBDFKRv6UBDAbETDCrpGEMDIw1z6eTwQwCRD9uk5MhDAgMKP2fknEMDcQSnJuR0QwDjBwrh5ExDAlEBcqDkJEMDff+sv8/0PwJd+Hg9z6Q/AT31R7vLUD8AHfITNcsAPwL96t6zyqw/Ad3nqi3KXD8AveB1r8oIPwOd2UEpybg/An3WDKfJZD8BXdLYIckUPwA9z6efxMA/Ax3Ecx3EcD8B/cE+m8QcPwDdvgoVx8w7A7221ZPHeDsCnbOhDccoOwF9rGyPxtQ7AF2pOAnGhDsDPaIHh8IwOwIdntMBweA7AP2bnn/BjDsD3ZBp/cE8OwK9jTV7wOg7AZ2KAPXAmDsAfYbMc8BEOwNdf5vtv/Q3Aj14Z2+/oDcBHXUy6b9QNwP9bf5nvvw3At1qyeG+rDcBvWeVX75YNwCdYGDdvgg3A31ZLFu9tDcCXVX71blkNwE9UsdTuRA3AB1Pks24wDcC/UReT7hsNwHdQSnJuBw3AL099Ue7yDMDnTbAwbt4MwJ9M4w/uyQzAV0sW7221DMAPSknO7aAMwMdIfK1tjAzAf0evjO13DMA3RuJrbWMMwO9EFUvtTgzAp0NIKm06DMBfQnsJ7SUMwBdBruhsEQzAzz/hx+z8C8CHPhSnbOgLwD89R4bs0wvA9zt6ZWy/C8CvOq1E7KoLwGc54CNslgvAHzgTA+yBC8DXNkbia20LwI81ecHrWAvARzSsoGtEC8D/Mt9/6y8LwLYxEl9rGwvAbjBFPusGC8AmL3gda/IKwN4tq/zq3QrAlize22rJCsBOKxG76rQKwAYqRJpqoArAvih3eeqLCsB2J6pYancKwC4m3TfqYgrA5iQQF2pOCsCeI0P26TkKwFYidtVpJQrADiGptOkQCsDGH9yTafwJwH4eD3Pp5wnANh1CUmnTCcDuG3Ux6b4JwKYaqBBpqgnAXhnb7+iVCcAWGA7PaIEJwM4WQa7obAnAhhV0jWhYCcA+FKds6EMJwPYS2ktoLwnArhENK+gaCcBmEEAKaAYJwB4Pc+nn8QjA1g2myGfdCMCODNmn58gIwEYLDIdntAjA/gk/ZuefCMC2CHJFZ4sIwG4HpSTndgjAJgbYA2diCMDeBAvj5k0IwJYDPsJmOQjATgJxoeYkCMAGAaSAZhAIwL7/1l/m+wfAdv4JP2bnB8Au/Twe5tIHwOb7b/1lvgfAnvqi3OWpB8BW+dW7ZZUHwA74CJvlgAfAxvY7emVsB8B+9W5Z5VcHwDb0oThlQwfA7vLUF+UuB8Cm8Qf3ZBoHwF7wOtbkBQfAFu9ttWTxBsDO7aCU5NwGwIbs03NkyAbAPusGU+SzBsD26TkyZJ8GwK7obBHkigbAZuef8GN2BsAe5tLP42EGwNbkBa9jTQbAjuM4juM4BsBG4mttYyQGwP7gnkzjDwbAtt/RK2P7BcBu3gQL4+YFwCbdN+pi0gXA3ttqyeK9BcCW2p2oYqkFwE7Z0IfilAXABtgDZ2KABcC+1jZG4msFwHbVaSViVwXALtScBOJCBcDm0s/jYS4FwJ7RAsPhGQXAVtA1omEFBcAOz2iB4fAEwMbNm2Bh3ATAfszOP+HHBMA2ywEfYbMEwO7JNP7gngTApshn3WCKBMBex5q84HUEwBbGzZtgYQTAzsQAe+BMBMCGwzNaYDgEwD7CZjngIwTA9sCZGGAPBMCuv8z33/oDwGa+/9Zf5gPAHr0ytt/RA8DWu2WVX70DwI66mHTfqAPARrnLU1+UA8D+t/4y338DwLa2MRJfawPAbrVk8d5WA8AmtJfQXkIDwN6yyq/eLQPAlrH9jl4ZA8BOsDBu3gQDwAavY01e8ALAvq2WLN7bAsB2rMkLXscCwC6r/OrdsgLA5qkvyl2eAsCeqGKp3YkCwFanlYhddQLADqbIZ91gAsDGpPtGXUwCwH6jLibdNwLANqJhBV0jAsDuoJTk3A4CwKafx8Nc+gHAXp76otzlAcAWnS2CXNEBwM6bYGHcvAHAhpqTQFyoAcA+mcYf3JMBwPaX+f5bfwHArpYs3ttqAcBmlV+9W1YBwB6UkpzbQQHA1pLFe1stAcCOkfha2xgBwEaQKzpbBAHA/o5eGdvvAMC2jZH4WtsAwG6MxNfaxgDAJov3tlqyAMDeiSqW2p0AwJaIXXVaiQDAToeQVNp0AMAGhsMzWmAAwL6E9hLaSwDAdoMp8lk3AMAuglzR2SIAwOaAj7BZDgDAPP+EH7Pz/7+s/Ordssr/vxz6UJyyof+/jPe2WrJ4/7/89BwZsk//v2zygtexJv+/3O/olbH9/r9M7U5UsdT+v7zqtBKxq/6/LOga0bCC/r+c5YCPsFn+vwzj5k2wMP6/fOBMDLAH/r/s3bLKr979v1zbGImvtf2/zNh+R6+M/b881uQFr2P9v6zTSsSuOv2/HNGwgq4R/b+MzhZBruj8v/zLfP+tv/y/asniva2W/L/axkh8rW38v0rErjqtRPy/usEU+awb/L8qv3q3rPL7v5q84HWsyfu/CrpGNKyg+796t6zyq3f7v+q0ErGrTvu/WrJ4b6sl+7/Kr94tq/z6vzqtROyq0/q/qqqqqqqq+r8aqBBpqoH6v4qldieqWPq/+qLc5akv+r9qoEKkqQb6v9qdqGKp3fm/SpsOIam0+b+6mHTfqIv5vyqW2p2oYvm/mpNAXKg5+b8KkaYaqBD5v3qODNmn5/i/6otyl6e++L9aidhVp5X4v8qGPhSnbPi/OoSk0qZD+L+qgQqRphr4vxp/cE+m8fe/inzWDabI97/6eTzMpZ/3v2p3ooqldve/2nQISaVN979Kcm4HpST3v7pv1MWk+/a/Km06hKTS9r+aaqBCpKn2vwpoBgGkgPa/emVsv6NX9r/qYtJ9oy72v1pgODyjBfa/yl2e+qLc9b86WwS5orP1v6pYaneiivW/GlbQNaJh9b+KUzb0oTj1v/pQnLKhD/W/ak4CcaHm9L/aS2gvob30v0pJzu2glPS/ukY0rKBr9L8qRJpqoEL0v5pBACmgGfS/Cj9m55/w8796PMyln8fzv+o5MmSfnvO/WjeYIp9187/KNP7gnkzzvzoyZJ+eI/O/qi/KXZ768r8aLTAcntHyv4oqltqdqPK/+if8mJ1/8r9qJWJXnVbyv9oiyBWdLfK/SiAu1JwE8r+6HZSSnNvxvyob+lCcsvG/mhhgD5yJ8b8KFsbNm2Dxv3oTLIybN/G/6hCSSpsO8b9aDvgIm+Xwv8oLXseavPC/OgnEhZqT8L+qBipEmmrwvxoEkAKaQfC/igH2wJkY8L/w/bf+Mt/vv9D4g3syje+/sPNP+DE777+Q7ht1Menuv3Dp5/Ewl+6/UOSzbjBF7r8w33/rL/PtvxDaS2gvoe2/8NQX5S5P7b/Qz+NhLv3sv7DKr94tq+y/kMV7Wy1Z7L9wwEfYLAfsv1C7E1Usteu/MLbf0Stj678QsatOKxHrv/Crd8sqv+q/0KZDSCpt6r+woQ/FKRvqv5Cc20Epyem/cJenvih36b9QknM7KCXpvzCNP7gn0+i/EIgLNSeB6L/wgtexJi/ov9B9oy4m3ee/sHhvqyWL57+QczsoJTnnv3BuB6Uk5+a/UGnTISSV5r8wZJ+eI0PmvxBfaxsj8eW/8Fk3mCKf5b/QVAMVIk3lv7BPz5Eh++S/kEqbDiGp5L9wRWeLIFfkv1BAMwggBeS/MDv/hB+z478QNssBH2Hjv/Awl34eD+O/0Ctj+x294r+wJi94HWviv5Ah+/QcGeK/cBzHcRzH4b9QF5PuG3XhvzASX2sbI+G/EA0r6BrR4L/wB/dkGn/gv9ACw+EZLeC/YPsdvTK2378g8bW2MRLfv+DmTbAwbt6/oNzlqS/K3b9g0n2jLibdvyDIFZ0tgty/4L2tlize27+gs0WQKzrbv2Cp3Ykqltq/IJ91gyny2b/glA19KE7Zv6CKpXYnqti/YIA9cCYG2L8gdtVpJWLXv+BrbWMkvta/oGEFXSMa1r9gV51WInbVvyBNNVAh0tS/4ELNSSAu1L+gOGVDH4rTv2Au/Twe5tK/ICSVNh1C0r/gGS0wHJ7Rv6APxSkb+tC/YAVdIxpW0L9A9uk5MmTPv8DhGS0wHM6/QM1JIC7UzL/AuHkTLIzLv0CkqQYqRMq/wI/Z+Sf8yL9AewntJbTHv8BmOeAjbMa/QFJp0yEkxb/APZnGH9zDv0ApybkdlMK/wBT5rBtMwb9AACmgGQTAv4DXsSYveL2/gK4RDSvour+AhXHzJli4v4Bc0dkiyLW/gDMxwB44s7+ACpGmGqiwvwDD4RktMKy/AHGh5iQQp78AH2GzHPChvwCaQQApoJm/AOyBMzHAjr8ASAHNIIB0vwBIAc0ggHQ/AOyBMzHAjj8AmkEAKaCZPwAfYbMc8KE/AHGh5iQQpz8Aw+EZLTCsP4AKkaYaqLA/gDMxwB44sz+AXNHZIsi1P4CFcfMmWLg/gK4RDSvouj+A17EmL3i9P0AAKaAZBMA/wBT5rBtMwT9AKcm5HZTCP8A9mcYf3MM/QFJp0yEkxT/AZjngI2zGP0B7Ce0ltMc/wI/Z+Sf8yD9ApKkGKkTKP8C4eRMsjMs/QM1JIC7UzD/A4RktMBzOP0D26TkyZM8/YAVdIxpW0D+gD8UpG/rQP+AZLTAcntE/ICSVNh1C0j9gLv08HubSP6A4ZUMfitM/4ELNSSAu1D8gTTVQIdLUP2BXnVYidtU/oGEFXSMa1j/ga21jJL7WPyB21WklYtc/YIA9cCYG2D+giqV2J6rYP+CUDX0oTtk/IJ91gyny2T9gqd2JKpbaP6CzRZArOts/4L2tlize2z8gyBWdLYLcP2DSfaMuJt0/oNzlqS/K3T/g5k2wMG7ePyDxtbYxEt8/YPsdvTK23z/QAsPhGS3gP/AH92Qaf+A/EA0r6BrR4D8wEl9rGyPhP1AXk+4bdeE/cBzHcRzH4T+QIfv0HBniP7AmL3gda+I/0Ctj+x294j/wMJd+Hg/jPxA2ywEfYeM/MDv/hB+z4z9QQDMIIAXkP3BFZ4sgV+Q/kEqbDiGp5D+wT8+RIfvkP9BUAxUiTeU/8Fk3mCKf5T8QX2sbI/HlPzBkn54jQ+Y/UGnTISSV5j9wbgelJOfmP5BzOyglOec/sHhvqyWL5z/QfaMuJt3nP/CC17EmL+g/EIgLNSeB6D8wjT+4J9PoP1CSczsoJek/cJenvih36T+QnNtBKcnpP7ChD8UpG+o/0KZDSCpt6j/wq3fLKr/qPxCxq04rEes/MLbf0Stj6z9QuxNVLLXrP3DAR9gsB+w/kMV7Wy1Z7D+wyq/eLavsP9DP42Eu/ew/8NQX5S5P7T8Q2ktoL6HtPzDff+sv8+0/UOSzbjBF7j9w6efxMJfuP5DuG3Ux6e4/sPNP+DE77z/Q+IN7Mo3vP/D9t/4y3+8/iAH2wJkY8D8YBJACmkHwP6gGKkSaavA/OAnEhZqT8D/IC17HmrzwP1gO+Aib5fA/6BCSSpsO8T94EyyMmzfxPwgWxs2bYPE/mBhgD5yJ8T8oG/pQnLLxP7gdlJKc2/E/SCAu1JwE8j/YIsgVnS3yP2glYledVvI/+Cf8mJ1/8j+IKpbanajyPxgtMBye0fI/qC/KXZ768j84MmSfniPzP8g0/uCeTPM/WDeYIp918z/oOTJkn57zP3g8zKWfx/M/CD9m55/w8z+YQQApoBn0PyhEmmqgQvQ/uEY0rKBr9D9ISc7toJT0P9hLaC+hvfQ/aE4CcaHm9D/4UJyyoQ/1P4hTNvShOPU/GFbQNaJh9T+oWGp3oor1PzhbBLmis/U/yF2e+qLc9T9YYDg8owX2P+hi0n2jLvY/eGVsv6NX9j8IaAYBpID2P5xqoEKkqfY/LG06hKTS9j+8b9TFpPv2P0xybgelJPc/3HQISaVN9z9sd6KKpXb3P/x5PMyln/c/jHzWDabI9z8cf3BPpvH3P6yBCpGmGvg/PISk0qZD+D/Mhj4Up2z4P1yJ2FWnlfg/7Ityl6e++D98jgzZp+f4PwyRphqoEPk/nJNAXKg5+T8sltqdqGL5P7yYdN+oi/k/TJsOIam0+T/cnahiqd35P2ygQqSpBvo//KLc5akv+j+MpXYnqlj6PxyoEGmqgfo/rKqqqqqq+j88rUTsqtP6P8yv3i2r/Po/XLJ4b6sl+z/stBKxq077P3y3rPKrd/s/DLpGNKyg+z+cvOB1rMn7Pyy/eres8vs/vMEU+awb/D9MxK46rUT8P9zGSHytbfw/bMniva2W/D/8y3z/rb/8P4zOFkGu6Pw/HNGwgq4R/T+s00rErjr9PzzW5AWvY/0/zNh+R6+M/T9c2xiJr7X9P+zdssqv3v0/fOBMDLAH/j8M4+ZNsDD+P5zlgI+wWf4/LOga0bCC/j+86rQSsav+P0ztTlSx1P4/3O/olbH9/j9s8oLXsSb/P/z0HBmyT/8/jPe2WrJ4/z8c+lCcsqH/P6z86t2yyv8/PP+EH7Pz/z/mgI+wWQ4AQC6CXNHZIgBAdoMp8lk3AEC+hPYS2ksAQAaGwzNaYABAToeQVNp0AECWiF11WokAQN6JKpbanQBAJov3tlqyAEBujMTX2sYAQLaNkfha2wBA/o5eGdvvAEBGkCs6WwQBQI6R+FrbGAFA1pLFe1stAUAelJKc20EBQGaVX71bVgFArpYs3ttqAUD2l/n+W38BQD6Zxh/ckwFAhpqTQFyoAUDOm2Bh3LwBQBadLYJc0QFAXp76otzlAUCmn8fDXPoBQO6glOTcDgJANqJhBV0jAkB+oy4m3TcCQMak+0ZdTAJADqbIZ91gAkBWp5WIXXUCQJ6oYqndiQJA5qkvyl2eAkAuq/zq3bICQHasyQtexwJAvq2WLN7bAkAGr2NNXvACQE6wMG7eBANAlrH9jl4ZA0Dessqv3i0DQCa0l9BeQgNAbrVk8d5WA0C2tjESX2sDQP63/jLffwNARrnLU1+UA0COuph036gDQNa7ZZVfvQNAHr0ytt/RA0Bmvv/WX+YDQK6/zPff+gNA9sCZGGAPBEA+wmY54CMEQIbDM1pgOARAzsQAe+BMBEAWxs2bYGEEQF7HmrzgdQRApshn3WCKBEDuyTT+4J4EQDbLAR9hswRAfszOP+HHBEDGzZtgYdwEQA7PaIHh8ARAVtA1omEFBUCe0QLD4RkFQObSz+NhLgVALtScBOJCBUB21WklYlcFQL7WNkbiawVABtgDZ2KABUBO2dCH4pQFQJbanahiqQVA3ttqyeK9BUAm3TfqYtIFQG7eBAvj5gVAtt/RK2P7BUD+4J5M4w8GQEbia21jJAZAjuM4juM4BkDW5AWvY00GQB7m0s/jYQZAZuef8GN2BkCu6GwR5IoGQPbpOTJknwZAPusGU+SzBkCG7NNzZMgGQM7toJTk3AZAFu9ttWTxBkBe8DrW5AUHQKbxB/dkGgdA7vLUF+UuB0A29KE4ZUMHQH71blnlVwdAxvY7emVsB0AO+Aib5YAHQFb51btllQdAnvqi3OWpB0Dm+2/9Zb4HQC79PB7m0gdAdv4JP2bnB0C+/9Zf5vsHQAgBpIBmEAhAUAJxoeYkCECYAz7CZjkIQOAEC+PmTQhAKAbYA2diCEBwB6Uk53YIQLgIckVniwhAAAo/ZuefCEBICwyHZ7QIQJAM2afnyAhA2A2myGfdCEAgD3Pp5/EIQGgQQApoBglAsBENK+gaCUD4EtpLaC8JQEAUp2zoQwlAiBV0jWhYCUDQFkGu6GwJQBgYDs9ogQlAYBnb7+iVCUCoGqgQaaoJQPAbdTHpvglAOB1CUmnTCUCAHg9z6ecJQMgf3JNp/AlAECGptOkQCkBYInbVaSUKQKAjQ/bpOQpA6CQQF2pOCkAwJt036mIKQHgnqlhqdwpAwCh3eeqLCkAIKkSaaqAKQFArEbvqtApAmCze22rJCkDgLav86t0KQCgveB1r8gpAcDBFPusGC0C4MRJfaxsLQAAz33/rLwtASDSsoGtEC0CQNXnB61gLQNg2RuJrbQtAIDgTA+yBC0BoOeAjbJYLQLA6rUTsqgtA+Dt6ZWy/C0BAPUeG7NMLQIg+FKds6AtA0D/hx+z8C0AYQa7obBEMQGBCewntJQxAqENIKm06DEDwRBVL7U4MQDhG4mttYwxAgEevjO13DEDISHytbYwMQBBKSc7toAxAWEsW7221DECgTOMP7skMQOhNsDBu3gxAME99Ue7yDEB4UEpybgcNQMBRF5PuGw1ACFPks24wDUBQVLHU7kQNQJhVfvVuWQ1A4FZLFu9tDUAoWBg3b4INQHBZ5Vfvlg1AuFqyeG+rDUAAXH+Z778NQEhdTLpv1A1AkF4Z2+/oDUDYX+b7b/0NQCBhsxzwEQ5AaGKAPXAmDkCwY01e8DoOQPhkGn9wTw5AQGbnn/BjDkCIZ7TAcHgOQNBogeHwjA5AGGpOAnGhDkBgaxsj8bUOQKhs6ENxyg5A8G21ZPHeDkA4b4KFcfMOQIBwT6bxBw9AyHEcx3EcD0AQc+nn8TAPQFh0tghyRQ9AoHWDKfJZD0DodlBKcm4PQDB4HWvygg9AeHnqi3KXD0DAeres8qsPQAh8hM1ywA9AUH1R7vLUD0CYfh4Pc+kPQOB/6y/z/Q9AlEBcqDkJEEA4wcK4eRMQQNxBKcm5HRBAgMKP2fknEEAkQ/bpOTIQQMjDXPp5PBBAbETDCrpGEEAQxSkb+lAQQLRFkCs6WxBAWMb2O3plEED8Rl1Mum8QQKDHw1z6eRBAREgqbTqEEEDoyJB9eo4QQIxJ9426mBBAMMpdnvqiEEDUSsSuOq0QQHjLKr96txBAHEyRz7rBEEDAzPff+ssQQGRNXvA61hBACM7EAHvgEECsTisRu+oQQFDPkSH79BBA9E/4MTv/EECY0F5CewkRQDxRxVK7ExFA4NErY/sdEUCEUpJzOygRQCjT+IN7MhFAzFNflLs8EUBw1MWk+0YRQBRVLLU7URFAuNWSxXtbEUBcVvnVu2URQADXX+b7bxFApFfG9jt6EUBI2CwHfIQRQOxYkxe8jhFAkNn5J/yYEUA0WmA4PKMRQNjaxkh8rRFAfFstWby3EUAg3JNp/MERQMRc+nk8zBFAaN1ginzWEUAMXseavOARQLDeLav86hFAVF+Uuzz1EUD43/rLfP8RQJxgYdy8CRJAQOHH7PwTEkDkYS79PB4SQIjilA19KBJALGP7Hb0yEkDQ42Eu/TwSQHRkyD49RxJAGOUuT31REkC8ZZVfvVsSQGDm+2/9ZRJABGdigD1wEkCo58iQfXoSQExoL6G9hBJA8OiVsf2OEkCUafzBPZkSQDjqYtJ9oxJA3GrJ4r2tEkCA6y/z/bcSQCRslgM+whJAyOz8E37MEkBsbWMkvtYSQBDuyTT+4BJAtG4wRT7rEkBY75ZVfvUSQPxv/WW+/xJAoPBjdv4JE0BEccqGPhQTQOjxMJd+HhNAjHKXp74oE0Aw8/23/jITQNRzZMg+PRNAePTK2H5HE0AcdTHpvlETQMD1l/n+WxNAZHb+CT9mE0AI92Qaf3ATQKx3yyq/ehNAUPgxO/+EE0D0eJhLP48TQJj5/lt/mRNAPHplbL+jE0Dg+st8/60TQIR7Mo0/uBNAKPyYnX/CE0DMfP+tv8wTQHD9Zb7/1hNAFH7Mzj/hE0C4/jLff+sTQFx/me+/9RNAAAAAAAAAFEA=\",\"dtype\":\"float64\",\"shape\":[1000]},\"y\":{\"__ndarray__\":\"VFXxoYPFuj5q86ZOrGu7PuYjdtjaFbw+CZCuISjEvD707hamrXa9PihQm36FLb4+9NkRZcrovj4ugxa4l6i/Ps4pf7+ENsA+LVzxNh6bwD4Kv+L0JgLBPs4CZwaua8E+SCVQ1cLXwT45LGcqdUbCPl5msi/Vt8I+oITJcvMrwz7c3jfn4KLDPiE57eiuHMQ+M2G9Pm+ZxD4w/e4cNBnFPtHm2ScQnMU+nnCVdhYixj7m9LaVWqvGPvwPIYrwN8c+Aerj0+zHxz5y9i5xZFvIPh6SVOFs8sg+3erfJxyNyT5pnr3PiCvKPoOAd+7Jzco+6fqDJ/dzyz6XfKmvKB7MPjlwdlB3zMw+cjTOa/x+zT66k4v/0TXOPtw7OakS8c4+i7jgqdmwzz7zO/h0oTrQPqCwnH41n9A+50WCkzcG0T4Z0iCvtm/RPvtJ5yjC29E+DIFstmlK0j6DIq1tvbvSPmIyV8fNL9M+ZmYjoaum0z5ZqTxAaCDUPigdtlMVndQ+7/AP98Qc1T7RY8u0iZ/VPvNNDol2JdY+j4tW5J6u1j7NqD2uFjvXPn4tTUjyytc+B+zjkEZe2D5ftyzmKPXYPvbmJimvj9k+SBLBwO8t2j5ZbgadAdDaPjI8Xzr8dds+57fkpPcf3D71+sh7DM7cPjFI0/RTgN0+FDjx3+c23j4ZQd2q4vHePg0Z22Rfsd8+rjdF4bw64D49QugQJ5/gPlCR7Mb8BeE+UcGX4Uxv4T640/eZJtvhPuhfCIaZSeI+npDkmrW64j7sNwYviy7jPuJGkvwqpeM+dvayI6Ye5D558f8sDpvkPrfR9At1GuU+cEJ2Ie2c5T6bHmY+iSLmPuzgRqZcq+Y+5b7uEXs35z48ykqy+MbnPmx0MjPqWeg+T9RLvmTw6D79DQH+fYrpPghAhyBMKOo+4lv32uXJ6j6gT3lsYm/rPu3rgaHZGOw+CfEj12PG7D53sXT+GXjtPk67BKAVLu4+Efps33Do7j7Fx/B+RqfvPiKymvFYNfA+0qaHi2eZ8D6u+7Jn3f/wPnEvlzfJaPE+uIC+BTrU8T7E29c3P0LyPhD/15DosvI+5xwnM0Ym8z4wQNuiaJzzPkO9/8dgFfQ+z/jp8D+R9D5w0JvUFxD1PsvxM5X6kfU+X29swvoW9j4Y4ydcK5/2PuRwDdWfKvc+SP0zFWy59z4R7dx8pEv4Pt3FPudd4fg+Vwhgra16+T4rnwKpqRf6PuM/oDdouPo+yBt4PQBd+z4UQq4oiQX8PtAVffQasvw+FTx5LM5i/T7Raejvuxf+PkR5K/X90P4+zzI8ja6O/z7nmp9TdCgAP304FerjiwA/FE5AJbTxAD9hExF181kBP+UIGqCwxAE/rZaOxfoxAj+BGk1f4aECP1ak9EN0FAM/j6AGqcOJAz+4sRQl4AEEP/P7+rHafAQ/+iUnr8T6BD8YVezjr3sFPzJq5IGu/wU/GMheJ9OGBj9C7NzhMBEHP54knTDbngc/464zB+YvCD+UjjLQZcQIPzZp4G9vXAk/Frn+Rhj4CT/eqJ81dpcKP+3rC56fOgs/Tei4Z6vhCz+0iU8CsYwMP7wVxGjIOw0/xVt/JArvDT+PnJlQj6YOP8KGJ51xYg8/HdRMqWURED9vWpeq23MQPwuDPJSo2BA/9dt7edo/ET/R5OHAf6kRP5vVKCanFRI/oNAjvF+EEj/4tbTuuPUSP8PPzITCaRM/8I54oozgEz/okfbKJ1oUPycv2uKk1hQ/sb45MhVWFT8I3+hmitgVP0HyvpYWXhY//hHqQczmFj9uuU5VvnIXP7Bl9CwAAhg/kG5/lqWUGD/IWbjTwioZP+fsIJ1sxBk/wUKXJLhhGj9PKgcYuwIbP7kWKqSLpxs/b+hVd0BQHD9X2VrE8PwcP9TWcEW0rR0/cpU0P6NiHj8grLSD1hsfP70Ej3Vn2R8/KXmPBbhNID/oHt5oBbEgP7W9hXipFiE/Y/4vF7J+IT8T2hd4LekhP6evzCAqViI/u6j+6rbFIj9rmlQG4zcjP2KPS/q9rCM/gCggqFckJD++AsJMwJ4kP4hR0YIIHCU/9tymREGcJT/ulGbuex8mP8zpHEDKpSY/xhznXz4vJz+Suibc6rsnPzZzwK3iSyg/p4NmOjnfKD8Z5e5WAnYpP+N3tUlSECo/618KzT2uKj/+yKwR2k8rP09LUsE89Ss/iic7AXyeLD/Dk9N0rkstP9JSYkDr/C0/INDEC0qyLj9t+zgF42svP9OPGnLnFDA/xfgmdhN2MD+fiRV4gtkwPw8lRapBPzE/C9OoiV6nMT9ebFjf5hEyP1P+KMLofjI/jQZNmHLuMj+1p/wYk2AzP+v3JU5Z1TM/FYolltRMND+xU4elFMc0PwgR0IgpRDU/10lPpiPENT8KGfq/E0c2PyjaTvUKzTY/nt9BxRpWNz85VTMQVeI3P2Vy7hnMcTg/PyCyi5IEOT9oN0N2u5o5P0Z6CFRaNDo/AHAwC4PROj/LReHvSXI7P67acsbDFjw/AByzxQW/PD+n1zSZJWs9P+QpqWM5Gz4/8KxDwVfPPj/0jynKl4c/Pw7edYoIIkA/8RaG3G2CQD+FVMcoCOVAPzR3yv/jSUE/s0yDNg6xQT9cZqLnkxpCP3Hq9HSChkI/sHPKiOf0Qj/dEmEX0WVDP3OFV2BN2UM/NbUl8GpPRD/6k5uhOMhEP/lmZp/FQ0U/YJWcZSHCRT/9DFDDW0NGP6xQJ9yEx0Y/l0P9Ka1ORz82xId+5dhHP4gqBQU/Zkg/yLvwQ8v2SD/nJr4enIpJPyIcnNfDIUo/IxI+EVW8Sj9hS63QYlpLPxAtIX8A/Es/Sfre60GhTD+8BCFOO0pNPxRkBUcB900/A0aE46inTj/L5m2eR1xPP+whOLF5ClA/AUwSRuFoUD/KWBL2ZclQPw4ZlGQTLFE/QOMUcfWQUT9UM0o4GPhRP4dVPBWIYVI/6iJlolHNUj/F1tK6gTtTP+UCT3slrFM/YamJQ0ofVD+/gUi3/ZRUP+tumr9NDVU/6isPjEiIVT/DM/OT/AVWP+Hpj5d4hlY/AQdwocsJVz/wTqgHBZBXP+2SJG00GVg/rAP5wmmlWD9L1rdJtTRZP30+y5Inx1k/LMDTgdFcWj9f2gpOxPVaP0QMqoMRkls/eDVWBcsxXD+wUY8NA9VcP06PJDDMe10/yMCsWzkmXj+xJgPbXdReP1CRyFZNhl8/eWt06w0eYD/9TRLi7npgP6e0z/TT2WA/XgY5u8c6YT8mn6D/1J1hP6BC7L8GA2I/IqtkLmhqYj8cMoeyBNRiP7qN2ennP2M/yp+/qB2uYz8nUVP7sR5kP8h0PiaxkWQ/MK2WpycHZT85Trs3In9lP0Q1Ncqt+WU/DpGYjtd2Zj8ckmjxrPZmP3T8/Jw7eWc/RZJpepH+Zz8/T2eyvIZoPwdsP67LEWk/rR+4GM2faT/TFQPfzzBqP72OrTHjxGo/lR6ShRZcaz9CAMyUefZrP87vq18clGw/7X+uLQ81bT9h3XOOYtltP2LyuFongW4/QtxRtW4sbz+4oyUMSttvP3yUlYzlRnA/g5mz8QGicD/oyPVfA/9wP9agaynzXXE//b4ryNq+cT9h2NTewyFyP6wVDzm4hnI/V8oNzMHtcj8ifBG36lZzPyMw6kM9wnM/s/J558MvdD9ZjjdCiZ90P41msSCYEXU/tGkQfPuFdT8fDpt6vvx1P1BNOHDsdXY/94/y3pDxdj+EfXp3t293P/mgqRls8Hc/tdQE1bpzeD/JZj7pr/l4Py/mt8ZXgnk/5YkDD78Nej+oIWWV8pt6PwyAUl//LHs/gU3zpPLAez+SMqDR2Vd8P5NIYYTC8Xw/Kb5rkLqOfT+ynZ79zy5+P7Si/ggR0n4/BAsxJYx4fz82qHr9JxGAPy7bzrS1Z4A/u0vDw/a/gD8oL0bR8hmBP90JQKCxdYE/oTbNDzvTgT/ZonYblzKCP4a0advNk4I/kE6vhOf2gj+152Fp7FuDPzuo4vjkwoM/S4INwNkrhD+yOGxp05aEP49HaL3aA4U/M6J7ovhyhT9SOWAdNuSFP3c8PlGcV4Y/SwnZfzTNhj9wu7oJCEWHP/VOXm4gv4c/xkdYTIc7iD/Wz31hRrqIP789CotnO4k/nvXCxfS+iT8rlRku+ESKP59cTAB8zYo/GMWEmIpYiz9tNfRyLuaLPzzG7itydow/YwUEgGAJjT+SqRVMBJ+NP8ElbI1oN44/wwzJYZjSjj/hNHcHn3CPP2tFrO7DCJA/JcJ4Ma9akD9CEDkcF66QP5szXo8BA5E/Iyq0e3RZkT+3j2LidbGRP43n69QLC5I/Y4IrdTxmkj/g+FH1DcOSP5cx4JeGIZM/mOmgr6yBkz8nt6CfhuOTP1x9JNsaR5Q/GUie5W+slD9Xh6BSjBOVP7agz8V2fJU/kc7R8jXnlT9wQz2d0FOWP9+IhJhNwpY/vxDhx7Mylz/S7zseCqWXP8W4FJ5XGZg/YG5mWaOPmD8ThIpx9AeZP7PjGRdSgpk/jO/LicP+mT+Vd1MYUH2aPx6ZOSD//Zo/oX+2DdiAmz9V/odb4gWcPyn5xZIljZw/tpS0SqkWnT83JJQodaKdP/vMbt+QMJ4/e9bjLwTBnj/nnvDn1lOfPyort+IQ6Z8/WiUhBF1AoD8Jo6MmbY2gP0OIctm826A/XXowI1AroT/6WXAQK3yhP2oIkbNRzqE/iN6XJMghoj+l0QmBknaiP6VCw+u0zKI/nnPOjDMkoz+zoDiREn2jP2O45SpW16M/IrBikAIzpD8Dcrb8G5CkPyFgMa+m7qQ/5mo766ZOpT8jtyD4ILClPyXR3CAZE6Y/Rmrks5N3pj8Rnu0Cld2mP/a8tmIhRac/4ZnLKj2upz+6WEm17BioP/S7oF40hag/++5WhRjzqD8gzMSJnWKpP3ic1M3H06k/D1C+tJtGqj/GLcKiHbuqP3T54fxRMas/vY+YKD2pqz8V94+L4yKsP13lVYtJnqw/S7oOjXMbrT9I7ib1ZZqtP4H2AiclG64/VZ6thLWdrj8b14RuGyKvP1j/5EJbqK8/M1HprjwYsD8/WVEMPV2wP0uf0OQwo7A/NFPbYRrqsD+EpwWr+zGxP0ft1OXWerE/9fKPNa7EsT8QqA67gw+yP1MHiZRZW7I/S0ll3TGosj+QYQWuDvayP+fIkxvyRLM/tZbPN96Usz987NcQ1eWzPyK29rDYN7Q/DsJqHuuKtD82NDFbDt+0P6JXzmRENLU/1tEVNI+KtT/VO/K88OG1PwMlLO5qOrY/mYMwsf+Ttj9tl9bpsO62P2tDJXaASrc/j+IXLnCntz9onWLjgQW4P0VFNmG3ZLg/iroDbBLFuD+/4z7BlCa5P0Q7IRdAibk/sflrHBbtuT8r4yl4GFK6P0K+cMlIuLo/Ensip6gfuz+TEa6fOYi7P2Ye0Dj98bs/Y0VT7/RcvD/BYdA2Ism8P4uLbnmGNr0/m/qiFyOlvT9lz/Bn+RS+PxfKqLYKhr4/6vioRVj4vj+AZhxM42u/P7LROvas4L8/FzyEMlsrwD+t/gpXAGfAP9Q7oG1Go8A/Hdc49S3gwD+NSLBmtx3BP0n7qDTjW8E/H9Rsy7GawT9W5c2QI9rBP2JVB+Q4GsI/6n2eHfJawj8DSUSPT5zCPzbStoNR3sI/YVGjPvggwz8wVYj8Q2TDP0tTmPI0qMM/QZScTsvswz9egdg2BzLEP31a7cnod8Q/P1q+HnC+xD/WTlVEnQXFP72tx0FwTcU/xigcFumVxT/byjC4B9/FP+mioRbMKMY/ZgOwFzZzxj/sXCqZRb7GP0y6VHD6Ccc/weTRaVRWxz+ENo1JU6PHP2Eipcr28Mc/m3ZWnz4/yD+sYehwKo7IPwQ/md+53cg/ZzKMguwtyT/8l7fnwX7JPzFP1JM50Mk/++ZNAlMiyj//sDOlDXXKPxvCKuVoyMo/5eVgIWQcyz8Mi4Cv/nDLP0qupds3xss/e8lT6A4czD8vzGwOg3LMPzwjKX2Tycw/Q9QQWj8hzT9DsvXAhXnNPy6w7sNl0s0/7lVUa94rzj+tXL617oXOP152ApiV4M4/8UQ0/dE7zz/yhKbGopfPP0Rv7csG9M8/zSpxbX4o0D9sPtTbQVfQPzGcWQ5NhtA/l6RmXZ+10D+JwZAcOOXQP15dopoWFdE/C3+gITpF0T+SDNH2oXXRP0+0wVpNptE/vX1PiTvX0T9BAq+5awjSPxdOdR7dOdI/y2mh5Y5r0j8CjKY4gJ3SP4Xzdjywz9I/Z2mPER4C0z92agPUyDTTP733iZuvZ9M/BQ2Le9Ga0z+MvC2DLc7TP83uZr3CAdQ/FsUIMZA11D99ndLglGnUP6O2gcvPndQ/eXHi6z/S1D9BL+I45AbVP3XJoaW7O9U/qaGIIcVw1T+7RliY/6XVP/qsQPJp29U/cfb0EwMR1j9yyMDeyUbWP30rnjC9fNY/TfJL5Nuy1j+IpGTRJOnWPwfqdcyWH9c/qHIYpzBW1z8+Vwgw8YzXP5rvPTPXw9c/vxkHeuH61z8G7iDLDjLYPxPc0epdadg/HiwEm82g2D8j4GCbXNjYP2DwaqkJENk/bd6agNNH2T8hmnrauH/ZP1+zwW64t9k/4dNx89Dv2T/be/McASjaP2L8Mp5HYNo/bqq9KKOY2j8cRd9sEtHaP/CJvxmUCds/t/F/3SZC2z+ZkFllyXrbP+sTu116s9s/Othmcjjs2z8+EpFOAiXcP9wE/pzWXdw/Az8gCLSW3D+e2zY6mc/cPzi+a92ECN0/xMbxm3VB3T/o9iIganrdP4yDnhRhs90/98xmJFns3T9VOP/6UCXeP/rkiURHXt4/STjlrTqX3j/7OsnkKdDeP0/C5JcTCd8/aWD6dvZB3z9mFv0y0XrfP37DLH6is98/DEwyDGns3z/4uR3JkRLgP6wzi2PoLuA/uHamsTdL4D9JoJ8Qf2fgP6dDn969g+A/NXXTevOf4D+eoXxFH7zgP2Ev+p9A2OA/oujW7Fb04D+EK9WPYRDhPwbf+u1fLOE/6iqdbVFI4T+x8Gt2NWThP1EEfXELgOE/7iJXydKb4T9DpvzpirfhP0jz9UAz0+E/zKJbPcvu4T/aYuBPUgriP56P2urHJeI/74JNgitB4j9LmfKLfFziP4XrQX+6d+I/Q7x61eSS4j9/mKsJ+63iP38qupj8yOI/jb5qAenj4j8EeWfEv/7iPzE9R2SAGeM/ykSUZSo04z+CZ9JOvU7jP80Shag4aeM/YvE0/ZuD4z/GQnXZ5p3jP5fi6MsYuOM/4/9GZTHS4z+khF84MOzjP6EtH9oUBuQ/91KT4d4f5D/EYe3njTnkP0oHhoghU+Q/FA7gYJls5D+37aoQ9YXkP8INxTk0n+Q/kbw9gFa45D/K2laKW9HkPzw8hgBD6uQ/Eb92jQwD5T8iGgnetxvlP4djVKFENOU/JlCmiLJM5T+GLYNHAWXlP+OWpZMwfeU/oeb9JECV5T9RZbG1L63lP3g3GQL/xOU/VAvByK3c5T/yh2XKO/TlP8N+8smoC+Y/NeGAjPQi5j9te1TZHjrmP8112XknUeY/X56hOQ5o5j/de2Hm0n7mP4gr7U91leY/dws1SPWr5j+jMkKjUsLmP2O4MjeN2OY/usw13KTu5j/boodsmQTnP70vbcRqGuc/0r0vwhgw5z/HVxhGo0XnP64LazIKW+c/7Qdia01w5z/PkyjXbIXnP+/k1V1omuc/KNNn6T+v5z96bL1l88PnP2xqkcCC2Oc/Z4p06e3s5z+AysfRNAHoPzKMtmxXFeg/Yp4wr1Up6D9PMOSPLz3oP56uNwflUOg/IoxDD3Zk6D+Y98uj4nfoP9B/OsIqi+g/nKeXaU6e6D/IaoSaTbHoP4W1M1coxOg/eM9jo97W6D/Iu1eEcOnoP1qP0ADe++g/db4GIScO6T8KY6PuSyDpP818uXRMMuk/Liy/vyhE6T906Ybd4FXpP/O4ON10Z+k/iF1Lz+R46T9Nin3FMIrpP6QUz9JYm+k/iyd6C12s6T8XeeyEPb3pP0KDwFX6zek/pMC2lZPe6T9P7q5dCe/pP1ZTocdb/+k/Fw+Y7ooP6j/ebqjulh/qP9hL7OR/L+o/4XF770U/6j8aEGUt6U7qP8gzqb5pXuo/P04yxMdt6j9/xs5fA33qPxWXKrQcjOo/zPjI5BOb6j/fGv4V6anqPxXp6GycuOo/QuBsDy7H6j/d8SskntXqP+J2gNLs4+o/lDJ3Qhry6j96ZcmcJgDrPxPx1goSDus/boygttwb6z8wCsLKhinrPz2wbHIQN+s/WaFh2XlE6z8NWewrw1HrPwU63ZbsXus/MS+ER/Zr6z/TX6tr4HjrP8X2kTGrhes/Bv3mx1aS6z+/R8Rd457rPwx6qSJRq+s/YBp3RqC36z/mu2n50MPrP8g7FWzjz+s/iRJgz9fb6z94uX5UrufrP0Mk7yxn8+s/wE50igL/6z/f3hGfgArsP9LaB53hFew/bXPOtiUh7D+j4hEfTSzsPy5erghYN+w/TB6spkZC7D96eDssGU3sPzQOsczPV+w/fg+Cu2pi7D9dkUAs6mzsP9D3l1JOd+w/jnNJYpeB7D8TkyiPxYvsPyDnFw3Zlew/ZboFENKf7D8/3OjLsKnsP05+vXR1s+w/+CSCPiC97D9bqjRdscbsP8NTzwQp0Ow/Y/lFaYfZ7D8cQIO+zOLsPyzlZTj56+w/jhu+Cg317D/t+kppCP7sP9L/t4frBu0//5yambYP7T+x3W/SaRjtP4kYmmUFIe0/B7Nehokp7T879eNn9jHtP4ntLj1MOu0/TmQhOYtC7T8Q33eOs0rtPyWzx2/FUu0/gSd9D8Fa7T9ppdmfpmLtP/f38VJ2au0/A5qsWjBy7T9gEsDo1HntPxResS5kge0/a2jSXd6I7T+PkECnQ5DtP4M84zuUl+0/QXlqTNCe7T+Up00J+KXtP9o1yqILre0/82XiSAu07T+NH1wr97rtP1rOv3nPwe0/BkxXY5TI7T+11SwXRs/tP8wMCsTk1e0/ygJ3mHDc7T8FULnC6eLtPwc103BQ6e0/T8aC0KTv7T9HIkEP5/XtP02xQVoX/O0/ZW9x3jUC7j+BP3bIQgjuP0RIrkQ+Du4/vlkvfygU7j9CXMajARruP9PH9t3JH+4/TST6WIEl7j+9kb8/KCvuP/pY67y+MO4/HoTW+kQ27j/afo4juzvuP1K+1GAhQe4/YnAe3HdG7j8WMpS+vkvuPyvNETH2UO4/cPwlXB5W7j/ONhJoN1vuP8yAynxBYO4/fET1wTxl7j94L+teKWruP/QWt3oHb+4/o+EVPNdz7j86d3bJmHjuP4a1+UhMfe4/4Wpy4PGB7j/VVWW1iYbuP9EpCe0Ti+4/wZhGrJCP7j+EYbgXAJTuP95iq1NimO4/B7MehLec7j9+u8PM/6DuPx5Z/lA7pe4/RgDlM2qp7j/v5ECYjK3uP6MmjqCise4/GQD8bqy17j9q+mwlqrnuP8Qjd+Wbve4/aklk0IHB7j/pNDIHXMXuP4Hskqoqye4/dfbs2u3M7j9Sn1u4pdDuP+1Cr2JS1O4/Lpht+fPX7j9V/9GbitvuP8TSzWgW3+4/LboIf5fi7j8TAOH8DebuP27pawB66e4/eQ92p9vs7j96u4MPM/DuP4pE0VWA8+4/G29Tl8P27j9czrfw/PnuP04nZX4s/e4/VdV7XFIA7z9wMNambgPvP+D0CHmBBu8/KKxj7ooJ7z9jF/EhiwzvP9Cady6CD+8/map5LnAS7z+tODY8VRXvP58jqXExGO8/jKaL6AQb7z/ryVS6zx3vPy/VOQCSIO8/PMEu00sj7z+lq+ZL/SXvP4tK1IKmKO8/KmEqkEcr7z/2NNyL4C3vP0QDno1xMO8/dHflrPoy7z+EIeoAfDXvPwbtpaD1N+8/gJjVomc67z/5LPkd0jzvP/l1VCg1P+8/kHnv15BB7z+o8JZC5UPvP3q/3H0yRu8/Em4Yn3hI7z/zoGe7t0rvP7ORrufvTO8/qoeYOCFP7z+HUJjCS1HvP9y46JlvU+8/mASN0oxV7z9LZ1GAo1fvP2F8y7azWe8/Fr9aib1b7z86AikLwV3vP7vnKk++X+8/8lcgaLVh7z+X+JRopmPvP3Wj4GKRZe8/wNwnaXZn7z8cSVyNVWnvPywjPeEua+8/17BXdgJt7z8XuAde0G7vP1vzd6mYcO8/a4WiaVty7z/rbFGvGHTvP0r3HovQde8/PzN2DYN37z/HYpNGMHnvP4RshEbYeu8/q0wpHXt87z9WhTTaGH7vP0SOK42xf+8/BkRnRUWB7z+XVhQS1ILvP123MwJehO8/cgabJOOF7z97//SHY4fvP6vlwTrfiO8/Tu9XS1aK7z+KsOPHyIvvP4iFaL42je8/+vvAPKCO7z/XO59QBZDvP49vjQdmke8/aSvubsKS7z9a1PyTGpTvP/IFzoNule8/0PdPS76W7z864kr3CZjvP/5hYZRRme8/wtsQL5Wa7z9g3rHT1JvvP8OEeI4Qne8/5NZ0a0ie7z8SKpN2fJ/vP5SAnLusoO8/eOg2Rtmh7z+o2eUhAqPvP1OTClonpO8/hnjk+Uil7z8=\",\"dtype\":\"float64\",\"shape\":[1000]}},\"selected\":{\"id\":\"68641\",\"type\":\"Selection\"},\"selection_policy\":{\"id\":\"68640\",\"type\":\"UnionRenderers\"}},\"id\":\"67484\",\"type\":\"ColumnDataSource\"},{\"attributes\":{},\"id\":\"67460\",\"type\":\"BasicTicker\"}],\"root_ids\":[\"67450\"]},\"title\":\"Bokeh Application\",\"version\":\"1.0.2\"}};\n",
       "  var render_items = [{\"docid\":\"b830803c-22c7-410c-ba74-0de48e43f967\",\"roots\":{\"67450\":\"13ce3010-826b-4a41-9d4d-61fdbcc5eb24\"}}];\n",
       "  root.Bokeh.embed.embed_items_notebook(docs_json, render_items);\n",
       "\n",
       "  }\n",
       "  if (root.Bokeh !== undefined) {\n",
       "    embed_document(root);\n",
       "  } else {\n",
       "    var attempts = 0;\n",
       "    var timer = setInterval(function(root) {\n",
       "      if (root.Bokeh !== undefined) {\n",
       "        embed_document(root);\n",
       "        clearInterval(timer);\n",
       "      }\n",
       "      attempts++;\n",
       "      if (attempts > 100) {\n",
       "        console.log(\"Bokeh: ERROR: Unable to run BokehJS code because BokehJS library is missing\");\n",
       "        clearInterval(timer);\n",
       "      }\n",
       "    }, 10, root)\n",
       "  }\n",
       "})(window);"
      ],
      "application/vnd.bokehjs_exec.v0+json": ""
     },
     "metadata": {
      "application/vnd.bokehjs_exec.v0+json": {
       "id": "67450"
      }
     },
     "output_type": "display_data"
    }
   ],
   "source": [
    "plt = figure(plot_width=600, plot_height=400)\n",
    "plt.line(xx, yy1 *yy3)\n",
    "plt.line(xx, yy1, line_color='red')\n",
    "plt.line(xx, yy2, line_color='red')\n",
    "plt.line(xx, yy3, line_color='red')\n",
    "plt.line(xx, yy4, line_color='black')\n",
    "# plt.line(xx, yy1*yy3 - yy4)\n",
    "show(plt)"
   ]
  },
  {
   "cell_type": "code",
   "execution_count": 1044,
   "metadata": {},
   "outputs": [
    {
     "data": {
      "text/plain": [
       "0.24442395620161766"
      ]
     },
     "execution_count": 1044,
     "metadata": {},
     "output_type": "execute_result"
    }
   ],
   "source": [
    "sigmy(-1.32 / np.sqrt(1 + .368), 0)"
   ]
  },
  {
   "cell_type": "code",
   "execution_count": 1080,
   "metadata": {},
   "outputs": [
    {
     "data": {
      "text/plain": [
       "-2.6475989456799858"
      ]
     },
     "execution_count": 1080,
     "metadata": {},
     "output_type": "execute_result"
    }
   ],
   "source": [
    "np.log((gg * yy1 * yy2 * yy3).sum())"
   ]
  },
  {
   "cell_type": "code",
   "execution_count": 1084,
   "metadata": {},
   "outputs": [
    {
     "data": {
      "text/plain": [
       "-14735.666136672526"
      ]
     },
     "execution_count": 1084,
     "metadata": {},
     "output_type": "execute_result"
    }
   ],
   "source": [
    "(np.log(yy1) + np.log(yy2) + np.log(yy3) + np.log(gg)).sum()"
   ]
  },
  {
   "cell_type": "code",
   "execution_count": 1045,
   "metadata": {},
   "outputs": [
    {
     "data": {
      "text/plain": [
       "-1.6957658416073902"
      ]
     },
     "execution_count": 1045,
     "metadata": {},
     "output_type": "execute_result"
    }
   ],
   "source": [
    "np.log(sigmy((-1.32 - 0.319) / np.sqrt(1 + .205), 0))"
   ]
  },
  {
   "cell_type": "code",
   "execution_count": 918,
   "metadata": {},
   "outputs": [
    {
     "data": {
      "text/plain": [
       "IRTArray([-2.08413107, -1.99360655, -1.95051791, -1.88830852, -1.83709944,\n",
       "          -1.82596613, -1.82043179, -1.69355612, -1.66843669, -1.63151953,\n",
       "          -1.60499941, -1.53487353, -1.55096095, -1.49422839, -1.3988915 ,\n",
       "          -1.39258285, -1.33681198, -1.24368984, -1.26702023, -1.21302569,\n",
       "          -1.16978545, -1.14943711, -1.07889572, -1.02446568, -1.03489432,\n",
       "          -1.043623  , -0.90950478, -0.88487769, -0.80446304, -0.7309813 ,\n",
       "          -0.7823745 , -0.76201892, -0.67439276, -0.6337244 , -0.6382186 ,\n",
       "          -0.56552465, -0.51735336, -0.5552568 , -0.4411274 , -0.40418363,\n",
       "          -0.40276807, -0.37594314, -0.24629994, -0.25182829, -0.21320227,\n",
       "          -0.17747138, -0.15827782, -0.09948558, -0.04085764, -0.06265967,\n",
       "           0.02315056,  0.03268454,  0.04903204,  0.1637587 ,  0.1418485 ,\n",
       "           0.22422159,  0.23525393,  0.35766339,  0.40418363,  0.32127034,\n",
       "           0.39993808,  0.43827576,  0.50142312,  0.48987504,  0.59946208,\n",
       "           0.60985426,  0.7063829 ,  0.68046112,  0.71865707,  0.83473041,\n",
       "           0.836333  ,  0.86049055,  0.88161244,  0.92606146,  1.0488771 ,\n",
       "           1.01063708,  0.98493658,  1.07356748,  1.11657817,  1.21683179,\n",
       "           1.19976338,  1.1642152 ,  1.31057428,  1.38420708,  1.36964618,\n",
       "           1.48533227,  1.51668306,  1.46329989,  1.51216725,  1.63395318,\n",
       "           1.60499941,  1.69863069,  1.74509606,  1.80395558,  1.90287004,\n",
       "           1.85679453,  1.85113945,  1.96269119,  1.9324574 ,  2.00617194])"
      ]
     },
     "execution_count": 918,
     "metadata": {},
     "output_type": "execute_result"
    }
   ],
   "source": [
    "np.sqrt(1 + np.pi * 1.24**2 / 8) * np.log(nooo/ yess) / 1.24"
   ]
  },
  {
   "cell_type": "code",
   "execution_count": 1204,
   "metadata": {},
   "outputs": [],
   "source": [
    "integrate.fixed_quad?\n",
    "tes = lambda x, y, ndx : 1 / (1 + np.exp((-1)**(dataset[ndx, 0]) * x * (y - np.sqrt(1 + np.pi * x * x / 8)/x*np.log(nooo[ndx]/yess[ndx]))))"
   ]
  },
  {
   "cell_type": "code",
   "execution_count": 1694,
   "metadata": {},
   "outputs": [
    {
     "data": {
      "text/plain": [
       "0.7978845608028654"
      ]
     },
     "execution_count": 1694,
     "metadata": {},
     "output_type": "execute_result"
    }
   ],
   "source": [
    "np.sqrt(2/np.pi)"
   ]
  },
  {
   "cell_type": "code",
   "execution_count": 1880,
   "metadata": {},
   "outputs": [],
   "source": [
    "dr = np.log(nooo / yess)\n",
    "\n",
    "\n",
    "def quadrature_func2(theta, discriminate, response, dr):\n",
    "    the_sign = (-1)**response\n",
    "    gauss = 1 / np.sqrt(2 * np.pi) * np.exp(-np.square(theta) / 2)\n",
    "    return  gauss * (1 / (1 + np.exp(discriminate * np.outer(the_sign, theta) - np.outer(dr*the_sign, np.sqrt(1 + 1/8 * np.pi * discriminate**2)) ))).prod(0)\n",
    "\n",
    "\n",
    "def quadrature_func(discriminate, theta, sigma, response, dr):\n",
    "    the_sign = (-1)**response\n",
    "    gauss = 1/np.sqrt(2*np.pi * .125) * np.exp(-np.square(discriminate - sigma) / 2 / .125)\n",
    "    return gauss * (1 / (1 + np.exp(theta * np.outer(the_sign, discriminate) - np.outer(dr*the_sign, np.sqrt(1 + 1/8 * np.pi * discriminate**2)) ))).prod(0)\n",
    "    \n",
    "def discriminate_func(alpha, thetas, response, dr):\n",
    "    the_sign = (-1)**response\n",
    "    return (1 / (1 + np.exp(alpha * the_sign * thetas - (the_sign * dr[:, None]* np.sqrt(1 + np.pi * alpha * alpha /8)))))\n",
    "    \n",
    "def min_func(theta, ndx):\n",
    "    return -integrate.fixed_quad(quadrature_func, a[1], 4, (theta, dataset[:, ndx], dr), n=81)[0]\n",
    "\n",
    "dataset2, counts = np.unique(dataset, axis=1, return_counts=True)\n",
    "def min_func_try(discrim):\n",
    "    otpt = list(map(lambda x: integrate.fixed_quad(quadrature_func2, -4, 4, \n",
    "                                                   (discrim, dataset2[:, x], dr), n=81)[0], range(dataset2.shape[1])))\n",
    "    return -np.log(otpt).dot(counts)"
   ]
  },
  {
   "cell_type": "code",
   "execution_count": 1881,
   "metadata": {},
   "outputs": [
    {
     "data": {
      "text/plain": [
       "1.223679763684509"
      ]
     },
     "execution_count": 1881,
     "metadata": {},
     "output_type": "execute_result"
    }
   ],
   "source": [
    "discr_guess = optimize.fminbound(min_func_try, a[1], 4)\n",
    "discr_guess"
   ]
  },
  {
   "cell_type": "code",
   "execution_count": 1857,
   "metadata": {},
   "outputs": [
    {
     "data": {
      "text/plain": [
       "1.3725827336511025"
      ]
     },
     "execution_count": 1857,
     "metadata": {},
     "output_type": "execute_result"
    }
   ],
   "source": [
    "discr_guess = optimize.fminbound(min_func_try, a[1], 4)\n",
    "discr_guess"
   ]
  },
  {
   "cell_type": "code",
   "execution_count": 1804,
   "metadata": {},
   "outputs": [
    {
     "data": {
      "text/plain": [
       "array([1.24])"
      ]
     },
     "execution_count": 1804,
     "metadata": {},
     "output_type": "execute_result"
    }
   ],
   "source": [
    "discrimination"
   ]
  },
  {
   "cell_type": "code",
   "execution_count": 1563,
   "metadata": {},
   "outputs": [
    {
     "data": {
      "text/plain": [
       "IRTArray([-2.04204467, -2.00834275, -1.90356182, -1.90356182, -2.07693764,\n",
       "          -1.86450489, -1.84551951, -1.88384714, -2.00834275, -1.78167794,\n",
       "          -1.85496853, -1.74686788, -1.79952371, -1.65660066, -1.90356182,\n",
       "          -1.70489805, -1.58054701, -1.65660066, -1.72988182, -1.65660066,\n",
       "          -1.79952371, -1.68855875, -1.72148906, -1.55870579, -1.5732195 ,\n",
       "          -1.53022366, -1.5732195 , -1.5443757 , -1.50243276, -1.56593934,\n",
       "          -1.55870579, -1.43572601, -1.36030918, -1.48878393, -1.44876848,\n",
       "          -1.49558829, -1.3124866 , -1.39743105, -1.38493132, -1.42282479,\n",
       "          -1.27777357, -1.34818035, -1.22191364, -1.26076301, -1.30081018,\n",
       "          -1.22191364, -1.24397231, -1.21645592, -1.21645592, -1.13199818,\n",
       "          -1.09161697, -1.12688723, -1.16830898, -1.12179475, -1.05233487,\n",
       "          -1.14227629, -1.03786953, -1.09161697, -0.90900972, -1.16306304,\n",
       "          -0.98134919, -1.01406547, -1.00934905, -0.86104625, -0.96295715,\n",
       "          -0.86104625, -0.94026142, -0.80183989, -0.79353664, -0.89141183,\n",
       "          -0.76068377, -0.79768364, -0.83543286, -0.74446464, -0.84392957,\n",
       "          -0.71241723, -0.68478004, -0.70448351, -0.68870605, -0.58881855,\n",
       "          -0.67694963, -0.69263933, -0.52935636, -0.57756283, -0.60390738,\n",
       "          -0.61909211, -0.5183556 , -0.50739862, -0.5256845 , -0.56263378,\n",
       "          -0.49648422, -0.39998256, -0.42472458, -0.42472458, -0.46398475,\n",
       "          -0.38943239, -0.3754131 , -0.36493306, -0.32328815, -0.38943239,\n",
       "          -0.29231793, -0.25133061, -0.254734  , -0.27861879, -0.19376803,\n",
       "          -0.24113285, -0.12996978, -0.20388875, -0.23773763, -0.22079045,\n",
       "          -0.15006657, -0.07988033, -0.10991082, -0.07654717, -0.10991082,\n",
       "          -0.06655129, -0.0166295 , -0.04657322, -0.08988374, -0.06655129,\n",
       "           0.01995569,  0.04657322,  0.03658958,  0.05989009,  0.09655625,\n",
       "           0.04657322,  0.0532308 ,  0.02660858,  0.06655129,  0.16684711,\n",
       "           0.12327955,  0.18366158,  0.24113285,  0.07321463,  0.15006657,\n",
       "           0.15006657,  0.17020717,  0.31983644,  0.31638744,  0.34405741,\n",
       "           0.24453006,  0.28888953,  0.27519992,  0.3475291 ,  0.28546356,\n",
       "           0.40703354,  0.42117896,  0.42827399,  0.43538431,  0.44251023,\n",
       "           0.50739862,  0.47838496,  0.52935636,  0.49285534,  0.56635777,\n",
       "           0.59258195,  0.57756283,  0.51469847,  0.54779161,  0.57756283,\n",
       "           0.67694963,  0.58506093,  0.65362657,  0.63054568,  0.67304508,\n",
       "           0.68478004,  0.73640479,  0.64590667,  0.80183989,  0.74043063,\n",
       "           0.74043063,  0.87833232,  0.74043063,  0.87399458,  0.79768364,\n",
       "           0.79353664,  0.87399458,  0.86966772,  0.87399458,  0.94930133,\n",
       "           0.89141183,  0.94477506,  0.92679508,  1.03307863,  0.97673105,\n",
       "           1.02830293,  1.08169694,  1.08664846,  1.06205724,  1.03307863,\n",
       "           0.98134919,  1.21102047,  1.08169694,  1.11672054,  1.02354227,\n",
       "           1.1371278 ,  1.1841685 ,  1.24954526,  1.16830898,  1.26640838,\n",
       "           1.22739387,  1.25514206,  1.23842294,  1.24954526,  1.39743105,\n",
       "           1.42282479,  1.42282479,  1.29501197,  1.39116512,  1.36641857,\n",
       "           1.46860578,  1.49558829,  1.46860578,  1.53022366,  1.51624438,\n",
       "           1.48878393,  1.60282124,  1.53022366,  1.55151815,  1.56593934,\n",
       "           1.68048074,  1.56593934,  1.71316152,  1.68855875,  1.6966975 ,\n",
       "           1.72148906,  1.74686788,  1.7905629 ,  1.64096561,  1.6724624 ,\n",
       "           1.82687642,  1.78167794,  1.79952371,  1.72988182,  1.89365692,\n",
       "           1.90356182,  1.93386868,  1.6724624 ,  1.8176789 ,  2.05353878,\n",
       "           2.04204467,  1.99735827,  1.93386868,  2.12548326,  1.99735827,\n",
       "           2.00834275,  2.15069584,  2.17658359,  2.10090861,  2.13800756])"
      ]
     },
     "execution_count": 1563,
     "metadata": {},
     "output_type": "execute_result"
    }
   ],
   "source": [
    "dr * np.sqrt(1 + np.pi * 1.83**2 / 8)/1.83"
   ]
  },
  {
   "cell_type": "code",
   "execution_count": 1428,
   "metadata": {},
   "outputs": [
    {
     "data": {
      "text/plain": [
       "array([4.7658382e-11, 1.5550896e-11])"
      ]
     },
     "execution_count": 1428,
     "metadata": {},
     "output_type": "execute_result"
    }
   ],
   "source": [
    "quadrature_func2(np.array([1.2, 1.3]), 0.3, dataset[:, 0], dr)"
   ]
  },
  {
   "cell_type": "code",
   "execution_count": 1284,
   "metadata": {},
   "outputs": [
    {
     "data": {
      "text/plain": [
       "(6.804477371811252e-63, None)"
      ]
     },
     "execution_count": 1284,
     "metadata": {},
     "output_type": "execute_result"
    }
   ],
   "source": [
    "integrate.fixed_quad(quadrature_func, a[1], 4, (ax[50], dataset[:, 0], dr), n=21)"
   ]
  },
  {
   "cell_type": "code",
   "execution_count": 1859,
   "metadata": {},
   "outputs": [],
   "source": [
    "def min_func(theta, ndx):\n",
    "    return -integrate.fixed_quad(quadrature_func, a[1], 4, (theta, discr_guess, dataset2[:, ndx], dr), n=12)[0]"
   ]
  },
  {
   "cell_type": "code",
   "execution_count": 1822,
   "metadata": {},
   "outputs": [
    {
     "data": {
      "text/plain": [
       "1.3725827336524024"
      ]
     },
     "execution_count": 1822,
     "metadata": {},
     "output_type": "execute_result"
    }
   ],
   "source": [
    "from scipy import optimize\n",
    "discr_guess"
   ]
  },
  {
   "cell_type": "code",
   "execution_count": 1860,
   "metadata": {},
   "outputs": [],
   "source": [
    "otpt = list(map(lambda x: optimize.fminbound(min_func, -2.5, 6, args=(x,)), range(dataset2.shape[1])))"
   ]
  },
  {
   "cell_type": "code",
   "execution_count": 1861,
   "metadata": {},
   "outputs": [
    {
     "ename": "ValueError",
     "evalue": "operands could not be broadcast together with shapes (1000,) (216,) ",
     "output_type": "error",
     "traceback": [
      "\u001b[0;31m---------------------------------------------------------------------------\u001b[0m",
      "\u001b[0;31mValueError\u001b[0m                                Traceback (most recent call last)",
      "\u001b[0;32m<ipython-input-1861-5c92cc762289>\u001b[0m in \u001b[0;36m<module>\u001b[0;34m\u001b[0m\n\u001b[0;32m----> 1\u001b[0;31m \u001b[0;34m(\u001b[0m\u001b[0mabilities\u001b[0m \u001b[0;34m-\u001b[0m \u001b[0motpt\u001b[0m\u001b[0;34m)\u001b[0m\u001b[0;34m.\u001b[0m\u001b[0mmean\u001b[0m\u001b[0;34m(\u001b[0m\u001b[0;34m)\u001b[0m\u001b[0;34m\u001b[0m\u001b[0;34m\u001b[0m\u001b[0m\n\u001b[0m",
      "\u001b[0;31mValueError\u001b[0m: operands could not be broadcast together with shapes (1000,) (216,) "
     ]
    }
   ],
   "source": [
    "(abilities - otpt).mean()"
   ]
  },
  {
   "cell_type": "code",
   "execution_count": 1813,
   "metadata": {},
   "outputs": [
    {
     "data": {
      "text/plain": [
       "[(-0.3846138209801119, -0.04610748563318766),\n",
       " (-1.842341014606915, -1.398161193327523),\n",
       " (0.2521595146596543, -0.1381240908114089),\n",
       " (3.7975195599401697, 4.999994710716215),\n",
       " (0.30534891879749393, 0.5429262695639332),\n",
       " (-0.0013869621560064045, 0.03850991698145206),\n",
       " (1.0452746572871523, 1.0550924368965546),\n",
       " (0.6318804816849865, 0.770621517505574),\n",
       " (-0.868599830555273, -0.48278291300671),\n",
       " (1.4822758149833606, 1.6064533983466973),\n",
       " (0.07508380494732467, 0.3257578616143445),\n",
       " (-0.54417428885446, -0.6721809006720944),\n",
       " (-0.4206959663812981, -0.9355587604394155),\n",
       " (0.114182757836806, 0.29999326612635024),\n",
       " (-1.525856223736279, -1.9012657452339883),\n",
       " (0.05175020926912631, 0.12330210787999082),\n",
       " (0.4823688305129623, 0.5309630869374579),\n",
       " (-0.464436454421467, 0.2202103401074848),\n",
       " (-1.8987461706163553, -1.6032131624774348),\n",
       " (0.4296579335725527, 0.22371227308870323)]"
      ]
     },
     "execution_count": 1813,
     "metadata": {},
     "output_type": "execute_result"
    }
   ],
   "source": [
    "list(zip(abilities[:20], otpt))"
   ]
  },
  {
   "cell_type": "code",
   "execution_count": 1840,
   "metadata": {},
   "outputs": [],
   "source": [
    "hx, xx = np.histogram(otpt, 10)"
   ]
  },
  {
   "cell_type": "code",
   "execution_count": 1830,
   "metadata": {},
   "outputs": [
    {
     "data": {
      "text/plain": [
       "1.4925686889458196"
      ]
     },
     "execution_count": 1830,
     "metadata": {},
     "output_type": "execute_result"
    }
   ],
   "source": [
    "def min_disc(guess):\n",
    "    return -np.log(discriminate_func(guess, otpt, dataset, dr)).sum()\n",
    "\n",
    "optimize.fminbound(min_disc, 1, 3)"
   ]
  },
  {
   "cell_type": "code",
   "execution_count": 1792,
   "metadata": {},
   "outputs": [
    {
     "data": {
      "text/plain": [
       "array([0.87])"
      ]
     },
     "execution_count": 1792,
     "metadata": {},
     "output_type": "execute_result"
    }
   ],
   "source": [
    "discrimination"
   ]
  },
  {
   "cell_type": "code",
   "execution_count": 1841,
   "metadata": {},
   "outputs": [
    {
     "data": {
      "text/html": [
       "\n",
       "\n",
       "\n",
       "\n",
       "\n",
       "\n",
       "  <div class=\"bk-root\" id=\"57a64f80-d67e-4d46-a3e4-ac07e2f1537f\"></div>\n"
      ]
     },
     "metadata": {},
     "output_type": "display_data"
    },
    {
     "data": {
      "application/javascript": [
       "(function(root) {\n",
       "  function embed_document(root) {\n",
       "    \n",
       "  var docs_json = {\"8d8424f4-ee52-4818-896c-bb7b3cab05e9\":{\"roots\":{\"references\":[{\"attributes\":{\"below\":[{\"id\":\"136127\",\"type\":\"LinearAxis\"}],\"left\":[{\"id\":\"136132\",\"type\":\"LinearAxis\"}],\"plot_height\":400,\"renderers\":[{\"id\":\"136127\",\"type\":\"LinearAxis\"},{\"id\":\"136131\",\"type\":\"Grid\"},{\"id\":\"136132\",\"type\":\"LinearAxis\"},{\"id\":\"136136\",\"type\":\"Grid\"},{\"id\":\"136145\",\"type\":\"BoxAnnotation\"},{\"id\":\"136155\",\"type\":\"GlyphRenderer\"}],\"title\":{\"id\":\"137734\",\"type\":\"Title\"},\"toolbar\":{\"id\":\"136143\",\"type\":\"Toolbar\"},\"x_range\":{\"id\":\"136119\",\"type\":\"DataRange1d\"},\"x_scale\":{\"id\":\"136123\",\"type\":\"LinearScale\"},\"y_range\":{\"id\":\"136121\",\"type\":\"DataRange1d\"},\"y_scale\":{\"id\":\"136125\",\"type\":\"LinearScale\"}},\"id\":\"136118\",\"subtype\":\"Figure\",\"type\":\"Plot\"},{\"attributes\":{},\"id\":\"136141\",\"type\":\"ResetTool\"},{\"attributes\":{},\"id\":\"136123\",\"type\":\"LinearScale\"},{\"attributes\":{\"callback\":null,\"data\":{\"x\":{\"__ndarray__\":\"nPKhtJeZAMASQQKrlpnzv7JzArP3/9e/5BwERmtm3j9fq8KPMzP1P8InAidmZgFA1fkihjIzCEDoy0Pl/v8OQP1OMqJl5hJABrjC0ctMFkA=\",\"dtype\":\"float64\",\"shape\":[10]},\"y\":[94,1,157,153,64,24,4,0,0,3]},\"selected\":{\"id\":\"137742\",\"type\":\"Selection\"},\"selection_policy\":{\"id\":\"137741\",\"type\":\"UnionRenderers\"}},\"id\":\"136152\",\"type\":\"ColumnDataSource\"},{\"attributes\":{\"overlay\":{\"id\":\"136145\",\"type\":\"BoxAnnotation\"}},\"id\":\"136139\",\"type\":\"BoxZoomTool\"},{\"attributes\":{\"line_color\":\"#1f77b4\",\"x\":{\"field\":\"x\"},\"y\":{\"field\":\"y\"}},\"id\":\"136153\",\"type\":\"Line\"},{\"attributes\":{},\"id\":\"137737\",\"type\":\"BasicTickFormatter\"},{\"attributes\":{\"formatter\":{\"id\":\"137739\",\"type\":\"BasicTickFormatter\"},\"plot\":{\"id\":\"136118\",\"subtype\":\"Figure\",\"type\":\"Plot\"},\"ticker\":{\"id\":\"136133\",\"type\":\"BasicTicker\"}},\"id\":\"136132\",\"type\":\"LinearAxis\"},{\"attributes\":{},\"id\":\"137739\",\"type\":\"BasicTickFormatter\"},{\"attributes\":{},\"id\":\"136133\",\"type\":\"BasicTicker\"},{\"attributes\":{\"callback\":null},\"id\":\"136119\",\"type\":\"DataRange1d\"},{\"attributes\":{},\"id\":\"136137\",\"type\":\"PanTool\"},{\"attributes\":{},\"id\":\"136128\",\"type\":\"BasicTicker\"},{\"attributes\":{\"line_alpha\":0.1,\"line_color\":\"#1f77b4\",\"x\":{\"field\":\"x\"},\"y\":{\"field\":\"y\"}},\"id\":\"136154\",\"type\":\"Line\"},{\"attributes\":{},\"id\":\"136125\",\"type\":\"LinearScale\"},{\"attributes\":{},\"id\":\"137741\",\"type\":\"UnionRenderers\"},{\"attributes\":{},\"id\":\"136138\",\"type\":\"WheelZoomTool\"},{\"attributes\":{\"bottom_units\":\"screen\",\"fill_alpha\":{\"value\":0.5},\"fill_color\":{\"value\":\"lightgrey\"},\"left_units\":\"screen\",\"level\":\"overlay\",\"line_alpha\":{\"value\":1.0},\"line_color\":{\"value\":\"black\"},\"line_dash\":[4,4],\"line_width\":{\"value\":2},\"plot\":null,\"render_mode\":\"css\",\"right_units\":\"screen\",\"top_units\":\"screen\"},\"id\":\"136145\",\"type\":\"BoxAnnotation\"},{\"attributes\":{\"plot\":null,\"text\":\"\"},\"id\":\"137734\",\"type\":\"Title\"},{\"attributes\":{},\"id\":\"136140\",\"type\":\"SaveTool\"},{\"attributes\":{},\"id\":\"136142\",\"type\":\"HelpTool\"},{\"attributes\":{\"callback\":null},\"id\":\"136121\",\"type\":\"DataRange1d\"},{\"attributes\":{\"source\":{\"id\":\"136152\",\"type\":\"ColumnDataSource\"}},\"id\":\"136156\",\"type\":\"CDSView\"},{\"attributes\":{\"dimension\":1,\"plot\":{\"id\":\"136118\",\"subtype\":\"Figure\",\"type\":\"Plot\"},\"ticker\":{\"id\":\"136133\",\"type\":\"BasicTicker\"}},\"id\":\"136136\",\"type\":\"Grid\"},{\"attributes\":{\"data_source\":{\"id\":\"136152\",\"type\":\"ColumnDataSource\"},\"glyph\":{\"id\":\"136153\",\"type\":\"Line\"},\"hover_glyph\":null,\"muted_glyph\":null,\"nonselection_glyph\":{\"id\":\"136154\",\"type\":\"Line\"},\"selection_glyph\":null,\"view\":{\"id\":\"136156\",\"type\":\"CDSView\"}},\"id\":\"136155\",\"type\":\"GlyphRenderer\"},{\"attributes\":{\"plot\":{\"id\":\"136118\",\"subtype\":\"Figure\",\"type\":\"Plot\"},\"ticker\":{\"id\":\"136128\",\"type\":\"BasicTicker\"}},\"id\":\"136131\",\"type\":\"Grid\"},{\"attributes\":{\"active_drag\":\"auto\",\"active_inspect\":\"auto\",\"active_multi\":null,\"active_scroll\":\"auto\",\"active_tap\":\"auto\",\"tools\":[{\"id\":\"136137\",\"type\":\"PanTool\"},{\"id\":\"136138\",\"type\":\"WheelZoomTool\"},{\"id\":\"136139\",\"type\":\"BoxZoomTool\"},{\"id\":\"136140\",\"type\":\"SaveTool\"},{\"id\":\"136141\",\"type\":\"ResetTool\"},{\"id\":\"136142\",\"type\":\"HelpTool\"}]},\"id\":\"136143\",\"type\":\"Toolbar\"},{\"attributes\":{\"formatter\":{\"id\":\"137737\",\"type\":\"BasicTickFormatter\"},\"plot\":{\"id\":\"136118\",\"subtype\":\"Figure\",\"type\":\"Plot\"},\"ticker\":{\"id\":\"136128\",\"type\":\"BasicTicker\"}},\"id\":\"136127\",\"type\":\"LinearAxis\"},{\"attributes\":{},\"id\":\"137742\",\"type\":\"Selection\"}],\"root_ids\":[\"136118\"]},\"title\":\"Bokeh Application\",\"version\":\"1.0.2\"}};\n",
       "  var render_items = [{\"docid\":\"8d8424f4-ee52-4818-896c-bb7b3cab05e9\",\"roots\":{\"136118\":\"57a64f80-d67e-4d46-a3e4-ac07e2f1537f\"}}];\n",
       "  root.Bokeh.embed.embed_items_notebook(docs_json, render_items);\n",
       "\n",
       "  }\n",
       "  if (root.Bokeh !== undefined) {\n",
       "    embed_document(root);\n",
       "  } else {\n",
       "    var attempts = 0;\n",
       "    var timer = setInterval(function(root) {\n",
       "      if (root.Bokeh !== undefined) {\n",
       "        embed_document(root);\n",
       "        clearInterval(timer);\n",
       "      }\n",
       "      attempts++;\n",
       "      if (attempts > 100) {\n",
       "        console.log(\"Bokeh: ERROR: Unable to run BokehJS code because BokehJS library is missing\");\n",
       "        clearInterval(timer);\n",
       "      }\n",
       "    }, 10, root)\n",
       "  }\n",
       "})(window);"
      ],
      "application/vnd.bokehjs_exec.v0+json": ""
     },
     "metadata": {
      "application/vnd.bokehjs_exec.v0+json": {
       "id": "136118"
      }
     },
     "output_type": "display_data"
    }
   ],
   "source": [
    "plt = figure(plot_width=600, plot_height=400)\n",
    "plt.line((xx[1:] + xx[:-1])*0.5, hx)\n",
    "show(plt)"
   ]
  },
  {
   "cell_type": "code",
   "execution_count": 1483,
   "metadata": {},
   "outputs": [
    {
     "data": {
      "text/plain": [
       "array([1.66315969, 0.96341006, 0.73155422, 0.83073453, 0.23901596,\n",
       "       0.74929838, 0.34105357, 0.66172418, 0.73155422, 2.48015383])"
      ]
     },
     "execution_count": 1483,
     "metadata": {},
     "output_type": "execute_result"
    }
   ],
   "source": [
    "dr * np.sqrt(1 + np.pi * 1.378**2 / 8) / 1.378"
   ]
  },
  {
   "cell_type": "code",
   "execution_count": 1837,
   "metadata": {},
   "outputs": [],
   "source": [
    "nf = np.array(otpt)"
   ]
  },
  {
   "cell_type": "code",
   "execution_count": 1848,
   "metadata": {},
   "outputs": [
    {
     "data": {
      "text/plain": [
       "array([94,  7,  2,  2, 21,  1,  4,  5,  3,  2,  1,  1,  2,  1, 15,  2,  3,\n",
       "        4, 10,  2,  3,  1,  3,  3,  1,  4,  2,  1,  9,  1,  1,  2,  3,  1,\n",
       "        4,  1,  2,  1,  2,  1,  4,  1,  1,  3,  1,  1,  1,  1,  1,  3,  8,\n",
       "        4,  4,  3,  3,  1,  3,  3,  1,  1,  1,  1,  3,  1,  2,  3,  1,  1,\n",
       "        1,  3,  2,  2,  1,  2,  1,  2,  1,  1,  1,  2,  1,  1,  1,  1,  1,\n",
       "        1,  2,  3,  1,  1,  2,  1,  1,  1,  8,  4,  1,  4,  1,  3,  1,  6,\n",
       "        1,  3,  3,  1,  2,  1,  2,  1,  2,  1,  1,  1,  1,  2,  1,  2,  1,\n",
       "        1,  1,  1,  1,  2,  2,  1,  1,  1,  2,  1,  1,  1,  1,  1,  1,  1,\n",
       "        1,  1,  1,  1,  1,  1,  2,  1,  1,  1,  1,  3,  1,  2,  1,  4,  2,\n",
       "        1,  1,  1,  2,  1,  2,  1,  2,  1,  1,  1,  1,  1,  1,  1,  1,  2,\n",
       "        1,  1,  1,  1,  1,  1,  1,  1,  1,  2,  1,  1,  1,  1,  1,  1,  1,\n",
       "        1,  1,  1,  1,  1,  1,  1,  1,  2,  1,  1,  1,  1,  1,  1,  1,  1,\n",
       "        1,  1,  1,  1,  1,  3,  1,  1,  2,  2,  1,  3])"
      ]
     },
     "execution_count": 1848,
     "metadata": {},
     "output_type": "execute_result"
    }
   ],
   "source": [
    "np.unique(dataset, axis=1, return_counts=True)[1]"
   ]
  },
  {
   "cell_type": "code",
   "execution_count": 1862,
   "metadata": {},
   "outputs": [],
   "source": [
    "g = np.array([1.4183, 1.1445,1.1910, 1.6444,1.3398,1.4973,0.8748,1.5133,1.8716,2.1060])"
   ]
  },
  {
   "cell_type": "code",
   "execution_count": 1866,
   "metadata": {},
   "outputs": [
    {
     "data": {
      "text/plain": [
       "1.4578"
      ]
     },
     "execution_count": 1866,
     "metadata": {},
     "output_type": "execute_result"
    }
   ],
   "source": [
    "np.median(g)"
   ]
  },
  {
   "cell_type": "code",
   "execution_count": 1275,
   "metadata": {},
   "outputs": [
    {
     "data": {
      "text/plain": [
       "0.15840501885988334"
      ]
     },
     "execution_count": 1275,
     "metadata": {},
     "output_type": "execute_result"
    }
   ],
   "source": [
    ".409 * np.sqrt(3.6/24)"
   ]
  },
  {
   "cell_type": "code",
   "execution_count": 1277,
   "metadata": {},
   "outputs": [
    {
     "data": {
      "text/plain": [
       "array([[ True, False, False, ...,  True,  True,  True],\n",
       "       [False, False,  True, ...,  True,  True, False],\n",
       "       [ True, False,  True, ...,  True, False,  True],\n",
       "       ...,\n",
       "       [ True,  True,  True, ...,  True,  True,  True],\n",
       "       [False, False, False, ..., False, False, False],\n",
       "       [ True, False,  True, ..., False,  True, False]])"
      ]
     },
     "execution_count": 1277,
     "metadata": {},
     "output_type": "execute_result"
    }
   ],
   "source": [
    "syn_data"
   ]
  },
  {
   "cell_type": "code",
   "execution_count": 1278,
   "metadata": {},
   "outputs": [],
   "source": [
    "from factoranalysis import contingency_table"
   ]
  },
  {
   "cell_type": "code",
   "execution_count": 1296,
   "metadata": {},
   "outputs": [
    {
     "data": {
      "text/plain": [
       "array([[116.,  27.],\n",
       "       [181., 176.]])"
      ]
     },
     "execution_count": 1296,
     "metadata": {},
     "output_type": "execute_result"
    }
   ],
   "source": [
    "contingency_table(syn_data[0].astype('float') + 1, syn_data[1].astype('float')+1, start_val=1, stop_val=2)"
   ]
  },
  {
   "cell_type": "code",
   "execution_count": 1281,
   "metadata": {},
   "outputs": [
    {
     "data": {
      "text/plain": [
       "[(True, False),\n",
       " (False, False),\n",
       " (False, True),\n",
       " (True, False),\n",
       " (False, False),\n",
       " (False, False),\n",
       " (True, True),\n",
       " (True, True),\n",
       " (True, False),\n",
       " (True, False),\n",
       " (False, True),\n",
       " (False, False),\n",
       " (True, True),\n",
       " (True, True),\n",
       " (True, True),\n",
       " (False, True),\n",
       " (True, False),\n",
       " (False, False),\n",
       " (False, False),\n",
       " (False, True),\n",
       " (True, False),\n",
       " (True, True),\n",
       " (True, True),\n",
       " (True, False),\n",
       " (True, False),\n",
       " (True, True),\n",
       " (False, True),\n",
       " (False, False),\n",
       " (True, False),\n",
       " (True, True),\n",
       " (False, False),\n",
       " (True, True),\n",
       " (True, True),\n",
       " (True, False),\n",
       " (False, False),\n",
       " (True, True),\n",
       " (False, False),\n",
       " (True, False),\n",
       " (True, True),\n",
       " (True, False),\n",
       " (True, False),\n",
       " (True, False),\n",
       " (True, False),\n",
       " (True, True),\n",
       " (True, True),\n",
       " (False, False),\n",
       " (True, False),\n",
       " (True, False),\n",
       " (False, False),\n",
       " (True, True),\n",
       " (False, False),\n",
       " (False, True),\n",
       " (True, True),\n",
       " (True, False),\n",
       " (False, False),\n",
       " (True, False),\n",
       " (True, False),\n",
       " (True, True),\n",
       " (True, False),\n",
       " (True, False),\n",
       " (True, False),\n",
       " (True, False),\n",
       " (False, False),\n",
       " (True, False),\n",
       " (True, True),\n",
       " (True, True),\n",
       " (True, False),\n",
       " (True, False),\n",
       " (True, False),\n",
       " (False, False),\n",
       " (True, False),\n",
       " (False, False),\n",
       " (True, True),\n",
       " (True, True),\n",
       " (True, False),\n",
       " (True, False),\n",
       " (True, False),\n",
       " (False, False),\n",
       " (True, False),\n",
       " (True, True),\n",
       " (True, False),\n",
       " (True, False),\n",
       " (True, True),\n",
       " (False, True),\n",
       " (False, True),\n",
       " (True, False),\n",
       " (True, True),\n",
       " (True, False),\n",
       " (True, True),\n",
       " (False, False),\n",
       " (True, False),\n",
       " (True, True),\n",
       " (True, False),\n",
       " (True, True),\n",
       " (True, False),\n",
       " (True, False),\n",
       " (True, False),\n",
       " (True, False),\n",
       " (True, True),\n",
       " (True, False),\n",
       " (False, False),\n",
       " (True, False),\n",
       " (True, False),\n",
       " (True, True),\n",
       " (True, False),\n",
       " (True, True),\n",
       " (True, False),\n",
       " (True, True),\n",
       " (True, True),\n",
       " (True, True),\n",
       " (True, True),\n",
       " (True, True),\n",
       " (True, False),\n",
       " (False, False),\n",
       " (True, True),\n",
       " (True, False),\n",
       " (True, True),\n",
       " (True, False),\n",
       " (True, True),\n",
       " (False, False),\n",
       " (True, False),\n",
       " (False, False),\n",
       " (True, False),\n",
       " (True, False),\n",
       " (False, False),\n",
       " (True, False),\n",
       " (True, False),\n",
       " (False, True),\n",
       " (True, False),\n",
       " (True, True),\n",
       " (True, True),\n",
       " (True, False),\n",
       " (True, True),\n",
       " (True, False),\n",
       " (False, False),\n",
       " (True, False),\n",
       " (False, True),\n",
       " (False, False),\n",
       " (True, True),\n",
       " (True, False),\n",
       " (True, True),\n",
       " (True, True),\n",
       " (False, False),\n",
       " (True, True),\n",
       " (True, True),\n",
       " (True, False),\n",
       " (True, True),\n",
       " (False, False),\n",
       " (False, False),\n",
       " (False, False),\n",
       " (False, False),\n",
       " (False, False),\n",
       " (True, False),\n",
       " (False, False),\n",
       " (True, False),\n",
       " (True, True),\n",
       " (True, False),\n",
       " (True, False),\n",
       " (True, False),\n",
       " (False, False),\n",
       " (True, False),\n",
       " (False, False),\n",
       " (True, False),\n",
       " (True, True),\n",
       " (True, False),\n",
       " (False, True),\n",
       " (False, False),\n",
       " (False, False),\n",
       " (True, False),\n",
       " (True, True),\n",
       " (True, True),\n",
       " (False, True),\n",
       " (False, False),\n",
       " (True, True),\n",
       " (True, True),\n",
       " (True, True),\n",
       " (True, False),\n",
       " (True, True),\n",
       " (False, False),\n",
       " (True, False),\n",
       " (False, False),\n",
       " (False, True),\n",
       " (False, False),\n",
       " (True, False),\n",
       " (False, False),\n",
       " (True, False),\n",
       " (True, False),\n",
       " (False, False),\n",
       " (True, False),\n",
       " (True, False),\n",
       " (True, True),\n",
       " (False, True),\n",
       " (True, True),\n",
       " (True, True),\n",
       " (True, False),\n",
       " (True, False),\n",
       " (True, True),\n",
       " (True, True),\n",
       " (False, True),\n",
       " (True, False),\n",
       " (True, False),\n",
       " (True, True),\n",
       " (True, True),\n",
       " (True, True),\n",
       " (True, True),\n",
       " (True, False),\n",
       " (True, True),\n",
       " (True, False),\n",
       " (True, False),\n",
       " (True, True),\n",
       " (True, False),\n",
       " (True, True),\n",
       " (True, False),\n",
       " (True, False),\n",
       " (True, True),\n",
       " (False, False),\n",
       " (True, False),\n",
       " (False, False),\n",
       " (False, False),\n",
       " (False, False),\n",
       " (False, False),\n",
       " (True, True),\n",
       " (True, False),\n",
       " (False, False),\n",
       " (False, False),\n",
       " (False, True),\n",
       " (True, True),\n",
       " (True, False),\n",
       " (True, True),\n",
       " (True, False),\n",
       " (True, True),\n",
       " (True, False),\n",
       " (True, True),\n",
       " (True, True),\n",
       " (False, False),\n",
       " (True, True),\n",
       " (True, True),\n",
       " (False, False),\n",
       " (False, False),\n",
       " (True, False),\n",
       " (True, True),\n",
       " (True, True),\n",
       " (True, False),\n",
       " (False, False),\n",
       " (False, True),\n",
       " (True, False),\n",
       " (True, True),\n",
       " (True, False),\n",
       " (False, False),\n",
       " (True, True),\n",
       " (True, False),\n",
       " (True, False),\n",
       " (True, True),\n",
       " (False, False),\n",
       " (True, True),\n",
       " (True, False),\n",
       " (False, False),\n",
       " (True, False),\n",
       " (True, False),\n",
       " (True, True),\n",
       " (True, True),\n",
       " (False, False),\n",
       " (True, False),\n",
       " (False, False),\n",
       " (False, False),\n",
       " (True, False),\n",
       " (True, True),\n",
       " (True, False),\n",
       " (True, True),\n",
       " (False, False),\n",
       " (False, False),\n",
       " (True, True),\n",
       " (True, True),\n",
       " (True, True),\n",
       " (True, False),\n",
       " (True, True),\n",
       " (True, True),\n",
       " (True, False),\n",
       " (True, False),\n",
       " (True, True),\n",
       " (True, True),\n",
       " (False, False),\n",
       " (False, False),\n",
       " (True, False),\n",
       " (True, True),\n",
       " (True, False),\n",
       " (False, False),\n",
       " (True, True),\n",
       " (True, False),\n",
       " (False, False),\n",
       " (True, True),\n",
       " (True, False),\n",
       " (True, False),\n",
       " (True, False),\n",
       " (False, False),\n",
       " (True, True),\n",
       " (True, False),\n",
       " (True, False),\n",
       " (True, True),\n",
       " (True, True),\n",
       " (True, True),\n",
       " (True, False),\n",
       " (False, True),\n",
       " (True, False),\n",
       " (True, True),\n",
       " (False, False),\n",
       " (True, False),\n",
       " (False, False),\n",
       " (True, False),\n",
       " (True, True),\n",
       " (True, False),\n",
       " (False, False),\n",
       " (True, False),\n",
       " (True, False),\n",
       " (True, True),\n",
       " (True, False),\n",
       " (True, True),\n",
       " (True, False),\n",
       " (False, False),\n",
       " (False, False),\n",
       " (True, False),\n",
       " (False, False),\n",
       " (False, False),\n",
       " (False, False),\n",
       " (True, True),\n",
       " (True, True),\n",
       " (True, False),\n",
       " (True, True),\n",
       " (True, False),\n",
       " (True, False),\n",
       " (True, True),\n",
       " (False, False),\n",
       " (False, False),\n",
       " (False, True),\n",
       " (False, False),\n",
       " (False, False),\n",
       " (True, True),\n",
       " (True, True),\n",
       " (True, False),\n",
       " (True, False),\n",
       " (True, True),\n",
       " (True, True),\n",
       " (True, True),\n",
       " (True, False),\n",
       " (False, False),\n",
       " (False, False),\n",
       " (True, True),\n",
       " (True, True),\n",
       " (True, True),\n",
       " (False, False),\n",
       " (True, True),\n",
       " (False, True),\n",
       " (True, False),\n",
       " (False, False),\n",
       " (True, False),\n",
       " (True, True),\n",
       " (True, False),\n",
       " (False, False),\n",
       " (True, True),\n",
       " (True, False),\n",
       " (False, False),\n",
       " (True, True),\n",
       " (True, False),\n",
       " (False, True),\n",
       " (True, True),\n",
       " (False, False),\n",
       " (True, False),\n",
       " (True, True),\n",
       " (False, True),\n",
       " (False, False),\n",
       " (True, True),\n",
       " (False, False),\n",
       " (True, False),\n",
       " (False, True),\n",
       " (True, True),\n",
       " (True, False),\n",
       " (True, True),\n",
       " (True, False),\n",
       " (True, True),\n",
       " (True, True),\n",
       " (True, True),\n",
       " (True, False),\n",
       " (True, True),\n",
       " (True, True),\n",
       " (False, False),\n",
       " (True, False),\n",
       " (True, True),\n",
       " (False, False),\n",
       " (True, False),\n",
       " (True, True),\n",
       " (True, True),\n",
       " (False, False),\n",
       " (False, False),\n",
       " (True, True),\n",
       " (False, False),\n",
       " (True, True),\n",
       " (False, False),\n",
       " (True, False),\n",
       " (True, True),\n",
       " (False, False),\n",
       " (True, True),\n",
       " (True, False),\n",
       " (True, False),\n",
       " (True, True),\n",
       " (False, False),\n",
       " (False, False),\n",
       " (False, False),\n",
       " (True, True),\n",
       " (True, True),\n",
       " (True, False),\n",
       " (True, True),\n",
       " (True, True),\n",
       " (False, False),\n",
       " (True, False),\n",
       " (False, False),\n",
       " (True, False),\n",
       " (False, True),\n",
       " (False, False),\n",
       " (True, False),\n",
       " (True, False),\n",
       " (False, False),\n",
       " (False, False),\n",
       " (True, False),\n",
       " (True, True),\n",
       " (True, False),\n",
       " (False, True),\n",
       " (True, True),\n",
       " (True, True),\n",
       " (True, False),\n",
       " (True, False),\n",
       " (True, False),\n",
       " (True, True),\n",
       " (True, True),\n",
       " (True, True),\n",
       " (True, True),\n",
       " (True, True),\n",
       " (True, False),\n",
       " (True, True),\n",
       " (True, False),\n",
       " (False, True),\n",
       " (True, True),\n",
       " (True, False),\n",
       " (False, False),\n",
       " (True, False),\n",
       " (True, False),\n",
       " (True, True),\n",
       " (True, False),\n",
       " (True, True),\n",
       " (True, False),\n",
       " (True, True),\n",
       " (True, False),\n",
       " (True, False),\n",
       " (True, True),\n",
       " (False, False),\n",
       " (True, True),\n",
       " (False, False),\n",
       " (True, True),\n",
       " (False, False),\n",
       " (True, True),\n",
       " (False, False),\n",
       " (False, False),\n",
       " (True, False),\n",
       " (True, False),\n",
       " (True, False),\n",
       " (True, False),\n",
       " (False, False),\n",
       " (True, False),\n",
       " (True, False),\n",
       " (True, True),\n",
       " (True, False),\n",
       " (True, True),\n",
       " (True, False),\n",
       " (True, False),\n",
       " (True, True),\n",
       " (False, True),\n",
       " (True, True),\n",
       " (True, True),\n",
       " (False, False),\n",
       " (True, False),\n",
       " (True, True),\n",
       " (True, True),\n",
       " (True, True),\n",
       " (True, True),\n",
       " (True, False),\n",
       " (True, False),\n",
       " (False, False),\n",
       " (False, False),\n",
       " (True, True),\n",
       " (True, True),\n",
       " (False, False),\n",
       " (False, False),\n",
       " (False, False),\n",
       " (True, False),\n",
       " (True, True),\n",
       " (True, False),\n",
       " (True, True),\n",
       " (True, True),\n",
       " (True, True),\n",
       " (True, True),\n",
       " (True, False)]"
      ]
     },
     "execution_count": 1281,
     "metadata": {},
     "output_type": "execute_result"
    }
   ],
   "source": [
    "list(zip(syn_data[0], syn_data[1]))"
   ]
  },
  {
   "cell_type": "code",
   "execution_count": 216,
   "metadata": {},
   "outputs": [],
   "source": [
    "x = np.linspace(-6, 6, 10001)\n",
    "scalar = 10001 / 12\n",
    "\n",
    "p1 = irt_evaluation(np.array([2.3]), np.array([1.7]), x).squeeze()\n",
    "p1_new = irt_evaluation(np.array([2.5]), np.array([1.7]), x).squeeze()\n",
    "p2 = irt_evaluation(np.array([.3]), np.array([1.7]), x).squeeze()\n",
    "g  = 1.0 / np.sqrt(2 * np.pi) * np.exp(-x * x / 2) / scalar\n",
    "\n",
    "prdct = p1 * p2 * g"
   ]
  },
  {
   "cell_type": "code",
   "execution_count": 208,
   "metadata": {},
   "outputs": [
    {
     "data": {
      "text/plain": [
       "0.10586060711336329"
      ]
     },
     "execution_count": 208,
     "metadata": {},
     "output_type": "execute_result"
    }
   ],
   "source": [
    "(p1 * p2 * g).sum() / (p2 * g).sum()"
   ]
  },
  {
   "cell_type": "code",
   "execution_count": 209,
   "metadata": {},
   "outputs": [
    {
     "data": {
      "text/plain": [
       "5871"
      ]
     },
     "execution_count": 209,
     "metadata": {},
     "output_type": "execute_result"
    }
   ],
   "source": [
    "np.argmin(np.abs(p1 - 0.10586060711336329))"
   ]
  },
  {
   "cell_type": "code",
   "execution_count": 217,
   "metadata": {},
   "outputs": [
    {
     "data": {
      "text/plain": [
       "0.08199109441169902"
      ]
     },
     "execution_count": 217,
     "metadata": {},
     "output_type": "execute_result"
    }
   ],
   "source": [
    "(p1_new * p2 * g).sum() / (p2 * g).sum()"
   ]
  },
  {
   "cell_type": "code",
   "execution_count": 218,
   "metadata": {},
   "outputs": [
    {
     "data": {
      "text/plain": [
       "5899"
      ]
     },
     "execution_count": 218,
     "metadata": {},
     "output_type": "execute_result"
    }
   ],
   "source": [
    "np.argmin(np.abs(p1_new - 0.08199109441169902))"
   ]
  },
  {
   "cell_type": "code",
   "execution_count": 214,
   "metadata": {},
   "outputs": [
    {
     "data": {
      "text/plain": [
       "1.0451999999999995"
      ]
     },
     "execution_count": 214,
     "metadata": {},
     "output_type": "execute_result"
    }
   ],
   "source": [
    "x[5871]"
   ]
  },
  {
   "cell_type": "code",
   "execution_count": 219,
   "metadata": {},
   "outputs": [
    {
     "data": {
      "text/plain": [
       "1.0787999999999993"
      ]
     },
     "execution_count": 219,
     "metadata": {},
     "output_type": "execute_result"
    }
   ],
   "source": [
    "x[5899]"
   ]
  },
  {
   "cell_type": "code",
   "execution_count": null,
   "metadata": {},
   "outputs": [],
   "source": []
  }
 ],
 "metadata": {
  "kernelspec": {
   "display_name": "Python 3",
   "language": "python",
   "name": "python3"
  },
  "language_info": {
   "codemirror_mode": {
    "name": "ipython",
    "version": 3
   },
   "file_extension": ".py",
   "mimetype": "text/x-python",
   "name": "python",
   "nbconvert_exporter": "python",
   "pygments_lexer": "ipython3",
   "version": "3.7.1"
  }
 },
 "nbformat": 4,
 "nbformat_minor": 2
}
